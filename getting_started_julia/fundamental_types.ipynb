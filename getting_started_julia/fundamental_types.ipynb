{
 "cells": [
  {
   "cell_type": "markdown",
   "id": "557e39b4",
   "metadata": {},
   "source": [
    "\n",
    "<a id='fundamental-types'></a>"
   ]
  },
  {
   "cell_type": "markdown",
   "id": "262e5714",
   "metadata": {},
   "source": [
    "# Arrays, Tuples, Ranges, and Other Fundamental Types"
   ]
  },
  {
   "cell_type": "markdown",
   "id": "34767c41",
   "metadata": {},
   "source": [
    "## Contents\n",
    "\n",
    "- [Arrays, Tuples, Ranges, and Other Fundamental Types](#Arrays,-Tuples,-Ranges,-and-Other-Fundamental-Types)  \n",
    "  - [Overview](#Overview)  \n",
    "  - [Array Basics](#Array-Basics)  \n",
    "  - [Operations on Arrays](#Operations-on-Arrays)  \n",
    "  - [Ranges](#Ranges)  \n",
    "  - [Tuples and Named Tuples](#Tuples-and-Named-Tuples)  \n",
    "  - [Nothing, Missing, and Unions](#Nothing,-Missing,-and-Unions)  \n",
    "  - [Exercises](#Exercises)  \n",
    "  - [Solutions](#Solutions)  "
   ]
  },
  {
   "cell_type": "markdown",
   "id": "f57c03db",
   "metadata": {},
   "source": [
    "> “Let’s be clear: the work of science has nothing whatever to do with consensus.\n",
    "> Consensus is the business of politics. Science, on the contrary, requires only\n",
    "> one investigator who happens to be right, which means that he or she has\n",
    "> results that are verifiable by reference to the real world. In science\n",
    "> consensus is irrelevant. What is relevant is reproducible results.” – Michael Crichton"
   ]
  },
  {
   "cell_type": "markdown",
   "id": "5e5036ff",
   "metadata": {},
   "source": [
    "## Overview\n",
    "\n",
    "In Julia, arrays and tuples are the most important data type for working with numerical data.\n",
    "\n",
    "In this lecture we give more details on\n",
    "\n",
    "- creating and manipulating Julia arrays  \n",
    "- fundamental array processing operations  \n",
    "- basic matrix algebra  \n",
    "- tuples and named tuples  \n",
    "- ranges  \n",
    "- nothing, missing, and unions  "
   ]
  },
  {
   "cell_type": "code",
   "execution_count": 2,
   "id": "1657f8f0",
   "metadata": {
    "hide-output": false
   },
   "outputs": [],
   "source": [
    "using LinearAlgebra, Statistics"
   ]
  },
  {
   "cell_type": "markdown",
   "id": "b812c24e",
   "metadata": {},
   "source": [
    "## Array Basics\n",
    "\n",
    "([See multi-dimensional arrays documentation](https://docs.julialang.org/en/v1/manual/arrays/))\n",
    "\n",
    "Since it is one of the most important types, we will start with arrays.\n",
    "\n",
    "Later, we will see how arrays (and all other types in Julia) are handled in a generic and extensible way."
   ]
  },
  {
   "cell_type": "markdown",
   "id": "04c7511d",
   "metadata": {},
   "source": [
    "### Shape and Dimension\n",
    "\n",
    "We’ve already seen some Julia arrays in action"
   ]
  },
  {
   "cell_type": "code",
   "execution_count": null,
   "id": "64e9ccaf",
   "metadata": {
    "hide-output": false
   },
   "outputs": [],
   "source": [
    "a = [10, 20, 30]"
   ]
  },
  {
   "cell_type": "code",
   "execution_count": 3,
   "id": "60f7296f",
   "metadata": {
    "hide-output": false
   },
   "outputs": [
    {
     "data": {
      "text/plain": [
       "3-element Vector{Float64}:\n",
       " 1.0\n",
       " 2.0\n",
       " 3.0"
      ]
     },
     "metadata": {},
     "output_type": "display_data"
    }
   ],
   "source": [
    "a = [1.0, 2.0, 3.0]"
   ]
  },
  {
   "cell_type": "markdown",
   "id": "505bb9e1",
   "metadata": {},
   "source": [
    "The output tells us that the arrays are of types `Array{Int64,1}` and `Array{Float64,1}` respectively.\n",
    "\n",
    "Here `Int64` and `Float64` are types for the elements inferred by the compiler.\n",
    "\n",
    "We’ll talk more about types later.\n",
    "\n",
    "The `1` in `Array{Int64,1}` and `Array{Any,1}` indicates that the array is\n",
    "one dimensional (i.e., a `Vector`).\n",
    "\n",
    "This is the default for many Julia functions that create arrays"
   ]
  },
  {
   "cell_type": "code",
   "execution_count": 2,
   "id": "95295c42",
   "metadata": {
    "hide-output": false
   },
   "outputs": [
    {
     "data": {
      "text/plain": [
       "Vector{Float64}\u001b[90m (alias for \u001b[39m\u001b[90mArray{Float64, 1}\u001b[39m\u001b[90m)\u001b[39m"
      ]
     },
     "metadata": {},
     "output_type": "display_data"
    }
   ],
   "source": [
    "typeof(randn(100))"
   ]
  },
  {
   "cell_type": "markdown",
   "id": "769d076a",
   "metadata": {},
   "source": [
    "In Julia, one dimensional vectors are best interpreted as column vectors, which we will see when we take transposes.\n",
    "\n",
    "We can check the dimensions of `a` using `size()` and `ndims()`\n",
    "functions"
   ]
  },
  {
   "cell_type": "code",
   "execution_count": 4,
   "id": "e9ffc078",
   "metadata": {
    "hide-output": false
   },
   "outputs": [
    {
     "data": {
      "text/plain": [
       "1"
      ]
     },
     "metadata": {},
     "output_type": "display_data"
    }
   ],
   "source": [
    "ndims(a)"
   ]
  },
  {
   "cell_type": "code",
   "execution_count": 5,
   "id": "cdbc445c",
   "metadata": {
    "hide-output": false
   },
   "outputs": [
    {
     "data": {
      "text/plain": [
       "(3,)"
      ]
     },
     "metadata": {},
     "output_type": "display_data"
    }
   ],
   "source": [
    "size(a)"
   ]
  },
  {
   "cell_type": "markdown",
   "id": "e870396f",
   "metadata": {},
   "source": [
    "The syntax `(3,)` displays a tuple containing one element – the size along the one dimension that exists."
   ]
  },
  {
   "cell_type": "markdown",
   "id": "be1cd477",
   "metadata": {},
   "source": [
    "#### Array vs Vector vs Matrix\n",
    "\n",
    "In Julia, `Vector` and `Matrix` are just aliases for one- and two-dimensional arrays\n",
    "respectively"
   ]
  },
  {
   "cell_type": "code",
   "execution_count": 6,
   "id": "514c5cc4",
   "metadata": {
    "hide-output": false
   },
   "outputs": [
    {
     "data": {
      "text/plain": [
       "true"
      ]
     },
     "metadata": {},
     "output_type": "display_data"
    }
   ],
   "source": [
    "Array{Int64, 1} == Vector{Int64}\n",
    "Array{Int64, 2} == Matrix{Int64}"
   ]
  },
  {
   "cell_type": "markdown",
   "id": "ffd00851",
   "metadata": {},
   "source": [
    "Vector construction with `,` is then interpreted as a column vector.\n",
    "\n",
    "To see this, we can create a column vector and row vector more directly"
   ]
  },
  {
   "cell_type": "code",
   "execution_count": 7,
   "id": "b63583e7",
   "metadata": {
    "hide-output": false
   },
   "outputs": [
    {
     "data": {
      "text/plain": [
       "true"
      ]
     },
     "metadata": {},
     "output_type": "display_data"
    }
   ],
   "source": [
    "[1, 2, 3] == [1; 2; 3]  # both column vectors"
   ]
  },
  {
   "cell_type": "code",
   "execution_count": 8,
   "id": "116fb33c",
   "metadata": {
    "hide-output": false
   },
   "outputs": [
    {
     "data": {
      "text/plain": [
       "1×3 Matrix{Int64}:\n",
       " 1  2  3"
      ]
     },
     "metadata": {},
     "output_type": "display_data"
    }
   ],
   "source": [
    "[1 2 3]  # a row vector is 2-dimensional"
   ]
  },
  {
   "cell_type": "markdown",
   "id": "04d34e3f",
   "metadata": {},
   "source": [
    "As we’ve seen, in Julia we have both\n",
    "\n",
    "- one-dimensional arrays (i.e., flat arrays)  \n",
    "- arrays of size `(1, n)` or `(n, 1)` that represent row and column vectors respectively  \n",
    "\n",
    "\n",
    "Why do we need both?\n",
    "\n",
    "On one hand, dimension matters for matrix algebra.\n",
    "\n",
    "- Multiplying by a row vector is different to multiplying by a column vector.  \n",
    "\n",
    "\n",
    "On the other, we use arrays in many settings that don’t involve matrix algebra.\n",
    "\n",
    "In such cases, we don’t care about the distinction between row and column vectors.\n",
    "\n",
    "This is why many Julia functions return flat arrays by default.\n",
    "\n",
    "\n",
    "<a id='creating-arrays'></a>"
   ]
  },
  {
   "cell_type": "markdown",
   "id": "4dadf3f6",
   "metadata": {},
   "source": [
    "### Creating Arrays"
   ]
  },
  {
   "cell_type": "markdown",
   "id": "85d3e7fb",
   "metadata": {},
   "source": [
    "#### Functions that Create Arrays\n",
    "\n",
    "We’ve already seen some functions for creating a vector filled with `0.0`"
   ]
  },
  {
   "cell_type": "code",
   "execution_count": 10,
   "id": "997e1ad0",
   "metadata": {
    "hide-output": false
   },
   "outputs": [
    {
     "data": {
      "text/plain": [
       "3-element Vector{Float64}:\n",
       " 0.0\n",
       " 0.0\n",
       " 0.0"
      ]
     },
     "metadata": {},
     "output_type": "display_data"
    }
   ],
   "source": [
    "zeros(3)"
   ]
  },
  {
   "cell_type": "markdown",
   "id": "aee10bcc",
   "metadata": {},
   "source": [
    "This generalizes to matrices and higher dimensional arrays"
   ]
  },
  {
   "cell_type": "code",
   "execution_count": 9,
   "id": "bf6365da",
   "metadata": {
    "hide-output": false
   },
   "outputs": [
    {
     "data": {
      "text/plain": [
       "2×2 Matrix{Float64}:\n",
       " 0.0  0.0\n",
       " 0.0  0.0"
      ]
     },
     "metadata": {},
     "output_type": "display_data"
    }
   ],
   "source": [
    "zeros(2, 2)"
   ]
  },
  {
   "cell_type": "markdown",
   "id": "b9b936e3",
   "metadata": {},
   "source": [
    "To return an array filled with a single value, use `fill`"
   ]
  },
  {
   "cell_type": "code",
   "execution_count": 11,
   "id": "24f898de",
   "metadata": {
    "hide-output": false
   },
   "outputs": [
    {
     "data": {
      "text/plain": [
       "2×2 Matrix{Float64}:\n",
       " 5.0  5.0\n",
       " 5.0  5.0"
      ]
     },
     "metadata": {},
     "output_type": "display_data"
    }
   ],
   "source": [
    "fill(5.0, 2, 2)"
   ]
  },
  {
   "cell_type": "markdown",
   "id": "acd8b956",
   "metadata": {},
   "source": [
    "Finally, you can create an empty array using the `Array()` constructor"
   ]
  },
  {
   "cell_type": "code",
   "execution_count": 12,
   "id": "8938fdf3",
   "metadata": {
    "hide-output": false
   },
   "outputs": [
    {
     "data": {
      "text/plain": [
       "2×2 Matrix{Float64}:\n",
       " 5.0e-324  1.02318e-311\n",
       " 1.5e-323  1.02318e-311"
      ]
     },
     "metadata": {},
     "output_type": "display_data"
    }
   ],
   "source": [
    "x = Array{Float64}(undef, 2, 2)"
   ]
  },
  {
   "cell_type": "markdown",
   "id": "a12eb247",
   "metadata": {},
   "source": [
    "The printed values you see here are just garbage values.\n",
    "\n",
    "(the existing contents of the allocated memory slots being interpreted as 64 bit floats)\n",
    "\n",
    "If you need more control over the types, fill with a non-floating point"
   ]
  },
  {
   "cell_type": "code",
   "execution_count": 13,
   "id": "f9acff30",
   "metadata": {
    "hide-output": false
   },
   "outputs": [
    {
     "data": {
      "text/plain": [
       "2×2 Matrix{Int64}:\n",
       " 0  0\n",
       " 0  0"
      ]
     },
     "metadata": {},
     "output_type": "display_data"
    }
   ],
   "source": [
    "fill(0, 2, 2)  # fills with 0, not 0.0"
   ]
  },
  {
   "cell_type": "markdown",
   "id": "8f1c12cf",
   "metadata": {},
   "source": [
    "Or fill with a boolean type"
   ]
  },
  {
   "cell_type": "code",
   "execution_count": 14,
   "id": "3f00a007",
   "metadata": {
    "hide-output": false
   },
   "outputs": [
    {
     "data": {
      "text/plain": [
       "2×2 Matrix{Bool}:\n",
       " 0  0\n",
       " 0  0"
      ]
     },
     "metadata": {},
     "output_type": "display_data"
    }
   ],
   "source": [
    "fill(false, 2, 2)  # produces a boolean matrix"
   ]
  },
  {
   "cell_type": "markdown",
   "id": "10defccc",
   "metadata": {},
   "source": [
    "#### Creating Arrays from Existing Arrays\n",
    "\n",
    "For the most part, we will avoid directly specifying the types of arrays, and let the compiler deduce the optimal types on its own.\n",
    "\n",
    "The reasons for this, discussed in more detail in [this lecture](https://julia.quantecon.org/../more_julia/generic_programming.html), are to ensure both clarity and generality.\n",
    "\n",
    "One place this can be inconvenient is when we need to create an array based on an existing array.\n",
    "\n",
    "First, note that assignment in Julia binds a name to a value, but does not make a copy of that type"
   ]
  },
  {
   "cell_type": "code",
   "execution_count": 3,
   "id": "c0199548",
   "metadata": {
    "hide-output": false
   },
   "outputs": [
    {
     "data": {
      "text/plain": [
       "3-element Vector{Int64}:\n",
       " 2\n",
       " 2\n",
       " 3"
      ]
     },
     "metadata": {},
     "output_type": "display_data"
    }
   ],
   "source": [
    "x = [1, 2, 3]\n",
    "y = x\n",
    "y[1] = 2\n",
    "x"
   ]
  },
  {
   "cell_type": "markdown",
   "id": "56bdd092",
   "metadata": {},
   "source": [
    "In the above, `y = x` simply creates a new named binding called `y` which refers to whatever `x` currently binds to.\n",
    "\n",
    "To copy the data, you need to be more explicit"
   ]
  },
  {
   "cell_type": "code",
   "execution_count": 4,
   "id": "15486eae",
   "metadata": {
    "hide-output": false
   },
   "outputs": [
    {
     "data": {
      "text/plain": [
       "3-element Vector{Int64}:\n",
       " 1\n",
       " 2\n",
       " 3"
      ]
     },
     "metadata": {},
     "output_type": "display_data"
    }
   ],
   "source": [
    "x = [1, 2, 3]\n",
    "y = copy(x)\n",
    "y[1] = 2\n",
    "x"
   ]
  },
  {
   "cell_type": "markdown",
   "id": "7de20291",
   "metadata": {},
   "source": [
    "However, rather than making a copy of `x`, you may want to just have a similarly sized array"
   ]
  },
  {
   "cell_type": "code",
   "execution_count": 5,
   "id": "fd1d31f5",
   "metadata": {
    "hide-output": false
   },
   "outputs": [
    {
     "data": {
      "text/plain": [
       "3-element Vector{Int64}:\n",
       " 5\n",
       " 4\n",
       " 0"
      ]
     },
     "metadata": {},
     "output_type": "display_data"
    }
   ],
   "source": [
    "x = [1, 2, 3]\n",
    "y = similar(x)\n",
    "y"
   ]
  },
  {
   "cell_type": "markdown",
   "id": "1769ded0",
   "metadata": {},
   "source": [
    "We can also use `similar` to pre-allocate a vector with a different size, but the same shape"
   ]
  },
  {
   "cell_type": "code",
   "execution_count": 6,
   "id": "1ff82c4f",
   "metadata": {
    "hide-output": false
   },
   "outputs": [
    {
     "data": {
      "text/plain": [
       "4-element Vector{Int64}:\n",
       " 0\n",
       " 0\n",
       " 0\n",
       " 0"
      ]
     },
     "metadata": {},
     "output_type": "display_data"
    }
   ],
   "source": [
    "x = [1, 2, 3]\n",
    "y = similar(x, 4)  # make a vector of length 4"
   ]
  },
  {
   "cell_type": "markdown",
   "id": "c3d4c9a8",
   "metadata": {},
   "source": [
    "Which generalizes to higher dimensions"
   ]
  },
  {
   "cell_type": "code",
   "execution_count": 7,
   "id": "ac643987",
   "metadata": {
    "hide-output": false
   },
   "outputs": [
    {
     "data": {
      "text/plain": [
       "2×2 Matrix{Int64}:\n",
       " 1048576  0\n",
       "       0  0"
      ]
     },
     "metadata": {},
     "output_type": "display_data"
    }
   ],
   "source": [
    "x = [1, 2, 3]\n",
    "y = similar(x, 2, 2)  # make a 2x2 matrix"
   ]
  },
  {
   "cell_type": "markdown",
   "id": "e30f1f40",
   "metadata": {},
   "source": [
    "#### Array Definitions from Literals\n",
    "\n",
    "As we’ve seen, you can create one dimensional arrays from manually specified data like so"
   ]
  },
  {
   "cell_type": "code",
   "execution_count": 11,
   "id": "35893f11",
   "metadata": {
    "hide-output": false
   },
   "outputs": [
    {
     "data": {
      "text/plain": [
       "4-element Vector{Int64}:\n",
       " 10\n",
       " 20\n",
       " 30\n",
       " 40"
      ]
     },
     "metadata": {},
     "output_type": "display_data"
    }
   ],
   "source": [
    "a = [10, 20, 30, 40]"
   ]
  },
  {
   "cell_type": "markdown",
   "id": "a969c0d1",
   "metadata": {},
   "source": [
    "In two dimensions we can proceed as follows"
   ]
  },
  {
   "cell_type": "code",
   "execution_count": 13,
   "id": "bca491e6",
   "metadata": {
    "hide-output": false
   },
   "outputs": [
    {
     "data": {
      "text/plain": [
       "1×4 Matrix{Int64}:\n",
       " 10  20  30  40"
      ]
     },
     "metadata": {},
     "output_type": "display_data"
    }
   ],
   "source": [
    "a = [10 20 30 40]  # two dimensional, shape is 1 x n"
   ]
  },
  {
   "cell_type": "code",
   "execution_count": 14,
   "id": "d8a0c79c",
   "metadata": {
    "hide-output": false
   },
   "outputs": [
    {
     "data": {
      "text/plain": [
       "2"
      ]
     },
     "metadata": {},
     "output_type": "display_data"
    }
   ],
   "source": [
    "ndims(a)"
   ]
  },
  {
   "cell_type": "code",
   "execution_count": 15,
   "id": "3cc48ee8",
   "metadata": {
    "hide-output": false
   },
   "outputs": [
    {
     "data": {
      "text/plain": [
       "2×2 Matrix{Int64}:\n",
       " 10  20\n",
       " 30  40"
      ]
     },
     "metadata": {},
     "output_type": "display_data"
    }
   ],
   "source": [
    "a = [10 20; 30 40]  # 2 x 2"
   ]
  },
  {
   "cell_type": "markdown",
   "id": "d14aec31",
   "metadata": {},
   "source": [
    "You might then assume that `a = [10; 20; 30; 40]` creates a two dimensional column vector but this isn’t the case."
   ]
  },
  {
   "cell_type": "code",
   "execution_count": 16,
   "id": "182314ba",
   "metadata": {
    "hide-output": false
   },
   "outputs": [
    {
     "data": {
      "text/plain": [
       "4-element Vector{Int64}:\n",
       " 10\n",
       " 20\n",
       " 30\n",
       " 40"
      ]
     },
     "metadata": {},
     "output_type": "display_data"
    }
   ],
   "source": [
    "a = [10; 20; 30; 40]"
   ]
  },
  {
   "cell_type": "code",
   "execution_count": 17,
   "id": "e9c1eddd",
   "metadata": {
    "hide-output": false
   },
   "outputs": [
    {
     "data": {
      "text/plain": [
       "1"
      ]
     },
     "metadata": {},
     "output_type": "display_data"
    }
   ],
   "source": [
    "ndims(a)"
   ]
  },
  {
   "cell_type": "markdown",
   "id": "4827e9d9",
   "metadata": {},
   "source": [
    "Instead transpose the matrix (or adjoint if complex)"
   ]
  },
  {
   "cell_type": "code",
   "execution_count": 18,
   "id": "83834e6d",
   "metadata": {
    "hide-output": false
   },
   "outputs": [
    {
     "data": {
      "text/plain": [
       "4×1 adjoint(::Matrix{Int64}) with eltype Int64:\n",
       " 10\n",
       " 20\n",
       " 30\n",
       " 40"
      ]
     },
     "metadata": {},
     "output_type": "display_data"
    }
   ],
   "source": [
    "a = [10 20 30 40]'"
   ]
  },
  {
   "cell_type": "code",
   "execution_count": 19,
   "id": "f5747e1b",
   "metadata": {
    "hide-output": false
   },
   "outputs": [
    {
     "data": {
      "text/plain": [
       "2"
      ]
     },
     "metadata": {},
     "output_type": "display_data"
    }
   ],
   "source": [
    "ndims(a)"
   ]
  },
  {
   "cell_type": "markdown",
   "id": "daf2c013",
   "metadata": {},
   "source": [
    "Note, however, that the transformed array is not a matrix but rather a special type (e.g., `adjoint(::Matrix{Int64}) with eltype Int64`).\n",
    "\n",
    "Keeping the special structure of a transposed array can let Julia use more efficient algorithms in some cases.\n",
    "\n",
    "Finally, we can see how to create multidimensional arrays from literals with the `;` separator.\n",
    "\n",
    "First, we can create a vector"
   ]
  },
  {
   "cell_type": "code",
   "execution_count": 20,
   "id": "a45d5bea",
   "metadata": {
    "hide-output": false
   },
   "outputs": [
    {
     "data": {
      "text/plain": [
       "2-element Vector{Int64}:\n",
       " 1\n",
       " 2"
      ]
     },
     "metadata": {},
     "output_type": "display_data"
    }
   ],
   "source": [
    "[1; 2]"
   ]
  },
  {
   "cell_type": "markdown",
   "id": "f4db06fb",
   "metadata": {},
   "source": [
    "Next, by appending an additional `;` we can tell it to use a 2 dimensional array"
   ]
  },
  {
   "cell_type": "code",
   "execution_count": 21,
   "id": "5dbaf9ed",
   "metadata": {
    "hide-output": false
   },
   "outputs": [
    {
     "data": {
      "text/plain": [
       "2×1 Matrix{Int64}:\n",
       " 1\n",
       " 2"
      ]
     },
     "metadata": {},
     "output_type": "display_data"
    }
   ],
   "source": [
    "[1; 2;;]"
   ]
  },
  {
   "cell_type": "markdown",
   "id": "0778be30",
   "metadata": {},
   "source": [
    "Or 3 dimensions"
   ]
  },
  {
   "cell_type": "code",
   "execution_count": 22,
   "id": "924f9516",
   "metadata": {
    "hide-output": false
   },
   "outputs": [
    {
     "data": {
      "text/plain": [
       "2×1×1 Array{Int64, 3}:\n",
       "[:, :, 1] =\n",
       " 1\n",
       " 2"
      ]
     },
     "metadata": {},
     "output_type": "display_data"
    }
   ],
   "source": [
    "[1; 2;;;]"
   ]
  },
  {
   "cell_type": "markdown",
   "id": "d281488c",
   "metadata": {},
   "source": [
    "Or a 1x1 matrix with a single value"
   ]
  },
  {
   "cell_type": "code",
   "execution_count": 23,
   "id": "ce867fff",
   "metadata": {
    "hide-output": false
   },
   "outputs": [
    {
     "data": {
      "text/plain": [
       "1×1 Matrix{Int64}:\n",
       " 1"
      ]
     },
     "metadata": {},
     "output_type": "display_data"
    }
   ],
   "source": [
    "[1;;]"
   ]
  },
  {
   "cell_type": "markdown",
   "id": "39b2b62c",
   "metadata": {},
   "source": [
    "Or a 2x2x1 array"
   ]
  },
  {
   "cell_type": "code",
   "execution_count": 24,
   "id": "967b49f5",
   "metadata": {
    "hide-output": false
   },
   "outputs": [
    {
     "data": {
      "text/plain": [
       "2×2×1 Array{Int64, 3}:\n",
       "[:, :, 1] =\n",
       " 1  2\n",
       " 3  4"
      ]
     },
     "metadata": {},
     "output_type": "display_data"
    }
   ],
   "source": [
    "[1 2; 3 4;;;]"
   ]
  },
  {
   "cell_type": "markdown",
   "id": "ff20852d",
   "metadata": {},
   "source": [
    "### Array Indexing\n",
    "\n",
    "We’ve already seen the basics of array indexing"
   ]
  },
  {
   "cell_type": "code",
   "execution_count": 25,
   "id": "8670133d",
   "metadata": {
    "hide-output": false
   },
   "outputs": [
    {
     "data": {
      "text/plain": [
       "30"
      ]
     },
     "metadata": {},
     "output_type": "display_data"
    }
   ],
   "source": [
    "a = [10 20 30 40]\n",
    "a[end - 1]"
   ]
  },
  {
   "cell_type": "code",
   "execution_count": 26,
   "id": "ddf53a3c",
   "metadata": {
    "hide-output": false
   },
   "outputs": [
    {
     "data": {
      "text/plain": [
       "3-element Vector{Int64}:\n",
       " 10\n",
       " 20\n",
       " 30"
      ]
     },
     "metadata": {},
     "output_type": "display_data"
    }
   ],
   "source": [
    "a[1:3]"
   ]
  },
  {
   "cell_type": "markdown",
   "id": "c3baaec5",
   "metadata": {},
   "source": [
    "For 2D arrays the index syntax is straightforward"
   ]
  },
  {
   "cell_type": "code",
   "execution_count": 27,
   "id": "7e579c03",
   "metadata": {
    "hide-output": false
   },
   "outputs": [
    {
     "data": {
      "text/plain": [
       "-0.23971995906458052"
      ]
     },
     "metadata": {},
     "output_type": "display_data"
    }
   ],
   "source": [
    "a = randn(2, 2)\n",
    "a[1, 1]"
   ]
  },
  {
   "cell_type": "code",
   "execution_count": 28,
   "id": "1bb80d76",
   "metadata": {
    "hide-output": false
   },
   "outputs": [
    {
     "data": {
      "text/plain": [
       "2-element Vector{Float64}:\n",
       " -0.23971995906458052\n",
       " -0.8635311037952442"
      ]
     },
     "metadata": {},
     "output_type": "display_data"
    }
   ],
   "source": [
    "a[1, :]  # first row"
   ]
  },
  {
   "cell_type": "code",
   "execution_count": 29,
   "id": "ec72d243",
   "metadata": {
    "hide-output": false
   },
   "outputs": [
    {
     "data": {
      "text/plain": [
       "2-element Vector{Float64}:\n",
       " -0.23971995906458052\n",
       "  0.9683113310017379"
      ]
     },
     "metadata": {},
     "output_type": "display_data"
    }
   ],
   "source": [
    "a[:, 1]  # first column"
   ]
  },
  {
   "cell_type": "markdown",
   "id": "fef5a9c7",
   "metadata": {},
   "source": [
    "Booleans can be used to extract elements"
   ]
  },
  {
   "cell_type": "code",
   "execution_count": 30,
   "id": "1e9ff59f",
   "metadata": {
    "hide-output": false
   },
   "outputs": [
    {
     "data": {
      "text/plain": [
       "2×2 Matrix{Float64}:\n",
       " -0.857465  -1.47893\n",
       "  0.50815   -0.00944503"
      ]
     },
     "metadata": {},
     "output_type": "display_data"
    }
   ],
   "source": [
    "a = randn(2, 2)"
   ]
  },
  {
   "cell_type": "code",
   "execution_count": 41,
   "id": "0a27c189",
   "metadata": {
    "hide-output": false
   },
   "outputs": [
    {
     "data": {
      "text/plain": [
       "2×2 Matrix{Bool}:\n",
       " 1  0\n",
       " 0  1"
      ]
     },
     "metadata": {},
     "output_type": "display_data"
    }
   ],
   "source": [
    "b = [true false; false true]"
   ]
  },
  {
   "cell_type": "code",
   "execution_count": 42,
   "id": "67f5403a",
   "metadata": {
    "hide-output": false
   },
   "outputs": [
    {
     "data": {
      "text/plain": [
       "2-element Vector{Float64}:\n",
       " -0.8574646597978195\n",
       " -0.009445034987199561"
      ]
     },
     "metadata": {},
     "output_type": "display_data"
    }
   ],
   "source": [
    "a[b]"
   ]
  },
  {
   "cell_type": "markdown",
   "id": "b6e63045",
   "metadata": {},
   "source": [
    "This is useful for conditional extraction, as we’ll see below.\n",
    "\n",
    "An aside: some or all elements of an array can be set equal to one number using slice notation."
   ]
  },
  {
   "cell_type": "code",
   "execution_count": 43,
   "id": "07ead5cf",
   "metadata": {
    "hide-output": false
   },
   "outputs": [
    {
     "data": {
      "text/plain": [
       "4-element Vector{Float64}:\n",
       " 0.0\n",
       " 0.0\n",
       " 0.0\n",
       " 0.0"
      ]
     },
     "metadata": {},
     "output_type": "display_data"
    }
   ],
   "source": [
    "a = zeros(4)"
   ]
  },
  {
   "cell_type": "code",
   "execution_count": 44,
   "id": "c4bc5f6d",
   "metadata": {
    "hide-output": false
   },
   "outputs": [
    {
     "data": {
      "text/plain": [
       "3-element view(::Vector{Float64}, 2:4) with eltype Float64:\n",
       " 42.0\n",
       " 42.0\n",
       " 42.0"
      ]
     },
     "metadata": {},
     "output_type": "display_data"
    }
   ],
   "source": [
    "a[2:end] .= 42"
   ]
  },
  {
   "cell_type": "code",
   "execution_count": 45,
   "id": "5cb58afc",
   "metadata": {
    "hide-output": false
   },
   "outputs": [
    {
     "data": {
      "text/plain": [
       "4-element Vector{Float64}:\n",
       "  0.0\n",
       " 42.0\n",
       " 42.0\n",
       " 42.0"
      ]
     },
     "metadata": {},
     "output_type": "display_data"
    }
   ],
   "source": [
    "a"
   ]
  },
  {
   "cell_type": "markdown",
   "id": "a277e810",
   "metadata": {},
   "source": [
    "### Views and Slices\n",
    "\n",
    "Using the `:` notation provides a slice of an array, copying the sub-array to a new array with a similar type."
   ]
  },
  {
   "cell_type": "code",
   "execution_count": 46,
   "id": "cf423f44",
   "metadata": {
    "hide-output": false
   },
   "outputs": [
    {
     "name": "stdout",
     "output_type": "stream",
     "text": [
      "b = [2, 4]\n",
      "a = [1 4; 3 5]\n",
      "b = [2, 4]\n"
     ]
    }
   ],
   "source": [
    "a = [1 2; 3 4]\n",
    "b = a[:, 2]\n",
    "@show b\n",
    "a[:, 2] = [4, 5] # modify a\n",
    "@show a\n",
    "@show b;"
   ]
  },
  {
   "cell_type": "markdown",
   "id": "be5bfb66",
   "metadata": {},
   "source": [
    "A **view** on the other hand does not copy the value"
   ]
  },
  {
   "cell_type": "code",
   "execution_count": 47,
   "id": "3cc6a961",
   "metadata": {
    "hide-output": false
   },
   "outputs": [
    {
     "name": "stdout",
     "output_type": "stream",
     "text": [
      "b = [2, 4]\n",
      "a = [1 4; 3 5]\n",
      "b = [4, 5]\n"
     ]
    }
   ],
   "source": [
    "a = [1 2; 3 4]\n",
    "@views b = a[:, 2]\n",
    "@show b\n",
    "a[:, 2] = [4, 5]\n",
    "@show a\n",
    "@show b;"
   ]
  },
  {
   "cell_type": "markdown",
   "id": "e68a9cf4",
   "metadata": {},
   "source": [
    "Note that the only difference is the `@views` macro, which will replace any slices with views in the expression.\n",
    "\n",
    "An alternative is to call the `view` function directly – though it is generally discouraged since it is a step away from the math."
   ]
  },
  {
   "cell_type": "code",
   "execution_count": 50,
   "id": "3ebcce9f",
   "metadata": {
    "hide-output": false
   },
   "outputs": [
    {
     "data": {
      "text/plain": [
       "true"
      ]
     },
     "metadata": {},
     "output_type": "display_data"
    }
   ],
   "source": [
    "@views b = a[:, 2]\n",
    "view(a, :, 2) == b"
   ]
  },
  {
   "cell_type": "markdown",
   "id": "e3e2f305",
   "metadata": {},
   "source": [
    "As with most programming in Julia, it is best to avoid prematurely assuming that `@views` will have a significant impact on performance, and stress code clarity above all else.\n",
    "\n",
    "Another important lesson about `@views` is that they **are not** normal, dense arrays."
   ]
  },
  {
   "cell_type": "code",
   "execution_count": 53,
   "id": "ed53e48b",
   "metadata": {
    "hide-output": false
   },
   "outputs": [
    {
     "name": "stdout",
     "output_type": "stream",
     "text": [
      "typeof(b_slice) = Vector{Int64}\n",
      "typeof(a) = Matrix{Int64}\n",
      "typeof(b) = SubArray{Int64, 1, Matrix{Int64}, Tuple{Base.Slice{Base.OneTo{Int64}}, Int64}, true}\n"
     ]
    }
   ],
   "source": [
    "a = [1 2; 3 4]\n",
    "b_slice = a[:, 2]\n",
    "@show typeof(b_slice)\n",
    "@show typeof(a)\n",
    "@views b = a[:, 2]\n",
    "@show typeof(b);"
   ]
  },
  {
   "cell_type": "markdown",
   "id": "9991caa3",
   "metadata": {},
   "source": [
    "The type of `b` is a good example of how types are not as they may seem.\n",
    "\n",
    "Similarly"
   ]
  },
  {
   "cell_type": "code",
   "execution_count": 56,
   "id": "ac5fa473",
   "metadata": {
    "hide-output": false
   },
   "outputs": [
    {
     "data": {
      "text/plain": [
       "Adjoint{Int64, Matrix{Int64}}"
      ]
     },
     "metadata": {},
     "output_type": "display_data"
    }
   ],
   "source": [
    "a = [1 2; 3 4]\n",
    "b = a'   # transpose\n",
    "typeof(b)"
   ]
  },
  {
   "cell_type": "markdown",
   "id": "d6f912b8",
   "metadata": {},
   "source": [
    "To copy into a dense array"
   ]
  },
  {
   "cell_type": "code",
   "execution_count": 57,
   "id": "dd7e8a5c",
   "metadata": {
    "hide-output": false
   },
   "outputs": [
    {
     "data": {
      "text/plain": [
       "true"
      ]
     },
     "metadata": {},
     "output_type": "display_data"
    }
   ],
   "source": [
    "a = [1 2; 3 4]\n",
    "b = a' # transpose\n",
    "c = Matrix(b)  # convert to matrix\n",
    "d = collect(b) # also `collect` works on any iterable\n",
    "c == d"
   ]
  },
  {
   "cell_type": "markdown",
   "id": "6e6717ee",
   "metadata": {},
   "source": [
    "### Special Matrices\n",
    "\n",
    "As we saw with `transpose`, sometimes types that look like matrices are not stored as a dense array.\n",
    "\n",
    "As an example, consider creating a diagonal matrix"
   ]
  },
  {
   "cell_type": "code",
   "execution_count": 58,
   "id": "63525219",
   "metadata": {
    "hide-output": false
   },
   "outputs": [
    {
     "data": {
      "text/plain": [
       "2×2 Diagonal{Float64, Vector{Float64}}:\n",
       " 1.0   ⋅ \n",
       "  ⋅   2.0"
      ]
     },
     "metadata": {},
     "output_type": "display_data"
    }
   ],
   "source": [
    "d = [1.0, 2.0]\n",
    "a = Diagonal(d)"
   ]
  },
  {
   "cell_type": "markdown",
   "id": "632a8208",
   "metadata": {},
   "source": [
    "As you can see, the type is `2×2 Diagonal{Float64,Array{Float64,1}}`, which is not a 2-dimensional array.\n",
    "\n",
    "The reasons for this are both efficiency in storage, as well as efficiency in arithmetic and matrix operations.\n",
    "\n",
    "In every important sense, matrix types such as `Diagonal` are just as much a “matrix” as the dense matrices we have using (see the [introduction to types lecture](https://julia.quantecon.org/introduction_to_types.html) for more)"
   ]
  },
  {
   "cell_type": "code",
   "execution_count": 59,
   "id": "d30a4fd8",
   "metadata": {
    "hide-output": false
   },
   "outputs": [
    {
     "name": "stdout",
     "output_type": "stream",
     "text": [
      "2a = [2.0 0.0; 0.0 4.0]\n",
      "b * a = [0.9757449716335836 0.8227190656794356; 0.9910669969782158 1.7402369376621811]\n"
     ]
    }
   ],
   "source": [
    "@show 2a\n",
    "b = rand(2, 2)\n",
    "@show b * a;"
   ]
  },
  {
   "cell_type": "markdown",
   "id": "42f8d4be",
   "metadata": {},
   "source": [
    "Another example is in the construction of an identity matrix, where a naive implementation is"
   ]
  },
  {
   "cell_type": "code",
   "execution_count": 60,
   "id": "a581aaa2",
   "metadata": {
    "hide-output": false
   },
   "outputs": [
    {
     "data": {
      "text/plain": [
       "2×2 Matrix{Float64}:\n",
       " 0.0  2.0\n",
       " 3.0  3.0"
      ]
     },
     "metadata": {},
     "output_type": "display_data"
    }
   ],
   "source": [
    "b = [1.0 2.0; 3.0 4.0]\n",
    "b - Diagonal([1.0, 1.0])  # poor style, inefficient code"
   ]
  },
  {
   "cell_type": "markdown",
   "id": "c4139875",
   "metadata": {},
   "source": [
    "Whereas you should instead use"
   ]
  },
  {
   "cell_type": "code",
   "execution_count": 61,
   "id": "c691087b",
   "metadata": {
    "hide-output": false
   },
   "outputs": [
    {
     "data": {
      "text/plain": [
       "2×2 Matrix{Float64}:\n",
       " 0.0  2.0\n",
       " 3.0  3.0"
      ]
     },
     "metadata": {},
     "output_type": "display_data"
    }
   ],
   "source": [
    "b = [1.0 2.0; 3.0 4.0]\n",
    "b - I  # good style, and note the lack of dimensions of I"
   ]
  },
  {
   "cell_type": "markdown",
   "id": "cb780505",
   "metadata": {},
   "source": [
    "While the implementation of `I` is a little abstract to go into at this point, a hint is:"
   ]
  },
  {
   "cell_type": "code",
   "execution_count": 62,
   "id": "495e85f3",
   "metadata": {
    "hide-output": false
   },
   "outputs": [
    {
     "data": {
      "text/plain": [
       "UniformScaling{Bool}"
      ]
     },
     "metadata": {},
     "output_type": "display_data"
    }
   ],
   "source": [
    "typeof(I)"
   ]
  },
  {
   "cell_type": "markdown",
   "id": "cdcdf9d3",
   "metadata": {},
   "source": [
    "This is a `UniformScaling` type rather than an identity matrix, making it much more powerful and general."
   ]
  },
  {
   "cell_type": "markdown",
   "id": "b201bbdb",
   "metadata": {},
   "source": [
    "### Assignment and Passing Arrays\n",
    "\n",
    "As discussed above, in Julia, the left hand side of an assignment is a “binding” or a label to a value."
   ]
  },
  {
   "cell_type": "code",
   "execution_count": 63,
   "id": "e025168f",
   "metadata": {
    "hide-output": false
   },
   "outputs": [
    {
     "data": {
      "text/plain": [
       "1×3 Matrix{Int64}:\n",
       " 1  2  3"
      ]
     },
     "metadata": {},
     "output_type": "display_data"
    }
   ],
   "source": [
    "x = [1 2 3]\n",
    "y = x  # name `y` binds to whatever value `x` bound to"
   ]
  },
  {
   "cell_type": "markdown",
   "id": "a70983ea",
   "metadata": {},
   "source": [
    "The consequence of this, is that you can re-bind that name."
   ]
  },
  {
   "cell_type": "code",
   "execution_count": 68,
   "id": "e96fed88",
   "metadata": {
    "hide-output": false
   },
   "outputs": [
    {
     "name": "stdout",
     "output_type": "stream",
     "text": [
      "(x, y, z) = ([1 2 3], [2 3 4], [2 3 4])\n"
     ]
    }
   ],
   "source": [
    "x = [1 2 3]\n",
    "y = x        # name `y` binds to whatever `x` bound to\n",
    "z = [2 3 4]\n",
    "y = z        # only changes name binding, not value!\n",
    "@show (x, y, z);"
   ]
  },
  {
   "cell_type": "markdown",
   "id": "119bf6ef",
   "metadata": {},
   "source": [
    "What this means is that if `a` is an array and we set `b = a` then `a` and `b` point to exactly the same data.\n",
    "\n",
    "In the above, suppose you had meant to change the value of `x` to the values of `y`, you need to assign the values rather than the name."
   ]
  },
  {
   "cell_type": "code",
   "execution_count": 69,
   "id": "39ed711e",
   "metadata": {
    "hide-output": false
   },
   "outputs": [
    {
     "name": "stdout",
     "output_type": "stream",
     "text": [
      "(x, y, z) = ([2 3 4], [2 3 4], [2 3 4])\n"
     ]
    }
   ],
   "source": [
    "x = [1 2 3]\n",
    "y = x       # name `y` binds to whatever `x` bound to\n",
    "z = [2 3 4]\n",
    "y .= z      # now dispatches the assignment of each element\n",
    "@show (x, y, z);"
   ]
  },
  {
   "cell_type": "markdown",
   "id": "3185ebd7",
   "metadata": {},
   "source": [
    "Alternatively, you could have used `y[:] = z`.\n",
    "\n",
    "This applies to in-place functions as well.\n",
    "\n",
    "First, define a simple function for a linear map"
   ]
  },
  {
   "cell_type": "code",
   "execution_count": 70,
   "id": "e7bbd3f2",
   "metadata": {
    "hide-output": false
   },
   "outputs": [
    {
     "data": {
      "text/plain": [
       "2-element Vector{Int64}:\n",
       "  5\n",
       " 11"
      ]
     },
     "metadata": {},
     "output_type": "display_data"
    }
   ],
   "source": [
    "function f(x)\n",
    "    return [1 2; 3 4] * x  # matrix * column vector\n",
    "end\n",
    "\n",
    "val = [1, 2]\n",
    "f(val)"
   ]
  },
  {
   "cell_type": "markdown",
   "id": "2ec73c92",
   "metadata": {},
   "source": [
    "In general, these “out-of-place” functions are preferred to “in-place” functions, which modify the arguments."
   ]
  },
  {
   "cell_type": "code",
   "execution_count": 74,
   "id": "b26c7fa1",
   "metadata": {
    "hide-output": false
   },
   "outputs": [
    {
     "name": "stdout",
     "output_type": "stream",
     "text": [
      "y = [0, 0]\n"
     ]
    },
    {
     "data": {
      "text/plain": [
       "2-element Vector{Int64}:\n",
       "  5\n",
       " 11"
      ]
     },
     "metadata": {},
     "output_type": "display_data"
    }
   ],
   "source": [
    "function f(x)\n",
    "    return [1 2; 3 4] * x # matrix * column vector\n",
    "end\n",
    "\n",
    "val = [1, 2]\n",
    "y = similar(val)\n",
    "\n",
    "function f!(out, x)\n",
    "    out .= [1 2; 3 4] * x\n",
    "end\n",
    "@show y\n",
    "f!(y, val)\n",
    "y"
   ]
  },
  {
   "cell_type": "markdown",
   "id": "10c7e52f",
   "metadata": {},
   "source": [
    "This demonstrates a key convention in Julia: functions which modify any of the arguments have the name ending with `!` (e.g. `push!`).\n",
    "\n",
    "We can also see a common mistake, where instead of modifying the arguments, the name binding is swapped"
   ]
  },
  {
   "cell_type": "code",
   "execution_count": 92,
   "id": "ecf2b006",
   "metadata": {
    "hide-output": false
   },
   "outputs": [
    {
     "name": "stdout",
     "output_type": "stream",
     "text": [
      "val = [1, 2] = [1, 2]\n",
      "y = similar(val) = [1776136356560, 1776136503648]\n"
     ]
    },
    {
     "data": {
      "text/plain": [
       "2-element Vector{Int64}:\n",
       " 1776136356560\n",
       " 1776136503648"
      ]
     },
     "metadata": {},
     "output_type": "display_data"
    }
   ],
   "source": [
    "function f(x)\n",
    "    return [1 2; 3 4] * x  # matrix * column vector\n",
    "end\n",
    "\n",
    "val = [1, 2]\n",
    "y = similar(val)\n",
    "\n",
    "function f!(out, x)\n",
    "    out = [1 2; 3 4] * x   # MISTAKE! Should be .=\n",
    "end\n",
    "f!(y, val)\n",
    "y"
   ]
  },
  {
   "cell_type": "markdown",
   "id": "676c933c",
   "metadata": {},
   "source": [
    "The frequency of making this mistake is one of the reasons to avoid in-place functions, unless proven to be necessary by benchmarking."
   ]
  },
  {
   "cell_type": "markdown",
   "id": "f5db71ec",
   "metadata": {},
   "source": [
    "### In-place and Immutable Types\n",
    "\n",
    "Note that scalars are always immutable, such that"
   ]
  },
  {
   "cell_type": "code",
   "execution_count": 93,
   "id": "309e460c",
   "metadata": {
    "hide-output": false
   },
   "outputs": [
    {
     "data": {
      "text/plain": [
       "3"
      ]
     },
     "metadata": {},
     "output_type": "display_data"
    }
   ],
   "source": [
    "y = [1 2]\n",
    "y .-= 2    # y .= y .- 2, no problem\n",
    "\n",
    "x = 5\n",
    "# x .-= 2  # Fails!\n",
    "x = x - 2  # subtle difference - creates a new value and rebinds the variable"
   ]
  },
  {
   "cell_type": "markdown",
   "id": "875071ea",
   "metadata": {},
   "source": [
    "In particular, there is no way to pass any immutable into a function and have it modified"
   ]
  },
  {
   "cell_type": "code",
   "execution_count": 94,
   "id": "de15a9d5",
   "metadata": {
    "hide-output": false
   },
   "outputs": [
    {
     "name": "stdout",
     "output_type": "stream",
     "text": [
      "x = 2\n"
     ]
    }
   ],
   "source": [
    "x = 2\n",
    "\n",
    "function f(x)\n",
    "    x = 3     # MISTAKE! does not modify x, creates a new value!\n",
    "end\n",
    "\n",
    "f(x)          # cannot modify immutables in place\n",
    "@show x;"
   ]
  },
  {
   "cell_type": "markdown",
   "id": "fa20ffc2",
   "metadata": {},
   "source": [
    "This is also true for other immutable types such as tuples, as well as some vector types"
   ]
  },
  {
   "cell_type": "code",
   "execution_count": 97,
   "id": "01f96483",
   "metadata": {
    "hide-output": false
   },
   "outputs": [
    {
     "name": "stdout",
     "output_type": "stream",
     "text": [
      "f(xdynamic) = [2, 4]\n",
      "f(xstatic) = [2, 4]\n",
      "xdynamic = [1, 2]\n",
      "g(xdynamic) = \"Success!\"\n",
      "xdynamic = [2, 4]\n"
     ]
    },
    {
     "data": {
      "text/plain": [
       "2-element Vector{Int64}:\n",
       " 2\n",
       " 4"
      ]
     },
     "metadata": {},
     "output_type": "display_data"
    }
   ],
   "source": [
    "using StaticArrays\n",
    "xdynamic = [1, 2]\n",
    "xstatic = @SVector [1, 2]  # turns it into a highly optimized static vector\n",
    "\n",
    "f(x) = 2x\n",
    "@show f(xdynamic)\n",
    "@show f(xstatic)\n",
    "\n",
    "# inplace version\n",
    "function g(x)\n",
    "    x .= 2x\n",
    "    return \"Success!\"\n",
    "end\n",
    "@show xdynamic\n",
    "@show g(xdynamic)\n",
    "@show xdynamic;\n",
    "\n",
    "# g(xstatic) # fails, static vectors are immutable"
   ]
  },
  {
   "cell_type": "markdown",
   "id": "7b883ef7",
   "metadata": {},
   "source": [
    "## Operations on Arrays"
   ]
  },
  {
   "cell_type": "markdown",
   "id": "fdfc6664",
   "metadata": {},
   "source": [
    "### Array Methods\n",
    "\n",
    "Julia provides standard functions for acting on arrays, some of which we’ve\n",
    "already seen"
   ]
  },
  {
   "cell_type": "code",
   "execution_count": 100,
   "id": "75f7b8c6",
   "metadata": {
    "hide-output": false
   },
   "outputs": [
    {
     "name": "stdout",
     "output_type": "stream",
     "text": [
      "length(a) = 3\n",
      "sum(a) = 0\n",
      "mean(a) = 0.0\n",
      "std(a) = 1.0\n",
      "var(a) = 1.0\n",
      "maximum(a) = 1\n",
      "minimum(a) = -1\n",
      "extrema(a) = (-1, 1)\n"
     ]
    },
    {
     "data": {
      "text/plain": [
       "(-1, 1)"
      ]
     },
     "metadata": {},
     "output_type": "display_data"
    }
   ],
   "source": [
    "a = [-1, 0, 1]\n",
    "\n",
    "@show length(a)\n",
    "@show sum(a)\n",
    "@show mean(a)\n",
    "@show std(a)      # standard deviation\n",
    "@show var(a)      # variance\n",
    "@show maximum(a)\n",
    "@show minimum(a)\n",
    "@show extrema(a)  # (mimimum(a), maximum(a))"
   ]
  },
  {
   "cell_type": "markdown",
   "id": "b9644b5a",
   "metadata": {},
   "source": [
    "To sort an array"
   ]
  },
  {
   "cell_type": "code",
   "execution_count": 101,
   "id": "20e6668b",
   "metadata": {
    "hide-output": false
   },
   "outputs": [
    {
     "data": {
      "text/plain": [
       "3-element Vector{Int64}:\n",
       "  1\n",
       "  0\n",
       " -1"
      ]
     },
     "metadata": {},
     "output_type": "display_data"
    }
   ],
   "source": [
    "b = sort(a, rev = true)  # returns new array, original not modified"
   ]
  },
  {
   "cell_type": "code",
   "execution_count": 102,
   "id": "0de7f4fe",
   "metadata": {
    "hide-output": false
   },
   "outputs": [
    {
     "data": {
      "text/plain": [
       "3-element Vector{Int64}:\n",
       "  1\n",
       "  0\n",
       " -1"
      ]
     },
     "metadata": {},
     "output_type": "display_data"
    }
   ],
   "source": [
    "b = sort!(a, rev = true)  # returns *modified original* array"
   ]
  },
  {
   "cell_type": "code",
   "execution_count": 103,
   "id": "3a81427a",
   "metadata": {
    "hide-output": false
   },
   "outputs": [
    {
     "data": {
      "text/plain": [
       "true"
      ]
     },
     "metadata": {},
     "output_type": "display_data"
    }
   ],
   "source": [
    "b == a  # tests if have the same values"
   ]
  },
  {
   "cell_type": "code",
   "execution_count": 104,
   "id": "d66c3eac",
   "metadata": {
    "hide-output": false
   },
   "outputs": [
    {
     "data": {
      "text/plain": [
       "true"
      ]
     },
     "metadata": {},
     "output_type": "display_data"
    }
   ],
   "source": [
    "b === a  # tests if arrays are identical (i.e share same memory)"
   ]
  },
  {
   "cell_type": "markdown",
   "id": "5ce77268",
   "metadata": {},
   "source": [
    "### Matrix Algebra\n",
    "\n",
    "For two dimensional arrays, `*` means matrix multiplication"
   ]
  },
  {
   "cell_type": "code",
   "execution_count": 105,
   "id": "5e447f79",
   "metadata": {
    "hide-output": false
   },
   "outputs": [
    {
     "data": {
      "text/plain": [
       "1×2 Matrix{Float64}:\n",
       " 1.0  1.0"
      ]
     },
     "metadata": {},
     "output_type": "display_data"
    }
   ],
   "source": [
    "a = ones(1, 2)"
   ]
  },
  {
   "cell_type": "code",
   "execution_count": 106,
   "id": "238e3bf0",
   "metadata": {
    "hide-output": false
   },
   "outputs": [
    {
     "data": {
      "text/plain": [
       "2×2 Matrix{Float64}:\n",
       " 1.0  1.0\n",
       " 1.0  1.0"
      ]
     },
     "metadata": {},
     "output_type": "display_data"
    }
   ],
   "source": [
    "b = ones(2, 2)"
   ]
  },
  {
   "cell_type": "code",
   "execution_count": 107,
   "id": "e80f8ce4",
   "metadata": {
    "hide-output": false
   },
   "outputs": [
    {
     "data": {
      "text/plain": [
       "1×2 Matrix{Float64}:\n",
       " 2.0  2.0"
      ]
     },
     "metadata": {},
     "output_type": "display_data"
    }
   ],
   "source": [
    "a * b"
   ]
  },
  {
   "cell_type": "code",
   "execution_count": 108,
   "id": "6bd344f7",
   "metadata": {
    "hide-output": false
   },
   "outputs": [
    {
     "data": {
      "text/plain": [
       "2×1 Matrix{Float64}:\n",
       " 2.0\n",
       " 2.0"
      ]
     },
     "metadata": {},
     "output_type": "display_data"
    }
   ],
   "source": [
    "b * a'"
   ]
  },
  {
   "cell_type": "markdown",
   "id": "437e377d",
   "metadata": {},
   "source": [
    "To solve the linear system $ A X = B $ for $ X $ use `A \\ B`"
   ]
  },
  {
   "cell_type": "code",
   "execution_count": 109,
   "id": "645b304d",
   "metadata": {
    "hide-output": false
   },
   "outputs": [
    {
     "data": {
      "text/plain": [
       "2×2 Matrix{Int64}:\n",
       " 1  2\n",
       " 2  3"
      ]
     },
     "metadata": {},
     "output_type": "display_data"
    }
   ],
   "source": [
    "A = [1 2; 2 3]"
   ]
  },
  {
   "cell_type": "code",
   "execution_count": 110,
   "id": "4a63b5c2",
   "metadata": {
    "hide-output": false
   },
   "outputs": [
    {
     "data": {
      "text/plain": [
       "2×2 Matrix{Float64}:\n",
       " 1.0  1.0\n",
       " 1.0  1.0"
      ]
     },
     "metadata": {},
     "output_type": "display_data"
    }
   ],
   "source": [
    "B = ones(2, 2)"
   ]
  },
  {
   "cell_type": "code",
   "execution_count": 111,
   "id": "c55d8773",
   "metadata": {
    "hide-output": false
   },
   "outputs": [
    {
     "data": {
      "text/plain": [
       "2×2 Matrix{Float64}:\n",
       " -1.0  -1.0\n",
       "  1.0   1.0"
      ]
     },
     "metadata": {},
     "output_type": "display_data"
    }
   ],
   "source": [
    "A \\ B"
   ]
  },
  {
   "cell_type": "code",
   "execution_count": 112,
   "id": "bc04c651",
   "metadata": {
    "hide-output": false
   },
   "outputs": [
    {
     "data": {
      "text/plain": [
       "2×2 Matrix{Float64}:\n",
       " -1.0  -1.0\n",
       "  1.0   1.0"
      ]
     },
     "metadata": {},
     "output_type": "display_data"
    }
   ],
   "source": [
    "inv(A) * B"
   ]
  },
  {
   "cell_type": "markdown",
   "id": "bd9dd032",
   "metadata": {},
   "source": [
    "Although the last two operations give the same result, the first one is numerically more stable and should be preferred in most cases.\n",
    "\n",
    "Multiplying two **one** dimensional vectors gives an error – which is reasonable since the meaning is ambiguous.\n",
    "\n",
    "More precisely, the error is that there isn’t an implementation of `*` for two one dimensional vectors.\n",
    "\n",
    "The output explains this, and lists some other methods of `*` which Julia thinks are close to what we want."
   ]
  },
  {
   "cell_type": "code",
   "execution_count": 113,
   "id": "ef68fa73",
   "metadata": {
    "hide-output": false
   },
   "outputs": [
    {
     "ename": "MethodError",
     "evalue": "MethodError: no method matching *(::Vector{Float64}, ::Vector{Float64})\n\nClosest candidates are:\n  *(::Any, ::Any, !Matched::Any, !Matched::Any...)\n   @ Base operators.jl:587\n  *(!Matched::Adjoint{<:Any, <:SparseArrays.CHOLMOD.Sparse}, ::VecOrMat)\n   @ SparseArrays C:\\Users\\klaus\\AppData\\Local\\Programs\\Julia-1.10.4\\share\\julia\\stdlib\\v1.10\\SparseArrays\\src\\solvers\\cholmod.jl:1253\n  *(!Matched::Adjoint{<:Number, <:AbstractVector}, ::AbstractVector{<:Number})\n   @ LinearAlgebra C:\\Users\\klaus\\AppData\\Local\\Programs\\Julia-1.10.4\\share\\julia\\stdlib\\v1.10\\LinearAlgebra\\src\\adjtrans.jl:462\n  ...\n",
     "output_type": "error",
     "traceback": [
      "MethodError: no method matching *(::Vector{Float64}, ::Vector{Float64})\n",
      "\n",
      "Closest candidates are:\n",
      "  *(::Any, ::Any, !Matched::Any, !Matched::Any...)\n",
      "   @ Base operators.jl:587\n",
      "  *(!Matched::Adjoint{<:Any, <:SparseArrays.CHOLMOD.Sparse}, ::VecOrMat)\n",
      "   @ SparseArrays C:\\Users\\klaus\\AppData\\Local\\Programs\\Julia-1.10.4\\share\\julia\\stdlib\\v1.10\\SparseArrays\\src\\solvers\\cholmod.jl:1253\n",
      "  *(!Matched::Adjoint{<:Number, <:AbstractVector}, ::AbstractVector{<:Number})\n",
      "   @ LinearAlgebra C:\\Users\\klaus\\AppData\\Local\\Programs\\Julia-1.10.4\\share\\julia\\stdlib\\v1.10\\LinearAlgebra\\src\\adjtrans.jl:462\n",
      "  ...\n",
      "\n",
      "\n",
      "Stacktrace:\n",
      " [1] top-level scope\n",
      "   @ c:\\Users\\klaus\\Documents\\Julia\\lecture-julia.notebooks\\getting_started_julia\\jl_notebook_cell_df34fa98e69747e1a8f8a730347b8e2f_Y263sZmlsZQ==.jl:1"
     ]
    }
   ],
   "source": [
    "ones(2) * ones(2)  # does not conform, expect error"
   ]
  },
  {
   "cell_type": "markdown",
   "id": "e6fd6db7",
   "metadata": {},
   "source": [
    "Instead, you could take the transpose to form a row vector"
   ]
  },
  {
   "cell_type": "code",
   "execution_count": 117,
   "id": "104c9200",
   "metadata": {
    "hide-output": false
   },
   "outputs": [
    {
     "data": {
      "text/plain": [
       "2.0"
      ]
     },
     "metadata": {},
     "output_type": "display_data"
    }
   ],
   "source": [
    "ones(2)' * ones(2)"
   ]
  },
  {
   "cell_type": "markdown",
   "id": "a1376498",
   "metadata": {},
   "source": [
    "Alternatively, for inner product in this setting use `dot()` or the unicode `\\cdot<TAB>`"
   ]
  },
  {
   "cell_type": "code",
   "execution_count": 118,
   "id": "2fd31e24",
   "metadata": {
    "hide-output": false
   },
   "outputs": [
    {
     "name": "stdout",
     "output_type": "stream",
     "text": [
      "dot(ones(2), ones(2)) = 2.0\n",
      "ones(2) ⋅ ones(2) = 2.0\n"
     ]
    }
   ],
   "source": [
    "@show dot(ones(2), ones(2))\n",
    "@show ones(2) ⋅ ones(2);"
   ]
  },
  {
   "cell_type": "markdown",
   "id": "a4c20663",
   "metadata": {},
   "source": [
    "Matrix multiplication using one dimensional vectors similarly follows from treating them as\n",
    "column vectors.  Post-multiplication requires a transpose"
   ]
  },
  {
   "cell_type": "code",
   "execution_count": 119,
   "id": "38484aed",
   "metadata": {
    "hide-output": false
   },
   "outputs": [
    {
     "data": {
      "text/plain": [
       "2-element Vector{Float64}:\n",
       " 2.0\n",
       " 2.0"
      ]
     },
     "metadata": {},
     "output_type": "display_data"
    }
   ],
   "source": [
    "b = ones(2, 2)\n",
    "b * ones(2)"
   ]
  },
  {
   "cell_type": "code",
   "execution_count": 120,
   "id": "3c273045",
   "metadata": {
    "hide-output": false
   },
   "outputs": [
    {
     "data": {
      "text/plain": [
       "1×2 adjoint(::Vector{Float64}) with eltype Float64:\n",
       " 2.0  2.0"
      ]
     },
     "metadata": {},
     "output_type": "display_data"
    }
   ],
   "source": [
    "ones(2)' * b"
   ]
  },
  {
   "cell_type": "markdown",
   "id": "bf3f9c66",
   "metadata": {},
   "source": [
    "Note that the type of the returned value in this case is not `Array{Float64,1}` but rather\n",
    "`Adjoint{Float64,Array{Float64,1}}`.\n",
    "\n",
    "This is since the left multiplication by a row vector should also be a row-vector.  It also hints\n",
    "that the types in Julia more complicated than first appears in the surface notation, as we will explore\n",
    "further in the [introduction to types lecture](https://julia.quantecon.org/introduction_to_types.html)."
   ]
  },
  {
   "cell_type": "markdown",
   "id": "bf8fa1fe",
   "metadata": {},
   "source": [
    "### Elementwise Operations"
   ]
  },
  {
   "cell_type": "markdown",
   "id": "fa1e4c74",
   "metadata": {},
   "source": [
    "#### Algebraic Operations\n",
    "\n",
    "Suppose that we wish to multiply every element of matrix `A` with the corresponding element of matrix `B`.\n",
    "\n",
    "In that case we need to replace `*` (matrix multiplication) with `.*` (elementwise multiplication).\n",
    "\n",
    "For example, compare"
   ]
  },
  {
   "cell_type": "code",
   "execution_count": 121,
   "id": "6112abdb",
   "metadata": {
    "hide-output": false
   },
   "outputs": [
    {
     "data": {
      "text/plain": [
       "2×2 Matrix{Float64}:\n",
       " 2.0  2.0\n",
       " 2.0  2.0"
      ]
     },
     "metadata": {},
     "output_type": "display_data"
    }
   ],
   "source": [
    "ones(2, 2) * ones(2, 2)   # matrix multiplication"
   ]
  },
  {
   "cell_type": "code",
   "execution_count": 122,
   "id": "2965c7a2",
   "metadata": {
    "hide-output": false
   },
   "outputs": [
    {
     "data": {
      "text/plain": [
       "2×2 Matrix{Float64}:\n",
       " 1.0  1.0\n",
       " 1.0  1.0"
      ]
     },
     "metadata": {},
     "output_type": "display_data"
    }
   ],
   "source": [
    "ones(2, 2) .* ones(2, 2)   # element by element multiplication"
   ]
  },
  {
   "cell_type": "markdown",
   "id": "4e472a69",
   "metadata": {},
   "source": [
    "This is a general principle: `.x` means apply operator `x` elementwise"
   ]
  },
  {
   "cell_type": "code",
   "execution_count": 123,
   "id": "0cb09e6d",
   "metadata": {
    "hide-output": false
   },
   "outputs": [
    {
     "data": {
      "text/plain": [
       "2×2 Matrix{Float64}:\n",
       " -1.0  -1.0\n",
       " -1.0  -1.0"
      ]
     },
     "metadata": {},
     "output_type": "display_data"
    }
   ],
   "source": [
    "A = -ones(2, 2)"
   ]
  },
  {
   "cell_type": "code",
   "execution_count": 124,
   "id": "5c558e4d",
   "metadata": {
    "hide-output": false
   },
   "outputs": [
    {
     "data": {
      "text/plain": [
       "2×2 Matrix{Float64}:\n",
       " 1.0  1.0\n",
       " 1.0  1.0"
      ]
     },
     "metadata": {},
     "output_type": "display_data"
    }
   ],
   "source": [
    "A .^ 2  # square every element"
   ]
  },
  {
   "cell_type": "markdown",
   "id": "485bca5f",
   "metadata": {},
   "source": [
    "However in practice some operations are mathematically valid without broadcasting, and hence the `.` can be omitted."
   ]
  },
  {
   "cell_type": "code",
   "execution_count": 125,
   "id": "032a4f33",
   "metadata": {
    "hide-output": false
   },
   "outputs": [
    {
     "data": {
      "text/plain": [
       "2×2 Matrix{Float64}:\n",
       " 2.0  2.0\n",
       " 2.0  2.0"
      ]
     },
     "metadata": {},
     "output_type": "display_data"
    }
   ],
   "source": [
    "ones(2, 2) + ones(2, 2)  # same as ones(2, 2) .+ ones(2, 2)"
   ]
  },
  {
   "cell_type": "markdown",
   "id": "6b559de1",
   "metadata": {},
   "source": [
    "Scalar multiplication is similar"
   ]
  },
  {
   "cell_type": "code",
   "execution_count": 127,
   "id": "97ece51f",
   "metadata": {
    "hide-output": false
   },
   "outputs": [
    {
     "data": {
      "text/plain": [
       "2×2 Matrix{Float64}:\n",
       " 1.0  1.0\n",
       " 1.0  1.0"
      ]
     },
     "metadata": {},
     "output_type": "display_data"
    }
   ],
   "source": [
    "A = ones(2, 2)"
   ]
  },
  {
   "cell_type": "code",
   "execution_count": 128,
   "id": "6c14df55",
   "metadata": {
    "hide-output": false
   },
   "outputs": [
    {
     "data": {
      "text/plain": [
       "2×2 Matrix{Float64}:\n",
       " 2.0  2.0\n",
       " 2.0  2.0"
      ]
     },
     "metadata": {},
     "output_type": "display_data"
    }
   ],
   "source": [
    "2 * A  # same as 2 .* A"
   ]
  },
  {
   "cell_type": "markdown",
   "id": "ae0641c2",
   "metadata": {},
   "source": [
    "In fact you can omit the `*` altogether and just write `2A`.\n",
    "\n",
    "Unlike MATLAB and other languages, scalar addition requires the `.+` in order to correctly broadcast"
   ]
  },
  {
   "cell_type": "code",
   "execution_count": 129,
   "id": "d47986da",
   "metadata": {
    "hide-output": false
   },
   "outputs": [
    {
     "data": {
      "text/plain": [
       "2-element Vector{Int64}:\n",
       " 0\n",
       " 1"
      ]
     },
     "metadata": {},
     "output_type": "display_data"
    }
   ],
   "source": [
    "x = [1, 2]\n",
    "x .+ 1     # not x + 1\n",
    "x .- 1     # not x - 1"
   ]
  },
  {
   "cell_type": "markdown",
   "id": "8748b75a",
   "metadata": {},
   "source": [
    "#### Elementwise Comparisons\n",
    "\n",
    "Elementwise comparisons also use the `.x` style notation"
   ]
  },
  {
   "cell_type": "code",
   "execution_count": 130,
   "id": "083be5f4",
   "metadata": {
    "hide-output": false
   },
   "outputs": [
    {
     "data": {
      "text/plain": [
       "3-element Vector{Int64}:\n",
       " 10\n",
       " 20\n",
       " 30"
      ]
     },
     "metadata": {},
     "output_type": "display_data"
    }
   ],
   "source": [
    "a = [10, 20, 30]"
   ]
  },
  {
   "cell_type": "code",
   "execution_count": 131,
   "id": "3442f21d",
   "metadata": {
    "hide-output": false
   },
   "outputs": [
    {
     "data": {
      "text/plain": [
       "3-element Vector{Int64}:\n",
       " -100\n",
       "    0\n",
       "  100"
      ]
     },
     "metadata": {},
     "output_type": "display_data"
    }
   ],
   "source": [
    "b = [-100, 0, 100]"
   ]
  },
  {
   "cell_type": "code",
   "execution_count": 132,
   "id": "f5ba8dc1",
   "metadata": {
    "hide-output": false
   },
   "outputs": [
    {
     "data": {
      "text/plain": [
       "3-element BitVector:\n",
       " 0\n",
       " 0\n",
       " 1"
      ]
     },
     "metadata": {},
     "output_type": "display_data"
    }
   ],
   "source": [
    "b .> a"
   ]
  },
  {
   "cell_type": "code",
   "execution_count": 133,
   "id": "72f2a02d",
   "metadata": {
    "hide-output": false
   },
   "outputs": [
    {
     "data": {
      "text/plain": [
       "3-element BitVector:\n",
       " 0\n",
       " 0\n",
       " 0"
      ]
     },
     "metadata": {},
     "output_type": "display_data"
    }
   ],
   "source": [
    "a .== b"
   ]
  },
  {
   "cell_type": "markdown",
   "id": "d18e498d",
   "metadata": {},
   "source": [
    "We can also do comparisons against scalars with parallel syntax"
   ]
  },
  {
   "cell_type": "code",
   "execution_count": 134,
   "id": "0bd42f3a",
   "metadata": {
    "hide-output": false
   },
   "outputs": [
    {
     "data": {
      "text/plain": [
       "3-element Vector{Int64}:\n",
       " -100\n",
       "    0\n",
       "  100"
      ]
     },
     "metadata": {},
     "output_type": "display_data"
    }
   ],
   "source": [
    "b"
   ]
  },
  {
   "cell_type": "code",
   "execution_count": 135,
   "id": "433f8bda",
   "metadata": {
    "hide-output": false
   },
   "outputs": [
    {
     "data": {
      "text/plain": [
       "3-element BitVector:\n",
       " 0\n",
       " 0\n",
       " 1"
      ]
     },
     "metadata": {},
     "output_type": "display_data"
    }
   ],
   "source": [
    "b .> 1"
   ]
  },
  {
   "cell_type": "markdown",
   "id": "b128e8c4",
   "metadata": {},
   "source": [
    "This is particularly useful for *conditional extraction* – extracting the elements of an array that satisfy a condition"
   ]
  },
  {
   "cell_type": "code",
   "execution_count": 136,
   "id": "63ac0ccc",
   "metadata": {
    "hide-output": false
   },
   "outputs": [
    {
     "data": {
      "text/plain": [
       "4-element Vector{Float64}:\n",
       " -0.5022579848230437\n",
       "  0.5125680171050151\n",
       " -0.4392459664412464\n",
       " -1.089533272041507"
      ]
     },
     "metadata": {},
     "output_type": "display_data"
    }
   ],
   "source": [
    "a = randn(4)"
   ]
  },
  {
   "cell_type": "code",
   "execution_count": 137,
   "id": "57e04c09",
   "metadata": {
    "hide-output": false
   },
   "outputs": [
    {
     "data": {
      "text/plain": [
       "4-element BitVector:\n",
       " 1\n",
       " 0\n",
       " 1\n",
       " 1"
      ]
     },
     "metadata": {},
     "output_type": "display_data"
    }
   ],
   "source": [
    "a .< 0"
   ]
  },
  {
   "cell_type": "code",
   "execution_count": 138,
   "id": "110529a7",
   "metadata": {
    "hide-output": false
   },
   "outputs": [
    {
     "data": {
      "text/plain": [
       "3-element Vector{Float64}:\n",
       " -0.5022579848230437\n",
       " -0.4392459664412464\n",
       " -1.089533272041507"
      ]
     },
     "metadata": {},
     "output_type": "display_data"
    }
   ],
   "source": [
    "a[a .< 0]"
   ]
  },
  {
   "cell_type": "markdown",
   "id": "c0325e0d",
   "metadata": {},
   "source": [
    "#### Changing Dimensions\n",
    "\n",
    "The primary function for changing the dimensions of an array is `reshape()`"
   ]
  },
  {
   "cell_type": "code",
   "execution_count": 140,
   "id": "581e8732",
   "metadata": {
    "hide-output": false
   },
   "outputs": [
    {
     "data": {
      "text/plain": [
       "4-element Vector{Int64}:\n",
       " 10\n",
       " 20\n",
       " 30\n",
       " 40"
      ]
     },
     "metadata": {},
     "output_type": "display_data"
    }
   ],
   "source": [
    "a = [10, 20, 30, 40]"
   ]
  },
  {
   "cell_type": "code",
   "execution_count": 141,
   "id": "c437f0ea",
   "metadata": {
    "hide-output": false
   },
   "outputs": [
    {
     "data": {
      "text/plain": [
       "2×2 Matrix{Int64}:\n",
       " 10  30\n",
       " 20  40"
      ]
     },
     "metadata": {},
     "output_type": "display_data"
    }
   ],
   "source": [
    "b = reshape(a, 2, 2)"
   ]
  },
  {
   "cell_type": "code",
   "execution_count": 142,
   "id": "156506a4",
   "metadata": {
    "hide-output": false
   },
   "outputs": [
    {
     "data": {
      "text/plain": [
       "2×2 Matrix{Int64}:\n",
       " 10  30\n",
       " 20  40"
      ]
     },
     "metadata": {},
     "output_type": "display_data"
    }
   ],
   "source": [
    "b"
   ]
  },
  {
   "cell_type": "markdown",
   "id": "e26e5450",
   "metadata": {},
   "source": [
    "Notice that this function returns a view on the existing array.\n",
    "\n",
    "This means that changing the data in the new array will modify the data in the\n",
    "old one."
   ]
  },
  {
   "cell_type": "code",
   "execution_count": 143,
   "id": "92b86694",
   "metadata": {
    "hide-output": false
   },
   "outputs": [
    {
     "data": {
      "text/plain": [
       "100"
      ]
     },
     "metadata": {},
     "output_type": "display_data"
    }
   ],
   "source": [
    "b[1, 1] = 100  # continuing the previous example"
   ]
  },
  {
   "cell_type": "code",
   "execution_count": 144,
   "id": "08525d66",
   "metadata": {
    "hide-output": false
   },
   "outputs": [
    {
     "data": {
      "text/plain": [
       "2×2 Matrix{Int64}:\n",
       " 100  30\n",
       "  20  40"
      ]
     },
     "metadata": {},
     "output_type": "display_data"
    }
   ],
   "source": [
    "b"
   ]
  },
  {
   "cell_type": "code",
   "execution_count": 145,
   "id": "aee2e4e2",
   "metadata": {
    "hide-output": false
   },
   "outputs": [
    {
     "data": {
      "text/plain": [
       "4-element Vector{Int64}:\n",
       " 100\n",
       "  20\n",
       "  30\n",
       "  40"
      ]
     },
     "metadata": {},
     "output_type": "display_data"
    }
   ],
   "source": [
    "a"
   ]
  },
  {
   "cell_type": "markdown",
   "id": "77c98ba3",
   "metadata": {},
   "source": [
    "To collapse an array along one dimension you can use `dropdims()`"
   ]
  },
  {
   "cell_type": "code",
   "execution_count": 146,
   "id": "6a734cd2",
   "metadata": {
    "hide-output": false
   },
   "outputs": [
    {
     "data": {
      "text/plain": [
       "1×4 Matrix{Int64}:\n",
       " 1  2  3  4"
      ]
     },
     "metadata": {},
     "output_type": "display_data"
    }
   ],
   "source": [
    "a = [1 2 3 4]  # two dimensional"
   ]
  },
  {
   "cell_type": "code",
   "execution_count": 147,
   "id": "9aae7ed1",
   "metadata": {
    "hide-output": false
   },
   "outputs": [
    {
     "data": {
      "text/plain": [
       "4-element Vector{Int64}:\n",
       " 1\n",
       " 2\n",
       " 3\n",
       " 4"
      ]
     },
     "metadata": {},
     "output_type": "display_data"
    }
   ],
   "source": [
    "dropdims(a, dims = 1)"
   ]
  },
  {
   "cell_type": "markdown",
   "id": "c3e148fe",
   "metadata": {},
   "source": [
    "The return value is an array with the specified dimension “flattened”."
   ]
  },
  {
   "cell_type": "markdown",
   "id": "608412a1",
   "metadata": {},
   "source": [
    "### Broadcasting Functions\n",
    "\n",
    "Julia provides standard mathematical functions such as `log`, `exp`, `sin`, etc."
   ]
  },
  {
   "cell_type": "code",
   "execution_count": 148,
   "id": "bbac5f6b",
   "metadata": {
    "hide-output": false
   },
   "outputs": [
    {
     "data": {
      "text/plain": [
       "0.0"
      ]
     },
     "metadata": {},
     "output_type": "display_data"
    }
   ],
   "source": [
    "log(1.0)"
   ]
  },
  {
   "cell_type": "markdown",
   "id": "1cf0d060",
   "metadata": {},
   "source": [
    "By default, these functions act *elementwise* on arrays"
   ]
  },
  {
   "cell_type": "code",
   "execution_count": 149,
   "id": "2e8ad827",
   "metadata": {
    "hide-output": false
   },
   "outputs": [
    {
     "data": {
      "text/plain": [
       "4-element Vector{Float64}:\n",
       " 0.0\n",
       " 0.6931471805599453\n",
       " 1.0986122886681098\n",
       " 1.3862943611198906"
      ]
     },
     "metadata": {},
     "output_type": "display_data"
    }
   ],
   "source": [
    "log.(1:4)"
   ]
  },
  {
   "cell_type": "markdown",
   "id": "3f67f59c",
   "metadata": {},
   "source": [
    "Note that we can get the same result as with a comprehension or more explicit loop"
   ]
  },
  {
   "cell_type": "code",
   "execution_count": 150,
   "id": "18b46426",
   "metadata": {
    "hide-output": false
   },
   "outputs": [
    {
     "data": {
      "text/plain": [
       "4-element Vector{Float64}:\n",
       " 0.0\n",
       " 0.6931471805599453\n",
       " 1.0986122886681098\n",
       " 1.3862943611198906"
      ]
     },
     "metadata": {},
     "output_type": "display_data"
    }
   ],
   "source": [
    "[log(x) for x in 1:4]"
   ]
  },
  {
   "cell_type": "markdown",
   "id": "de2a9ca1",
   "metadata": {},
   "source": [
    "Nonetheless the syntax is convenient."
   ]
  },
  {
   "cell_type": "markdown",
   "id": "6e2fed9b",
   "metadata": {},
   "source": [
    "### Linear Algebra\n",
    "\n",
    "([See linear algebra documentation](https://docs.julialang.org/en/v1/stdlib/LinearAlgebra/))\n",
    "\n",
    "Julia provides some a great deal of additional functionality related to linear operations"
   ]
  },
  {
   "cell_type": "code",
   "execution_count": 151,
   "id": "fdb3721a",
   "metadata": {
    "hide-output": false
   },
   "outputs": [
    {
     "data": {
      "text/plain": [
       "2×2 Matrix{Int64}:\n",
       " 1  2\n",
       " 3  4"
      ]
     },
     "metadata": {},
     "output_type": "display_data"
    }
   ],
   "source": [
    "A = [1 2; 3 4]"
   ]
  },
  {
   "cell_type": "code",
   "execution_count": 152,
   "id": "f2c5f382",
   "metadata": {
    "hide-output": false
   },
   "outputs": [
    {
     "data": {
      "text/plain": [
       "-2.0"
      ]
     },
     "metadata": {},
     "output_type": "display_data"
    }
   ],
   "source": [
    "det(A)"
   ]
  },
  {
   "cell_type": "code",
   "execution_count": 153,
   "id": "bb6d8cc5",
   "metadata": {
    "hide-output": false
   },
   "outputs": [
    {
     "data": {
      "text/plain": [
       "5"
      ]
     },
     "metadata": {},
     "output_type": "display_data"
    }
   ],
   "source": [
    "tr(A)"
   ]
  },
  {
   "cell_type": "code",
   "execution_count": 154,
   "id": "67429140",
   "metadata": {
    "hide-output": false
   },
   "outputs": [
    {
     "data": {
      "text/plain": [
       "2-element Vector{Float64}:\n",
       " -0.3722813232690143\n",
       "  5.372281323269014"
      ]
     },
     "metadata": {},
     "output_type": "display_data"
    }
   ],
   "source": [
    "eigvals(A)"
   ]
  },
  {
   "cell_type": "code",
   "execution_count": 155,
   "id": "c4215946",
   "metadata": {
    "hide-output": false
   },
   "outputs": [
    {
     "data": {
      "text/plain": [
       "2"
      ]
     },
     "metadata": {},
     "output_type": "display_data"
    }
   ],
   "source": [
    "rank(A)"
   ]
  },
  {
   "cell_type": "markdown",
   "id": "625a90aa",
   "metadata": {},
   "source": [
    "## Ranges\n",
    "\n",
    "As with many other types, a `Range` can act as a vector."
   ]
  },
  {
   "cell_type": "code",
   "execution_count": 156,
   "id": "94af5a1f",
   "metadata": {
    "hide-output": false
   },
   "outputs": [
    {
     "name": "stdout",
     "output_type": "stream",
     "text": [
      "Vector(a) = [10, 11, 12]\n"
     ]
    },
    {
     "data": {
      "text/plain": [
       "3-element Vector{Float64}:\n",
       "  9.0\n",
       " 20.0\n",
       " 33.0"
      ]
     },
     "metadata": {},
     "output_type": "display_data"
    }
   ],
   "source": [
    "a = 10:12        # a range, equivalent to 10:1:12\n",
    "@show Vector(a)  # can convert, but shouldn't\n",
    "\n",
    "b = Diagonal([1.0, 2.0, 3.0])\n",
    "b * a .- [1.0; 2.0; 3.0]"
   ]
  },
  {
   "cell_type": "markdown",
   "id": "23e9d537",
   "metadata": {},
   "source": [
    "Ranges can also be created with floating point numbers using the same notation."
   ]
  },
  {
   "cell_type": "code",
   "execution_count": null,
   "id": "c84d1b5d",
   "metadata": {
    "hide-output": false
   },
   "outputs": [],
   "source": [
    "a = 0.0:0.1:1.0  # 0.0, 0.1, 0.2, ... 1.0"
   ]
  },
  {
   "cell_type": "markdown",
   "id": "d27c1bd4",
   "metadata": {},
   "source": [
    "But care should be taken if the terminal node is not a multiple of the set sizes."
   ]
  },
  {
   "cell_type": "code",
   "execution_count": 157,
   "id": "cae2b4f8",
   "metadata": {
    "hide-output": false
   },
   "outputs": [
    {
     "data": {
      "text/plain": [
       "false"
      ]
     },
     "metadata": {},
     "output_type": "display_data"
    }
   ],
   "source": [
    "maxval = 1.0\n",
    "minval = 0.0\n",
    "stepsize = 0.15\n",
    "a = minval:stepsize:maxval # 0.0, 0.15, 0.3, ...\n",
    "maximum(a) == maxval"
   ]
  },
  {
   "cell_type": "markdown",
   "id": "c08a31cd",
   "metadata": {},
   "source": [
    "To evenly space points where the maximum value is important, i.e., `linspace` in other languages"
   ]
  },
  {
   "cell_type": "code",
   "execution_count": 158,
   "id": "08ab7b61",
   "metadata": {
    "hide-output": false
   },
   "outputs": [
    {
     "data": {
      "text/plain": [
       "true"
      ]
     },
     "metadata": {},
     "output_type": "display_data"
    }
   ],
   "source": [
    "maxval = 1.0\n",
    "minval = 0.0\n",
    "numpoints = 10\n",
    "a = range(minval, maxval, length = numpoints)\n",
    "# or range(minval, stop=maxval, length=numpoints)\n",
    "\n",
    "maximum(a) == maxval"
   ]
  },
  {
   "cell_type": "markdown",
   "id": "08b84cf6",
   "metadata": {},
   "source": [
    "## Tuples and Named Tuples\n",
    "\n",
    "([See tuples](https://docs.julialang.org/en/v1/manual/functions/#Tuples-1) and [named tuples documentation](https://docs.julialang.org/en/v1/manual/functions/#Named-Tuples-1))\n",
    "\n",
    "We were introduced to tuples earlier, which provide high-performance immutable sets of distinct types."
   ]
  },
  {
   "cell_type": "code",
   "execution_count": 159,
   "id": "cefb7660",
   "metadata": {
    "hide-output": false
   },
   "outputs": [
    {
     "name": "stdout",
     "output_type": "stream",
     "text": [
      "a = 1.0 and b = test\n"
     ]
    }
   ],
   "source": [
    "t = (1.0, \"test\")\n",
    "t[1]            # access by index\n",
    "a, b = t        # unpack\n",
    "# t[1] = 3.0    # would fail as tuples are immutable\n",
    "println(\"a = $a and b = $b\")"
   ]
  },
  {
   "cell_type": "markdown",
   "id": "35081422",
   "metadata": {},
   "source": [
    "As well as **named tuples**, which extend tuples with names for each argument."
   ]
  },
  {
   "cell_type": "code",
   "execution_count": 160,
   "id": "39ddc15d",
   "metadata": {
    "hide-output": false
   },
   "outputs": [
    {
     "name": "stdout",
     "output_type": "stream",
     "text": [
      "val1 = 1.0 and val2 = test\n",
      "val1 = 1.0 and val2 = test\n"
     ]
    }
   ],
   "source": [
    "t = (; val1 = 1.0, val2 = \"test\") # ; is optional but good form\n",
    "t.val1      # access by index\n",
    "println(\"val1 = $(t.val1) and val2 = $(t.val2)\") # access by name\n",
    "(; val1, val2) = t  # unpacking notation (note the ;)\n",
    "println(\"val1 = $val1 and val2 = $val2\")"
   ]
  },
  {
   "cell_type": "markdown",
   "id": "805522ce",
   "metadata": {},
   "source": [
    "While immutable, it is possible to manipulate tuples and generate new ones"
   ]
  },
  {
   "cell_type": "code",
   "execution_count": 161,
   "id": "6ebf1a39",
   "metadata": {
    "hide-output": false
   },
   "outputs": [
    {
     "data": {
      "text/plain": [
       "(val1 = 1.0, val2 = \"test\", val3 = 4, val4 = \"test!!\")"
      ]
     },
     "metadata": {},
     "output_type": "display_data"
    }
   ],
   "source": [
    "t2 = (; val3 = 4, val4 = \"test!!\")\n",
    "t3 = merge(t, t2)  # new tuple"
   ]
  },
  {
   "cell_type": "markdown",
   "id": "98d08d8c",
   "metadata": {},
   "source": [
    "Named tuples are a convenient and high-performance way to manage and unpack sets of parameters"
   ]
  },
  {
   "cell_type": "code",
   "execution_count": 162,
   "id": "050eb5b3",
   "metadata": {
    "hide-output": false
   },
   "outputs": [
    {
     "data": {
      "text/plain": [
       "0.30000000000000004"
      ]
     },
     "metadata": {},
     "output_type": "display_data"
    }
   ],
   "source": [
    "function f(parameters)\n",
    "    alpha, beta = parameters.alpha, parameters.beta # poor style, error prone\n",
    "    return alpha + beta\n",
    "end\n",
    "\n",
    "parameters = (; alpha = 0.1, beta = 0.2)\n",
    "f(parameters)"
   ]
  },
  {
   "cell_type": "markdown",
   "id": "e369a24f",
   "metadata": {},
   "source": [
    "This functionality is aided by the unpacking notation"
   ]
  },
  {
   "cell_type": "code",
   "execution_count": 163,
   "id": "e321c33f",
   "metadata": {
    "hide-output": false
   },
   "outputs": [
    {
     "data": {
      "text/plain": [
       "0.30000000000000004"
      ]
     },
     "metadata": {},
     "output_type": "display_data"
    }
   ],
   "source": [
    "function f(parameters)\n",
    "    (; alpha, beta) = parameters  # good style, less sensitive to errors\n",
    "    return alpha + beta\n",
    "end\n",
    "\n",
    "parameters = (; alpha = 0.1, beta = 0.2)\n",
    "f(parameters)"
   ]
  },
  {
   "cell_type": "markdown",
   "id": "17cb8d92",
   "metadata": {},
   "source": [
    "To generate parameters with defaults, you can create a function—which can also do intermediate calculations"
   ]
  },
  {
   "cell_type": "code",
   "execution_count": 164,
   "id": "99918668",
   "metadata": {
    "hide-output": false
   },
   "outputs": [
    {
     "name": "stdout",
     "output_type": "stream",
     "text": [
      "param_gen() = (alpha = 0.1, beta = 0.2)\n",
      "param_gen(; alpha = 0.2) = (alpha = 0.2, beta = 0.2)\n"
     ]
    },
    {
     "data": {
      "text/plain": [
       "(alpha = 0.2, beta = 0.2)"
      ]
     },
     "metadata": {},
     "output_type": "display_data"
    }
   ],
   "source": [
    "function param_gen(; alpha = 0.1, beta = 0.2)\n",
    "    return (; alpha, beta)\n",
    "end\n",
    "@show param_gen()\n",
    "@show param_gen(; alpha = 0.2)"
   ]
  },
  {
   "cell_type": "markdown",
   "id": "3672e322",
   "metadata": {},
   "source": [
    "For alternative approaches:\n",
    "\n",
    "- An alternative approach, defining a new type using `struct` tends to be more prone to accidental misuse, leads to a great deal of boilerplate code, and requires a julia restart after every update.  \n",
    "- You can also use the `@with_kw` in the `Parameters.jl` package, which automatically creates a function.  e.g., `param_gen = @with_kw (alpha = 0.1, beta = 0.2)` would be roughly equivalent to the above.  "
   ]
  },
  {
   "cell_type": "markdown",
   "id": "37f6c51e",
   "metadata": {},
   "source": [
    "## Nothing, Missing, and Unions\n",
    "\n",
    "Sometimes a variable, return type from a function, or value in an array needs to represent the absence of a value rather than a particular value.\n",
    "\n",
    "There are two distinct use cases for this\n",
    "\n",
    "1. `nothing` (“software engineers null”): used where no value makes sense in a particular context due to a failure in the code, a function parameter not passed in, etc.  \n",
    "1. `missing` (“data scientists null”): used when a value would make conceptual sense, but it isn’t available.  \n",
    "\n",
    "\n",
    "\n",
    "<a id='error-handling'></a>"
   ]
  },
  {
   "cell_type": "markdown",
   "id": "e45c80b7",
   "metadata": {},
   "source": [
    "### Nothing and Basic Error Handling\n",
    "\n",
    "The value `nothing` is a single value of type `Nothing`"
   ]
  },
  {
   "cell_type": "code",
   "execution_count": 165,
   "id": "b1fd7f71",
   "metadata": {
    "hide-output": false
   },
   "outputs": [
    {
     "data": {
      "text/plain": [
       "Nothing"
      ]
     },
     "metadata": {},
     "output_type": "display_data"
    }
   ],
   "source": [
    "typeof(nothing)"
   ]
  },
  {
   "cell_type": "markdown",
   "id": "09e52333",
   "metadata": {},
   "source": [
    "An example of a reasonable use of `nothing` is if you need to have a variable defined in an outer scope, which may or may not be set in an inner one"
   ]
  },
  {
   "cell_type": "code",
   "execution_count": 167,
   "id": "f3f1d4fb",
   "metadata": {
    "hide-output": false
   },
   "outputs": [
    {
     "name": "stdout",
     "output_type": "stream",
     "text": [
      "x = 1.0\n",
      "f(1.0) = 1.0\n",
      "x was not set\n",
      "f(-1.0) = nothing\n"
     ]
    }
   ],
   "source": [
    "function f(y)\n",
    "    x = nothing\n",
    "    if y > 0.0\n",
    "        # calculations to set `x`\n",
    "        x = y\n",
    "    end\n",
    "\n",
    "    # later, can check `x`\n",
    "    if isnothing(x)\n",
    "        println(\"x was not set\")\n",
    "    else\n",
    "        println(\"x = $x\")\n",
    "    end\n",
    "    x\n",
    "end\n",
    "\n",
    "@show f(1.0)\n",
    "@show f(-1.0);"
   ]
  },
  {
   "cell_type": "markdown",
   "id": "dc77e65b",
   "metadata": {},
   "source": [
    "While in general you want to keep a variable name bound to a single type in Julia, this is a notable exception.\n",
    "\n",
    "Similarly, if needed, you can return a `nothing` from a function to indicate that it did not calculate as expected."
   ]
  },
  {
   "cell_type": "code",
   "execution_count": 168,
   "id": "1d3258cf",
   "metadata": {
    "hide-output": false
   },
   "outputs": [
    {
     "name": "stdout",
     "output_type": "stream",
     "text": [
      "f(-1.0) failed\n"
     ]
    }
   ],
   "source": [
    "function f(x)\n",
    "    if x > 0.0\n",
    "        return sqrt(x)\n",
    "    else\n",
    "        return nothing\n",
    "    end\n",
    "end\n",
    "x1 = 1.0\n",
    "x2 = -1.0\n",
    "y1 = f(x1)\n",
    "y2 = f(x2)\n",
    "\n",
    "# check results with isnothing\n",
    "if isnothing(y1)\n",
    "    println(\"f($x2) successful\")\n",
    "else\n",
    "    println(\"f($x2) failed\")\n",
    "end"
   ]
  },
  {
   "cell_type": "markdown",
   "id": "5ac3d546",
   "metadata": {},
   "source": [
    "As an aside, an equivalent way to write the above function is to use the\n",
    "[ternary operator](https://docs.julialang.org/en/v1/manual/control-flow/index.html#man-conditional-evaluation-1),\n",
    "which gives a compact if/then/else structure"
   ]
  },
  {
   "cell_type": "code",
   "execution_count": null,
   "id": "c372f111",
   "metadata": {
    "hide-output": false
   },
   "outputs": [],
   "source": [
    "function f(x)\n",
    "    x > 0.0 ? sqrt(x) : nothing  # the \"a ? b : c\" pattern is the ternary\n",
    "end\n",
    "\n",
    "f(1.0)"
   ]
  },
  {
   "cell_type": "markdown",
   "id": "94223ee3",
   "metadata": {},
   "source": [
    "We will sometimes use this form when it makes the code more clear (and it will occasionally make the code higher performance).\n",
    "\n",
    "Regardless of how `f(x)` is written,  the return type is an example of a union, where the result could be one of an explicit set of types.\n",
    "\n",
    "In this particular case, the compiler would deduce that the type would be a `Union{Nothing,Float64}` – that is, it returns either a floating point or a `nothing`.\n",
    "\n",
    "You will see this type directly if you use an array containing both types"
   ]
  },
  {
   "cell_type": "code",
   "execution_count": 169,
   "id": "d5dd9457",
   "metadata": {
    "hide-output": false
   },
   "outputs": [
    {
     "data": {
      "text/plain": [
       "2-element Vector{Union{Nothing, Float64}}:\n",
       " 1.0\n",
       "  nothing"
      ]
     },
     "metadata": {},
     "output_type": "display_data"
    }
   ],
   "source": [
    "x = [1.0, nothing]"
   ]
  },
  {
   "cell_type": "markdown",
   "id": "fb36b987",
   "metadata": {},
   "source": [
    "When considering error handling, whether you want a function to return `nothing` or simply fail depends on whether the code calling `f(x)` is carefully checking the results.\n",
    "\n",
    "For example, if you were calling on an array of parameters where a priori you were not sure which ones will succeed, then"
   ]
  },
  {
   "cell_type": "code",
   "execution_count": 172,
   "id": "361ce6fd",
   "metadata": {
    "hide-output": false
   },
   "outputs": [
    {
     "ename": "AssertionError",
     "evalue": "AssertionError: x > 0.0",
     "output_type": "error",
     "traceback": [
      "AssertionError: x > 0.0\n",
      "\n",
      "Stacktrace:\n",
      "  [1] f\n",
      "    @ c:\\Users\\klaus\\Documents\\Julia\\lecture-julia.notebooks\\getting_started_julia\\jl_notebook_cell_df34fa98e69747e1a8f8a730347b8e2f_Y460sZmlsZQ==.jl:2 [inlined]\n",
      "  [2] _broadcast_getindex_evalf\n",
      "    @ .\\broadcast.jl:709 [inlined]\n",
      "  [3] _broadcast_getindex\n",
      "    @ .\\broadcast.jl:682 [inlined]\n",
      "  [4] getindex\n",
      "    @ .\\broadcast.jl:636 [inlined]\n",
      "  [5] macro expansion\n",
      "    @ .\\broadcast.jl:1004 [inlined]\n",
      "  [6] macro expansion\n",
      "    @ .\\simdloop.jl:77 [inlined]\n",
      "  [7] copyto!\n",
      "    @ .\\broadcast.jl:1003 [inlined]\n",
      "  [8] copyto!\n",
      "    @ .\\broadcast.jl:956 [inlined]\n",
      "  [9] copy\n",
      "    @ .\\broadcast.jl:928 [inlined]\n",
      " [10] materialize(bc::Base.Broadcast.Broadcasted{Base.Broadcast.DefaultArrayStyle{1}, Nothing, typeof(f), Tuple{Vector{Float64}}})\n",
      "    @ Base.Broadcast .\\broadcast.jl:903\n",
      " [11] top-level scope\n",
      "    @ c:\\Users\\klaus\\Documents\\Julia\\lecture-julia.notebooks\\getting_started_julia\\jl_notebook_cell_df34fa98e69747e1a8f8a730347b8e2f_Y455sZmlsZQ==.jl:2"
     ]
    }
   ],
   "source": [
    "x = [0.1, -1.0, 2.0, -2.0]\n",
    "y = f.(x)\n",
    "\n",
    "# presumably check `y`"
   ]
  },
  {
   "cell_type": "markdown",
   "id": "3f839421",
   "metadata": {},
   "source": [
    "On the other hand, if the parameter passed is invalid and you would prefer not to handle a graceful failure, then using an assertion is more appropriate."
   ]
  },
  {
   "cell_type": "code",
   "execution_count": 171,
   "id": "448f582a",
   "metadata": {
    "hide-output": false
   },
   "outputs": [
    {
     "data": {
      "text/plain": [
       "1.0"
      ]
     },
     "metadata": {},
     "output_type": "display_data"
    }
   ],
   "source": [
    "function f(x)\n",
    "    @assert x > 0.0\n",
    "    sqrt(x)\n",
    "end\n",
    "\n",
    "f(1.0)"
   ]
  },
  {
   "cell_type": "markdown",
   "id": "9c82a626",
   "metadata": {},
   "source": [
    "Finally, `nothing` is a good way to indicate an optional parameter in a function"
   ]
  },
  {
   "cell_type": "code",
   "execution_count": 173,
   "id": "78004763",
   "metadata": {
    "hide-output": false
   },
   "outputs": [
    {
     "name": "stdout",
     "output_type": "stream",
     "text": [
      "No z given with 1.0\n",
      "z = 3.0 given with 1.0\n"
     ]
    }
   ],
   "source": [
    "function f(x; z = nothing)\n",
    "    if isnothing(z)\n",
    "        println(\"No z given with $x\")\n",
    "    else\n",
    "        println(\"z = $z given with $x\")\n",
    "    end\n",
    "end\n",
    "\n",
    "f(1.0)\n",
    "f(1.0, z = 3.0)"
   ]
  },
  {
   "cell_type": "markdown",
   "id": "64772d6c",
   "metadata": {},
   "source": [
    "An alternative to `nothing`, which can be useful and sometimes higher performance,\n",
    "is to use `NaN` to signal that a value is invalid returning from a function."
   ]
  },
  {
   "cell_type": "code",
   "execution_count": 174,
   "id": "413ff476",
   "metadata": {
    "hide-output": false
   },
   "outputs": [
    {
     "name": "stdout",
     "output_type": "stream",
     "text": [
      "typeof(f(-1.0)) = Float64\n",
      "f(-1.0) == NaN = false\n",
      "isnan(f(-1.0)) = true\n"
     ]
    },
    {
     "data": {
      "text/plain": [
       "true"
      ]
     },
     "metadata": {},
     "output_type": "display_data"
    }
   ],
   "source": [
    "function f(x)\n",
    "    if x > 0.0\n",
    "        return x\n",
    "    else\n",
    "        return NaN\n",
    "    end\n",
    "end\n",
    "\n",
    "f(0.1)\n",
    "f(-1.0)\n",
    "\n",
    "@show typeof(f(-1.0))\n",
    "@show f(-1.0) == NaN  # note, this fails!\n",
    "@show isnan(f(-1.0))  # check with this"
   ]
  },
  {
   "cell_type": "markdown",
   "id": "f0345a36",
   "metadata": {},
   "source": [
    "Note that in this case, the return type is `Float64` regardless of the input for `Float64` input.\n",
    "\n",
    "Keep in mind, though, that this only works if the return type of a function is `Float64`."
   ]
  },
  {
   "cell_type": "markdown",
   "id": "a3ce705d",
   "metadata": {},
   "source": [
    "### Exceptions\n",
    "\n",
    "(See [exceptions documentation](https://docs.julialang.org/en/v1/manual/control-flow/index.html#Exception-Handling-1))\n",
    "\n",
    "While returning a `nothing` can be a good way to deal with functions which may or may not return values, a more robust error handling method is to use exceptions.\n",
    "\n",
    "Unless you are writing a package, you will rarely want to define and throw your own exceptions, but will need to deal with them from other libraries.\n",
    "\n",
    "The key distinction for when to use an exceptions vs. return a `nothing` is whether an error is unexpected rather than a normal path of execution.\n",
    "\n",
    "An example of an exception is a `DomainError`, which signifies that a value passed to a function is invalid."
   ]
  },
  {
   "cell_type": "code",
   "execution_count": 175,
   "id": "9bc5075b",
   "metadata": {
    "hide-output": false
   },
   "outputs": [
    {
     "data": {
      "text/plain": [
       "DomainError(-1.0, \"sqrt was called with a negative real argument but will only return a complex result if called with a complex argument. Try sqrt(Complex(x)).\")"
      ]
     },
     "metadata": {},
     "output_type": "display_data"
    }
   ],
   "source": [
    "# throws exception, turned off to prevent breaking notebook\n",
    "# sqrt(-1.0)\n",
    "\n",
    "# to see the error\n",
    "try\n",
    "    sqrt(-1.0)\n",
    "catch err\n",
    "    err\n",
    "end  # catches the exception and prints it"
   ]
  },
  {
   "cell_type": "markdown",
   "id": "5ddc9668",
   "metadata": {},
   "source": [
    "Another example you will see is when the compiler cannot convert between types."
   ]
  },
  {
   "cell_type": "code",
   "execution_count": 176,
   "id": "2868dc29",
   "metadata": {
    "hide-output": false
   },
   "outputs": [
    {
     "data": {
      "text/plain": [
       "InexactError(:Int64, Int64, 3.12)"
      ]
     },
     "metadata": {},
     "output_type": "display_data"
    }
   ],
   "source": [
    "# throws exception, turned off to prevent breaking notebook\n",
    "# convert(Int64, 3.12)\n",
    "\n",
    "# to see the error\n",
    "try\n",
    "    convert(Int64, 3.12)\n",
    "catch err\n",
    "    err\n",
    "end  # catches the exception and prints it."
   ]
  },
  {
   "cell_type": "markdown",
   "id": "25b33b49",
   "metadata": {},
   "source": [
    "If these exceptions are generated from unexpected cases in your code, it may be appropriate simply let them occur and ensure you can read the error.\n",
    "\n",
    "Occasionally you will want to catch these errors and try to recover, as we did above in the `try` block."
   ]
  },
  {
   "cell_type": "code",
   "execution_count": 178,
   "id": "c60eb677",
   "metadata": {
    "hide-output": false
   },
   "outputs": [
    {
     "data": {
      "text/plain": [
       "0.0 + 1.0im"
      ]
     },
     "metadata": {},
     "output_type": "display_data"
    }
   ],
   "source": [
    "function f(x)\n",
    "    try\n",
    "        sqrt(x)\n",
    "    catch err                # enters if exception thrown\n",
    "        sqrt(complex(x, 0))  # convert to complex number\n",
    "    end\n",
    "end\n",
    "\n",
    "f(0.0)\n",
    "f(-1.0)"
   ]
  },
  {
   "cell_type": "markdown",
   "id": "bc1a994a",
   "metadata": {},
   "source": [
    "\n",
    "<a id='missing'></a>"
   ]
  },
  {
   "cell_type": "markdown",
   "id": "32752385",
   "metadata": {},
   "source": [
    "### Missing\n",
    "\n",
    "(see [“missing” documentation](https://docs.julialang.org/en/v1/manual/missing/))\n",
    "\n",
    "The value `missing` of type `Missing` is used to represent missing value in a statistical sense.\n",
    "\n",
    "For example, if you loaded data from a panel, and gaps existed"
   ]
  },
  {
   "cell_type": "code",
   "execution_count": 179,
   "id": "2e360cde",
   "metadata": {
    "hide-output": false
   },
   "outputs": [
    {
     "data": {
      "text/plain": [
       "5-element Vector{Union{Missing, Float64}}:\n",
       " 3.0\n",
       "  missing\n",
       " 5.0\n",
       "  missing\n",
       "  missing"
      ]
     },
     "metadata": {},
     "output_type": "display_data"
    }
   ],
   "source": [
    "x = [3.0, missing, 5.0, missing, missing]"
   ]
  },
  {
   "cell_type": "markdown",
   "id": "fc4458a4",
   "metadata": {},
   "source": [
    "A key feature of `missing` is that it propagates through other function calls - unlike `nothing`"
   ]
  },
  {
   "cell_type": "code",
   "execution_count": 180,
   "id": "7c267dd1",
   "metadata": {
    "hide-output": false
   },
   "outputs": [
    {
     "name": "stdout",
     "output_type": "stream",
     "text": [
      "missing + 1.0 = missing\n",
      "missing * 2 = missing\n",
      "missing * \"test\" = missing\n",
      "f(missing) = missing\n",
      "mean(x) = missing\n"
     ]
    }
   ],
   "source": [
    "f(x) = x^2\n",
    "\n",
    "@show missing + 1.0\n",
    "@show missing * 2\n",
    "@show missing * \"test\"\n",
    "@show f(missing);      # even user-defined functions\n",
    "@show mean(x);"
   ]
  },
  {
   "cell_type": "markdown",
   "id": "fed3cf6e",
   "metadata": {},
   "source": [
    "The purpose of this is to ensure that failures do not silently fail and provide meaningless numerical results.\n",
    "\n",
    "This even applies for the comparison of values, which"
   ]
  },
  {
   "cell_type": "code",
   "execution_count": null,
   "id": "2b7001e8",
   "metadata": {
    "hide-output": false
   },
   "outputs": [],
   "source": [
    "x = missing\n",
    "\n",
    "@show x == missing\n",
    "@show x === missing  # an exception\n",
    "@show ismissing(x);"
   ]
  },
  {
   "cell_type": "markdown",
   "id": "9aee4176",
   "metadata": {},
   "source": [
    "Where `ismissing` is the canonical way to test the value.\n",
    "\n",
    "In the case where you would like to calculate a value without the missing values, you can use `skipmissing`."
   ]
  },
  {
   "cell_type": "code",
   "execution_count": null,
   "id": "7f810979",
   "metadata": {
    "hide-output": false
   },
   "outputs": [],
   "source": [
    "x = [1.0, missing, 2.0, missing, missing, 5.0]\n",
    "\n",
    "@show mean(x)\n",
    "@show mean(skipmissing(x))\n",
    "@show coalesce.(x, 0.0);  # replace missing with 0.0;"
   ]
  },
  {
   "cell_type": "markdown",
   "id": "69c88140",
   "metadata": {},
   "source": [
    "As `missing` is similar to R’s `NA` type, we will see more of `missing` when we cover `DataFrames`."
   ]
  },
  {
   "cell_type": "markdown",
   "id": "70c5fe41",
   "metadata": {},
   "source": [
    "## Exercises\n",
    "\n",
    "\n",
    "<a id='np-ex1'></a>"
   ]
  },
  {
   "cell_type": "markdown",
   "id": "d5ac9ac1",
   "metadata": {},
   "source": [
    "### Exercise 1\n",
    "\n",
    "This exercise uses matrix operations that arise in certain problems,\n",
    "including when dealing with linear stochastic difference equations.\n",
    "\n",
    "If you aren’t familiar with all the terminology don’t be concerned – you can\n",
    "skim read the background discussion and focus purely on the matrix exercise.\n",
    "\n",
    "With that said, consider the stochastic difference equation\n",
    "\n",
    "\n",
    "<a id='equation-ja-sde'></a>\n",
    "$$\n",
    "X_{t+1} = A X_t + b + \\Sigma W_{t+1} \\tag{4.1}\n",
    "$$\n",
    "\n",
    "Here\n",
    "\n",
    "- $ X_t, b $ and $ X_{t+1} $ are $ n \\times 1 $  \n",
    "- $ A $ is $ n \\times n $  \n",
    "- $ \\Sigma $ is $ n \\times k $  \n",
    "- $ W_t $ is $ k \\times 1 $ and $ \\{W_t\\} $ is iid with zero mean and variance-covariance matrix equal to the identity matrix  \n",
    "\n",
    "\n",
    "Let $ S_t $ denote the $ n \\times n $ variance-covariance matrix of $ X_t $.\n",
    "\n",
    "Using the rules for computing variances in matrix expressions, it can be shown from [(4.1)](#equation-ja-sde) that $ \\{S_t\\} $ obeys\n",
    "\n",
    "\n",
    "<a id='equation-ja-sde-v'></a>\n",
    "$$\n",
    "S_{t+1} = A S_t A' + \\Sigma \\Sigma' \\tag{4.2}\n",
    "$$\n",
    "\n",
    "It can be shown that, provided all eigenvalues of $ A $ lie within the unit circle, the sequence $ \\{S_t\\} $ converges to a unique limit $ S $.\n",
    "\n",
    "This is the **unconditional variance** or **asymptotic variance** of the stochastic difference equation.\n",
    "\n",
    "As an exercise, try writing a simple function that solves for the limit $ S $ by iterating on [(4.2)](#equation-ja-sde-v) given $ A $ and $ \\Sigma $.\n",
    "\n",
    "To test your solution, observe that the limit $ S $ is a solution to the matrix equation\n",
    "\n",
    "\n",
    "<a id='equation-ja-dle'></a>\n",
    "$$\n",
    "S = A S A' + Q\n",
    "\\quad \\text{where} \\quad Q := \\Sigma \\Sigma' \\tag{4.3}\n",
    "$$\n",
    "\n",
    "This kind of equation is known as a **discrete time Lyapunov equation**.\n",
    "\n",
    "The [QuantEcon package](http://quantecon.org/quantecon-jl)\n",
    "provides a function called `solve_discrete_lyapunov` that implements a fast\n",
    "“doubling” algorithm to solve this equation.\n",
    "\n",
    "Test your iterative method against `solve_discrete_lyapunov` using matrices\n",
    "\n",
    "$$\n",
    "A =\n",
    "\\begin{bmatrix}\n",
    "    0.8 & -0.2  \\\\\n",
    "    -0.1 & 0.7\n",
    "\\end{bmatrix}\n",
    "\\qquad\n",
    "\\Sigma =\n",
    "\\begin{bmatrix}\n",
    "    0.5 & 0.4 \\\\\n",
    "    0.4 & 0.6\n",
    "\\end{bmatrix}\n",
    "$$"
   ]
  },
  {
   "cell_type": "code",
   "execution_count": 194,
   "id": "c51b5ef7",
   "metadata": {},
   "outputs": [
    {
     "data": {
      "text/plain": [
       "2×2 Matrix{Float64}:\n",
       " 0.671231  0.633474\n",
       " 0.633474  0.858874"
      ]
     },
     "metadata": {},
     "output_type": "display_data"
    }
   ],
   "source": [
    "# test values\n",
    "A = [0.8 -0.2; -0.1 0.7]\n",
    "Σ = [0.5 0.4; 0.4 0.6]\n",
    "\n",
    "# setting up function\n",
    "function asymptotic_variance(A, Σ, max_iter = 1e6, tol = 1e-12)\n",
    "    S0 = Σ * Σ'  # initial S value\n",
    "    S = S0       # S links to the initial value\n",
    "    iter = 1\n",
    "    error = Inf\n",
    "    while iter <= max_iter && error > tol\n",
    "        S_new = A*S*A' + S0\n",
    "        error = norm(S-S_new)\n",
    "        S = S_new\n",
    "        iter += 1\n",
    "    end\n",
    "    S\n",
    "end\n",
    "asymptotic_variance(A, Σ)\n"
   ]
  },
  {
   "cell_type": "markdown",
   "id": "7abacbd0",
   "metadata": {},
   "source": [
    "### Exercise 2\n",
    "\n",
    "Take a stochastic process for $ \\{y_t\\}_{t=0}^T $\n",
    "\n",
    "$$\n",
    "y_{t+1} = \\gamma + \\theta y_t + \\sigma w_{t+1}\n",
    "$$\n",
    "\n",
    "where\n",
    "\n",
    "- $ w_{t+1} $ is distributed `Normal(0,1)`  \n",
    "- $ \\gamma=1, \\sigma=1, y_0 = 0 $  \n",
    "- $ \\theta \\in \\Theta \\equiv \\{0.8, 0.9, 0.98\\} $  \n",
    "\n",
    "\n",
    "Given these parameters\n",
    "\n",
    "- Simulate a single $ y_t $ series for each $ \\theta \\in \\Theta $\n",
    "  for $ T = 150 $.  Feel free to experiment with different $ T $.  \n",
    "- Overlay plots of the rolling mean of the process for each $ \\theta \\in \\Theta $,\n",
    "  i.e. for each $ 1 \\leq \\tau \\leq T $ plot  \n",
    "\n",
    "\n",
    "$$\n",
    "\\frac{1}{\\tau}\\sum_{t=1}^{\\tau}y_T\n",
    "$$\n",
    "\n",
    "- Simulate $ N=200 $ paths of the stochastic process above to the $ T $,\n",
    "  for each $ \\theta \\in \\Theta $, where we refer to an element of a particular\n",
    "  simulation as $ y^n_t $.  \n",
    "- Overlay plots a histogram of the stationary distribution of the final\n",
    "  $ y^n_T $ for each $ \\theta \\in \\Theta $.  Hint: pass `alpha`\n",
    "  to a plot to make it transparent (e.g. `histogram(vals, alpha = 0.5)`) or\n",
    "  use `stephist(vals)` to show just the step function for the histogram.  \n",
    "- Numerically find the mean and variance of this as an ensemble average, i.e.\n",
    "  $ \\sum_{n=1}^N\\frac{y^n_T}{N} $ and\n",
    "  $ \\sum_{n=1}^N\\frac{(y_T^n)^2}{N} -\\left(\\sum_{n=1}^N\\frac{y^n_T}{N}\\right)^2 $.  \n",
    "\n",
    "\n",
    "Later, we will interpret some of these in [this lecture](https://julia.quantecon.org/../tools_and_techniques/lln_clt.html)."
   ]
  },
  {
   "cell_type": "code",
   "execution_count": 231,
   "id": "33661866",
   "metadata": {},
   "outputs": [
    {
     "data": {
      "image/png": "[encoded data removed]",
      "image/svg+xml": [
       "<?xml version=\"1.0\" encoding=\"utf-8\"?>\n",
       "<svg xmlns=\"http://www.w3.org/2000/svg\" xmlns:xlink=\"http://www.w3.org/1999/xlink\" width=\"600\" height=\"400\" viewBox=\"0 0 2400 1600\">\n",
       "<defs>\n",
       "  <clipPath id=\"clip020\">\n",
       "    <rect x=\"0\" y=\"0\" width=\"2400\" height=\"1600\"/>\n",
       "  </clipPath>\n",
       "</defs>\n",
       "<path clip-path=\"url(#clip020)\" d=\"M0 1600 L2400 1600 L2400 0 L0 0  Z\" fill=\"#ffffff\" fill-rule=\"evenodd\" fill-opacity=\"1\"/>\n",
       "<defs>\n",
       "  <clipPath id=\"clip021\">\n",
       "    <rect x=\"480\" y=\"0\" width=\"1681\" height=\"1600\"/>\n",
       "  </clipPath>\n",
       "</defs>\n",
       "<path clip-path=\"url(#clip020)\" d=\"M141.853 1486.45 L2352.76 1486.45 L2352.76 123.472 L141.853 123.472  Z\" fill=\"#ffffff\" fill-rule=\"evenodd\" fill-opacity=\"1\"/>\n",
       "<defs>\n",
       "  <clipPath id=\"clip022\">\n",
       "    <rect x=\"141\" y=\"123\" width=\"2212\" height=\"1364\"/>\n",
       "  </clipPath>\n",
       "</defs>\n",
       "<polyline clip-path=\"url(#clip022)\" style=\"stroke:#000000; stroke-linecap:round; stroke-linejoin:round; stroke-width:2; stroke-opacity:0.1; fill:none\" points=\"179.095,1486.45 179.095,123.472 \"/>\n",
       "<polyline clip-path=\"url(#clip022)\" style=\"stroke:#000000; stroke-linecap:round; stroke-linejoin:round; stroke-width:2; stroke-opacity:0.1; fill:none\" points=\"526.085,1486.45 526.085,123.472 \"/>\n",
       "<polyline clip-path=\"url(#clip022)\" style=\"stroke:#000000; stroke-linecap:round; stroke-linejoin:round; stroke-width:2; stroke-opacity:0.1; fill:none\" points=\"873.076,1486.45 873.076,123.472 \"/>\n",
       "<polyline clip-path=\"url(#clip022)\" style=\"stroke:#000000; stroke-linecap:round; stroke-linejoin:round; stroke-width:2; stroke-opacity:0.1; fill:none\" points=\"1220.07,1486.45 1220.07,123.472 \"/>\n",
       "<polyline clip-path=\"url(#clip022)\" style=\"stroke:#000000; stroke-linecap:round; stroke-linejoin:round; stroke-width:2; stroke-opacity:0.1; fill:none\" points=\"1567.06,1486.45 1567.06,123.472 \"/>\n",
       "<polyline clip-path=\"url(#clip022)\" style=\"stroke:#000000; stroke-linecap:round; stroke-linejoin:round; stroke-width:2; stroke-opacity:0.1; fill:none\" points=\"1914.05,1486.45 1914.05,123.472 \"/>\n",
       "<polyline clip-path=\"url(#clip022)\" style=\"stroke:#000000; stroke-linecap:round; stroke-linejoin:round; stroke-width:2; stroke-opacity:0.1; fill:none\" points=\"2261.04,1486.45 2261.04,123.472 \"/>\n",
       "<polyline clip-path=\"url(#clip020)\" style=\"stroke:#000000; stroke-linecap:round; stroke-linejoin:round; stroke-width:4; stroke-opacity:1; fill:none\" points=\"141.853,1486.45 2352.76,1486.45 \"/>\n",
       "<polyline clip-path=\"url(#clip020)\" style=\"stroke:#000000; stroke-linecap:round; stroke-linejoin:round; stroke-width:4; stroke-opacity:1; fill:none\" points=\"179.095,1486.45 179.095,1467.55 \"/>\n",
       "<polyline clip-path=\"url(#clip020)\" style=\"stroke:#000000; stroke-linecap:round; stroke-linejoin:round; stroke-width:4; stroke-opacity:1; fill:none\" points=\"526.085,1486.45 526.085,1467.55 \"/>\n",
       "<polyline clip-path=\"url(#clip020)\" style=\"stroke:#000000; stroke-linecap:round; stroke-linejoin:round; stroke-width:4; stroke-opacity:1; fill:none\" points=\"873.076,1486.45 873.076,1467.55 \"/>\n",
       "<polyline clip-path=\"url(#clip020)\" style=\"stroke:#000000; stroke-linecap:round; stroke-linejoin:round; stroke-width:4; stroke-opacity:1; fill:none\" points=\"1220.07,1486.45 1220.07,1467.55 \"/>\n",
       "<polyline clip-path=\"url(#clip020)\" style=\"stroke:#000000; stroke-linecap:round; stroke-linejoin:round; stroke-width:4; stroke-opacity:1; fill:none\" points=\"1567.06,1486.45 1567.06,1467.55 \"/>\n",
       "<polyline clip-path=\"url(#clip020)\" style=\"stroke:#000000; stroke-linecap:round; stroke-linejoin:round; stroke-width:4; stroke-opacity:1; fill:none\" points=\"1914.05,1486.45 1914.05,1467.55 \"/>\n",
       "<polyline clip-path=\"url(#clip020)\" style=\"stroke:#000000; stroke-linecap:round; stroke-linejoin:round; stroke-width:4; stroke-opacity:1; fill:none\" points=\"2261.04,1486.45 2261.04,1467.55 \"/>\n",
       "<path clip-path=\"url(#clip020)\" d=\"M179.095 1517.37 Q175.484 1517.37 173.656 1520.93 Q171.85 1524.47 171.85 1531.6 Q171.85 1538.71 173.656 1542.27 Q175.484 1545.82 179.095 1545.82 Q182.73 1545.82 184.535 1542.27 Q186.364 1538.71 186.364 1531.6 Q186.364 1524.47 184.535 1520.93 Q182.73 1517.37 179.095 1517.37 M179.095 1513.66 Q184.906 1513.66 187.961 1518.27 Q191.04 1522.85 191.04 1531.6 Q191.04 1540.33 187.961 1544.94 Q184.906 1549.52 179.095 1549.52 Q173.285 1549.52 170.207 1544.94 Q167.151 1540.33 167.151 1531.6 Q167.151 1522.85 170.207 1518.27 Q173.285 1513.66 179.095 1513.66 Z\" fill=\"#000000\" fill-rule=\"nonzero\" fill-opacity=\"1\" /><path clip-path=\"url(#clip020)\" d=\"M500.773 1544.91 L508.412 1544.91 L508.412 1518.55 L500.102 1520.21 L500.102 1515.95 L508.366 1514.29 L513.042 1514.29 L513.042 1544.91 L520.68 1544.91 L520.68 1548.85 L500.773 1548.85 L500.773 1544.91 Z\" fill=\"#000000\" fill-rule=\"nonzero\" fill-opacity=\"1\" /><path clip-path=\"url(#clip020)\" d=\"M540.125 1517.37 Q536.514 1517.37 534.685 1520.93 Q532.879 1524.47 532.879 1531.6 Q532.879 1538.71 534.685 1542.27 Q536.514 1545.82 540.125 1545.82 Q543.759 1545.82 545.565 1542.27 Q547.393 1538.71 547.393 1531.6 Q547.393 1524.47 545.565 1520.93 Q543.759 1517.37 540.125 1517.37 M540.125 1513.66 Q545.935 1513.66 548.99 1518.27 Q552.069 1522.85 552.069 1531.6 Q552.069 1540.33 548.99 1544.94 Q545.935 1549.52 540.125 1549.52 Q534.315 1549.52 531.236 1544.94 Q528.18 1540.33 528.18 1531.6 Q528.18 1522.85 531.236 1518.27 Q534.315 1513.66 540.125 1513.66 Z\" fill=\"#000000\" fill-rule=\"nonzero\" fill-opacity=\"1\" /><path clip-path=\"url(#clip020)\" d=\"M851.849 1544.91 L868.168 1544.91 L868.168 1548.85 L846.224 1548.85 L846.224 1544.91 Q848.886 1542.16 853.469 1537.53 Q858.076 1532.88 859.256 1531.53 Q861.502 1529.01 862.381 1527.27 Q863.284 1525.51 863.284 1523.82 Q863.284 1521.07 861.34 1519.33 Q859.418 1517.6 856.316 1517.6 Q854.117 1517.6 851.664 1518.36 Q849.233 1519.13 846.455 1520.68 L846.455 1515.95 Q849.279 1514.82 851.733 1514.24 Q854.187 1513.66 856.224 1513.66 Q861.594 1513.66 864.789 1516.35 Q867.983 1519.03 867.983 1523.52 Q867.983 1525.65 867.173 1527.57 Q866.386 1529.47 864.279 1532.07 Q863.701 1532.74 860.599 1535.95 Q857.497 1539.15 851.849 1544.91 Z\" fill=\"#000000\" fill-rule=\"nonzero\" fill-opacity=\"1\" /><path clip-path=\"url(#clip020)\" d=\"M887.983 1517.37 Q884.372 1517.37 882.543 1520.93 Q880.738 1524.47 880.738 1531.6 Q880.738 1538.71 882.543 1542.27 Q884.372 1545.82 887.983 1545.82 Q891.617 1545.82 893.423 1542.27 Q895.251 1538.71 895.251 1531.6 Q895.251 1524.47 893.423 1520.93 Q891.617 1517.37 887.983 1517.37 M887.983 1513.66 Q893.793 1513.66 896.849 1518.27 Q899.927 1522.85 899.927 1531.6 Q899.927 1540.33 896.849 1544.94 Q893.793 1549.52 887.983 1549.52 Q882.173 1549.52 879.094 1544.94 Q876.039 1540.33 876.039 1531.6 Q876.039 1522.85 879.094 1518.27 Q882.173 1513.66 887.983 1513.66 Z\" fill=\"#000000\" fill-rule=\"nonzero\" fill-opacity=\"1\" /><path clip-path=\"url(#clip020)\" d=\"M1208.91 1530.21 Q1212.26 1530.93 1214.14 1533.2 Q1216.04 1535.47 1216.04 1538.8 Q1216.04 1543.92 1212.52 1546.72 Q1209 1549.52 1202.52 1549.52 Q1200.34 1549.52 1198.03 1549.08 Q1195.74 1548.66 1193.28 1547.81 L1193.28 1543.29 Q1195.23 1544.43 1197.54 1545.01 Q1199.86 1545.58 1202.38 1545.58 Q1206.78 1545.58 1209.07 1543.85 Q1211.39 1542.11 1211.39 1538.8 Q1211.39 1535.75 1209.23 1534.03 Q1207.1 1532.3 1203.28 1532.3 L1199.26 1532.3 L1199.26 1528.45 L1203.47 1528.45 Q1206.92 1528.45 1208.75 1527.09 Q1210.58 1525.7 1210.58 1523.11 Q1210.58 1520.45 1208.68 1519.03 Q1206.8 1517.6 1203.28 1517.6 Q1201.36 1517.6 1199.16 1518.01 Q1196.96 1518.43 1194.33 1519.31 L1194.33 1515.14 Q1196.99 1514.4 1199.3 1514.03 Q1201.64 1513.66 1203.7 1513.66 Q1209.02 1513.66 1212.13 1516.09 Q1215.23 1518.5 1215.23 1522.62 Q1215.23 1525.49 1213.58 1527.48 Q1211.94 1529.45 1208.91 1530.21 Z\" fill=\"#000000\" fill-rule=\"nonzero\" fill-opacity=\"1\" /><path clip-path=\"url(#clip020)\" d=\"M1234.9 1517.37 Q1231.29 1517.37 1229.46 1520.93 Q1227.66 1524.47 1227.66 1531.6 Q1227.66 1538.71 1229.46 1542.27 Q1231.29 1545.82 1234.9 1545.82 Q1238.54 1545.82 1240.34 1542.27 Q1242.17 1538.71 1242.17 1531.6 Q1242.17 1524.47 1240.34 1520.93 Q1238.54 1517.37 1234.9 1517.37 M1234.9 1513.66 Q1240.71 1513.66 1243.77 1518.27 Q1246.85 1522.85 1246.85 1531.6 Q1246.85 1540.33 1243.77 1544.94 Q1240.71 1549.52 1234.9 1549.52 Q1229.09 1549.52 1226.01 1544.94 Q1222.96 1540.33 1222.96 1531.6 Q1222.96 1522.85 1226.01 1518.27 Q1229.09 1513.66 1234.9 1513.66 Z\" fill=\"#000000\" fill-rule=\"nonzero\" fill-opacity=\"1\" /><path clip-path=\"url(#clip020)\" d=\"M1555.23 1518.36 L1543.42 1536.81 L1555.23 1536.81 L1555.23 1518.36 M1554 1514.29 L1559.88 1514.29 L1559.88 1536.81 L1564.81 1536.81 L1564.81 1540.7 L1559.88 1540.7 L1559.88 1548.85 L1555.23 1548.85 L1555.23 1540.7 L1539.63 1540.7 L1539.63 1536.19 L1554 1514.29 Z\" fill=\"#000000\" fill-rule=\"nonzero\" fill-opacity=\"1\" /><path clip-path=\"url(#clip020)\" d=\"M1582.54 1517.37 Q1578.93 1517.37 1577.1 1520.93 Q1575.3 1524.47 1575.3 1531.6 Q1575.3 1538.71 1577.1 1542.27 Q1578.93 1545.82 1582.54 1545.82 Q1586.18 1545.82 1587.98 1542.27 Q1589.81 1538.71 1589.81 1531.6 Q1589.81 1524.47 1587.98 1520.93 Q1586.18 1517.37 1582.54 1517.37 M1582.54 1513.66 Q1588.35 1513.66 1591.41 1518.27 Q1594.49 1522.85 1594.49 1531.6 Q1594.49 1540.33 1591.41 1544.94 Q1588.35 1549.52 1582.54 1549.52 Q1576.73 1549.52 1573.65 1544.94 Q1570.6 1540.33 1570.6 1531.6 Q1570.6 1522.85 1573.65 1518.27 Q1576.73 1513.66 1582.54 1513.66 Z\" fill=\"#000000\" fill-rule=\"nonzero\" fill-opacity=\"1\" /><path clip-path=\"url(#clip020)\" d=\"M1888.75 1514.29 L1907.1 1514.29 L1907.1 1518.22 L1893.03 1518.22 L1893.03 1526.7 Q1894.05 1526.35 1895.06 1526.19 Q1896.08 1526 1897.1 1526 Q1902.89 1526 1906.27 1529.17 Q1909.65 1532.34 1909.65 1537.76 Q1909.65 1543.34 1906.18 1546.44 Q1902.7 1549.52 1896.38 1549.52 Q1894.21 1549.52 1891.94 1549.15 Q1889.69 1548.78 1887.29 1548.04 L1887.29 1543.34 Q1889.37 1544.47 1891.59 1545.03 Q1893.81 1545.58 1896.29 1545.58 Q1900.3 1545.58 1902.63 1543.48 Q1904.97 1541.37 1904.97 1537.76 Q1904.97 1534.15 1902.63 1532.04 Q1900.3 1529.94 1896.29 1529.94 Q1894.42 1529.94 1892.54 1530.35 Q1890.69 1530.77 1888.75 1531.65 L1888.75 1514.29 Z\" fill=\"#000000\" fill-rule=\"nonzero\" fill-opacity=\"1\" /><path clip-path=\"url(#clip020)\" d=\"M1928.86 1517.37 Q1925.25 1517.37 1923.42 1520.93 Q1921.62 1524.47 1921.62 1531.6 Q1921.62 1538.71 1923.42 1542.27 Q1925.25 1545.82 1928.86 1545.82 Q1932.49 1545.82 1934.3 1542.27 Q1936.13 1538.71 1936.13 1531.6 Q1936.13 1524.47 1934.3 1520.93 Q1932.49 1517.37 1928.86 1517.37 M1928.86 1513.66 Q1934.67 1513.66 1937.73 1518.27 Q1940.81 1522.85 1940.81 1531.6 Q1940.81 1540.33 1937.73 1544.94 Q1934.67 1549.52 1928.86 1549.52 Q1923.05 1549.52 1919.97 1544.94 Q1916.92 1540.33 1916.92 1531.6 Q1916.92 1522.85 1919.97 1518.27 Q1923.05 1513.66 1928.86 1513.66 Z\" fill=\"#000000\" fill-rule=\"nonzero\" fill-opacity=\"1\" /><path clip-path=\"url(#clip020)\" d=\"M2246.44 1529.7 Q2243.29 1529.7 2241.44 1531.86 Q2239.61 1534.01 2239.61 1537.76 Q2239.61 1541.49 2241.44 1543.66 Q2243.29 1545.82 2246.44 1545.82 Q2249.59 1545.82 2251.42 1543.66 Q2253.27 1541.49 2253.27 1537.76 Q2253.27 1534.01 2251.42 1531.86 Q2249.59 1529.7 2246.44 1529.7 M2255.72 1515.05 L2255.72 1519.31 Q2253.96 1518.48 2252.16 1518.04 Q2250.38 1517.6 2248.62 1517.6 Q2243.99 1517.6 2241.53 1520.72 Q2239.1 1523.85 2238.76 1530.17 Q2240.12 1528.15 2242.18 1527.09 Q2244.24 1526 2246.72 1526 Q2251.93 1526 2254.94 1529.17 Q2257.97 1532.32 2257.97 1537.76 Q2257.97 1543.08 2254.82 1546.3 Q2251.67 1549.52 2246.44 1549.52 Q2240.45 1549.52 2237.27 1544.94 Q2234.1 1540.33 2234.1 1531.6 Q2234.1 1523.41 2237.99 1518.55 Q2241.88 1513.66 2248.43 1513.66 Q2250.19 1513.66 2251.97 1514.01 Q2253.78 1514.36 2255.72 1515.05 Z\" fill=\"#000000\" fill-rule=\"nonzero\" fill-opacity=\"1\" /><path clip-path=\"url(#clip020)\" d=\"M2276.02 1517.37 Q2272.41 1517.37 2270.58 1520.93 Q2268.78 1524.47 2268.78 1531.6 Q2268.78 1538.71 2270.58 1542.27 Q2272.41 1545.82 2276.02 1545.82 Q2279.66 1545.82 2281.46 1542.27 Q2283.29 1538.71 2283.29 1531.6 Q2283.29 1524.47 2281.46 1520.93 Q2279.66 1517.37 2276.02 1517.37 M2276.02 1513.66 Q2281.83 1513.66 2284.89 1518.27 Q2287.97 1522.85 2287.97 1531.6 Q2287.97 1540.33 2284.89 1544.94 Q2281.83 1549.52 2276.02 1549.52 Q2270.21 1549.52 2267.14 1544.94 Q2264.08 1540.33 2264.08 1531.6 Q2264.08 1522.85 2267.14 1518.27 Q2270.21 1513.66 2276.02 1513.66 Z\" fill=\"#000000\" fill-rule=\"nonzero\" fill-opacity=\"1\" /><polyline clip-path=\"url(#clip022)\" style=\"stroke:#000000; stroke-linecap:round; stroke-linejoin:round; stroke-width:2; stroke-opacity:0.1; fill:none\" points=\"141.853,1486.45 2352.76,1486.45 \"/>\n",
       "<polyline clip-path=\"url(#clip022)\" style=\"stroke:#000000; stroke-linecap:round; stroke-linejoin:round; stroke-width:2; stroke-opacity:0.1; fill:none\" points=\"141.853,1283.02 2352.76,1283.02 \"/>\n",
       "<polyline clip-path=\"url(#clip022)\" style=\"stroke:#000000; stroke-linecap:round; stroke-linejoin:round; stroke-width:2; stroke-opacity:0.1; fill:none\" points=\"141.853,1079.59 2352.76,1079.59 \"/>\n",
       "<polyline clip-path=\"url(#clip022)\" style=\"stroke:#000000; stroke-linecap:round; stroke-linejoin:round; stroke-width:2; stroke-opacity:0.1; fill:none\" points=\"141.853,876.16 2352.76,876.16 \"/>\n",
       "<polyline clip-path=\"url(#clip022)\" style=\"stroke:#000000; stroke-linecap:round; stroke-linejoin:round; stroke-width:2; stroke-opacity:0.1; fill:none\" points=\"141.853,672.731 2352.76,672.731 \"/>\n",
       "<polyline clip-path=\"url(#clip022)\" style=\"stroke:#000000; stroke-linecap:round; stroke-linejoin:round; stroke-width:2; stroke-opacity:0.1; fill:none\" points=\"141.853,469.302 2352.76,469.302 \"/>\n",
       "<polyline clip-path=\"url(#clip022)\" style=\"stroke:#000000; stroke-linecap:round; stroke-linejoin:round; stroke-width:2; stroke-opacity:0.1; fill:none\" points=\"141.853,265.873 2352.76,265.873 \"/>\n",
       "<polyline clip-path=\"url(#clip020)\" style=\"stroke:#000000; stroke-linecap:round; stroke-linejoin:round; stroke-width:4; stroke-opacity:1; fill:none\" points=\"141.853,1486.45 141.853,123.472 \"/>\n",
       "<polyline clip-path=\"url(#clip020)\" style=\"stroke:#000000; stroke-linecap:round; stroke-linejoin:round; stroke-width:4; stroke-opacity:1; fill:none\" points=\"141.853,1486.45 160.751,1486.45 \"/>\n",
       "<polyline clip-path=\"url(#clip020)\" style=\"stroke:#000000; stroke-linecap:round; stroke-linejoin:round; stroke-width:4; stroke-opacity:1; fill:none\" points=\"141.853,1283.02 160.751,1283.02 \"/>\n",
       "<polyline clip-path=\"url(#clip020)\" style=\"stroke:#000000; stroke-linecap:round; stroke-linejoin:round; stroke-width:4; stroke-opacity:1; fill:none\" points=\"141.853,1079.59 160.751,1079.59 \"/>\n",
       "<polyline clip-path=\"url(#clip020)\" style=\"stroke:#000000; stroke-linecap:round; stroke-linejoin:round; stroke-width:4; stroke-opacity:1; fill:none\" points=\"141.853,876.16 160.751,876.16 \"/>\n",
       "<polyline clip-path=\"url(#clip020)\" style=\"stroke:#000000; stroke-linecap:round; stroke-linejoin:round; stroke-width:4; stroke-opacity:1; fill:none\" points=\"141.853,672.731 160.751,672.731 \"/>\n",
       "<polyline clip-path=\"url(#clip020)\" style=\"stroke:#000000; stroke-linecap:round; stroke-linejoin:round; stroke-width:4; stroke-opacity:1; fill:none\" points=\"141.853,469.302 160.751,469.302 \"/>\n",
       "<polyline clip-path=\"url(#clip020)\" style=\"stroke:#000000; stroke-linecap:round; stroke-linejoin:round; stroke-width:4; stroke-opacity:1; fill:none\" points=\"141.853,265.873 160.751,265.873 \"/>\n",
       "<path clip-path=\"url(#clip020)\" d=\"M93.9086 1472.25 Q90.2975 1472.25 88.4688 1475.81 Q86.6632 1479.35 86.6632 1486.48 Q86.6632 1493.59 88.4688 1497.15 Q90.2975 1500.7 93.9086 1500.7 Q97.5428 1500.7 99.3483 1497.15 Q101.177 1493.59 101.177 1486.48 Q101.177 1479.35 99.3483 1475.81 Q97.5428 1472.25 93.9086 1472.25 M93.9086 1468.54 Q99.7187 1468.54 102.774 1473.15 Q105.853 1477.73 105.853 1486.48 Q105.853 1495.21 102.774 1499.82 Q99.7187 1504.4 93.9086 1504.4 Q88.0984 1504.4 85.0197 1499.82 Q81.9642 1495.21 81.9642 1486.48 Q81.9642 1477.73 85.0197 1473.15 Q88.0984 1468.54 93.9086 1468.54 Z\" fill=\"#000000\" fill-rule=\"nonzero\" fill-opacity=\"1\" /><path clip-path=\"url(#clip020)\" d=\"M54.5569 1296.36 L62.1958 1296.36 L62.1958 1270 L53.8856 1271.66 L53.8856 1267.41 L62.1495 1265.74 L66.8254 1265.74 L66.8254 1296.36 L74.4642 1296.36 L74.4642 1300.3 L54.5569 1300.3 L54.5569 1296.36 Z\" fill=\"#000000\" fill-rule=\"nonzero\" fill-opacity=\"1\" /><path clip-path=\"url(#clip020)\" d=\"M93.9086 1268.82 Q90.2975 1268.82 88.4688 1272.38 Q86.6632 1275.92 86.6632 1283.05 Q86.6632 1290.16 88.4688 1293.72 Q90.2975 1297.27 93.9086 1297.27 Q97.5428 1297.27 99.3483 1293.72 Q101.177 1290.16 101.177 1283.05 Q101.177 1275.92 99.3483 1272.38 Q97.5428 1268.82 93.9086 1268.82 M93.9086 1265.11 Q99.7187 1265.11 102.774 1269.72 Q105.853 1274.3 105.853 1283.05 Q105.853 1291.78 102.774 1296.39 Q99.7187 1300.97 93.9086 1300.97 Q88.0984 1300.97 85.0197 1296.39 Q81.9642 1291.78 81.9642 1283.05 Q81.9642 1274.3 85.0197 1269.72 Q88.0984 1265.11 93.9086 1265.11 Z\" fill=\"#000000\" fill-rule=\"nonzero\" fill-opacity=\"1\" /><path clip-path=\"url(#clip020)\" d=\"M57.7745 1092.93 L74.0939 1092.93 L74.0939 1096.87 L52.1495 1096.87 L52.1495 1092.93 Q54.8115 1090.18 59.3949 1085.55 Q64.0013 1080.9 65.1819 1079.55 Q67.4272 1077.03 68.3068 1075.3 Q69.2096 1073.54 69.2096 1071.85 Q69.2096 1069.09 67.2652 1067.36 Q65.3439 1065.62 62.2421 1065.62 Q60.043 1065.62 57.5893 1066.38 Q55.1588 1067.15 52.381 1068.7 L52.381 1063.98 Q55.2051 1062.84 57.6588 1062.26 Q60.1124 1061.68 62.1495 1061.68 Q67.5198 1061.68 70.7142 1064.37 Q73.9087 1067.05 73.9087 1071.55 Q73.9087 1073.68 73.0985 1075.6 Q72.3115 1077.49 70.205 1080.09 Q69.6263 1080.76 66.5245 1083.98 Q63.4226 1087.17 57.7745 1092.93 Z\" fill=\"#000000\" fill-rule=\"nonzero\" fill-opacity=\"1\" /><path clip-path=\"url(#clip020)\" d=\"M93.9086 1065.39 Q90.2975 1065.39 88.4688 1068.95 Q86.6632 1072.49 86.6632 1079.62 Q86.6632 1086.73 88.4688 1090.3 Q90.2975 1093.84 93.9086 1093.84 Q97.5428 1093.84 99.3483 1090.3 Q101.177 1086.73 101.177 1079.62 Q101.177 1072.49 99.3483 1068.95 Q97.5428 1065.39 93.9086 1065.39 M93.9086 1061.68 Q99.7187 1061.68 102.774 1066.29 Q105.853 1070.87 105.853 1079.62 Q105.853 1088.35 102.774 1092.96 Q99.7187 1097.54 93.9086 1097.54 Q88.0984 1097.54 85.0197 1092.96 Q81.9642 1088.35 81.9642 1079.62 Q81.9642 1070.87 85.0197 1066.29 Q88.0984 1061.68 93.9086 1061.68 Z\" fill=\"#000000\" fill-rule=\"nonzero\" fill-opacity=\"1\" /><path clip-path=\"url(#clip020)\" d=\"M67.9133 874.806 Q71.2698 875.524 73.1448 877.792 Q75.0429 880.061 75.0429 883.394 Q75.0429 888.51 71.5244 891.311 Q68.0059 894.112 61.5245 894.112 Q59.3486 894.112 57.0338 893.672 Q54.7421 893.255 52.2884 892.399 L52.2884 887.885 Q54.2328 889.019 56.5477 889.598 Q58.8625 890.176 61.3856 890.176 Q65.7837 890.176 68.0754 888.44 Q70.3902 886.704 70.3902 883.394 Q70.3902 880.338 68.2374 878.625 Q66.1078 876.889 62.2884 876.889 L58.2606 876.889 L58.2606 873.047 L62.4735 873.047 Q65.9226 873.047 67.7513 871.681 Q69.58 870.292 69.58 867.7 Q69.58 865.038 67.6819 863.626 Q65.8069 862.19 62.2884 862.19 Q60.3671 862.19 58.168 862.607 Q55.969 863.024 53.3301 863.903 L53.3301 859.737 Q55.9921 858.996 58.3069 858.626 Q60.6449 858.255 62.705 858.255 Q68.0291 858.255 71.1309 860.686 Q74.2327 863.093 74.2327 867.214 Q74.2327 870.084 72.5892 872.075 Q70.9457 874.042 67.9133 874.806 Z\" fill=\"#000000\" fill-rule=\"nonzero\" fill-opacity=\"1\" /><path clip-path=\"url(#clip020)\" d=\"M93.9086 861.959 Q90.2975 861.959 88.4688 865.524 Q86.6632 869.065 86.6632 876.195 Q86.6632 883.301 88.4688 886.866 Q90.2975 890.408 93.9086 890.408 Q97.5428 890.408 99.3483 886.866 Q101.177 883.301 101.177 876.195 Q101.177 869.065 99.3483 865.524 Q97.5428 861.959 93.9086 861.959 M93.9086 858.255 Q99.7187 858.255 102.774 862.862 Q105.853 867.445 105.853 876.195 Q105.853 884.922 102.774 889.528 Q99.7187 894.112 93.9086 894.112 Q88.0984 894.112 85.0197 889.528 Q81.9642 884.922 81.9642 876.195 Q81.9642 867.445 85.0197 862.862 Q88.0984 858.255 93.9086 858.255 Z\" fill=\"#000000\" fill-rule=\"nonzero\" fill-opacity=\"1\" /><path clip-path=\"url(#clip020)\" d=\"M66.5939 659.525 L54.7884 677.974 L66.5939 677.974 L66.5939 659.525 M65.367 655.451 L71.2466 655.451 L71.2466 677.974 L76.1772 677.974 L76.1772 681.863 L71.2466 681.863 L71.2466 690.011 L66.5939 690.011 L66.5939 681.863 L50.9921 681.863 L50.9921 677.349 L65.367 655.451 Z\" fill=\"#000000\" fill-rule=\"nonzero\" fill-opacity=\"1\" /><path clip-path=\"url(#clip020)\" d=\"M93.9086 658.53 Q90.2975 658.53 88.4688 662.094 Q86.6632 665.636 86.6632 672.766 Q86.6632 679.872 88.4688 683.437 Q90.2975 686.979 93.9086 686.979 Q97.5428 686.979 99.3483 683.437 Q101.177 679.872 101.177 672.766 Q101.177 665.636 99.3483 662.094 Q97.5428 658.53 93.9086 658.53 M93.9086 654.826 Q99.7187 654.826 102.774 659.432 Q105.853 664.016 105.853 672.766 Q105.853 681.493 102.774 686.099 Q99.7187 690.682 93.9086 690.682 Q88.0984 690.682 85.0197 686.099 Q81.9642 681.493 81.9642 672.766 Q81.9642 664.016 85.0197 659.432 Q88.0984 654.826 93.9086 654.826 Z\" fill=\"#000000\" fill-rule=\"nonzero\" fill-opacity=\"1\" /><path clip-path=\"url(#clip020)\" d=\"M53.793 452.022 L72.1494 452.022 L72.1494 455.957 L58.0754 455.957 L58.0754 464.429 Q59.0939 464.082 60.1124 463.92 Q61.131 463.735 62.1495 463.735 Q67.9365 463.735 71.3161 466.906 Q74.6957 470.077 74.6957 475.494 Q74.6957 481.073 71.2235 484.174 Q67.7513 487.253 61.4319 487.253 Q59.256 487.253 56.9875 486.883 Q54.7421 486.512 52.3347 485.772 L52.3347 481.073 Q54.418 482.207 56.6402 482.762 Q58.8625 483.318 61.3393 483.318 Q65.3439 483.318 67.6819 481.211 Q70.0198 479.105 70.0198 475.494 Q70.0198 471.883 67.6819 469.776 Q65.3439 467.67 61.3393 467.67 Q59.4643 467.67 57.5893 468.087 Q55.7375 468.503 53.793 469.383 L53.793 452.022 Z\" fill=\"#000000\" fill-rule=\"nonzero\" fill-opacity=\"1\" /><path clip-path=\"url(#clip020)\" d=\"M93.9086 455.1 Q90.2975 455.1 88.4688 458.665 Q86.6632 462.207 86.6632 469.337 Q86.6632 476.443 88.4688 480.008 Q90.2975 483.549 93.9086 483.549 Q97.5428 483.549 99.3483 480.008 Q101.177 476.443 101.177 469.337 Q101.177 462.207 99.3483 458.665 Q97.5428 455.1 93.9086 455.1 M93.9086 451.397 Q99.7187 451.397 102.774 456.003 Q105.853 460.587 105.853 469.337 Q105.853 478.063 102.774 482.67 Q99.7187 487.253 93.9086 487.253 Q88.0984 487.253 85.0197 482.67 Q81.9642 478.063 81.9642 469.337 Q81.9642 460.587 85.0197 456.003 Q88.0984 451.397 93.9086 451.397 Z\" fill=\"#000000\" fill-rule=\"nonzero\" fill-opacity=\"1\" /><path clip-path=\"url(#clip020)\" d=\"M64.3254 264.009 Q61.1773 264.009 59.3254 266.162 Q57.4967 268.315 57.4967 272.065 Q57.4967 275.792 59.3254 277.967 Q61.1773 280.12 64.3254 280.12 Q67.4735 280.12 69.3022 277.967 Q71.1541 275.792 71.1541 272.065 Q71.1541 268.315 69.3022 266.162 Q67.4735 264.009 64.3254 264.009 M73.6077 249.356 L73.6077 253.616 Q71.8485 252.782 70.0429 252.343 Q68.2606 251.903 66.5013 251.903 Q61.8717 251.903 59.418 255.028 Q56.9875 258.153 56.6402 264.472 Q58.006 262.458 60.0662 261.393 Q62.1263 260.305 64.6032 260.305 Q69.8115 260.305 72.8207 263.477 Q75.8531 266.625 75.8531 272.065 Q75.8531 277.389 72.705 280.606 Q69.5568 283.824 64.3254 283.824 Q58.33 283.824 55.1588 279.241 Q51.9875 274.634 51.9875 265.907 Q51.9875 257.713 55.8764 252.852 Q59.7652 247.968 66.3161 247.968 Q68.0754 247.968 69.8578 248.315 Q71.6633 248.662 73.6077 249.356 Z\" fill=\"#000000\" fill-rule=\"nonzero\" fill-opacity=\"1\" /><path clip-path=\"url(#clip020)\" d=\"M93.9086 251.671 Q90.2975 251.671 88.4688 255.236 Q86.6632 258.778 86.6632 265.907 Q86.6632 273.014 88.4688 276.579 Q90.2975 280.12 93.9086 280.12 Q97.5428 280.12 99.3483 276.579 Q101.177 273.014 101.177 265.907 Q101.177 258.778 99.3483 255.236 Q97.5428 251.671 93.9086 251.671 M93.9086 247.968 Q99.7187 247.968 102.774 252.574 Q105.853 257.157 105.853 265.907 Q105.853 274.634 102.774 279.241 Q99.7187 283.824 93.9086 283.824 Q88.0984 283.824 85.0197 279.241 Q81.9642 274.634 81.9642 265.907 Q81.9642 257.157 85.0197 252.574 Q88.0984 247.968 93.9086 247.968 Z\" fill=\"#000000\" fill-rule=\"nonzero\" fill-opacity=\"1\" /><path clip-path=\"url(#clip020)\" d=\"M626.827 12.096 L635.01 12.096 L635.01 36.8875 L664.744 36.8875 L664.744 12.096 L672.927 12.096 L672.927 72.576 L664.744 72.576 L664.744 43.7741 L635.01 43.7741 L635.01 72.576 L626.827 72.576 L626.827 12.096 Z\" fill=\"#000000\" fill-rule=\"nonzero\" fill-opacity=\"1\" /><path clip-path=\"url(#clip020)\" d=\"M688.887 27.2059 L696.341 27.2059 L696.341 72.576 L688.887 72.576 L688.887 27.2059 M688.887 9.54393 L696.341 9.54393 L696.341 18.9825 L688.887 18.9825 L688.887 9.54393 Z\" fill=\"#000000\" fill-rule=\"nonzero\" fill-opacity=\"1\" /><path clip-path=\"url(#clip020)\" d=\"M740.86 28.5427 L740.86 35.5912 Q737.701 33.9709 734.298 33.1607 Q730.895 32.3505 727.249 32.3505 Q721.7 32.3505 718.904 34.0519 Q716.15 35.7533 716.15 39.156 Q716.15 41.7486 718.135 43.2475 Q720.12 44.7058 726.115 46.0426 L728.667 46.6097 Q736.607 48.3111 739.929 51.4303 Q743.291 54.509 743.291 60.0587 Q743.291 66.3781 738.268 70.0644 Q733.285 73.7508 724.535 73.7508 Q720.889 73.7508 716.92 73.0216 Q712.99 72.3329 708.615 70.9151 L708.615 63.2184 Q712.747 65.3654 716.757 66.4591 Q720.768 67.5124 724.697 67.5124 Q729.963 67.5124 732.799 65.73 Q735.635 63.9071 735.635 60.6258 Q735.635 57.5877 733.569 55.9673 Q731.543 54.3469 724.616 52.8481 L722.024 52.2405 Q715.097 50.7821 712.018 47.7845 Q708.939 44.7463 708.939 39.4801 Q708.939 33.0797 713.476 29.5959 Q718.013 26.1121 726.358 26.1121 Q730.49 26.1121 734.136 26.7198 Q737.782 27.3274 740.86 28.5427 Z\" fill=\"#000000\" fill-rule=\"nonzero\" fill-opacity=\"1\" /><path clip-path=\"url(#clip020)\" d=\"M762.533 14.324 L762.533 27.2059 L777.886 27.2059 L777.886 32.9987 L762.533 32.9987 L762.533 57.6282 Q762.533 63.1779 764.032 64.7578 Q765.571 66.3376 770.229 66.3376 L777.886 66.3376 L777.886 72.576 L770.229 72.576 Q761.601 72.576 758.32 69.3758 Q755.039 66.1351 755.039 57.6282 L755.039 32.9987 L749.57 32.9987 L749.57 27.2059 L755.039 27.2059 L755.039 14.324 L762.533 14.324 Z\" fill=\"#000000\" fill-rule=\"nonzero\" fill-opacity=\"1\" /><path clip-path=\"url(#clip020)\" d=\"M805.27 32.4315 Q799.274 32.4315 795.791 37.1306 Q792.307 41.7891 792.307 49.9314 Q792.307 58.0738 795.75 62.7728 Q799.234 67.4314 805.27 67.4314 Q811.225 67.4314 814.708 62.7323 Q818.192 58.0333 818.192 49.9314 Q818.192 41.8701 814.708 37.1711 Q811.225 32.4315 805.27 32.4315 M805.27 26.1121 Q814.992 26.1121 820.542 32.4315 Q826.091 38.7509 826.091 49.9314 Q826.091 61.0714 820.542 67.4314 Q814.992 73.7508 805.27 73.7508 Q795.507 73.7508 789.957 67.4314 Q784.448 61.0714 784.448 49.9314 Q784.448 38.7509 789.957 32.4315 Q795.507 26.1121 805.27 26.1121 Z\" fill=\"#000000\" fill-rule=\"nonzero\" fill-opacity=\"1\" /><path clip-path=\"url(#clip020)\" d=\"M868.302 49.3643 Q868.302 41.2625 864.94 36.8065 Q861.618 32.3505 855.582 32.3505 Q849.587 32.3505 846.224 36.8065 Q842.903 41.2625 842.903 49.3643 Q842.903 57.4256 846.224 61.8816 Q849.587 66.3376 855.582 66.3376 Q861.618 66.3376 864.94 61.8816 Q868.302 57.4256 868.302 49.3643 M875.755 66.9452 Q875.755 78.5308 870.611 84.1616 Q865.466 89.8329 854.853 89.8329 Q850.923 89.8329 847.44 89.2252 Q843.956 88.6581 840.675 87.4428 L840.675 80.1917 Q843.956 81.9741 847.156 82.8248 Q850.356 83.6755 853.678 83.6755 Q861.01 83.6755 864.656 79.8271 Q868.302 76.0193 868.302 68.282 L868.302 64.5957 Q865.993 68.6061 862.388 70.5911 Q858.782 72.576 853.759 72.576 Q845.414 72.576 840.31 66.2161 Q835.206 59.8562 835.206 49.3643 Q835.206 38.832 840.31 32.472 Q845.414 26.1121 853.759 26.1121 Q858.782 26.1121 862.388 28.0971 Q865.993 30.082 868.302 34.0924 L868.302 27.2059 L875.755 27.2059 L875.755 66.9452 Z\" fill=\"#000000\" fill-rule=\"nonzero\" fill-opacity=\"1\" /><path clip-path=\"url(#clip020)\" d=\"M917.399 34.1734 Q916.143 33.4443 914.644 33.1202 Q913.186 32.7556 911.403 32.7556 Q905.084 32.7556 901.681 36.8875 Q898.319 40.9789 898.319 48.6757 L898.319 72.576 L890.825 72.576 L890.825 27.2059 L898.319 27.2059 L898.319 34.2544 Q900.669 30.1225 904.436 28.1376 Q908.203 26.1121 913.591 26.1121 Q914.361 26.1121 915.292 26.2337 Q916.224 26.3147 917.358 26.5172 L917.399 34.1734 Z\" fill=\"#000000\" fill-rule=\"nonzero\" fill-opacity=\"1\" /><path clip-path=\"url(#clip020)\" d=\"M945.836 49.7694 Q936.803 49.7694 933.319 51.8354 Q929.835 53.9013 929.835 58.8839 Q929.835 62.8538 932.428 65.2034 Q935.061 67.5124 939.557 67.5124 Q945.755 67.5124 949.482 63.1374 Q953.249 58.7219 953.249 51.4303 L953.249 49.7694 L945.836 49.7694 M960.703 46.6907 L960.703 72.576 L953.249 72.576 L953.249 65.6895 Q950.697 69.8214 946.889 71.8063 Q943.082 73.7508 937.572 73.7508 Q930.605 73.7508 926.473 69.8619 Q922.381 65.9325 922.381 59.3701 Q922.381 51.7138 927.486 47.825 Q932.63 43.9361 942.798 43.9361 L953.249 43.9361 L953.249 43.2069 Q953.249 38.0623 949.847 35.2672 Q946.484 32.4315 940.367 32.4315 Q936.479 32.4315 932.792 33.3632 Q929.106 34.295 925.703 36.1584 L925.703 29.2718 Q929.795 27.692 933.643 26.9223 Q937.491 26.1121 941.137 26.1121 Q950.981 26.1121 955.842 31.2163 Q960.703 36.3204 960.703 46.6907 Z\" fill=\"#000000\" fill-rule=\"nonzero\" fill-opacity=\"1\" /><path clip-path=\"url(#clip020)\" d=\"M1011.38 35.9153 Q1014.17 30.8922 1018.06 28.5022 Q1021.95 26.1121 1027.22 26.1121 Q1034.31 26.1121 1038.16 31.0947 Q1042 36.0368 1042 45.1919 L1042 72.576 L1034.51 72.576 L1034.51 45.4349 Q1034.51 38.913 1032.2 35.7533 Q1029.89 32.5936 1025.15 32.5936 Q1019.36 32.5936 1016 36.4419 Q1012.64 40.2903 1012.64 46.9338 L1012.64 72.576 L1005.14 72.576 L1005.14 45.4349 Q1005.14 38.8725 1002.83 35.7533 Q1000.52 32.5936 995.703 32.5936 Q989.991 32.5936 986.629 36.4824 Q983.266 40.3308 983.266 46.9338 L983.266 72.576 L975.772 72.576 L975.772 27.2059 L983.266 27.2059 L983.266 34.2544 Q985.819 30.082 989.383 28.0971 Q992.948 26.1121 997.85 26.1121 Q1002.79 26.1121 1006.24 28.6237 Q1009.72 31.1352 1011.38 35.9153 Z\" fill=\"#000000\" fill-rule=\"nonzero\" fill-opacity=\"1\" /><path clip-path=\"url(#clip020)\" d=\"M1085.79 28.5427 L1085.79 35.5912 Q1082.64 33.9709 1079.23 33.1607 Q1075.83 32.3505 1072.18 32.3505 Q1066.63 32.3505 1063.84 34.0519 Q1061.08 35.7533 1061.08 39.156 Q1061.08 41.7486 1063.07 43.2475 Q1065.05 44.7058 1071.05 46.0426 L1073.6 46.6097 Q1081.54 48.3111 1084.86 51.4303 Q1088.23 54.509 1088.23 60.0587 Q1088.23 66.3781 1083.2 70.0644 Q1078.22 73.7508 1069.47 73.7508 Q1065.82 73.7508 1061.85 73.0216 Q1057.92 72.3329 1053.55 70.9151 L1053.55 63.2184 Q1057.68 65.3654 1061.69 66.4591 Q1065.7 67.5124 1069.63 67.5124 Q1074.9 67.5124 1077.73 65.73 Q1080.57 63.9071 1080.57 60.6258 Q1080.57 57.5877 1078.5 55.9673 Q1076.48 54.3469 1069.55 52.8481 L1066.96 52.2405 Q1060.03 50.7821 1056.95 47.7845 Q1053.87 44.7463 1053.87 39.4801 Q1053.87 33.0797 1058.41 29.5959 Q1062.95 26.1121 1071.29 26.1121 Q1075.42 26.1121 1079.07 26.7198 Q1082.72 27.3274 1085.79 28.5427 Z\" fill=\"#000000\" fill-rule=\"nonzero\" fill-opacity=\"1\" /><path clip-path=\"url(#clip020)\" d=\"M1144.05 32.4315 Q1138.05 32.4315 1134.57 37.1306 Q1131.08 41.7891 1131.08 49.9314 Q1131.08 58.0738 1134.53 62.7728 Q1138.01 67.4314 1144.05 67.4314 Q1150 67.4314 1153.49 62.7323 Q1156.97 58.0333 1156.97 49.9314 Q1156.97 41.8701 1153.49 37.1711 Q1150 32.4315 1144.05 32.4315 M1144.05 26.1121 Q1153.77 26.1121 1159.32 32.4315 Q1164.87 38.7509 1164.87 49.9314 Q1164.87 61.0714 1159.32 67.4314 Q1153.77 73.7508 1144.05 73.7508 Q1134.28 73.7508 1128.73 67.4314 Q1123.23 61.0714 1123.23 49.9314 Q1123.23 38.7509 1128.73 32.4315 Q1134.28 26.1121 1144.05 26.1121 Z\" fill=\"#000000\" fill-rule=\"nonzero\" fill-opacity=\"1\" /><path clip-path=\"url(#clip020)\" d=\"M1200.19 9.54393 L1200.19 15.7418 L1193.06 15.7418 Q1189.05 15.7418 1187.47 17.3622 Q1185.93 18.9825 1185.93 23.1955 L1185.93 27.2059 L1198.21 27.2059 L1198.21 32.9987 L1185.93 32.9987 L1185.93 72.576 L1178.44 72.576 L1178.44 32.9987 L1171.31 32.9987 L1171.31 27.2059 L1178.44 27.2059 L1178.44 24.0462 Q1178.44 16.471 1181.96 13.0277 Q1185.49 9.54393 1193.14 9.54393 L1200.19 9.54393 Z\" fill=\"#000000\" fill-rule=\"nonzero\" fill-opacity=\"1\" /><path clip-path=\"url(#clip020)\" d=\"M1255.77 9.54393 L1255.77 15.7418 L1248.64 15.7418 Q1244.63 15.7418 1243.05 17.3622 Q1241.51 18.9825 1241.51 23.1955 L1241.51 27.2059 L1253.79 27.2059 L1253.79 32.9987 L1241.51 32.9987 L1241.51 72.576 L1234.02 72.576 L1234.02 32.9987 L1226.89 32.9987 L1226.89 27.2059 L1234.02 27.2059 L1234.02 24.0462 Q1234.02 16.471 1237.54 13.0277 Q1241.07 9.54393 1248.72 9.54393 L1255.77 9.54393 Z\" fill=\"#000000\" fill-rule=\"nonzero\" fill-opacity=\"1\" /><path clip-path=\"url(#clip020)\" d=\"M1262.01 27.2059 L1269.46 27.2059 L1269.46 72.576 L1262.01 72.576 L1262.01 27.2059 M1262.01 9.54393 L1269.46 9.54393 L1269.46 18.9825 L1262.01 18.9825 L1262.01 9.54393 Z\" fill=\"#000000\" fill-rule=\"nonzero\" fill-opacity=\"1\" /><path clip-path=\"url(#clip020)\" d=\"M1322.77 45.1919 L1322.77 72.576 L1315.32 72.576 L1315.32 45.4349 Q1315.32 38.994 1312.81 35.7938 Q1310.3 32.5936 1305.27 32.5936 Q1299.24 32.5936 1295.75 36.4419 Q1292.27 40.2903 1292.27 46.9338 L1292.27 72.576 L1284.78 72.576 L1284.78 27.2059 L1292.27 27.2059 L1292.27 34.2544 Q1294.94 30.163 1298.55 28.1376 Q1302.19 26.1121 1306.93 26.1121 Q1314.75 26.1121 1318.76 30.9732 Q1322.77 35.7938 1322.77 45.1919 Z\" fill=\"#000000\" fill-rule=\"nonzero\" fill-opacity=\"1\" /><path clip-path=\"url(#clip020)\" d=\"M1358.26 49.7694 Q1349.23 49.7694 1345.74 51.8354 Q1342.26 53.9013 1342.26 58.8839 Q1342.26 62.8538 1344.85 65.2034 Q1347.48 67.5124 1351.98 67.5124 Q1358.18 67.5124 1361.9 63.1374 Q1365.67 58.7219 1365.67 51.4303 L1365.67 49.7694 L1358.26 49.7694 M1373.13 46.6907 L1373.13 72.576 L1365.67 72.576 L1365.67 65.6895 Q1363.12 69.8214 1359.31 71.8063 Q1355.5 73.7508 1349.99 73.7508 Q1343.03 73.7508 1338.9 69.8619 Q1334.8 65.9325 1334.8 59.3701 Q1334.8 51.7138 1339.91 47.825 Q1345.05 43.9361 1355.22 43.9361 L1365.67 43.9361 L1365.67 43.2069 Q1365.67 38.0623 1362.27 35.2672 Q1358.91 32.4315 1352.79 32.4315 Q1348.9 32.4315 1345.21 33.3632 Q1341.53 34.295 1338.13 36.1584 L1338.13 29.2718 Q1342.22 27.692 1346.07 26.9223 Q1349.91 26.1121 1353.56 26.1121 Q1363.4 26.1121 1368.26 31.2163 Q1373.13 36.3204 1373.13 46.6907 Z\" fill=\"#000000\" fill-rule=\"nonzero\" fill-opacity=\"1\" /><path clip-path=\"url(#clip020)\" d=\"M1388.48 9.54393 L1395.93 9.54393 L1395.93 72.576 L1388.48 72.576 L1388.48 9.54393 Z\" fill=\"#000000\" fill-rule=\"nonzero\" fill-opacity=\"1\" /><path clip-path=\"url(#clip020)\" d=\"M1432.55 27.2059 L1440.45 27.2059 L1454.63 65.2844 L1468.81 27.2059 L1476.71 27.2059 L1459.69 72.576 L1449.57 72.576 L1432.55 27.2059 Z\" fill=\"#000000\" fill-rule=\"nonzero\" fill-opacity=\"1\" /><path clip-path=\"url(#clip020)\" d=\"M1507.62 49.7694 Q1498.58 49.7694 1495.1 51.8354 Q1491.61 53.9013 1491.61 58.8839 Q1491.61 62.8538 1494.21 65.2034 Q1496.84 67.5124 1501.34 67.5124 Q1507.53 67.5124 1511.26 63.1374 Q1515.03 58.7219 1515.03 51.4303 L1515.03 49.7694 L1507.62 49.7694 M1522.48 46.6907 L1522.48 72.576 L1515.03 72.576 L1515.03 65.6895 Q1512.48 69.8214 1508.67 71.8063 Q1504.86 73.7508 1499.35 73.7508 Q1492.38 73.7508 1488.25 69.8619 Q1484.16 65.9325 1484.16 59.3701 Q1484.16 51.7138 1489.26 47.825 Q1494.41 43.9361 1504.58 43.9361 L1515.03 43.9361 L1515.03 43.2069 Q1515.03 38.0623 1511.63 35.2672 Q1508.26 32.4315 1502.15 32.4315 Q1498.26 32.4315 1494.57 33.3632 Q1490.89 34.295 1487.48 36.1584 L1487.48 29.2718 Q1491.57 27.692 1495.42 26.9223 Q1499.27 26.1121 1502.92 26.1121 Q1512.76 26.1121 1517.62 31.2163 Q1522.48 36.3204 1522.48 46.6907 Z\" fill=\"#000000\" fill-rule=\"nonzero\" fill-opacity=\"1\" /><path clip-path=\"url(#clip020)\" d=\"M1537.84 9.54393 L1545.29 9.54393 L1545.29 72.576 L1537.84 72.576 L1537.84 9.54393 Z\" fill=\"#000000\" fill-rule=\"nonzero\" fill-opacity=\"1\" /><path clip-path=\"url(#clip020)\" d=\"M1560.12 54.671 L1560.12 27.2059 L1567.57 27.2059 L1567.57 54.3874 Q1567.57 60.8284 1570.08 64.0691 Q1572.59 67.2693 1577.62 67.2693 Q1583.65 67.2693 1587.13 63.421 Q1590.66 59.5726 1590.66 52.9291 L1590.66 27.2059 L1598.11 27.2059 L1598.11 72.576 L1590.66 72.576 L1590.66 65.6084 Q1587.94 69.7404 1584.34 71.7658 Q1580.77 73.7508 1576.04 73.7508 Q1568.22 73.7508 1564.17 68.8897 Q1560.12 64.0286 1560.12 54.671 M1578.87 26.1121 L1578.87 26.1121 Z\" fill=\"#000000\" fill-rule=\"nonzero\" fill-opacity=\"1\" /><path clip-path=\"url(#clip020)\" d=\"M1652.27 48.0275 L1652.27 51.6733 L1618 51.6733 Q1618.49 59.3701 1622.62 63.421 Q1626.79 67.4314 1634.21 67.4314 Q1638.5 67.4314 1642.51 66.3781 Q1646.56 65.3249 1650.53 63.2184 L1650.53 70.267 Q1646.52 71.9684 1642.31 72.8596 Q1638.1 73.7508 1633.76 73.7508 Q1622.9 73.7508 1616.54 67.4314 Q1610.22 61.1119 1610.22 50.3365 Q1610.22 39.1965 1616.22 32.6746 Q1622.26 26.1121 1632.46 26.1121 Q1641.62 26.1121 1646.93 32.0264 Q1652.27 37.9003 1652.27 48.0275 M1644.82 45.84 Q1644.74 39.7232 1641.38 36.0774 Q1638.05 32.4315 1632.55 32.4315 Q1626.31 32.4315 1622.54 35.9558 Q1618.81 39.4801 1618.25 45.8805 L1644.82 45.84 Z\" fill=\"#000000\" fill-rule=\"nonzero\" fill-opacity=\"1\" /><path clip-path=\"url(#clip020)\" d=\"M1693.43 28.5427 L1693.43 35.5912 Q1690.27 33.9709 1686.87 33.1607 Q1683.47 32.3505 1679.82 32.3505 Q1674.27 32.3505 1671.47 34.0519 Q1668.72 35.7533 1668.72 39.156 Q1668.72 41.7486 1670.7 43.2475 Q1672.69 44.7058 1678.69 46.0426 L1681.24 46.6097 Q1689.18 48.3111 1692.5 51.4303 Q1695.86 54.509 1695.86 60.0587 Q1695.86 66.3781 1690.84 70.0644 Q1685.86 73.7508 1677.11 73.7508 Q1673.46 73.7508 1669.49 73.0216 Q1665.56 72.3329 1661.19 70.9151 L1661.19 63.2184 Q1665.32 65.3654 1669.33 66.4591 Q1673.34 67.5124 1677.27 67.5124 Q1682.53 67.5124 1685.37 65.73 Q1688.2 63.9071 1688.2 60.6258 Q1688.2 57.5877 1686.14 55.9673 Q1684.11 54.3469 1677.19 52.8481 L1674.59 52.2405 Q1667.67 50.7821 1664.59 47.7845 Q1661.51 44.7463 1661.51 39.4801 Q1661.51 33.0797 1666.05 29.5959 Q1670.58 26.1121 1678.93 26.1121 Q1683.06 26.1121 1686.71 26.7198 Q1690.35 27.3274 1693.43 28.5427 Z\" fill=\"#000000\" fill-rule=\"nonzero\" fill-opacity=\"1\" /><path clip-path=\"url(#clip020)\" d=\"M1752.98 76.7889 Q1749.82 84.8907 1746.82 87.3618 Q1743.82 89.8329 1738.8 89.8329 L1732.85 89.8329 L1732.85 83.5945 L1737.22 83.5945 Q1740.3 83.5945 1742 82.1361 Q1743.7 80.6778 1745.77 75.2496 L1747.1 71.8468 L1728.75 27.2059 L1736.65 27.2059 L1750.83 62.6918 L1765.01 27.2059 L1772.91 27.2059 L1752.98 76.7889 Z\" fill=\"#000000\" fill-rule=\"nonzero\" fill-opacity=\"1\" /><path clip-path=\"url(#clip020)\" d=\"M1817.67 86.3491 L1817.67 92.1419 L1774.57 92.1419 L1774.57 86.3491 L1817.67 86.3491 Z\" fill=\"#000000\" fill-rule=\"nonzero\" fill-opacity=\"1\" /><path clip-path=\"url(#clip020)\" d=\"M1816.62 12.096 L1867.78 12.096 L1867.78 18.9825 L1846.31 18.9825 L1846.31 72.576 L1838.09 72.576 L1838.09 18.9825 L1816.62 18.9825 L1816.62 12.096 Z\" fill=\"#000000\" fill-rule=\"nonzero\" fill-opacity=\"1\" /><path clip-path=\"url(#clip022)\" d=\"M213.794 1405.08 L213.794 1486.45 L248.493 1486.45 L248.493 1405.08 L213.794 1405.08 L213.794 1405.08  Z\" fill=\"#009af9\" fill-rule=\"evenodd\" fill-opacity=\"1\"/>\n",
       "<polyline clip-path=\"url(#clip022)\" style=\"stroke:#000000; stroke-linecap:round; stroke-linejoin:round; stroke-width:4; stroke-opacity:1; fill:none\" points=\"213.794,1405.08 213.794,1486.45 248.493,1486.45 248.493,1405.08 213.794,1405.08 \"/>\n",
       "<path clip-path=\"url(#clip022)\" d=\"M248.493 1221.99 L248.493 1486.45 L283.192 1486.45 L283.192 1221.99 L248.493 1221.99 L248.493 1221.99  Z\" fill=\"#009af9\" fill-rule=\"evenodd\" fill-opacity=\"1\"/>\n",
       "<polyline clip-path=\"url(#clip022)\" style=\"stroke:#000000; stroke-linecap:round; stroke-linejoin:round; stroke-width:4; stroke-opacity:1; fill:none\" points=\"248.493,1221.99 248.493,1486.45 283.192,1486.45 283.192,1221.99 248.493,1221.99 \"/>\n",
       "<path clip-path=\"url(#clip022)\" d=\"M283.192 733.76 L283.192 1486.45 L317.891 1486.45 L317.891 733.76 L283.192 733.76 L283.192 733.76  Z\" fill=\"#009af9\" fill-rule=\"evenodd\" fill-opacity=\"1\"/>\n",
       "<polyline clip-path=\"url(#clip022)\" style=\"stroke:#000000; stroke-linecap:round; stroke-linejoin:round; stroke-width:4; stroke-opacity:1; fill:none\" points=\"283.192,733.76 283.192,1486.45 317.891,1486.45 317.891,733.76 283.192,733.76 \"/>\n",
       "<path clip-path=\"url(#clip022)\" d=\"M317.891 713.417 L317.891 1486.45 L352.59 1486.45 L352.59 713.417 L317.891 713.417 L317.891 713.417  Z\" fill=\"#009af9\" fill-rule=\"evenodd\" fill-opacity=\"1\"/>\n",
       "<polyline clip-path=\"url(#clip022)\" style=\"stroke:#000000; stroke-linecap:round; stroke-linejoin:round; stroke-width:4; stroke-opacity:1; fill:none\" points=\"317.891,713.417 317.891,1486.45 352.59,1486.45 352.59,713.417 317.891,713.417 \"/>\n",
       "<path clip-path=\"url(#clip022)\" d=\"M352.59 387.93 L352.59 1486.45 L387.289 1486.45 L387.289 387.93 L352.59 387.93 L352.59 387.93  Z\" fill=\"#009af9\" fill-rule=\"evenodd\" fill-opacity=\"1\"/>\n",
       "<polyline clip-path=\"url(#clip022)\" style=\"stroke:#000000; stroke-linecap:round; stroke-linejoin:round; stroke-width:4; stroke-opacity:1; fill:none\" points=\"352.59,387.93 352.59,1486.45 387.289,1486.45 387.289,387.93 352.59,387.93 \"/>\n",
       "<path clip-path=\"url(#clip022)\" d=\"M387.289 876.16 L387.289 1486.45 L421.988 1486.45 L421.988 876.16 L387.289 876.16 L387.289 876.16  Z\" fill=\"#009af9\" fill-rule=\"evenodd\" fill-opacity=\"1\"/>\n",
       "<polyline clip-path=\"url(#clip022)\" style=\"stroke:#000000; stroke-linecap:round; stroke-linejoin:round; stroke-width:4; stroke-opacity:1; fill:none\" points=\"387.289,876.16 387.289,1486.45 421.988,1486.45 421.988,876.16 387.289,876.16 \"/>\n",
       "<path clip-path=\"url(#clip022)\" d=\"M421.988 1181.3 L421.988 1486.45 L456.687 1486.45 L456.687 1181.3 L421.988 1181.3 L421.988 1181.3  Z\" fill=\"#009af9\" fill-rule=\"evenodd\" fill-opacity=\"1\"/>\n",
       "<polyline clip-path=\"url(#clip022)\" style=\"stroke:#000000; stroke-linecap:round; stroke-linejoin:round; stroke-width:4; stroke-opacity:1; fill:none\" points=\"421.988,1181.3 421.988,1486.45 456.687,1486.45 456.687,1181.3 421.988,1181.3 \"/>\n",
       "<path clip-path=\"url(#clip022)\" d=\"M456.687 1405.08 L456.687 1486.45 L491.386 1486.45 L491.386 1405.08 L456.687 1405.08 L456.687 1405.08  Z\" fill=\"#009af9\" fill-rule=\"evenodd\" fill-opacity=\"1\"/>\n",
       "<polyline clip-path=\"url(#clip022)\" style=\"stroke:#000000; stroke-linecap:round; stroke-linejoin:round; stroke-width:4; stroke-opacity:1; fill:none\" points=\"456.687,1405.08 456.687,1486.45 491.386,1486.45 491.386,1405.08 456.687,1405.08 \"/>\n",
       "<path clip-path=\"url(#clip022)\" d=\"M491.386 1384.73 L491.386 1486.45 L526.085 1486.45 L526.085 1384.73 L491.386 1384.73 L491.386 1384.73  Z\" fill=\"#009af9\" fill-rule=\"evenodd\" fill-opacity=\"1\"/>\n",
       "<polyline clip-path=\"url(#clip022)\" style=\"stroke:#000000; stroke-linecap:round; stroke-linejoin:round; stroke-width:4; stroke-opacity:1; fill:none\" points=\"491.386,1384.73 491.386,1486.45 526.085,1486.45 526.085,1384.73 491.386,1384.73 \"/>\n",
       "<circle clip-path=\"url(#clip022)\" style=\"fill:#009af9; stroke:none; fill-opacity:0\" cx=\"231.144\" cy=\"1405.08\" r=\"2\"/>\n",
       "<circle clip-path=\"url(#clip022)\" style=\"fill:#009af9; stroke:none; fill-opacity:0\" cx=\"265.843\" cy=\"1221.99\" r=\"2\"/>\n",
       "<circle clip-path=\"url(#clip022)\" style=\"fill:#009af9; stroke:none; fill-opacity:0\" cx=\"300.542\" cy=\"733.76\" r=\"2\"/>\n",
       "<circle clip-path=\"url(#clip022)\" style=\"fill:#009af9; stroke:none; fill-opacity:0\" cx=\"335.241\" cy=\"713.417\" r=\"2\"/>\n",
       "<circle clip-path=\"url(#clip022)\" style=\"fill:#009af9; stroke:none; fill-opacity:0\" cx=\"369.94\" cy=\"387.93\" r=\"2\"/>\n",
       "<circle clip-path=\"url(#clip022)\" style=\"fill:#009af9; stroke:none; fill-opacity:0\" cx=\"404.639\" cy=\"876.16\" r=\"2\"/>\n",
       "<circle clip-path=\"url(#clip022)\" style=\"fill:#009af9; stroke:none; fill-opacity:0\" cx=\"439.338\" cy=\"1181.3\" r=\"2\"/>\n",
       "<circle clip-path=\"url(#clip022)\" style=\"fill:#009af9; stroke:none; fill-opacity:0\" cx=\"474.037\" cy=\"1405.08\" r=\"2\"/>\n",
       "<circle clip-path=\"url(#clip022)\" style=\"fill:#009af9; stroke:none; fill-opacity:0\" cx=\"508.736\" cy=\"1384.73\" r=\"2\"/>\n",
       "<path clip-path=\"url(#clip022)\" d=\"M317.891 1364.39 L317.891 1486.45 L387.289 1486.45 L387.289 1364.39 L317.891 1364.39 L317.891 1364.39  Z\" fill=\"#e26f46\" fill-rule=\"evenodd\" fill-opacity=\"1\"/>\n",
       "<polyline clip-path=\"url(#clip022)\" style=\"stroke:#000000; stroke-linecap:round; stroke-linejoin:round; stroke-width:4; stroke-opacity:1; fill:none\" points=\"317.891,1364.39 317.891,1486.45 387.289,1486.45 387.289,1364.39 317.891,1364.39 \"/>\n",
       "<path clip-path=\"url(#clip022)\" d=\"M387.289 815.131 L387.289 1486.45 L456.687 1486.45 L456.687 815.131 L387.289 815.131 L387.289 815.131  Z\" fill=\"#e26f46\" fill-rule=\"evenodd\" fill-opacity=\"1\"/>\n",
       "<polyline clip-path=\"url(#clip022)\" style=\"stroke:#000000; stroke-linecap:round; stroke-linejoin:round; stroke-width:4; stroke-opacity:1; fill:none\" points=\"387.289,815.131 387.289,1486.45 456.687,1486.45 456.687,815.131 387.289,815.131 \"/>\n",
       "<path clip-path=\"url(#clip022)\" d=\"M456.687 123.472 L456.687 1486.45 L526.085 1486.45 L526.085 123.472 L456.687 123.472 L456.687 123.472  Z\" fill=\"#e26f46\" fill-rule=\"evenodd\" fill-opacity=\"1\"/>\n",
       "<polyline clip-path=\"url(#clip022)\" style=\"stroke:#000000; stroke-linecap:round; stroke-linejoin:round; stroke-width:4; stroke-opacity:1; fill:none\" points=\"456.687,123.472 456.687,1486.45 526.085,1486.45 526.085,123.472 456.687,123.472 \"/>\n",
       "<path clip-path=\"url(#clip022)\" d=\"M526.085 550.673 L526.085 1486.45 L595.484 1486.45 L595.484 550.673 L526.085 550.673 L526.085 550.673  Z\" fill=\"#e26f46\" fill-rule=\"evenodd\" fill-opacity=\"1\"/>\n",
       "<polyline clip-path=\"url(#clip022)\" style=\"stroke:#000000; stroke-linecap:round; stroke-linejoin:round; stroke-width:4; stroke-opacity:1; fill:none\" points=\"526.085,550.673 526.085,1486.45 595.484,1486.45 595.484,550.673 526.085,550.673 \"/>\n",
       "<path clip-path=\"url(#clip022)\" d=\"M595.484 571.016 L595.484 1486.45 L664.882 1486.45 L664.882 571.016 L595.484 571.016 L595.484 571.016  Z\" fill=\"#e26f46\" fill-rule=\"evenodd\" fill-opacity=\"1\"/>\n",
       "<polyline clip-path=\"url(#clip022)\" style=\"stroke:#000000; stroke-linecap:round; stroke-linejoin:round; stroke-width:4; stroke-opacity:1; fill:none\" points=\"595.484,571.016 595.484,1486.45 664.882,1486.45 664.882,571.016 595.484,571.016 \"/>\n",
       "<path clip-path=\"url(#clip022)\" d=\"M664.882 1425.42 L664.882 1486.45 L734.28 1486.45 L734.28 1425.42 L664.882 1425.42 L664.882 1425.42  Z\" fill=\"#e26f46\" fill-rule=\"evenodd\" fill-opacity=\"1\"/>\n",
       "<polyline clip-path=\"url(#clip022)\" style=\"stroke:#000000; stroke-linecap:round; stroke-linejoin:round; stroke-width:4; stroke-opacity:1; fill:none\" points=\"664.882,1425.42 664.882,1486.45 734.28,1486.45 734.28,1425.42 664.882,1425.42 \"/>\n",
       "<circle clip-path=\"url(#clip022)\" style=\"fill:#e26f46; stroke:none; fill-opacity:0\" cx=\"352.59\" cy=\"1364.39\" r=\"2\"/>\n",
       "<circle clip-path=\"url(#clip022)\" style=\"fill:#e26f46; stroke:none; fill-opacity:0\" cx=\"421.988\" cy=\"815.131\" r=\"2\"/>\n",
       "<circle clip-path=\"url(#clip022)\" style=\"fill:#e26f46; stroke:none; fill-opacity:0\" cx=\"491.386\" cy=\"123.472\" r=\"2\"/>\n",
       "<circle clip-path=\"url(#clip022)\" style=\"fill:#e26f46; stroke:none; fill-opacity:0\" cx=\"560.785\" cy=\"550.673\" r=\"2\"/>\n",
       "<circle clip-path=\"url(#clip022)\" style=\"fill:#e26f46; stroke:none; fill-opacity:0\" cx=\"630.183\" cy=\"571.016\" r=\"2\"/>\n",
       "<circle clip-path=\"url(#clip022)\" style=\"fill:#e26f46; stroke:none; fill-opacity:0\" cx=\"699.581\" cy=\"1425.42\" r=\"2\"/>\n",
       "<path clip-path=\"url(#clip022)\" d=\"M1289.46 1466.1 L1289.46 1486.45 L1358.86 1486.45 L1358.86 1466.1 L1289.46 1466.1 L1289.46 1466.1  Z\" fill=\"#3da44d\" fill-rule=\"evenodd\" fill-opacity=\"1\"/>\n",
       "<polyline clip-path=\"url(#clip022)\" style=\"stroke:#000000; stroke-linecap:round; stroke-linejoin:round; stroke-width:4; stroke-opacity:1; fill:none\" points=\"1289.46,1466.1 1289.46,1486.45 1358.86,1486.45 1358.86,1466.1 1289.46,1466.1 \"/>\n",
       "<path clip-path=\"url(#clip022)\" d=\"M1358.86 1466.1 L1358.86 1486.45 L1428.26 1486.45 L1428.26 1466.1 L1358.86 1466.1 L1358.86 1466.1  Z\" fill=\"#3da44d\" fill-rule=\"evenodd\" fill-opacity=\"1\"/>\n",
       "<polyline clip-path=\"url(#clip022)\" style=\"stroke:#000000; stroke-linecap:round; stroke-linejoin:round; stroke-width:4; stroke-opacity:1; fill:none\" points=\"1358.86,1466.1 1358.86,1486.45 1428.26,1486.45 1428.26,1466.1 1358.86,1466.1 \"/>\n",
       "<path clip-path=\"url(#clip022)\" d=\"M1428.26 1445.76 L1428.26 1486.45 L1497.66 1486.45 L1497.66 1445.76 L1428.26 1445.76 L1428.26 1445.76  Z\" fill=\"#3da44d\" fill-rule=\"evenodd\" fill-opacity=\"1\"/>\n",
       "<polyline clip-path=\"url(#clip022)\" style=\"stroke:#000000; stroke-linecap:round; stroke-linejoin:round; stroke-width:4; stroke-opacity:1; fill:none\" points=\"1428.26,1445.76 1428.26,1486.45 1497.66,1486.45 1497.66,1445.76 1428.26,1445.76 \"/>\n",
       "<path clip-path=\"url(#clip022)\" d=\"M1497.66 1364.39 L1497.66 1486.45 L1567.06 1486.45 L1567.06 1364.39 L1497.66 1364.39 L1497.66 1364.39  Z\" fill=\"#3da44d\" fill-rule=\"evenodd\" fill-opacity=\"1\"/>\n",
       "<polyline clip-path=\"url(#clip022)\" style=\"stroke:#000000; stroke-linecap:round; stroke-linejoin:round; stroke-width:4; stroke-opacity:1; fill:none\" points=\"1497.66,1364.39 1497.66,1486.45 1567.06,1486.45 1567.06,1364.39 1497.66,1364.39 \"/>\n",
       "<path clip-path=\"url(#clip022)\" d=\"M1567.06 1181.3 L1567.06 1486.45 L1636.45 1486.45 L1636.45 1181.3 L1567.06 1181.3 L1567.06 1181.3  Z\" fill=\"#3da44d\" fill-rule=\"evenodd\" fill-opacity=\"1\"/>\n",
       "<polyline clip-path=\"url(#clip022)\" style=\"stroke:#000000; stroke-linecap:round; stroke-linejoin:round; stroke-width:4; stroke-opacity:1; fill:none\" points=\"1567.06,1181.3 1567.06,1486.45 1636.45,1486.45 1636.45,1181.3 1567.06,1181.3 \"/>\n",
       "<path clip-path=\"url(#clip022)\" d=\"M1636.45 1059.25 L1636.45 1486.45 L1705.85 1486.45 L1705.85 1059.25 L1636.45 1059.25 L1636.45 1059.25  Z\" fill=\"#3da44d\" fill-rule=\"evenodd\" fill-opacity=\"1\"/>\n",
       "<polyline clip-path=\"url(#clip022)\" style=\"stroke:#000000; stroke-linecap:round; stroke-linejoin:round; stroke-width:4; stroke-opacity:1; fill:none\" points=\"1636.45,1059.25 1636.45,1486.45 1705.85,1486.45 1705.85,1059.25 1636.45,1059.25 \"/>\n",
       "<path clip-path=\"url(#clip022)\" d=\"M1705.85 1059.25 L1705.85 1486.45 L1775.25 1486.45 L1775.25 1059.25 L1705.85 1059.25 L1705.85 1059.25  Z\" fill=\"#3da44d\" fill-rule=\"evenodd\" fill-opacity=\"1\"/>\n",
       "<polyline clip-path=\"url(#clip022)\" style=\"stroke:#000000; stroke-linecap:round; stroke-linejoin:round; stroke-width:4; stroke-opacity:1; fill:none\" points=\"1705.85,1059.25 1705.85,1486.45 1775.25,1486.45 1775.25,1059.25 1705.85,1059.25 \"/>\n",
       "<path clip-path=\"url(#clip022)\" d=\"M1775.25 632.045 L1775.25 1486.45 L1844.65 1486.45 L1844.65 632.045 L1775.25 632.045 L1775.25 632.045  Z\" fill=\"#3da44d\" fill-rule=\"evenodd\" fill-opacity=\"1\"/>\n",
       "<polyline clip-path=\"url(#clip022)\" style=\"stroke:#000000; stroke-linecap:round; stroke-linejoin:round; stroke-width:4; stroke-opacity:1; fill:none\" points=\"1775.25,632.045 1775.25,1486.45 1844.65,1486.45 1844.65,632.045 1775.25,632.045 \"/>\n",
       "<path clip-path=\"url(#clip022)\" d=\"M1844.65 916.846 L1844.65 1486.45 L1914.05 1486.45 L1914.05 916.846 L1844.65 916.846 L1844.65 916.846  Z\" fill=\"#3da44d\" fill-rule=\"evenodd\" fill-opacity=\"1\"/>\n",
       "<polyline clip-path=\"url(#clip022)\" style=\"stroke:#000000; stroke-linecap:round; stroke-linejoin:round; stroke-width:4; stroke-opacity:1; fill:none\" points=\"1844.65,916.846 1844.65,1486.45 1914.05,1486.45 1914.05,916.846 1844.65,916.846 \"/>\n",
       "<path clip-path=\"url(#clip022)\" d=\"M1914.05 896.503 L1914.05 1486.45 L1983.44 1486.45 L1983.44 896.503 L1914.05 896.503 L1914.05 896.503  Z\" fill=\"#3da44d\" fill-rule=\"evenodd\" fill-opacity=\"1\"/>\n",
       "<polyline clip-path=\"url(#clip022)\" style=\"stroke:#000000; stroke-linecap:round; stroke-linejoin:round; stroke-width:4; stroke-opacity:1; fill:none\" points=\"1914.05,896.503 1914.05,1486.45 1983.44,1486.45 1983.44,896.503 1914.05,896.503 \"/>\n",
       "<path clip-path=\"url(#clip022)\" d=\"M1983.44 1181.3 L1983.44 1486.45 L2052.84 1486.45 L2052.84 1181.3 L1983.44 1181.3 L1983.44 1181.3  Z\" fill=\"#3da44d\" fill-rule=\"evenodd\" fill-opacity=\"1\"/>\n",
       "<polyline clip-path=\"url(#clip022)\" style=\"stroke:#000000; stroke-linecap:round; stroke-linejoin:round; stroke-width:4; stroke-opacity:1; fill:none\" points=\"1983.44,1181.3 1983.44,1486.45 2052.84,1486.45 2052.84,1181.3 1983.44,1181.3 \"/>\n",
       "<path clip-path=\"url(#clip022)\" d=\"M2052.84 1303.36 L2052.84 1486.45 L2122.24 1486.45 L2122.24 1303.36 L2052.84 1303.36 L2052.84 1303.36  Z\" fill=\"#3da44d\" fill-rule=\"evenodd\" fill-opacity=\"1\"/>\n",
       "<polyline clip-path=\"url(#clip022)\" style=\"stroke:#000000; stroke-linecap:round; stroke-linejoin:round; stroke-width:4; stroke-opacity:1; fill:none\" points=\"2052.84,1303.36 2052.84,1486.45 2122.24,1486.45 2122.24,1303.36 2052.84,1303.36 \"/>\n",
       "<path clip-path=\"url(#clip022)\" d=\"M2122.24 1344.05 L2122.24 1486.45 L2191.64 1486.45 L2191.64 1344.05 L2122.24 1344.05 L2122.24 1344.05  Z\" fill=\"#3da44d\" fill-rule=\"evenodd\" fill-opacity=\"1\"/>\n",
       "<polyline clip-path=\"url(#clip022)\" style=\"stroke:#000000; stroke-linecap:round; stroke-linejoin:round; stroke-width:4; stroke-opacity:1; fill:none\" points=\"2122.24,1344.05 2122.24,1486.45 2191.64,1486.45 2191.64,1344.05 2122.24,1344.05 \"/>\n",
       "<path clip-path=\"url(#clip022)\" d=\"M2191.64 1425.42 L2191.64 1486.45 L2261.04 1486.45 L2261.04 1425.42 L2191.64 1425.42 L2191.64 1425.42  Z\" fill=\"#3da44d\" fill-rule=\"evenodd\" fill-opacity=\"1\"/>\n",
       "<polyline clip-path=\"url(#clip022)\" style=\"stroke:#000000; stroke-linecap:round; stroke-linejoin:round; stroke-width:4; stroke-opacity:1; fill:none\" points=\"2191.64,1425.42 2191.64,1486.45 2261.04,1486.45 2261.04,1425.42 2191.64,1425.42 \"/>\n",
       "<circle clip-path=\"url(#clip022)\" style=\"fill:#3da44d; stroke:none; fill-opacity:0\" cx=\"1324.16\" cy=\"1466.1\" r=\"2\"/>\n",
       "<circle clip-path=\"url(#clip022)\" style=\"fill:#3da44d; stroke:none; fill-opacity:0\" cx=\"1393.56\" cy=\"1466.1\" r=\"2\"/>\n",
       "<circle clip-path=\"url(#clip022)\" style=\"fill:#3da44d; stroke:none; fill-opacity:0\" cx=\"1462.96\" cy=\"1445.76\" r=\"2\"/>\n",
       "<circle clip-path=\"url(#clip022)\" style=\"fill:#3da44d; stroke:none; fill-opacity:0\" cx=\"1532.36\" cy=\"1364.39\" r=\"2\"/>\n",
       "<circle clip-path=\"url(#clip022)\" style=\"fill:#3da44d; stroke:none; fill-opacity:0\" cx=\"1601.75\" cy=\"1181.3\" r=\"2\"/>\n",
       "<circle clip-path=\"url(#clip022)\" style=\"fill:#3da44d; stroke:none; fill-opacity:0\" cx=\"1671.15\" cy=\"1059.25\" r=\"2\"/>\n",
       "<circle clip-path=\"url(#clip022)\" style=\"fill:#3da44d; stroke:none; fill-opacity:0\" cx=\"1740.55\" cy=\"1059.25\" r=\"2\"/>\n",
       "<circle clip-path=\"url(#clip022)\" style=\"fill:#3da44d; stroke:none; fill-opacity:0\" cx=\"1809.95\" cy=\"632.045\" r=\"2\"/>\n",
       "<circle clip-path=\"url(#clip022)\" style=\"fill:#3da44d; stroke:none; fill-opacity:0\" cx=\"1879.35\" cy=\"916.846\" r=\"2\"/>\n",
       "<circle clip-path=\"url(#clip022)\" style=\"fill:#3da44d; stroke:none; fill-opacity:0\" cx=\"1948.74\" cy=\"896.503\" r=\"2\"/>\n",
       "<circle clip-path=\"url(#clip022)\" style=\"fill:#3da44d; stroke:none; fill-opacity:0\" cx=\"2018.14\" cy=\"1181.3\" r=\"2\"/>\n",
       "<circle clip-path=\"url(#clip022)\" style=\"fill:#3da44d; stroke:none; fill-opacity:0\" cx=\"2087.54\" cy=\"1303.36\" r=\"2\"/>\n",
       "<circle clip-path=\"url(#clip022)\" style=\"fill:#3da44d; stroke:none; fill-opacity:0\" cx=\"2156.94\" cy=\"1344.05\" r=\"2\"/>\n",
       "<circle clip-path=\"url(#clip022)\" style=\"fill:#3da44d; stroke:none; fill-opacity:0\" cx=\"2226.34\" cy=\"1425.42\" r=\"2\"/>\n",
       "<path clip-path=\"url(#clip020)\" d=\"M1859.41 376.265 L2279.06 376.265 L2279.06 168.905 L1859.41 168.905  Z\" fill=\"#ffffff\" fill-rule=\"evenodd\" fill-opacity=\"1\"/>\n",
       "<polyline clip-path=\"url(#clip020)\" style=\"stroke:#000000; stroke-linecap:round; stroke-linejoin:round; stroke-width:4; stroke-opacity:1; fill:none\" points=\"1859.41,376.265 2279.06,376.265 2279.06,168.905 1859.41,168.905 1859.41,376.265 \"/>\n",
       "<path clip-path=\"url(#clip020)\" d=\"M1883.97 241.481 L2031.36 241.481 L2031.36 200.009 L1883.97 200.009 L1883.97 241.481  Z\" fill=\"#009af9\" fill-rule=\"evenodd\" fill-opacity=\"1\"/>\n",
       "<polyline clip-path=\"url(#clip020)\" style=\"stroke:#000000; stroke-linecap:round; stroke-linejoin:round; stroke-width:4; stroke-opacity:1; fill:none\" points=\"1883.97,241.481 2031.36,241.481 2031.36,200.009 1883.97,200.009 1883.97,241.481 \"/>\n",
       "<path clip-path=\"url(#clip020)\" d=\"M2075.19 221.59 L2060.44 221.59 Q2060.79 228.511 2062.39 231.451 Q2064.38 235.062 2067.83 235.062 Q2071.3 235.062 2073.22 231.427 Q2074.91 228.233 2075.19 221.59 M2075.12 217.654 Q2074.47 211.08 2073.22 208.766 Q2071.23 205.108 2067.83 205.108 Q2064.29 205.108 2062.41 208.719 Q2060.93 211.636 2060.49 217.654 L2075.12 217.654 M2067.83 201.636 Q2073.38 201.636 2076.55 206.543 Q2079.73 211.428 2079.73 220.085 Q2079.73 228.719 2076.55 233.627 Q2073.38 238.557 2067.83 238.557 Q2062.25 238.557 2059.1 233.627 Q2055.93 228.719 2055.93 220.085 Q2055.93 211.428 2059.1 206.543 Q2062.25 201.636 2067.83 201.636 Z\" fill=\"#000000\" fill-rule=\"nonzero\" fill-opacity=\"1\" /><path clip-path=\"url(#clip020)\" d=\"M2102.41 216.497 L2132.09 216.497 L2132.09 220.386 L2102.41 220.386 L2102.41 216.497 M2102.41 225.941 L2132.09 225.941 L2132.09 229.877 L2102.41 229.877 L2102.41 225.941 Z\" fill=\"#000000\" fill-rule=\"nonzero\" fill-opacity=\"1\" /><path clip-path=\"url(#clip020)\" d=\"M2167.25 206.543 Q2163.64 206.543 2161.81 210.108 Q2160 213.65 2160 220.779 Q2160 227.886 2161.81 231.451 Q2163.64 234.992 2167.25 234.992 Q2170.88 234.992 2172.69 231.451 Q2174.52 227.886 2174.52 220.779 Q2174.52 213.65 2172.69 210.108 Q2170.88 206.543 2167.25 206.543 M2167.25 202.84 Q2173.06 202.84 2176.11 207.446 Q2179.19 212.029 2179.19 220.779 Q2179.19 229.506 2176.11 234.113 Q2173.06 238.696 2167.25 238.696 Q2161.44 238.696 2158.36 234.113 Q2155.3 229.506 2155.3 220.779 Q2155.3 212.029 2158.36 207.446 Q2161.44 202.84 2167.25 202.84 Z\" fill=\"#000000\" fill-rule=\"nonzero\" fill-opacity=\"1\" /><path clip-path=\"url(#clip020)\" d=\"M2187.41 232.145 L2192.29 232.145 L2192.29 238.025 L2187.41 238.025 L2187.41 232.145 Z\" fill=\"#000000\" fill-rule=\"nonzero\" fill-opacity=\"1\" /><path clip-path=\"url(#clip020)\" d=\"M2212.48 221.613 Q2209.15 221.613 2207.23 223.395 Q2205.33 225.177 2205.33 228.302 Q2205.33 231.427 2207.23 233.21 Q2209.15 234.992 2212.48 234.992 Q2215.81 234.992 2217.73 233.21 Q2219.66 231.404 2219.66 228.302 Q2219.66 225.177 2217.73 223.395 Q2215.84 221.613 2212.48 221.613 M2207.8 219.622 Q2204.79 218.881 2203.1 216.821 Q2201.44 214.761 2201.44 211.798 Q2201.44 207.654 2204.38 205.247 Q2207.34 202.84 2212.48 202.84 Q2217.64 202.84 2220.58 205.247 Q2223.52 207.654 2223.52 211.798 Q2223.52 214.761 2221.83 216.821 Q2220.17 218.881 2217.18 219.622 Q2220.56 220.409 2222.43 222.701 Q2224.33 224.992 2224.33 228.302 Q2224.33 233.326 2221.25 236.011 Q2218.2 238.696 2212.48 238.696 Q2206.76 238.696 2203.68 236.011 Q2200.63 233.326 2200.63 228.302 Q2200.63 224.992 2202.53 222.701 Q2204.42 220.409 2207.8 219.622 M2206.09 212.238 Q2206.09 214.923 2207.76 216.428 Q2209.45 217.932 2212.48 217.932 Q2215.49 217.932 2217.18 216.428 Q2218.89 214.923 2218.89 212.238 Q2218.89 209.553 2217.18 208.048 Q2215.49 206.543 2212.48 206.543 Q2209.45 206.543 2207.76 208.048 Q2206.09 209.553 2206.09 212.238 Z\" fill=\"#000000\" fill-rule=\"nonzero\" fill-opacity=\"1\" /><path clip-path=\"url(#clip020)\" d=\"M1883.97 293.321 L2031.36 293.321 L2031.36 251.849 L1883.97 251.849 L1883.97 293.321  Z\" fill=\"#e26f46\" fill-rule=\"evenodd\" fill-opacity=\"1\"/>\n",
       "<polyline clip-path=\"url(#clip020)\" style=\"stroke:#000000; stroke-linecap:round; stroke-linejoin:round; stroke-width:4; stroke-opacity:1; fill:none\" points=\"1883.97,293.321 2031.36,293.321 2031.36,251.849 1883.97,251.849 1883.97,293.321 \"/>\n",
       "<path clip-path=\"url(#clip020)\" d=\"M2075.19 273.43 L2060.44 273.43 Q2060.79 280.351 2062.39 283.291 Q2064.38 286.902 2067.83 286.902 Q2071.3 286.902 2073.22 283.267 Q2074.91 280.073 2075.19 273.43 M2075.12 269.494 Q2074.47 262.92 2073.22 260.606 Q2071.23 256.948 2067.83 256.948 Q2064.29 256.948 2062.41 260.559 Q2060.93 263.476 2060.49 269.494 L2075.12 269.494 M2067.83 253.476 Q2073.38 253.476 2076.55 258.383 Q2079.73 263.268 2079.73 271.925 Q2079.73 280.559 2076.55 285.467 Q2073.38 290.397 2067.83 290.397 Q2062.25 290.397 2059.1 285.467 Q2055.93 280.559 2055.93 271.925 Q2055.93 263.268 2059.1 258.383 Q2062.25 253.476 2067.83 253.476 Z\" fill=\"#000000\" fill-rule=\"nonzero\" fill-opacity=\"1\" /><path clip-path=\"url(#clip020)\" d=\"M2102.41 268.337 L2132.09 268.337 L2132.09 272.226 L2102.41 272.226 L2102.41 268.337 M2102.41 277.781 L2132.09 277.781 L2132.09 281.717 L2102.41 281.717 L2102.41 277.781 Z\" fill=\"#000000\" fill-rule=\"nonzero\" fill-opacity=\"1\" /><path clip-path=\"url(#clip020)\" d=\"M2167.25 258.383 Q2163.64 258.383 2161.81 261.948 Q2160 265.49 2160 272.619 Q2160 279.726 2161.81 283.291 Q2163.64 286.832 2167.25 286.832 Q2170.88 286.832 2172.69 283.291 Q2174.52 279.726 2174.52 272.619 Q2174.52 265.49 2172.69 261.948 Q2170.88 258.383 2167.25 258.383 M2167.25 254.68 Q2173.06 254.68 2176.11 259.286 Q2179.19 263.869 2179.19 272.619 Q2179.19 281.346 2176.11 285.953 Q2173.06 290.536 2167.25 290.536 Q2161.44 290.536 2158.36 285.953 Q2155.3 281.346 2155.3 272.619 Q2155.3 263.869 2158.36 259.286 Q2161.44 254.68 2167.25 254.68 Z\" fill=\"#000000\" fill-rule=\"nonzero\" fill-opacity=\"1\" /><path clip-path=\"url(#clip020)\" d=\"M2187.41 283.985 L2192.29 283.985 L2192.29 289.865 L2187.41 289.865 L2187.41 283.985 Z\" fill=\"#000000\" fill-rule=\"nonzero\" fill-opacity=\"1\" /><path clip-path=\"url(#clip020)\" d=\"M2202.62 289.147 L2202.62 284.888 Q2204.38 285.721 2206.18 286.161 Q2207.99 286.601 2209.73 286.601 Q2214.35 286.601 2216.79 283.499 Q2219.24 280.374 2219.59 274.031 Q2218.24 276.022 2216.18 277.087 Q2214.12 278.152 2211.62 278.152 Q2206.44 278.152 2203.41 275.027 Q2200.4 271.879 2200.4 266.439 Q2200.4 261.115 2203.54 257.897 Q2206.69 254.68 2211.92 254.68 Q2217.92 254.68 2221.07 259.286 Q2224.24 263.869 2224.24 272.619 Q2224.24 280.791 2220.35 285.675 Q2216.48 290.536 2209.93 290.536 Q2208.17 290.536 2206.37 290.189 Q2204.56 289.842 2202.62 289.147 M2211.92 274.494 Q2215.07 274.494 2216.9 272.342 Q2218.75 270.189 2218.75 266.439 Q2218.75 262.712 2216.9 260.559 Q2215.07 258.383 2211.92 258.383 Q2208.78 258.383 2206.92 260.559 Q2205.1 262.712 2205.1 266.439 Q2205.1 270.189 2206.92 272.342 Q2208.78 274.494 2211.92 274.494 Z\" fill=\"#000000\" fill-rule=\"nonzero\" fill-opacity=\"1\" /><path clip-path=\"url(#clip020)\" d=\"M1883.97 345.161 L2031.36 345.161 L2031.36 303.689 L1883.97 303.689 L1883.97 345.161  Z\" fill=\"#3da44d\" fill-rule=\"evenodd\" fill-opacity=\"1\"/>\n",
       "<polyline clip-path=\"url(#clip020)\" style=\"stroke:#000000; stroke-linecap:round; stroke-linejoin:round; stroke-width:4; stroke-opacity:1; fill:none\" points=\"1883.97,345.161 2031.36,345.161 2031.36,303.689 1883.97,303.689 1883.97,345.161 \"/>\n",
       "<path clip-path=\"url(#clip020)\" d=\"M2075.19 325.27 L2060.44 325.27 Q2060.79 332.191 2062.39 335.131 Q2064.38 338.742 2067.83 338.742 Q2071.3 338.742 2073.22 335.107 Q2074.91 331.913 2075.19 325.27 M2075.12 321.334 Q2074.47 314.76 2073.22 312.446 Q2071.23 308.788 2067.83 308.788 Q2064.29 308.788 2062.41 312.399 Q2060.93 315.316 2060.49 321.334 L2075.12 321.334 M2067.83 305.316 Q2073.38 305.316 2076.55 310.223 Q2079.73 315.108 2079.73 323.765 Q2079.73 332.399 2076.55 337.307 Q2073.38 342.237 2067.83 342.237 Q2062.25 342.237 2059.1 337.307 Q2055.93 332.399 2055.93 323.765 Q2055.93 315.108 2059.1 310.223 Q2062.25 305.316 2067.83 305.316 Z\" fill=\"#000000\" fill-rule=\"nonzero\" fill-opacity=\"1\" /><path clip-path=\"url(#clip020)\" d=\"M2102.41 320.177 L2132.09 320.177 L2132.09 324.066 L2102.41 324.066 L2102.41 320.177 M2102.41 329.621 L2132.09 329.621 L2132.09 333.557 L2102.41 333.557 L2102.41 329.621 Z\" fill=\"#000000\" fill-rule=\"nonzero\" fill-opacity=\"1\" /><path clip-path=\"url(#clip020)\" d=\"M2167.25 310.223 Q2163.64 310.223 2161.81 313.788 Q2160 317.33 2160 324.459 Q2160 331.566 2161.81 335.131 Q2163.64 338.672 2167.25 338.672 Q2170.88 338.672 2172.69 335.131 Q2174.52 331.566 2174.52 324.459 Q2174.52 317.33 2172.69 313.788 Q2170.88 310.223 2167.25 310.223 M2167.25 306.52 Q2173.06 306.52 2176.11 311.126 Q2179.19 315.709 2179.19 324.459 Q2179.19 333.186 2176.11 337.793 Q2173.06 342.376 2167.25 342.376 Q2161.44 342.376 2158.36 337.793 Q2155.3 333.186 2155.3 324.459 Q2155.3 315.709 2158.36 311.126 Q2161.44 306.52 2167.25 306.52 Z\" fill=\"#000000\" fill-rule=\"nonzero\" fill-opacity=\"1\" /><path clip-path=\"url(#clip020)\" d=\"M2187.41 335.825 L2192.29 335.825 L2192.29 341.705 L2187.41 341.705 L2187.41 335.825 Z\" fill=\"#000000\" fill-rule=\"nonzero\" fill-opacity=\"1\" /><path clip-path=\"url(#clip020)\" d=\"M2202.62 340.987 L2202.62 336.728 Q2204.38 337.561 2206.18 338.001 Q2207.99 338.441 2209.73 338.441 Q2214.35 338.441 2216.79 335.339 Q2219.24 332.214 2219.59 325.871 Q2218.24 327.862 2216.18 328.927 Q2214.12 329.992 2211.62 329.992 Q2206.44 329.992 2203.41 326.867 Q2200.4 323.719 2200.4 318.279 Q2200.4 312.955 2203.54 309.737 Q2206.69 306.52 2211.92 306.52 Q2217.92 306.52 2221.07 311.126 Q2224.24 315.709 2224.24 324.459 Q2224.24 332.631 2220.35 337.515 Q2216.48 342.376 2209.93 342.376 Q2208.17 342.376 2206.37 342.029 Q2204.56 341.682 2202.62 340.987 M2211.92 326.334 Q2215.07 326.334 2216.9 324.182 Q2218.75 322.029 2218.75 318.279 Q2218.75 314.552 2216.9 312.399 Q2215.07 310.223 2211.92 310.223 Q2208.78 310.223 2206.92 312.399 Q2205.1 314.552 2205.1 318.279 Q2205.1 322.029 2206.92 324.182 Q2208.78 326.334 2211.92 326.334 Z\" fill=\"#000000\" fill-rule=\"nonzero\" fill-opacity=\"1\" /><path clip-path=\"url(#clip020)\" d=\"M2242.64 325.293 Q2239.31 325.293 2237.39 327.075 Q2235.49 328.857 2235.49 331.982 Q2235.49 335.107 2237.39 336.89 Q2239.31 338.672 2242.64 338.672 Q2245.98 338.672 2247.9 336.89 Q2249.82 335.084 2249.82 331.982 Q2249.82 328.857 2247.9 327.075 Q2246 325.293 2242.64 325.293 M2237.97 323.302 Q2234.96 322.561 2233.27 320.501 Q2231.6 318.441 2231.6 315.478 Q2231.6 311.334 2234.54 308.927 Q2237.5 306.52 2242.64 306.52 Q2247.8 306.52 2250.74 308.927 Q2253.68 311.334 2253.68 315.478 Q2253.68 318.441 2251.99 320.501 Q2250.33 322.561 2247.34 323.302 Q2250.72 324.089 2252.6 326.381 Q2254.49 328.672 2254.49 331.982 Q2254.49 337.006 2251.41 339.691 Q2248.36 342.376 2242.64 342.376 Q2236.92 342.376 2233.85 339.691 Q2230.79 337.006 2230.79 331.982 Q2230.79 328.672 2232.69 326.381 Q2234.59 324.089 2237.97 323.302 M2236.25 315.918 Q2236.25 318.603 2237.92 320.108 Q2239.61 321.612 2242.64 321.612 Q2245.65 321.612 2247.34 320.108 Q2249.05 318.603 2249.05 315.918 Q2249.05 313.233 2247.34 311.728 Q2245.65 310.223 2242.64 310.223 Q2239.61 310.223 2237.92 311.728 Q2236.25 313.233 2236.25 315.918 Z\" fill=\"#000000\" fill-rule=\"nonzero\" fill-opacity=\"1\" /></svg>\n"
      ],
      "text/html": [
       "<?xml version=\"1.0\" encoding=\"utf-8\"?>\n",
       "<svg xmlns=\"http://www.w3.org/2000/svg\" xmlns:xlink=\"http://www.w3.org/1999/xlink\" width=\"600\" height=\"400\" viewBox=\"0 0 2400 1600\">\n",
       "<defs>\n",
       "  <clipPath id=\"clip070\">\n",
       "    <rect x=\"0\" y=\"0\" width=\"2400\" height=\"1600\"/>\n",
       "  </clipPath>\n",
       "</defs>\n",
       "<path clip-path=\"url(#clip070)\" d=\"M0 1600 L2400 1600 L2400 0 L0 0  Z\" fill=\"#ffffff\" fill-rule=\"evenodd\" fill-opacity=\"1\"/>\n",
       "<defs>\n",
       "  <clipPath id=\"clip071\">\n",
       "    <rect x=\"480\" y=\"0\" width=\"1681\" height=\"1600\"/>\n",
       "  </clipPath>\n",
       "</defs>\n",
       "<path clip-path=\"url(#clip070)\" d=\"M141.853 1486.45 L2352.76 1486.45 L2352.76 123.472 L141.853 123.472  Z\" fill=\"#ffffff\" fill-rule=\"evenodd\" fill-opacity=\"1\"/>\n",
       "<defs>\n",
       "  <clipPath id=\"clip072\">\n",
       "    <rect x=\"141\" y=\"123\" width=\"2212\" height=\"1364\"/>\n",
       "  </clipPath>\n",
       "</defs>\n",
       "<polyline clip-path=\"url(#clip072)\" style=\"stroke:#000000; stroke-linecap:round; stroke-linejoin:round; stroke-width:2; stroke-opacity:0.1; fill:none\" points=\"179.095,1486.45 179.095,123.472 \"/>\n",
       "<polyline clip-path=\"url(#clip072)\" style=\"stroke:#000000; stroke-linecap:round; stroke-linejoin:round; stroke-width:2; stroke-opacity:0.1; fill:none\" points=\"526.085,1486.45 526.085,123.472 \"/>\n",
       "<polyline clip-path=\"url(#clip072)\" style=\"stroke:#000000; stroke-linecap:round; stroke-linejoin:round; stroke-width:2; stroke-opacity:0.1; fill:none\" points=\"873.076,1486.45 873.076,123.472 \"/>\n",
       "<polyline clip-path=\"url(#clip072)\" style=\"stroke:#000000; stroke-linecap:round; stroke-linejoin:round; stroke-width:2; stroke-opacity:0.1; fill:none\" points=\"1220.07,1486.45 1220.07,123.472 \"/>\n",
       "<polyline clip-path=\"url(#clip072)\" style=\"stroke:#000000; stroke-linecap:round; stroke-linejoin:round; stroke-width:2; stroke-opacity:0.1; fill:none\" points=\"1567.06,1486.45 1567.06,123.472 \"/>\n",
       "<polyline clip-path=\"url(#clip072)\" style=\"stroke:#000000; stroke-linecap:round; stroke-linejoin:round; stroke-width:2; stroke-opacity:0.1; fill:none\" points=\"1914.05,1486.45 1914.05,123.472 \"/>\n",
       "<polyline clip-path=\"url(#clip072)\" style=\"stroke:#000000; stroke-linecap:round; stroke-linejoin:round; stroke-width:2; stroke-opacity:0.1; fill:none\" points=\"2261.04,1486.45 2261.04,123.472 \"/>\n",
       "<polyline clip-path=\"url(#clip070)\" style=\"stroke:#000000; stroke-linecap:round; stroke-linejoin:round; stroke-width:4; stroke-opacity:1; fill:none\" points=\"141.853,1486.45 2352.76,1486.45 \"/>\n",
       "<polyline clip-path=\"url(#clip070)\" style=\"stroke:#000000; stroke-linecap:round; stroke-linejoin:round; stroke-width:4; stroke-opacity:1; fill:none\" points=\"179.095,1486.45 179.095,1467.55 \"/>\n",
       "<polyline clip-path=\"url(#clip070)\" style=\"stroke:#000000; stroke-linecap:round; stroke-linejoin:round; stroke-width:4; stroke-opacity:1; fill:none\" points=\"526.085,1486.45 526.085,1467.55 \"/>\n",
       "<polyline clip-path=\"url(#clip070)\" style=\"stroke:#000000; stroke-linecap:round; stroke-linejoin:round; stroke-width:4; stroke-opacity:1; fill:none\" points=\"873.076,1486.45 873.076,1467.55 \"/>\n",
       "<polyline clip-path=\"url(#clip070)\" style=\"stroke:#000000; stroke-linecap:round; stroke-linejoin:round; stroke-width:4; stroke-opacity:1; fill:none\" points=\"1220.07,1486.45 1220.07,1467.55 \"/>\n",
       "<polyline clip-path=\"url(#clip070)\" style=\"stroke:#000000; stroke-linecap:round; stroke-linejoin:round; stroke-width:4; stroke-opacity:1; fill:none\" points=\"1567.06,1486.45 1567.06,1467.55 \"/>\n",
       "<polyline clip-path=\"url(#clip070)\" style=\"stroke:#000000; stroke-linecap:round; stroke-linejoin:round; stroke-width:4; stroke-opacity:1; fill:none\" points=\"1914.05,1486.45 1914.05,1467.55 \"/>\n",
       "<polyline clip-path=\"url(#clip070)\" style=\"stroke:#000000; stroke-linecap:round; stroke-linejoin:round; stroke-width:4; stroke-opacity:1; fill:none\" points=\"2261.04,1486.45 2261.04,1467.55 \"/>\n",
       "<path clip-path=\"url(#clip070)\" d=\"M179.095 1517.37 Q175.484 1517.37 173.656 1520.93 Q171.85 1524.47 171.85 1531.6 Q171.85 1538.71 173.656 1542.27 Q175.484 1545.82 179.095 1545.82 Q182.73 1545.82 184.535 1542.27 Q186.364 1538.71 186.364 1531.6 Q186.364 1524.47 184.535 1520.93 Q182.73 1517.37 179.095 1517.37 M179.095 1513.66 Q184.906 1513.66 187.961 1518.27 Q191.04 1522.85 191.04 1531.6 Q191.04 1540.33 187.961 1544.94 Q184.906 1549.52 179.095 1549.52 Q173.285 1549.52 170.207 1544.94 Q167.151 1540.33 167.151 1531.6 Q167.151 1522.85 170.207 1518.27 Q173.285 1513.66 179.095 1513.66 Z\" fill=\"#000000\" fill-rule=\"nonzero\" fill-opacity=\"1\" /><path clip-path=\"url(#clip070)\" d=\"M500.773 1544.91 L508.412 1544.91 L508.412 1518.55 L500.102 1520.21 L500.102 1515.95 L508.366 1514.29 L513.042 1514.29 L513.042 1544.91 L520.68 1544.91 L520.68 1548.85 L500.773 1548.85 L500.773 1544.91 Z\" fill=\"#000000\" fill-rule=\"nonzero\" fill-opacity=\"1\" /><path clip-path=\"url(#clip070)\" d=\"M540.125 1517.37 Q536.514 1517.37 534.685 1520.93 Q532.879 1524.47 532.879 1531.6 Q532.879 1538.71 534.685 1542.27 Q536.514 1545.82 540.125 1545.82 Q543.759 1545.82 545.565 1542.27 Q547.393 1538.71 547.393 1531.6 Q547.393 1524.47 545.565 1520.93 Q543.759 1517.37 540.125 1517.37 M540.125 1513.66 Q545.935 1513.66 548.99 1518.27 Q552.069 1522.85 552.069 1531.6 Q552.069 1540.33 548.99 1544.94 Q545.935 1549.52 540.125 1549.52 Q534.315 1549.52 531.236 1544.94 Q528.18 1540.33 528.18 1531.6 Q528.18 1522.85 531.236 1518.27 Q534.315 1513.66 540.125 1513.66 Z\" fill=\"#000000\" fill-rule=\"nonzero\" fill-opacity=\"1\" /><path clip-path=\"url(#clip070)\" d=\"M851.849 1544.91 L868.168 1544.91 L868.168 1548.85 L846.224 1548.85 L846.224 1544.91 Q848.886 1542.16 853.469 1537.53 Q858.076 1532.88 859.256 1531.53 Q861.502 1529.01 862.381 1527.27 Q863.284 1525.51 863.284 1523.82 Q863.284 1521.07 861.34 1519.33 Q859.418 1517.6 856.316 1517.6 Q854.117 1517.6 851.664 1518.36 Q849.233 1519.13 846.455 1520.68 L846.455 1515.95 Q849.279 1514.82 851.733 1514.24 Q854.187 1513.66 856.224 1513.66 Q861.594 1513.66 864.789 1516.35 Q867.983 1519.03 867.983 1523.52 Q867.983 1525.65 867.173 1527.57 Q866.386 1529.47 864.279 1532.07 Q863.701 1532.74 860.599 1535.95 Q857.497 1539.15 851.849 1544.91 Z\" fill=\"#000000\" fill-rule=\"nonzero\" fill-opacity=\"1\" /><path clip-path=\"url(#clip070)\" d=\"M887.983 1517.37 Q884.372 1517.37 882.543 1520.93 Q880.738 1524.47 880.738 1531.6 Q880.738 1538.71 882.543 1542.27 Q884.372 1545.82 887.983 1545.82 Q891.617 1545.82 893.423 1542.27 Q895.251 1538.71 895.251 1531.6 Q895.251 1524.47 893.423 1520.93 Q891.617 1517.37 887.983 1517.37 M887.983 1513.66 Q893.793 1513.66 896.849 1518.27 Q899.927 1522.85 899.927 1531.6 Q899.927 1540.33 896.849 1544.94 Q893.793 1549.52 887.983 1549.52 Q882.173 1549.52 879.094 1544.94 Q876.039 1540.33 876.039 1531.6 Q876.039 1522.85 879.094 1518.27 Q882.173 1513.66 887.983 1513.66 Z\" fill=\"#000000\" fill-rule=\"nonzero\" fill-opacity=\"1\" /><path clip-path=\"url(#clip070)\" d=\"M1208.91 1530.21 Q1212.26 1530.93 1214.14 1533.2 Q1216.04 1535.47 1216.04 1538.8 Q1216.04 1543.92 1212.52 1546.72 Q1209 1549.52 1202.52 1549.52 Q1200.34 1549.52 1198.03 1549.08 Q1195.74 1548.66 1193.28 1547.81 L1193.28 1543.29 Q1195.23 1544.43 1197.54 1545.01 Q1199.86 1545.58 1202.38 1545.58 Q1206.78 1545.58 1209.07 1543.85 Q1211.39 1542.11 1211.39 1538.8 Q1211.39 1535.75 1209.23 1534.03 Q1207.1 1532.3 1203.28 1532.3 L1199.26 1532.3 L1199.26 1528.45 L1203.47 1528.45 Q1206.92 1528.45 1208.75 1527.09 Q1210.58 1525.7 1210.58 1523.11 Q1210.58 1520.45 1208.68 1519.03 Q1206.8 1517.6 1203.28 1517.6 Q1201.36 1517.6 1199.16 1518.01 Q1196.96 1518.43 1194.33 1519.31 L1194.33 1515.14 Q1196.99 1514.4 1199.3 1514.03 Q1201.64 1513.66 1203.7 1513.66 Q1209.02 1513.66 1212.13 1516.09 Q1215.23 1518.5 1215.23 1522.62 Q1215.23 1525.49 1213.58 1527.48 Q1211.94 1529.45 1208.91 1530.21 Z\" fill=\"#000000\" fill-rule=\"nonzero\" fill-opacity=\"1\" /><path clip-path=\"url(#clip070)\" d=\"M1234.9 1517.37 Q1231.29 1517.37 1229.46 1520.93 Q1227.66 1524.47 1227.66 1531.6 Q1227.66 1538.71 1229.46 1542.27 Q1231.29 1545.82 1234.9 1545.82 Q1238.54 1545.82 1240.34 1542.27 Q1242.17 1538.71 1242.17 1531.6 Q1242.17 1524.47 1240.34 1520.93 Q1238.54 1517.37 1234.9 1517.37 M1234.9 1513.66 Q1240.71 1513.66 1243.77 1518.27 Q1246.85 1522.85 1246.85 1531.6 Q1246.85 1540.33 1243.77 1544.94 Q1240.71 1549.52 1234.9 1549.52 Q1229.09 1549.52 1226.01 1544.94 Q1222.96 1540.33 1222.96 1531.6 Q1222.96 1522.85 1226.01 1518.27 Q1229.09 1513.66 1234.9 1513.66 Z\" fill=\"#000000\" fill-rule=\"nonzero\" fill-opacity=\"1\" /><path clip-path=\"url(#clip070)\" d=\"M1555.23 1518.36 L1543.42 1536.81 L1555.23 1536.81 L1555.23 1518.36 M1554 1514.29 L1559.88 1514.29 L1559.88 1536.81 L1564.81 1536.81 L1564.81 1540.7 L1559.88 1540.7 L1559.88 1548.85 L1555.23 1548.85 L1555.23 1540.7 L1539.63 1540.7 L1539.63 1536.19 L1554 1514.29 Z\" fill=\"#000000\" fill-rule=\"nonzero\" fill-opacity=\"1\" /><path clip-path=\"url(#clip070)\" d=\"M1582.54 1517.37 Q1578.93 1517.37 1577.1 1520.93 Q1575.3 1524.47 1575.3 1531.6 Q1575.3 1538.71 1577.1 1542.27 Q1578.93 1545.82 1582.54 1545.82 Q1586.18 1545.82 1587.98 1542.27 Q1589.81 1538.71 1589.81 1531.6 Q1589.81 1524.47 1587.98 1520.93 Q1586.18 1517.37 1582.54 1517.37 M1582.54 1513.66 Q1588.35 1513.66 1591.41 1518.27 Q1594.49 1522.85 1594.49 1531.6 Q1594.49 1540.33 1591.41 1544.94 Q1588.35 1549.52 1582.54 1549.52 Q1576.73 1549.52 1573.65 1544.94 Q1570.6 1540.33 1570.6 1531.6 Q1570.6 1522.85 1573.65 1518.27 Q1576.73 1513.66 1582.54 1513.66 Z\" fill=\"#000000\" fill-rule=\"nonzero\" fill-opacity=\"1\" /><path clip-path=\"url(#clip070)\" d=\"M1888.75 1514.29 L1907.1 1514.29 L1907.1 1518.22 L1893.03 1518.22 L1893.03 1526.7 Q1894.05 1526.35 1895.06 1526.19 Q1896.08 1526 1897.1 1526 Q1902.89 1526 1906.27 1529.17 Q1909.65 1532.34 1909.65 1537.76 Q1909.65 1543.34 1906.18 1546.44 Q1902.7 1549.52 1896.38 1549.52 Q1894.21 1549.52 1891.94 1549.15 Q1889.69 1548.78 1887.29 1548.04 L1887.29 1543.34 Q1889.37 1544.47 1891.59 1545.03 Q1893.81 1545.58 1896.29 1545.58 Q1900.3 1545.58 1902.63 1543.48 Q1904.97 1541.37 1904.97 1537.76 Q1904.97 1534.15 1902.63 1532.04 Q1900.3 1529.94 1896.29 1529.94 Q1894.42 1529.94 1892.54 1530.35 Q1890.69 1530.77 1888.75 1531.65 L1888.75 1514.29 Z\" fill=\"#000000\" fill-rule=\"nonzero\" fill-opacity=\"1\" /><path clip-path=\"url(#clip070)\" d=\"M1928.86 1517.37 Q1925.25 1517.37 1923.42 1520.93 Q1921.62 1524.47 1921.62 1531.6 Q1921.62 1538.71 1923.42 1542.27 Q1925.25 1545.82 1928.86 1545.82 Q1932.49 1545.82 1934.3 1542.27 Q1936.13 1538.71 1936.13 1531.6 Q1936.13 1524.47 1934.3 1520.93 Q1932.49 1517.37 1928.86 1517.37 M1928.86 1513.66 Q1934.67 1513.66 1937.73 1518.27 Q1940.81 1522.85 1940.81 1531.6 Q1940.81 1540.33 1937.73 1544.94 Q1934.67 1549.52 1928.86 1549.52 Q1923.05 1549.52 1919.97 1544.94 Q1916.92 1540.33 1916.92 1531.6 Q1916.92 1522.85 1919.97 1518.27 Q1923.05 1513.66 1928.86 1513.66 Z\" fill=\"#000000\" fill-rule=\"nonzero\" fill-opacity=\"1\" /><path clip-path=\"url(#clip070)\" d=\"M2246.44 1529.7 Q2243.29 1529.7 2241.44 1531.86 Q2239.61 1534.01 2239.61 1537.76 Q2239.61 1541.49 2241.44 1543.66 Q2243.29 1545.82 2246.44 1545.82 Q2249.59 1545.82 2251.42 1543.66 Q2253.27 1541.49 2253.27 1537.76 Q2253.27 1534.01 2251.42 1531.86 Q2249.59 1529.7 2246.44 1529.7 M2255.72 1515.05 L2255.72 1519.31 Q2253.96 1518.48 2252.16 1518.04 Q2250.38 1517.6 2248.62 1517.6 Q2243.99 1517.6 2241.53 1520.72 Q2239.1 1523.85 2238.76 1530.17 Q2240.12 1528.15 2242.18 1527.09 Q2244.24 1526 2246.72 1526 Q2251.93 1526 2254.94 1529.17 Q2257.97 1532.32 2257.97 1537.76 Q2257.97 1543.08 2254.82 1546.3 Q2251.67 1549.52 2246.44 1549.52 Q2240.45 1549.52 2237.27 1544.94 Q2234.1 1540.33 2234.1 1531.6 Q2234.1 1523.41 2237.99 1518.55 Q2241.88 1513.66 2248.43 1513.66 Q2250.19 1513.66 2251.97 1514.01 Q2253.78 1514.36 2255.72 1515.05 Z\" fill=\"#000000\" fill-rule=\"nonzero\" fill-opacity=\"1\" /><path clip-path=\"url(#clip070)\" d=\"M2276.02 1517.37 Q2272.41 1517.37 2270.58 1520.93 Q2268.78 1524.47 2268.78 1531.6 Q2268.78 1538.71 2270.58 1542.27 Q2272.41 1545.82 2276.02 1545.82 Q2279.66 1545.82 2281.46 1542.27 Q2283.29 1538.71 2283.29 1531.6 Q2283.29 1524.47 2281.46 1520.93 Q2279.66 1517.37 2276.02 1517.37 M2276.02 1513.66 Q2281.83 1513.66 2284.89 1518.27 Q2287.97 1522.85 2287.97 1531.6 Q2287.97 1540.33 2284.89 1544.94 Q2281.83 1549.52 2276.02 1549.52 Q2270.21 1549.52 2267.14 1544.94 Q2264.08 1540.33 2264.08 1531.6 Q2264.08 1522.85 2267.14 1518.27 Q2270.21 1513.66 2276.02 1513.66 Z\" fill=\"#000000\" fill-rule=\"nonzero\" fill-opacity=\"1\" /><polyline clip-path=\"url(#clip072)\" style=\"stroke:#000000; stroke-linecap:round; stroke-linejoin:round; stroke-width:2; stroke-opacity:0.1; fill:none\" points=\"141.853,1486.45 2352.76,1486.45 \"/>\n",
       "<polyline clip-path=\"url(#clip072)\" style=\"stroke:#000000; stroke-linecap:round; stroke-linejoin:round; stroke-width:2; stroke-opacity:0.1; fill:none\" points=\"141.853,1283.02 2352.76,1283.02 \"/>\n",
       "<polyline clip-path=\"url(#clip072)\" style=\"stroke:#000000; stroke-linecap:round; stroke-linejoin:round; stroke-width:2; stroke-opacity:0.1; fill:none\" points=\"141.853,1079.59 2352.76,1079.59 \"/>\n",
       "<polyline clip-path=\"url(#clip072)\" style=\"stroke:#000000; stroke-linecap:round; stroke-linejoin:round; stroke-width:2; stroke-opacity:0.1; fill:none\" points=\"141.853,876.16 2352.76,876.16 \"/>\n",
       "<polyline clip-path=\"url(#clip072)\" style=\"stroke:#000000; stroke-linecap:round; stroke-linejoin:round; stroke-width:2; stroke-opacity:0.1; fill:none\" points=\"141.853,672.731 2352.76,672.731 \"/>\n",
       "<polyline clip-path=\"url(#clip072)\" style=\"stroke:#000000; stroke-linecap:round; stroke-linejoin:round; stroke-width:2; stroke-opacity:0.1; fill:none\" points=\"141.853,469.302 2352.76,469.302 \"/>\n",
       "<polyline clip-path=\"url(#clip072)\" style=\"stroke:#000000; stroke-linecap:round; stroke-linejoin:round; stroke-width:2; stroke-opacity:0.1; fill:none\" points=\"141.853,265.873 2352.76,265.873 \"/>\n",
       "<polyline clip-path=\"url(#clip070)\" style=\"stroke:#000000; stroke-linecap:round; stroke-linejoin:round; stroke-width:4; stroke-opacity:1; fill:none\" points=\"141.853,1486.45 141.853,123.472 \"/>\n",
       "<polyline clip-path=\"url(#clip070)\" style=\"stroke:#000000; stroke-linecap:round; stroke-linejoin:round; stroke-width:4; stroke-opacity:1; fill:none\" points=\"141.853,1486.45 160.751,1486.45 \"/>\n",
       "<polyline clip-path=\"url(#clip070)\" style=\"stroke:#000000; stroke-linecap:round; stroke-linejoin:round; stroke-width:4; stroke-opacity:1; fill:none\" points=\"141.853,1283.02 160.751,1283.02 \"/>\n",
       "<polyline clip-path=\"url(#clip070)\" style=\"stroke:#000000; stroke-linecap:round; stroke-linejoin:round; stroke-width:4; stroke-opacity:1; fill:none\" points=\"141.853,1079.59 160.751,1079.59 \"/>\n",
       "<polyline clip-path=\"url(#clip070)\" style=\"stroke:#000000; stroke-linecap:round; stroke-linejoin:round; stroke-width:4; stroke-opacity:1; fill:none\" points=\"141.853,876.16 160.751,876.16 \"/>\n",
       "<polyline clip-path=\"url(#clip070)\" style=\"stroke:#000000; stroke-linecap:round; stroke-linejoin:round; stroke-width:4; stroke-opacity:1; fill:none\" points=\"141.853,672.731 160.751,672.731 \"/>\n",
       "<polyline clip-path=\"url(#clip070)\" style=\"stroke:#000000; stroke-linecap:round; stroke-linejoin:round; stroke-width:4; stroke-opacity:1; fill:none\" points=\"141.853,469.302 160.751,469.302 \"/>\n",
       "<polyline clip-path=\"url(#clip070)\" style=\"stroke:#000000; stroke-linecap:round; stroke-linejoin:round; stroke-width:4; stroke-opacity:1; fill:none\" points=\"141.853,265.873 160.751,265.873 \"/>\n",
       "<path clip-path=\"url(#clip070)\" d=\"M93.9086 1472.25 Q90.2975 1472.25 88.4688 1475.81 Q86.6632 1479.35 86.6632 1486.48 Q86.6632 1493.59 88.4688 1497.15 Q90.2975 1500.7 93.9086 1500.7 Q97.5428 1500.7 99.3483 1497.15 Q101.177 1493.59 101.177 1486.48 Q101.177 1479.35 99.3483 1475.81 Q97.5428 1472.25 93.9086 1472.25 M93.9086 1468.54 Q99.7187 1468.54 102.774 1473.15 Q105.853 1477.73 105.853 1486.48 Q105.853 1495.21 102.774 1499.82 Q99.7187 1504.4 93.9086 1504.4 Q88.0984 1504.4 85.0197 1499.82 Q81.9642 1495.21 81.9642 1486.48 Q81.9642 1477.73 85.0197 1473.15 Q88.0984 1468.54 93.9086 1468.54 Z\" fill=\"#000000\" fill-rule=\"nonzero\" fill-opacity=\"1\" /><path clip-path=\"url(#clip070)\" d=\"M54.5569 1296.36 L62.1958 1296.36 L62.1958 1270 L53.8856 1271.66 L53.8856 1267.41 L62.1495 1265.74 L66.8254 1265.74 L66.8254 1296.36 L74.4642 1296.36 L74.4642 1300.3 L54.5569 1300.3 L54.5569 1296.36 Z\" fill=\"#000000\" fill-rule=\"nonzero\" fill-opacity=\"1\" /><path clip-path=\"url(#clip070)\" d=\"M93.9086 1268.82 Q90.2975 1268.82 88.4688 1272.38 Q86.6632 1275.92 86.6632 1283.05 Q86.6632 1290.16 88.4688 1293.72 Q90.2975 1297.27 93.9086 1297.27 Q97.5428 1297.27 99.3483 1293.72 Q101.177 1290.16 101.177 1283.05 Q101.177 1275.92 99.3483 1272.38 Q97.5428 1268.82 93.9086 1268.82 M93.9086 1265.11 Q99.7187 1265.11 102.774 1269.72 Q105.853 1274.3 105.853 1283.05 Q105.853 1291.78 102.774 1296.39 Q99.7187 1300.97 93.9086 1300.97 Q88.0984 1300.97 85.0197 1296.39 Q81.9642 1291.78 81.9642 1283.05 Q81.9642 1274.3 85.0197 1269.72 Q88.0984 1265.11 93.9086 1265.11 Z\" fill=\"#000000\" fill-rule=\"nonzero\" fill-opacity=\"1\" /><path clip-path=\"url(#clip070)\" d=\"M57.7745 1092.93 L74.0939 1092.93 L74.0939 1096.87 L52.1495 1096.87 L52.1495 1092.93 Q54.8115 1090.18 59.3949 1085.55 Q64.0013 1080.9 65.1819 1079.55 Q67.4272 1077.03 68.3068 1075.3 Q69.2096 1073.54 69.2096 1071.85 Q69.2096 1069.09 67.2652 1067.36 Q65.3439 1065.62 62.2421 1065.62 Q60.043 1065.62 57.5893 1066.38 Q55.1588 1067.15 52.381 1068.7 L52.381 1063.98 Q55.2051 1062.84 57.6588 1062.26 Q60.1124 1061.68 62.1495 1061.68 Q67.5198 1061.68 70.7142 1064.37 Q73.9087 1067.05 73.9087 1071.55 Q73.9087 1073.68 73.0985 1075.6 Q72.3115 1077.49 70.205 1080.09 Q69.6263 1080.76 66.5245 1083.98 Q63.4226 1087.17 57.7745 1092.93 Z\" fill=\"#000000\" fill-rule=\"nonzero\" fill-opacity=\"1\" /><path clip-path=\"url(#clip070)\" d=\"M93.9086 1065.39 Q90.2975 1065.39 88.4688 1068.95 Q86.6632 1072.49 86.6632 1079.62 Q86.6632 1086.73 88.4688 1090.3 Q90.2975 1093.84 93.9086 1093.84 Q97.5428 1093.84 99.3483 1090.3 Q101.177 1086.73 101.177 1079.62 Q101.177 1072.49 99.3483 1068.95 Q97.5428 1065.39 93.9086 1065.39 M93.9086 1061.68 Q99.7187 1061.68 102.774 1066.29 Q105.853 1070.87 105.853 1079.62 Q105.853 1088.35 102.774 1092.96 Q99.7187 1097.54 93.9086 1097.54 Q88.0984 1097.54 85.0197 1092.96 Q81.9642 1088.35 81.9642 1079.62 Q81.9642 1070.87 85.0197 1066.29 Q88.0984 1061.68 93.9086 1061.68 Z\" fill=\"#000000\" fill-rule=\"nonzero\" fill-opacity=\"1\" /><path clip-path=\"url(#clip070)\" d=\"M67.9133 874.806 Q71.2698 875.524 73.1448 877.792 Q75.0429 880.061 75.0429 883.394 Q75.0429 888.51 71.5244 891.311 Q68.0059 894.112 61.5245 894.112 Q59.3486 894.112 57.0338 893.672 Q54.7421 893.255 52.2884 892.399 L52.2884 887.885 Q54.2328 889.019 56.5477 889.598 Q58.8625 890.176 61.3856 890.176 Q65.7837 890.176 68.0754 888.44 Q70.3902 886.704 70.3902 883.394 Q70.3902 880.338 68.2374 878.625 Q66.1078 876.889 62.2884 876.889 L58.2606 876.889 L58.2606 873.047 L62.4735 873.047 Q65.9226 873.047 67.7513 871.681 Q69.58 870.292 69.58 867.7 Q69.58 865.038 67.6819 863.626 Q65.8069 862.19 62.2884 862.19 Q60.3671 862.19 58.168 862.607 Q55.969 863.024 53.3301 863.903 L53.3301 859.737 Q55.9921 858.996 58.3069 858.626 Q60.6449 858.255 62.705 858.255 Q68.0291 858.255 71.1309 860.686 Q74.2327 863.093 74.2327 867.214 Q74.2327 870.084 72.5892 872.075 Q70.9457 874.042 67.9133 874.806 Z\" fill=\"#000000\" fill-rule=\"nonzero\" fill-opacity=\"1\" /><path clip-path=\"url(#clip070)\" d=\"M93.9086 861.959 Q90.2975 861.959 88.4688 865.524 Q86.6632 869.065 86.6632 876.195 Q86.6632 883.301 88.4688 886.866 Q90.2975 890.408 93.9086 890.408 Q97.5428 890.408 99.3483 886.866 Q101.177 883.301 101.177 876.195 Q101.177 869.065 99.3483 865.524 Q97.5428 861.959 93.9086 861.959 M93.9086 858.255 Q99.7187 858.255 102.774 862.862 Q105.853 867.445 105.853 876.195 Q105.853 884.922 102.774 889.528 Q99.7187 894.112 93.9086 894.112 Q88.0984 894.112 85.0197 889.528 Q81.9642 884.922 81.9642 876.195 Q81.9642 867.445 85.0197 862.862 Q88.0984 858.255 93.9086 858.255 Z\" fill=\"#000000\" fill-rule=\"nonzero\" fill-opacity=\"1\" /><path clip-path=\"url(#clip070)\" d=\"M66.5939 659.525 L54.7884 677.974 L66.5939 677.974 L66.5939 659.525 M65.367 655.451 L71.2466 655.451 L71.2466 677.974 L76.1772 677.974 L76.1772 681.863 L71.2466 681.863 L71.2466 690.011 L66.5939 690.011 L66.5939 681.863 L50.9921 681.863 L50.9921 677.349 L65.367 655.451 Z\" fill=\"#000000\" fill-rule=\"nonzero\" fill-opacity=\"1\" /><path clip-path=\"url(#clip070)\" d=\"M93.9086 658.53 Q90.2975 658.53 88.4688 662.094 Q86.6632 665.636 86.6632 672.766 Q86.6632 679.872 88.4688 683.437 Q90.2975 686.979 93.9086 686.979 Q97.5428 686.979 99.3483 683.437 Q101.177 679.872 101.177 672.766 Q101.177 665.636 99.3483 662.094 Q97.5428 658.53 93.9086 658.53 M93.9086 654.826 Q99.7187 654.826 102.774 659.432 Q105.853 664.016 105.853 672.766 Q105.853 681.493 102.774 686.099 Q99.7187 690.682 93.9086 690.682 Q88.0984 690.682 85.0197 686.099 Q81.9642 681.493 81.9642 672.766 Q81.9642 664.016 85.0197 659.432 Q88.0984 654.826 93.9086 654.826 Z\" fill=\"#000000\" fill-rule=\"nonzero\" fill-opacity=\"1\" /><path clip-path=\"url(#clip070)\" d=\"M53.793 452.022 L72.1494 452.022 L72.1494 455.957 L58.0754 455.957 L58.0754 464.429 Q59.0939 464.082 60.1124 463.92 Q61.131 463.735 62.1495 463.735 Q67.9365 463.735 71.3161 466.906 Q74.6957 470.077 74.6957 475.494 Q74.6957 481.073 71.2235 484.174 Q67.7513 487.253 61.4319 487.253 Q59.256 487.253 56.9875 486.883 Q54.7421 486.512 52.3347 485.772 L52.3347 481.073 Q54.418 482.207 56.6402 482.762 Q58.8625 483.318 61.3393 483.318 Q65.3439 483.318 67.6819 481.211 Q70.0198 479.105 70.0198 475.494 Q70.0198 471.883 67.6819 469.776 Q65.3439 467.67 61.3393 467.67 Q59.4643 467.67 57.5893 468.087 Q55.7375 468.503 53.793 469.383 L53.793 452.022 Z\" fill=\"#000000\" fill-rule=\"nonzero\" fill-opacity=\"1\" /><path clip-path=\"url(#clip070)\" d=\"M93.9086 455.1 Q90.2975 455.1 88.4688 458.665 Q86.6632 462.207 86.6632 469.337 Q86.6632 476.443 88.4688 480.008 Q90.2975 483.549 93.9086 483.549 Q97.5428 483.549 99.3483 480.008 Q101.177 476.443 101.177 469.337 Q101.177 462.207 99.3483 458.665 Q97.5428 455.1 93.9086 455.1 M93.9086 451.397 Q99.7187 451.397 102.774 456.003 Q105.853 460.587 105.853 469.337 Q105.853 478.063 102.774 482.67 Q99.7187 487.253 93.9086 487.253 Q88.0984 487.253 85.0197 482.67 Q81.9642 478.063 81.9642 469.337 Q81.9642 460.587 85.0197 456.003 Q88.0984 451.397 93.9086 451.397 Z\" fill=\"#000000\" fill-rule=\"nonzero\" fill-opacity=\"1\" /><path clip-path=\"url(#clip070)\" d=\"M64.3254 264.009 Q61.1773 264.009 59.3254 266.162 Q57.4967 268.315 57.4967 272.065 Q57.4967 275.792 59.3254 277.967 Q61.1773 280.12 64.3254 280.12 Q67.4735 280.12 69.3022 277.967 Q71.1541 275.792 71.1541 272.065 Q71.1541 268.315 69.3022 266.162 Q67.4735 264.009 64.3254 264.009 M73.6077 249.356 L73.6077 253.616 Q71.8485 252.782 70.0429 252.343 Q68.2606 251.903 66.5013 251.903 Q61.8717 251.903 59.418 255.028 Q56.9875 258.153 56.6402 264.472 Q58.006 262.458 60.0662 261.393 Q62.1263 260.305 64.6032 260.305 Q69.8115 260.305 72.8207 263.477 Q75.8531 266.625 75.8531 272.065 Q75.8531 277.389 72.705 280.606 Q69.5568 283.824 64.3254 283.824 Q58.33 283.824 55.1588 279.241 Q51.9875 274.634 51.9875 265.907 Q51.9875 257.713 55.8764 252.852 Q59.7652 247.968 66.3161 247.968 Q68.0754 247.968 69.8578 248.315 Q71.6633 248.662 73.6077 249.356 Z\" fill=\"#000000\" fill-rule=\"nonzero\" fill-opacity=\"1\" /><path clip-path=\"url(#clip070)\" d=\"M93.9086 251.671 Q90.2975 251.671 88.4688 255.236 Q86.6632 258.778 86.6632 265.907 Q86.6632 273.014 88.4688 276.579 Q90.2975 280.12 93.9086 280.12 Q97.5428 280.12 99.3483 276.579 Q101.177 273.014 101.177 265.907 Q101.177 258.778 99.3483 255.236 Q97.5428 251.671 93.9086 251.671 M93.9086 247.968 Q99.7187 247.968 102.774 252.574 Q105.853 257.157 105.853 265.907 Q105.853 274.634 102.774 279.241 Q99.7187 283.824 93.9086 283.824 Q88.0984 283.824 85.0197 279.241 Q81.9642 274.634 81.9642 265.907 Q81.9642 257.157 85.0197 252.574 Q88.0984 247.968 93.9086 247.968 Z\" fill=\"#000000\" fill-rule=\"nonzero\" fill-opacity=\"1\" /><path clip-path=\"url(#clip070)\" d=\"M626.827 12.096 L635.01 12.096 L635.01 36.8875 L664.744 36.8875 L664.744 12.096 L672.927 12.096 L672.927 72.576 L664.744 72.576 L664.744 43.7741 L635.01 43.7741 L635.01 72.576 L626.827 72.576 L626.827 12.096 Z\" fill=\"#000000\" fill-rule=\"nonzero\" fill-opacity=\"1\" /><path clip-path=\"url(#clip070)\" d=\"M688.887 27.2059 L696.341 27.2059 L696.341 72.576 L688.887 72.576 L688.887 27.2059 M688.887 9.54393 L696.341 9.54393 L696.341 18.9825 L688.887 18.9825 L688.887 9.54393 Z\" fill=\"#000000\" fill-rule=\"nonzero\" fill-opacity=\"1\" /><path clip-path=\"url(#clip070)\" d=\"M740.86 28.5427 L740.86 35.5912 Q737.701 33.9709 734.298 33.1607 Q730.895 32.3505 727.249 32.3505 Q721.7 32.3505 718.904 34.0519 Q716.15 35.7533 716.15 39.156 Q716.15 41.7486 718.135 43.2475 Q720.12 44.7058 726.115 46.0426 L728.667 46.6097 Q736.607 48.3111 739.929 51.4303 Q743.291 54.509 743.291 60.0587 Q743.291 66.3781 738.268 70.0644 Q733.285 73.7508 724.535 73.7508 Q720.889 73.7508 716.92 73.0216 Q712.99 72.3329 708.615 70.9151 L708.615 63.2184 Q712.747 65.3654 716.757 66.4591 Q720.768 67.5124 724.697 67.5124 Q729.963 67.5124 732.799 65.73 Q735.635 63.9071 735.635 60.6258 Q735.635 57.5877 733.569 55.9673 Q731.543 54.3469 724.616 52.8481 L722.024 52.2405 Q715.097 50.7821 712.018 47.7845 Q708.939 44.7463 708.939 39.4801 Q708.939 33.0797 713.476 29.5959 Q718.013 26.1121 726.358 26.1121 Q730.49 26.1121 734.136 26.7198 Q737.782 27.3274 740.86 28.5427 Z\" fill=\"#000000\" fill-rule=\"nonzero\" fill-opacity=\"1\" /><path clip-path=\"url(#clip070)\" d=\"M762.533 14.324 L762.533 27.2059 L777.886 27.2059 L777.886 32.9987 L762.533 32.9987 L762.533 57.6282 Q762.533 63.1779 764.032 64.7578 Q765.571 66.3376 770.229 66.3376 L777.886 66.3376 L777.886 72.576 L770.229 72.576 Q761.601 72.576 758.32 69.3758 Q755.039 66.1351 755.039 57.6282 L755.039 32.9987 L749.57 32.9987 L749.57 27.2059 L755.039 27.2059 L755.039 14.324 L762.533 14.324 Z\" fill=\"#000000\" fill-rule=\"nonzero\" fill-opacity=\"1\" /><path clip-path=\"url(#clip070)\" d=\"M805.27 32.4315 Q799.274 32.4315 795.791 37.1306 Q792.307 41.7891 792.307 49.9314 Q792.307 58.0738 795.75 62.7728 Q799.234 67.4314 805.27 67.4314 Q811.225 67.4314 814.708 62.7323 Q818.192 58.0333 818.192 49.9314 Q818.192 41.8701 814.708 37.1711 Q811.225 32.4315 805.27 32.4315 M805.27 26.1121 Q814.992 26.1121 820.542 32.4315 Q826.091 38.7509 826.091 49.9314 Q826.091 61.0714 820.542 67.4314 Q814.992 73.7508 805.27 73.7508 Q795.507 73.7508 789.957 67.4314 Q784.448 61.0714 784.448 49.9314 Q784.448 38.7509 789.957 32.4315 Q795.507 26.1121 805.27 26.1121 Z\" fill=\"#000000\" fill-rule=\"nonzero\" fill-opacity=\"1\" /><path clip-path=\"url(#clip070)\" d=\"M868.302 49.3643 Q868.302 41.2625 864.94 36.8065 Q861.618 32.3505 855.582 32.3505 Q849.587 32.3505 846.224 36.8065 Q842.903 41.2625 842.903 49.3643 Q842.903 57.4256 846.224 61.8816 Q849.587 66.3376 855.582 66.3376 Q861.618 66.3376 864.94 61.8816 Q868.302 57.4256 868.302 49.3643 M875.755 66.9452 Q875.755 78.5308 870.611 84.1616 Q865.466 89.8329 854.853 89.8329 Q850.923 89.8329 847.44 89.2252 Q843.956 88.6581 840.675 87.4428 L840.675 80.1917 Q843.956 81.9741 847.156 82.8248 Q850.356 83.6755 853.678 83.6755 Q861.01 83.6755 864.656 79.8271 Q868.302 76.0193 868.302 68.282 L868.302 64.5957 Q865.993 68.6061 862.388 70.5911 Q858.782 72.576 853.759 72.576 Q845.414 72.576 840.31 66.2161 Q835.206 59.8562 835.206 49.3643 Q835.206 38.832 840.31 32.472 Q845.414 26.1121 853.759 26.1121 Q858.782 26.1121 862.388 28.0971 Q865.993 30.082 868.302 34.0924 L868.302 27.2059 L875.755 27.2059 L875.755 66.9452 Z\" fill=\"#000000\" fill-rule=\"nonzero\" fill-opacity=\"1\" /><path clip-path=\"url(#clip070)\" d=\"M917.399 34.1734 Q916.143 33.4443 914.644 33.1202 Q913.186 32.7556 911.403 32.7556 Q905.084 32.7556 901.681 36.8875 Q898.319 40.9789 898.319 48.6757 L898.319 72.576 L890.825 72.576 L890.825 27.2059 L898.319 27.2059 L898.319 34.2544 Q900.669 30.1225 904.436 28.1376 Q908.203 26.1121 913.591 26.1121 Q914.361 26.1121 915.292 26.2337 Q916.224 26.3147 917.358 26.5172 L917.399 34.1734 Z\" fill=\"#000000\" fill-rule=\"nonzero\" fill-opacity=\"1\" /><path clip-path=\"url(#clip070)\" d=\"M945.836 49.7694 Q936.803 49.7694 933.319 51.8354 Q929.835 53.9013 929.835 58.8839 Q929.835 62.8538 932.428 65.2034 Q935.061 67.5124 939.557 67.5124 Q945.755 67.5124 949.482 63.1374 Q953.249 58.7219 953.249 51.4303 L953.249 49.7694 L945.836 49.7694 M960.703 46.6907 L960.703 72.576 L953.249 72.576 L953.249 65.6895 Q950.697 69.8214 946.889 71.8063 Q943.082 73.7508 937.572 73.7508 Q930.605 73.7508 926.473 69.8619 Q922.381 65.9325 922.381 59.3701 Q922.381 51.7138 927.486 47.825 Q932.63 43.9361 942.798 43.9361 L953.249 43.9361 L953.249 43.2069 Q953.249 38.0623 949.847 35.2672 Q946.484 32.4315 940.367 32.4315 Q936.479 32.4315 932.792 33.3632 Q929.106 34.295 925.703 36.1584 L925.703 29.2718 Q929.795 27.692 933.643 26.9223 Q937.491 26.1121 941.137 26.1121 Q950.981 26.1121 955.842 31.2163 Q960.703 36.3204 960.703 46.6907 Z\" fill=\"#000000\" fill-rule=\"nonzero\" fill-opacity=\"1\" /><path clip-path=\"url(#clip070)\" d=\"M1011.38 35.9153 Q1014.17 30.8922 1018.06 28.5022 Q1021.95 26.1121 1027.22 26.1121 Q1034.31 26.1121 1038.16 31.0947 Q1042 36.0368 1042 45.1919 L1042 72.576 L1034.51 72.576 L1034.51 45.4349 Q1034.51 38.913 1032.2 35.7533 Q1029.89 32.5936 1025.15 32.5936 Q1019.36 32.5936 1016 36.4419 Q1012.64 40.2903 1012.64 46.9338 L1012.64 72.576 L1005.14 72.576 L1005.14 45.4349 Q1005.14 38.8725 1002.83 35.7533 Q1000.52 32.5936 995.703 32.5936 Q989.991 32.5936 986.629 36.4824 Q983.266 40.3308 983.266 46.9338 L983.266 72.576 L975.772 72.576 L975.772 27.2059 L983.266 27.2059 L983.266 34.2544 Q985.819 30.082 989.383 28.0971 Q992.948 26.1121 997.85 26.1121 Q1002.79 26.1121 1006.24 28.6237 Q1009.72 31.1352 1011.38 35.9153 Z\" fill=\"#000000\" fill-rule=\"nonzero\" fill-opacity=\"1\" /><path clip-path=\"url(#clip070)\" d=\"M1085.79 28.5427 L1085.79 35.5912 Q1082.64 33.9709 1079.23 33.1607 Q1075.83 32.3505 1072.18 32.3505 Q1066.63 32.3505 1063.84 34.0519 Q1061.08 35.7533 1061.08 39.156 Q1061.08 41.7486 1063.07 43.2475 Q1065.05 44.7058 1071.05 46.0426 L1073.6 46.6097 Q1081.54 48.3111 1084.86 51.4303 Q1088.23 54.509 1088.23 60.0587 Q1088.23 66.3781 1083.2 70.0644 Q1078.22 73.7508 1069.47 73.7508 Q1065.82 73.7508 1061.85 73.0216 Q1057.92 72.3329 1053.55 70.9151 L1053.55 63.2184 Q1057.68 65.3654 1061.69 66.4591 Q1065.7 67.5124 1069.63 67.5124 Q1074.9 67.5124 1077.73 65.73 Q1080.57 63.9071 1080.57 60.6258 Q1080.57 57.5877 1078.5 55.9673 Q1076.48 54.3469 1069.55 52.8481 L1066.96 52.2405 Q1060.03 50.7821 1056.95 47.7845 Q1053.87 44.7463 1053.87 39.4801 Q1053.87 33.0797 1058.41 29.5959 Q1062.95 26.1121 1071.29 26.1121 Q1075.42 26.1121 1079.07 26.7198 Q1082.72 27.3274 1085.79 28.5427 Z\" fill=\"#000000\" fill-rule=\"nonzero\" fill-opacity=\"1\" /><path clip-path=\"url(#clip070)\" d=\"M1144.05 32.4315 Q1138.05 32.4315 1134.57 37.1306 Q1131.08 41.7891 1131.08 49.9314 Q1131.08 58.0738 1134.53 62.7728 Q1138.01 67.4314 1144.05 67.4314 Q1150 67.4314 1153.49 62.7323 Q1156.97 58.0333 1156.97 49.9314 Q1156.97 41.8701 1153.49 37.1711 Q1150 32.4315 1144.05 32.4315 M1144.05 26.1121 Q1153.77 26.1121 1159.32 32.4315 Q1164.87 38.7509 1164.87 49.9314 Q1164.87 61.0714 1159.32 67.4314 Q1153.77 73.7508 1144.05 73.7508 Q1134.28 73.7508 1128.73 67.4314 Q1123.23 61.0714 1123.23 49.9314 Q1123.23 38.7509 1128.73 32.4315 Q1134.28 26.1121 1144.05 26.1121 Z\" fill=\"#000000\" fill-rule=\"nonzero\" fill-opacity=\"1\" /><path clip-path=\"url(#clip070)\" d=\"M1200.19 9.54393 L1200.19 15.7418 L1193.06 15.7418 Q1189.05 15.7418 1187.47 17.3622 Q1185.93 18.9825 1185.93 23.1955 L1185.93 27.2059 L1198.21 27.2059 L1198.21 32.9987 L1185.93 32.9987 L1185.93 72.576 L1178.44 72.576 L1178.44 32.9987 L1171.31 32.9987 L1171.31 27.2059 L1178.44 27.2059 L1178.44 24.0462 Q1178.44 16.471 1181.96 13.0277 Q1185.49 9.54393 1193.14 9.54393 L1200.19 9.54393 Z\" fill=\"#000000\" fill-rule=\"nonzero\" fill-opacity=\"1\" /><path clip-path=\"url(#clip070)\" d=\"M1255.77 9.54393 L1255.77 15.7418 L1248.64 15.7418 Q1244.63 15.7418 1243.05 17.3622 Q1241.51 18.9825 1241.51 23.1955 L1241.51 27.2059 L1253.79 27.2059 L1253.79 32.9987 L1241.51 32.9987 L1241.51 72.576 L1234.02 72.576 L1234.02 32.9987 L1226.89 32.9987 L1226.89 27.2059 L1234.02 27.2059 L1234.02 24.0462 Q1234.02 16.471 1237.54 13.0277 Q1241.07 9.54393 1248.72 9.54393 L1255.77 9.54393 Z\" fill=\"#000000\" fill-rule=\"nonzero\" fill-opacity=\"1\" /><path clip-path=\"url(#clip070)\" d=\"M1262.01 27.2059 L1269.46 27.2059 L1269.46 72.576 L1262.01 72.576 L1262.01 27.2059 M1262.01 9.54393 L1269.46 9.54393 L1269.46 18.9825 L1262.01 18.9825 L1262.01 9.54393 Z\" fill=\"#000000\" fill-rule=\"nonzero\" fill-opacity=\"1\" /><path clip-path=\"url(#clip070)\" d=\"M1322.77 45.1919 L1322.77 72.576 L1315.32 72.576 L1315.32 45.4349 Q1315.32 38.994 1312.81 35.7938 Q1310.3 32.5936 1305.27 32.5936 Q1299.24 32.5936 1295.75 36.4419 Q1292.27 40.2903 1292.27 46.9338 L1292.27 72.576 L1284.78 72.576 L1284.78 27.2059 L1292.27 27.2059 L1292.27 34.2544 Q1294.94 30.163 1298.55 28.1376 Q1302.19 26.1121 1306.93 26.1121 Q1314.75 26.1121 1318.76 30.9732 Q1322.77 35.7938 1322.77 45.1919 Z\" fill=\"#000000\" fill-rule=\"nonzero\" fill-opacity=\"1\" /><path clip-path=\"url(#clip070)\" d=\"M1358.26 49.7694 Q1349.23 49.7694 1345.74 51.8354 Q1342.26 53.9013 1342.26 58.8839 Q1342.26 62.8538 1344.85 65.2034 Q1347.48 67.5124 1351.98 67.5124 Q1358.18 67.5124 1361.9 63.1374 Q1365.67 58.7219 1365.67 51.4303 L1365.67 49.7694 L1358.26 49.7694 M1373.13 46.6907 L1373.13 72.576 L1365.67 72.576 L1365.67 65.6895 Q1363.12 69.8214 1359.31 71.8063 Q1355.5 73.7508 1349.99 73.7508 Q1343.03 73.7508 1338.9 69.8619 Q1334.8 65.9325 1334.8 59.3701 Q1334.8 51.7138 1339.91 47.825 Q1345.05 43.9361 1355.22 43.9361 L1365.67 43.9361 L1365.67 43.2069 Q1365.67 38.0623 1362.27 35.2672 Q1358.91 32.4315 1352.79 32.4315 Q1348.9 32.4315 1345.21 33.3632 Q1341.53 34.295 1338.13 36.1584 L1338.13 29.2718 Q1342.22 27.692 1346.07 26.9223 Q1349.91 26.1121 1353.56 26.1121 Q1363.4 26.1121 1368.26 31.2163 Q1373.13 36.3204 1373.13 46.6907 Z\" fill=\"#000000\" fill-rule=\"nonzero\" fill-opacity=\"1\" /><path clip-path=\"url(#clip070)\" d=\"M1388.48 9.54393 L1395.93 9.54393 L1395.93 72.576 L1388.48 72.576 L1388.48 9.54393 Z\" fill=\"#000000\" fill-rule=\"nonzero\" fill-opacity=\"1\" /><path clip-path=\"url(#clip070)\" d=\"M1432.55 27.2059 L1440.45 27.2059 L1454.63 65.2844 L1468.81 27.2059 L1476.71 27.2059 L1459.69 72.576 L1449.57 72.576 L1432.55 27.2059 Z\" fill=\"#000000\" fill-rule=\"nonzero\" fill-opacity=\"1\" /><path clip-path=\"url(#clip070)\" d=\"M1507.62 49.7694 Q1498.58 49.7694 1495.1 51.8354 Q1491.61 53.9013 1491.61 58.8839 Q1491.61 62.8538 1494.21 65.2034 Q1496.84 67.5124 1501.34 67.5124 Q1507.53 67.5124 1511.26 63.1374 Q1515.03 58.7219 1515.03 51.4303 L1515.03 49.7694 L1507.62 49.7694 M1522.48 46.6907 L1522.48 72.576 L1515.03 72.576 L1515.03 65.6895 Q1512.48 69.8214 1508.67 71.8063 Q1504.86 73.7508 1499.35 73.7508 Q1492.38 73.7508 1488.25 69.8619 Q1484.16 65.9325 1484.16 59.3701 Q1484.16 51.7138 1489.26 47.825 Q1494.41 43.9361 1504.58 43.9361 L1515.03 43.9361 L1515.03 43.2069 Q1515.03 38.0623 1511.63 35.2672 Q1508.26 32.4315 1502.15 32.4315 Q1498.26 32.4315 1494.57 33.3632 Q1490.89 34.295 1487.48 36.1584 L1487.48 29.2718 Q1491.57 27.692 1495.42 26.9223 Q1499.27 26.1121 1502.92 26.1121 Q1512.76 26.1121 1517.62 31.2163 Q1522.48 36.3204 1522.48 46.6907 Z\" fill=\"#000000\" fill-rule=\"nonzero\" fill-opacity=\"1\" /><path clip-path=\"url(#clip070)\" d=\"M1537.84 9.54393 L1545.29 9.54393 L1545.29 72.576 L1537.84 72.576 L1537.84 9.54393 Z\" fill=\"#000000\" fill-rule=\"nonzero\" fill-opacity=\"1\" /><path clip-path=\"url(#clip070)\" d=\"M1560.12 54.671 L1560.12 27.2059 L1567.57 27.2059 L1567.57 54.3874 Q1567.57 60.8284 1570.08 64.0691 Q1572.59 67.2693 1577.62 67.2693 Q1583.65 67.2693 1587.13 63.421 Q1590.66 59.5726 1590.66 52.9291 L1590.66 27.2059 L1598.11 27.2059 L1598.11 72.576 L1590.66 72.576 L1590.66 65.6084 Q1587.94 69.7404 1584.34 71.7658 Q1580.77 73.7508 1576.04 73.7508 Q1568.22 73.7508 1564.17 68.8897 Q1560.12 64.0286 1560.12 54.671 M1578.87 26.1121 L1578.87 26.1121 Z\" fill=\"#000000\" fill-rule=\"nonzero\" fill-opacity=\"1\" /><path clip-path=\"url(#clip070)\" d=\"M1652.27 48.0275 L1652.27 51.6733 L1618 51.6733 Q1618.49 59.3701 1622.62 63.421 Q1626.79 67.4314 1634.21 67.4314 Q1638.5 67.4314 1642.51 66.3781 Q1646.56 65.3249 1650.53 63.2184 L1650.53 70.267 Q1646.52 71.9684 1642.31 72.8596 Q1638.1 73.7508 1633.76 73.7508 Q1622.9 73.7508 1616.54 67.4314 Q1610.22 61.1119 1610.22 50.3365 Q1610.22 39.1965 1616.22 32.6746 Q1622.26 26.1121 1632.46 26.1121 Q1641.62 26.1121 1646.93 32.0264 Q1652.27 37.9003 1652.27 48.0275 M1644.82 45.84 Q1644.74 39.7232 1641.38 36.0774 Q1638.05 32.4315 1632.55 32.4315 Q1626.31 32.4315 1622.54 35.9558 Q1618.81 39.4801 1618.25 45.8805 L1644.82 45.84 Z\" fill=\"#000000\" fill-rule=\"nonzero\" fill-opacity=\"1\" /><path clip-path=\"url(#clip070)\" d=\"M1693.43 28.5427 L1693.43 35.5912 Q1690.27 33.9709 1686.87 33.1607 Q1683.47 32.3505 1679.82 32.3505 Q1674.27 32.3505 1671.47 34.0519 Q1668.72 35.7533 1668.72 39.156 Q1668.72 41.7486 1670.7 43.2475 Q1672.69 44.7058 1678.69 46.0426 L1681.24 46.6097 Q1689.18 48.3111 1692.5 51.4303 Q1695.86 54.509 1695.86 60.0587 Q1695.86 66.3781 1690.84 70.0644 Q1685.86 73.7508 1677.11 73.7508 Q1673.46 73.7508 1669.49 73.0216 Q1665.56 72.3329 1661.19 70.9151 L1661.19 63.2184 Q1665.32 65.3654 1669.33 66.4591 Q1673.34 67.5124 1677.27 67.5124 Q1682.53 67.5124 1685.37 65.73 Q1688.2 63.9071 1688.2 60.6258 Q1688.2 57.5877 1686.14 55.9673 Q1684.11 54.3469 1677.19 52.8481 L1674.59 52.2405 Q1667.67 50.7821 1664.59 47.7845 Q1661.51 44.7463 1661.51 39.4801 Q1661.51 33.0797 1666.05 29.5959 Q1670.58 26.1121 1678.93 26.1121 Q1683.06 26.1121 1686.71 26.7198 Q1690.35 27.3274 1693.43 28.5427 Z\" fill=\"#000000\" fill-rule=\"nonzero\" fill-opacity=\"1\" /><path clip-path=\"url(#clip070)\" d=\"M1752.98 76.7889 Q1749.82 84.8907 1746.82 87.3618 Q1743.82 89.8329 1738.8 89.8329 L1732.85 89.8329 L1732.85 83.5945 L1737.22 83.5945 Q1740.3 83.5945 1742 82.1361 Q1743.7 80.6778 1745.77 75.2496 L1747.1 71.8468 L1728.75 27.2059 L1736.65 27.2059 L1750.83 62.6918 L1765.01 27.2059 L1772.91 27.2059 L1752.98 76.7889 Z\" fill=\"#000000\" fill-rule=\"nonzero\" fill-opacity=\"1\" /><path clip-path=\"url(#clip070)\" d=\"M1817.67 86.3491 L1817.67 92.1419 L1774.57 92.1419 L1774.57 86.3491 L1817.67 86.3491 Z\" fill=\"#000000\" fill-rule=\"nonzero\" fill-opacity=\"1\" /><path clip-path=\"url(#clip070)\" d=\"M1816.62 12.096 L1867.78 12.096 L1867.78 18.9825 L1846.31 18.9825 L1846.31 72.576 L1838.09 72.576 L1838.09 18.9825 L1816.62 18.9825 L1816.62 12.096 Z\" fill=\"#000000\" fill-rule=\"nonzero\" fill-opacity=\"1\" /><path clip-path=\"url(#clip072)\" d=\"M213.794 1405.08 L213.794 1486.45 L248.493 1486.45 L248.493 1405.08 L213.794 1405.08 L213.794 1405.08  Z\" fill=\"#009af9\" fill-rule=\"evenodd\" fill-opacity=\"1\"/>\n",
       "<polyline clip-path=\"url(#clip072)\" style=\"stroke:#000000; stroke-linecap:round; stroke-linejoin:round; stroke-width:4; stroke-opacity:1; fill:none\" points=\"213.794,1405.08 213.794,1486.45 248.493,1486.45 248.493,1405.08 213.794,1405.08 \"/>\n",
       "<path clip-path=\"url(#clip072)\" d=\"M248.493 1221.99 L248.493 1486.45 L283.192 1486.45 L283.192 1221.99 L248.493 1221.99 L248.493 1221.99  Z\" fill=\"#009af9\" fill-rule=\"evenodd\" fill-opacity=\"1\"/>\n",
       "<polyline clip-path=\"url(#clip072)\" style=\"stroke:#000000; stroke-linecap:round; stroke-linejoin:round; stroke-width:4; stroke-opacity:1; fill:none\" points=\"248.493,1221.99 248.493,1486.45 283.192,1486.45 283.192,1221.99 248.493,1221.99 \"/>\n",
       "<path clip-path=\"url(#clip072)\" d=\"M283.192 733.76 L283.192 1486.45 L317.891 1486.45 L317.891 733.76 L283.192 733.76 L283.192 733.76  Z\" fill=\"#009af9\" fill-rule=\"evenodd\" fill-opacity=\"1\"/>\n",
       "<polyline clip-path=\"url(#clip072)\" style=\"stroke:#000000; stroke-linecap:round; stroke-linejoin:round; stroke-width:4; stroke-opacity:1; fill:none\" points=\"283.192,733.76 283.192,1486.45 317.891,1486.45 317.891,733.76 283.192,733.76 \"/>\n",
       "<path clip-path=\"url(#clip072)\" d=\"M317.891 713.417 L317.891 1486.45 L352.59 1486.45 L352.59 713.417 L317.891 713.417 L317.891 713.417  Z\" fill=\"#009af9\" fill-rule=\"evenodd\" fill-opacity=\"1\"/>\n",
       "<polyline clip-path=\"url(#clip072)\" style=\"stroke:#000000; stroke-linecap:round; stroke-linejoin:round; stroke-width:4; stroke-opacity:1; fill:none\" points=\"317.891,713.417 317.891,1486.45 352.59,1486.45 352.59,713.417 317.891,713.417 \"/>\n",
       "<path clip-path=\"url(#clip072)\" d=\"M352.59 387.93 L352.59 1486.45 L387.289 1486.45 L387.289 387.93 L352.59 387.93 L352.59 387.93  Z\" fill=\"#009af9\" fill-rule=\"evenodd\" fill-opacity=\"1\"/>\n",
       "<polyline clip-path=\"url(#clip072)\" style=\"stroke:#000000; stroke-linecap:round; stroke-linejoin:round; stroke-width:4; stroke-opacity:1; fill:none\" points=\"352.59,387.93 352.59,1486.45 387.289,1486.45 387.289,387.93 352.59,387.93 \"/>\n",
       "<path clip-path=\"url(#clip072)\" d=\"M387.289 876.16 L387.289 1486.45 L421.988 1486.45 L421.988 876.16 L387.289 876.16 L387.289 876.16  Z\" fill=\"#009af9\" fill-rule=\"evenodd\" fill-opacity=\"1\"/>\n",
       "<polyline clip-path=\"url(#clip072)\" style=\"stroke:#000000; stroke-linecap:round; stroke-linejoin:round; stroke-width:4; stroke-opacity:1; fill:none\" points=\"387.289,876.16 387.289,1486.45 421.988,1486.45 421.988,876.16 387.289,876.16 \"/>\n",
       "<path clip-path=\"url(#clip072)\" d=\"M421.988 1181.3 L421.988 1486.45 L456.687 1486.45 L456.687 1181.3 L421.988 1181.3 L421.988 1181.3  Z\" fill=\"#009af9\" fill-rule=\"evenodd\" fill-opacity=\"1\"/>\n",
       "<polyline clip-path=\"url(#clip072)\" style=\"stroke:#000000; stroke-linecap:round; stroke-linejoin:round; stroke-width:4; stroke-opacity:1; fill:none\" points=\"421.988,1181.3 421.988,1486.45 456.687,1486.45 456.687,1181.3 421.988,1181.3 \"/>\n",
       "<path clip-path=\"url(#clip072)\" d=\"M456.687 1405.08 L456.687 1486.45 L491.386 1486.45 L491.386 1405.08 L456.687 1405.08 L456.687 1405.08  Z\" fill=\"#009af9\" fill-rule=\"evenodd\" fill-opacity=\"1\"/>\n",
       "<polyline clip-path=\"url(#clip072)\" style=\"stroke:#000000; stroke-linecap:round; stroke-linejoin:round; stroke-width:4; stroke-opacity:1; fill:none\" points=\"456.687,1405.08 456.687,1486.45 491.386,1486.45 491.386,1405.08 456.687,1405.08 \"/>\n",
       "<path clip-path=\"url(#clip072)\" d=\"M491.386 1384.73 L491.386 1486.45 L526.085 1486.45 L526.085 1384.73 L491.386 1384.73 L491.386 1384.73  Z\" fill=\"#009af9\" fill-rule=\"evenodd\" fill-opacity=\"1\"/>\n",
       "<polyline clip-path=\"url(#clip072)\" style=\"stroke:#000000; stroke-linecap:round; stroke-linejoin:round; stroke-width:4; stroke-opacity:1; fill:none\" points=\"491.386,1384.73 491.386,1486.45 526.085,1486.45 526.085,1384.73 491.386,1384.73 \"/>\n",
       "<circle clip-path=\"url(#clip072)\" style=\"fill:#009af9; stroke:none; fill-opacity:0\" cx=\"231.144\" cy=\"1405.08\" r=\"2\"/>\n",
       "<circle clip-path=\"url(#clip072)\" style=\"fill:#009af9; stroke:none; fill-opacity:0\" cx=\"265.843\" cy=\"1221.99\" r=\"2\"/>\n",
       "<circle clip-path=\"url(#clip072)\" style=\"fill:#009af9; stroke:none; fill-opacity:0\" cx=\"300.542\" cy=\"733.76\" r=\"2\"/>\n",
       "<circle clip-path=\"url(#clip072)\" style=\"fill:#009af9; stroke:none; fill-opacity:0\" cx=\"335.241\" cy=\"713.417\" r=\"2\"/>\n",
       "<circle clip-path=\"url(#clip072)\" style=\"fill:#009af9; stroke:none; fill-opacity:0\" cx=\"369.94\" cy=\"387.93\" r=\"2\"/>\n",
       "<circle clip-path=\"url(#clip072)\" style=\"fill:#009af9; stroke:none; fill-opacity:0\" cx=\"404.639\" cy=\"876.16\" r=\"2\"/>\n",
       "<circle clip-path=\"url(#clip072)\" style=\"fill:#009af9; stroke:none; fill-opacity:0\" cx=\"439.338\" cy=\"1181.3\" r=\"2\"/>\n",
       "<circle clip-path=\"url(#clip072)\" style=\"fill:#009af9; stroke:none; fill-opacity:0\" cx=\"474.037\" cy=\"1405.08\" r=\"2\"/>\n",
       "<circle clip-path=\"url(#clip072)\" style=\"fill:#009af9; stroke:none; fill-opacity:0\" cx=\"508.736\" cy=\"1384.73\" r=\"2\"/>\n",
       "<path clip-path=\"url(#clip072)\" d=\"M317.891 1364.39 L317.891 1486.45 L387.289 1486.45 L387.289 1364.39 L317.891 1364.39 L317.891 1364.39  Z\" fill=\"#e26f46\" fill-rule=\"evenodd\" fill-opacity=\"1\"/>\n",
       "<polyline clip-path=\"url(#clip072)\" style=\"stroke:#000000; stroke-linecap:round; stroke-linejoin:round; stroke-width:4; stroke-opacity:1; fill:none\" points=\"317.891,1364.39 317.891,1486.45 387.289,1486.45 387.289,1364.39 317.891,1364.39 \"/>\n",
       "<path clip-path=\"url(#clip072)\" d=\"M387.289 815.131 L387.289 1486.45 L456.687 1486.45 L456.687 815.131 L387.289 815.131 L387.289 815.131  Z\" fill=\"#e26f46\" fill-rule=\"evenodd\" fill-opacity=\"1\"/>\n",
       "<polyline clip-path=\"url(#clip072)\" style=\"stroke:#000000; stroke-linecap:round; stroke-linejoin:round; stroke-width:4; stroke-opacity:1; fill:none\" points=\"387.289,815.131 387.289,1486.45 456.687,1486.45 456.687,815.131 387.289,815.131 \"/>\n",
       "<path clip-path=\"url(#clip072)\" d=\"M456.687 123.472 L456.687 1486.45 L526.085 1486.45 L526.085 123.472 L456.687 123.472 L456.687 123.472  Z\" fill=\"#e26f46\" fill-rule=\"evenodd\" fill-opacity=\"1\"/>\n",
       "<polyline clip-path=\"url(#clip072)\" style=\"stroke:#000000; stroke-linecap:round; stroke-linejoin:round; stroke-width:4; stroke-opacity:1; fill:none\" points=\"456.687,123.472 456.687,1486.45 526.085,1486.45 526.085,123.472 456.687,123.472 \"/>\n",
       "<path clip-path=\"url(#clip072)\" d=\"M526.085 550.673 L526.085 1486.45 L595.484 1486.45 L595.484 550.673 L526.085 550.673 L526.085 550.673  Z\" fill=\"#e26f46\" fill-rule=\"evenodd\" fill-opacity=\"1\"/>\n",
       "<polyline clip-path=\"url(#clip072)\" style=\"stroke:#000000; stroke-linecap:round; stroke-linejoin:round; stroke-width:4; stroke-opacity:1; fill:none\" points=\"526.085,550.673 526.085,1486.45 595.484,1486.45 595.484,550.673 526.085,550.673 \"/>\n",
       "<path clip-path=\"url(#clip072)\" d=\"M595.484 571.016 L595.484 1486.45 L664.882 1486.45 L664.882 571.016 L595.484 571.016 L595.484 571.016  Z\" fill=\"#e26f46\" fill-rule=\"evenodd\" fill-opacity=\"1\"/>\n",
       "<polyline clip-path=\"url(#clip072)\" style=\"stroke:#000000; stroke-linecap:round; stroke-linejoin:round; stroke-width:4; stroke-opacity:1; fill:none\" points=\"595.484,571.016 595.484,1486.45 664.882,1486.45 664.882,571.016 595.484,571.016 \"/>\n",
       "<path clip-path=\"url(#clip072)\" d=\"M664.882 1425.42 L664.882 1486.45 L734.28 1486.45 L734.28 1425.42 L664.882 1425.42 L664.882 1425.42  Z\" fill=\"#e26f46\" fill-rule=\"evenodd\" fill-opacity=\"1\"/>\n",
       "<polyline clip-path=\"url(#clip072)\" style=\"stroke:#000000; stroke-linecap:round; stroke-linejoin:round; stroke-width:4; stroke-opacity:1; fill:none\" points=\"664.882,1425.42 664.882,1486.45 734.28,1486.45 734.28,1425.42 664.882,1425.42 \"/>\n",
       "<circle clip-path=\"url(#clip072)\" style=\"fill:#e26f46; stroke:none; fill-opacity:0\" cx=\"352.59\" cy=\"1364.39\" r=\"2\"/>\n",
       "<circle clip-path=\"url(#clip072)\" style=\"fill:#e26f46; stroke:none; fill-opacity:0\" cx=\"421.988\" cy=\"815.131\" r=\"2\"/>\n",
       "<circle clip-path=\"url(#clip072)\" style=\"fill:#e26f46; stroke:none; fill-opacity:0\" cx=\"491.386\" cy=\"123.472\" r=\"2\"/>\n",
       "<circle clip-path=\"url(#clip072)\" style=\"fill:#e26f46; stroke:none; fill-opacity:0\" cx=\"560.785\" cy=\"550.673\" r=\"2\"/>\n",
       "<circle clip-path=\"url(#clip072)\" style=\"fill:#e26f46; stroke:none; fill-opacity:0\" cx=\"630.183\" cy=\"571.016\" r=\"2\"/>\n",
       "<circle clip-path=\"url(#clip072)\" style=\"fill:#e26f46; stroke:none; fill-opacity:0\" cx=\"699.581\" cy=\"1425.42\" r=\"2\"/>\n",
       "<path clip-path=\"url(#clip072)\" d=\"M1289.46 1466.1 L1289.46 1486.45 L1358.86 1486.45 L1358.86 1466.1 L1289.46 1466.1 L1289.46 1466.1  Z\" fill=\"#3da44d\" fill-rule=\"evenodd\" fill-opacity=\"1\"/>\n",
       "<polyline clip-path=\"url(#clip072)\" style=\"stroke:#000000; stroke-linecap:round; stroke-linejoin:round; stroke-width:4; stroke-opacity:1; fill:none\" points=\"1289.46,1466.1 1289.46,1486.45 1358.86,1486.45 1358.86,1466.1 1289.46,1466.1 \"/>\n",
       "<path clip-path=\"url(#clip072)\" d=\"M1358.86 1466.1 L1358.86 1486.45 L1428.26 1486.45 L1428.26 1466.1 L1358.86 1466.1 L1358.86 1466.1  Z\" fill=\"#3da44d\" fill-rule=\"evenodd\" fill-opacity=\"1\"/>\n",
       "<polyline clip-path=\"url(#clip072)\" style=\"stroke:#000000; stroke-linecap:round; stroke-linejoin:round; stroke-width:4; stroke-opacity:1; fill:none\" points=\"1358.86,1466.1 1358.86,1486.45 1428.26,1486.45 1428.26,1466.1 1358.86,1466.1 \"/>\n",
       "<path clip-path=\"url(#clip072)\" d=\"M1428.26 1445.76 L1428.26 1486.45 L1497.66 1486.45 L1497.66 1445.76 L1428.26 1445.76 L1428.26 1445.76  Z\" fill=\"#3da44d\" fill-rule=\"evenodd\" fill-opacity=\"1\"/>\n",
       "<polyline clip-path=\"url(#clip072)\" style=\"stroke:#000000; stroke-linecap:round; stroke-linejoin:round; stroke-width:4; stroke-opacity:1; fill:none\" points=\"1428.26,1445.76 1428.26,1486.45 1497.66,1486.45 1497.66,1445.76 1428.26,1445.76 \"/>\n",
       "<path clip-path=\"url(#clip072)\" d=\"M1497.66 1364.39 L1497.66 1486.45 L1567.06 1486.45 L1567.06 1364.39 L1497.66 1364.39 L1497.66 1364.39  Z\" fill=\"#3da44d\" fill-rule=\"evenodd\" fill-opacity=\"1\"/>\n",
       "<polyline clip-path=\"url(#clip072)\" style=\"stroke:#000000; stroke-linecap:round; stroke-linejoin:round; stroke-width:4; stroke-opacity:1; fill:none\" points=\"1497.66,1364.39 1497.66,1486.45 1567.06,1486.45 1567.06,1364.39 1497.66,1364.39 \"/>\n",
       "<path clip-path=\"url(#clip072)\" d=\"M1567.06 1181.3 L1567.06 1486.45 L1636.45 1486.45 L1636.45 1181.3 L1567.06 1181.3 L1567.06 1181.3  Z\" fill=\"#3da44d\" fill-rule=\"evenodd\" fill-opacity=\"1\"/>\n",
       "<polyline clip-path=\"url(#clip072)\" style=\"stroke:#000000; stroke-linecap:round; stroke-linejoin:round; stroke-width:4; stroke-opacity:1; fill:none\" points=\"1567.06,1181.3 1567.06,1486.45 1636.45,1486.45 1636.45,1181.3 1567.06,1181.3 \"/>\n",
       "<path clip-path=\"url(#clip072)\" d=\"M1636.45 1059.25 L1636.45 1486.45 L1705.85 1486.45 L1705.85 1059.25 L1636.45 1059.25 L1636.45 1059.25  Z\" fill=\"#3da44d\" fill-rule=\"evenodd\" fill-opacity=\"1\"/>\n",
       "<polyline clip-path=\"url(#clip072)\" style=\"stroke:#000000; stroke-linecap:round; stroke-linejoin:round; stroke-width:4; stroke-opacity:1; fill:none\" points=\"1636.45,1059.25 1636.45,1486.45 1705.85,1486.45 1705.85,1059.25 1636.45,1059.25 \"/>\n",
       "<path clip-path=\"url(#clip072)\" d=\"M1705.85 1059.25 L1705.85 1486.45 L1775.25 1486.45 L1775.25 1059.25 L1705.85 1059.25 L1705.85 1059.25  Z\" fill=\"#3da44d\" fill-rule=\"evenodd\" fill-opacity=\"1\"/>\n",
       "<polyline clip-path=\"url(#clip072)\" style=\"stroke:#000000; stroke-linecap:round; stroke-linejoin:round; stroke-width:4; stroke-opacity:1; fill:none\" points=\"1705.85,1059.25 1705.85,1486.45 1775.25,1486.45 1775.25,1059.25 1705.85,1059.25 \"/>\n",
       "<path clip-path=\"url(#clip072)\" d=\"M1775.25 632.045 L1775.25 1486.45 L1844.65 1486.45 L1844.65 632.045 L1775.25 632.045 L1775.25 632.045  Z\" fill=\"#3da44d\" fill-rule=\"evenodd\" fill-opacity=\"1\"/>\n",
       "<polyline clip-path=\"url(#clip072)\" style=\"stroke:#000000; stroke-linecap:round; stroke-linejoin:round; stroke-width:4; stroke-opacity:1; fill:none\" points=\"1775.25,632.045 1775.25,1486.45 1844.65,1486.45 1844.65,632.045 1775.25,632.045 \"/>\n",
       "<path clip-path=\"url(#clip072)\" d=\"M1844.65 916.846 L1844.65 1486.45 L1914.05 1486.45 L1914.05 916.846 L1844.65 916.846 L1844.65 916.846  Z\" fill=\"#3da44d\" fill-rule=\"evenodd\" fill-opacity=\"1\"/>\n",
       "<polyline clip-path=\"url(#clip072)\" style=\"stroke:#000000; stroke-linecap:round; stroke-linejoin:round; stroke-width:4; stroke-opacity:1; fill:none\" points=\"1844.65,916.846 1844.65,1486.45 1914.05,1486.45 1914.05,916.846 1844.65,916.846 \"/>\n",
       "<path clip-path=\"url(#clip072)\" d=\"M1914.05 896.503 L1914.05 1486.45 L1983.44 1486.45 L1983.44 896.503 L1914.05 896.503 L1914.05 896.503  Z\" fill=\"#3da44d\" fill-rule=\"evenodd\" fill-opacity=\"1\"/>\n",
       "<polyline clip-path=\"url(#clip072)\" style=\"stroke:#000000; stroke-linecap:round; stroke-linejoin:round; stroke-width:4; stroke-opacity:1; fill:none\" points=\"1914.05,896.503 1914.05,1486.45 1983.44,1486.45 1983.44,896.503 1914.05,896.503 \"/>\n",
       "<path clip-path=\"url(#clip072)\" d=\"M1983.44 1181.3 L1983.44 1486.45 L2052.84 1486.45 L2052.84 1181.3 L1983.44 1181.3 L1983.44 1181.3  Z\" fill=\"#3da44d\" fill-rule=\"evenodd\" fill-opacity=\"1\"/>\n",
       "<polyline clip-path=\"url(#clip072)\" style=\"stroke:#000000; stroke-linecap:round; stroke-linejoin:round; stroke-width:4; stroke-opacity:1; fill:none\" points=\"1983.44,1181.3 1983.44,1486.45 2052.84,1486.45 2052.84,1181.3 1983.44,1181.3 \"/>\n",
       "<path clip-path=\"url(#clip072)\" d=\"M2052.84 1303.36 L2052.84 1486.45 L2122.24 1486.45 L2122.24 1303.36 L2052.84 1303.36 L2052.84 1303.36  Z\" fill=\"#3da44d\" fill-rule=\"evenodd\" fill-opacity=\"1\"/>\n",
       "<polyline clip-path=\"url(#clip072)\" style=\"stroke:#000000; stroke-linecap:round; stroke-linejoin:round; stroke-width:4; stroke-opacity:1; fill:none\" points=\"2052.84,1303.36 2052.84,1486.45 2122.24,1486.45 2122.24,1303.36 2052.84,1303.36 \"/>\n",
       "<path clip-path=\"url(#clip072)\" d=\"M2122.24 1344.05 L2122.24 1486.45 L2191.64 1486.45 L2191.64 1344.05 L2122.24 1344.05 L2122.24 1344.05  Z\" fill=\"#3da44d\" fill-rule=\"evenodd\" fill-opacity=\"1\"/>\n",
       "<polyline clip-path=\"url(#clip072)\" style=\"stroke:#000000; stroke-linecap:round; stroke-linejoin:round; stroke-width:4; stroke-opacity:1; fill:none\" points=\"2122.24,1344.05 2122.24,1486.45 2191.64,1486.45 2191.64,1344.05 2122.24,1344.05 \"/>\n",
       "<path clip-path=\"url(#clip072)\" d=\"M2191.64 1425.42 L2191.64 1486.45 L2261.04 1486.45 L2261.04 1425.42 L2191.64 1425.42 L2191.64 1425.42  Z\" fill=\"#3da44d\" fill-rule=\"evenodd\" fill-opacity=\"1\"/>\n",
       "<polyline clip-path=\"url(#clip072)\" style=\"stroke:#000000; stroke-linecap:round; stroke-linejoin:round; stroke-width:4; stroke-opacity:1; fill:none\" points=\"2191.64,1425.42 2191.64,1486.45 2261.04,1486.45 2261.04,1425.42 2191.64,1425.42 \"/>\n",
       "<circle clip-path=\"url(#clip072)\" style=\"fill:#3da44d; stroke:none; fill-opacity:0\" cx=\"1324.16\" cy=\"1466.1\" r=\"2\"/>\n",
       "<circle clip-path=\"url(#clip072)\" style=\"fill:#3da44d; stroke:none; fill-opacity:0\" cx=\"1393.56\" cy=\"1466.1\" r=\"2\"/>\n",
       "<circle clip-path=\"url(#clip072)\" style=\"fill:#3da44d; stroke:none; fill-opacity:0\" cx=\"1462.96\" cy=\"1445.76\" r=\"2\"/>\n",
       "<circle clip-path=\"url(#clip072)\" style=\"fill:#3da44d; stroke:none; fill-opacity:0\" cx=\"1532.36\" cy=\"1364.39\" r=\"2\"/>\n",
       "<circle clip-path=\"url(#clip072)\" style=\"fill:#3da44d; stroke:none; fill-opacity:0\" cx=\"1601.75\" cy=\"1181.3\" r=\"2\"/>\n",
       "<circle clip-path=\"url(#clip072)\" style=\"fill:#3da44d; stroke:none; fill-opacity:0\" cx=\"1671.15\" cy=\"1059.25\" r=\"2\"/>\n",
       "<circle clip-path=\"url(#clip072)\" style=\"fill:#3da44d; stroke:none; fill-opacity:0\" cx=\"1740.55\" cy=\"1059.25\" r=\"2\"/>\n",
       "<circle clip-path=\"url(#clip072)\" style=\"fill:#3da44d; stroke:none; fill-opacity:0\" cx=\"1809.95\" cy=\"632.045\" r=\"2\"/>\n",
       "<circle clip-path=\"url(#clip072)\" style=\"fill:#3da44d; stroke:none; fill-opacity:0\" cx=\"1879.35\" cy=\"916.846\" r=\"2\"/>\n",
       "<circle clip-path=\"url(#clip072)\" style=\"fill:#3da44d; stroke:none; fill-opacity:0\" cx=\"1948.74\" cy=\"896.503\" r=\"2\"/>\n",
       "<circle clip-path=\"url(#clip072)\" style=\"fill:#3da44d; stroke:none; fill-opacity:0\" cx=\"2018.14\" cy=\"1181.3\" r=\"2\"/>\n",
       "<circle clip-path=\"url(#clip072)\" style=\"fill:#3da44d; stroke:none; fill-opacity:0\" cx=\"2087.54\" cy=\"1303.36\" r=\"2\"/>\n",
       "<circle clip-path=\"url(#clip072)\" style=\"fill:#3da44d; stroke:none; fill-opacity:0\" cx=\"2156.94\" cy=\"1344.05\" r=\"2\"/>\n",
       "<circle clip-path=\"url(#clip072)\" style=\"fill:#3da44d; stroke:none; fill-opacity:0\" cx=\"2226.34\" cy=\"1425.42\" r=\"2\"/>\n",
       "<path clip-path=\"url(#clip070)\" d=\"M1859.41 376.265 L2279.06 376.265 L2279.06 168.905 L1859.41 168.905  Z\" fill=\"#ffffff\" fill-rule=\"evenodd\" fill-opacity=\"1\"/>\n",
       "<polyline clip-path=\"url(#clip070)\" style=\"stroke:#000000; stroke-linecap:round; stroke-linejoin:round; stroke-width:4; stroke-opacity:1; fill:none\" points=\"1859.41,376.265 2279.06,376.265 2279.06,168.905 1859.41,168.905 1859.41,376.265 \"/>\n",
       "<path clip-path=\"url(#clip070)\" d=\"M1883.97 241.481 L2031.36 241.481 L2031.36 200.009 L1883.97 200.009 L1883.97 241.481  Z\" fill=\"#009af9\" fill-rule=\"evenodd\" fill-opacity=\"1\"/>\n",
       "<polyline clip-path=\"url(#clip070)\" style=\"stroke:#000000; stroke-linecap:round; stroke-linejoin:round; stroke-width:4; stroke-opacity:1; fill:none\" points=\"1883.97,241.481 2031.36,241.481 2031.36,200.009 1883.97,200.009 1883.97,241.481 \"/>\n",
       "<path clip-path=\"url(#clip070)\" d=\"M2075.19 221.59 L2060.44 221.59 Q2060.79 228.511 2062.39 231.451 Q2064.38 235.062 2067.83 235.062 Q2071.3 235.062 2073.22 231.427 Q2074.91 228.233 2075.19 221.59 M2075.12 217.654 Q2074.47 211.08 2073.22 208.766 Q2071.23 205.108 2067.83 205.108 Q2064.29 205.108 2062.41 208.719 Q2060.93 211.636 2060.49 217.654 L2075.12 217.654 M2067.83 201.636 Q2073.38 201.636 2076.55 206.543 Q2079.73 211.428 2079.73 220.085 Q2079.73 228.719 2076.55 233.627 Q2073.38 238.557 2067.83 238.557 Q2062.25 238.557 2059.1 233.627 Q2055.93 228.719 2055.93 220.085 Q2055.93 211.428 2059.1 206.543 Q2062.25 201.636 2067.83 201.636 Z\" fill=\"#000000\" fill-rule=\"nonzero\" fill-opacity=\"1\" /><path clip-path=\"url(#clip070)\" d=\"M2102.41 216.497 L2132.09 216.497 L2132.09 220.386 L2102.41 220.386 L2102.41 216.497 M2102.41 225.941 L2132.09 225.941 L2132.09 229.877 L2102.41 229.877 L2102.41 225.941 Z\" fill=\"#000000\" fill-rule=\"nonzero\" fill-opacity=\"1\" /><path clip-path=\"url(#clip070)\" d=\"M2167.25 206.543 Q2163.64 206.543 2161.81 210.108 Q2160 213.65 2160 220.779 Q2160 227.886 2161.81 231.451 Q2163.64 234.992 2167.25 234.992 Q2170.88 234.992 2172.69 231.451 Q2174.52 227.886 2174.52 220.779 Q2174.52 213.65 2172.69 210.108 Q2170.88 206.543 2167.25 206.543 M2167.25 202.84 Q2173.06 202.84 2176.11 207.446 Q2179.19 212.029 2179.19 220.779 Q2179.19 229.506 2176.11 234.113 Q2173.06 238.696 2167.25 238.696 Q2161.44 238.696 2158.36 234.113 Q2155.3 229.506 2155.3 220.779 Q2155.3 212.029 2158.36 207.446 Q2161.44 202.84 2167.25 202.84 Z\" fill=\"#000000\" fill-rule=\"nonzero\" fill-opacity=\"1\" /><path clip-path=\"url(#clip070)\" d=\"M2187.41 232.145 L2192.29 232.145 L2192.29 238.025 L2187.41 238.025 L2187.41 232.145 Z\" fill=\"#000000\" fill-rule=\"nonzero\" fill-opacity=\"1\" /><path clip-path=\"url(#clip070)\" d=\"M2212.48 221.613 Q2209.15 221.613 2207.23 223.395 Q2205.33 225.177 2205.33 228.302 Q2205.33 231.427 2207.23 233.21 Q2209.15 234.992 2212.48 234.992 Q2215.81 234.992 2217.73 233.21 Q2219.66 231.404 2219.66 228.302 Q2219.66 225.177 2217.73 223.395 Q2215.84 221.613 2212.48 221.613 M2207.8 219.622 Q2204.79 218.881 2203.1 216.821 Q2201.44 214.761 2201.44 211.798 Q2201.44 207.654 2204.38 205.247 Q2207.34 202.84 2212.48 202.84 Q2217.64 202.84 2220.58 205.247 Q2223.52 207.654 2223.52 211.798 Q2223.52 214.761 2221.83 216.821 Q2220.17 218.881 2217.18 219.622 Q2220.56 220.409 2222.43 222.701 Q2224.33 224.992 2224.33 228.302 Q2224.33 233.326 2221.25 236.011 Q2218.2 238.696 2212.48 238.696 Q2206.76 238.696 2203.68 236.011 Q2200.63 233.326 2200.63 228.302 Q2200.63 224.992 2202.53 222.701 Q2204.42 220.409 2207.8 219.622 M2206.09 212.238 Q2206.09 214.923 2207.76 216.428 Q2209.45 217.932 2212.48 217.932 Q2215.49 217.932 2217.18 216.428 Q2218.89 214.923 2218.89 212.238 Q2218.89 209.553 2217.18 208.048 Q2215.49 206.543 2212.48 206.543 Q2209.45 206.543 2207.76 208.048 Q2206.09 209.553 2206.09 212.238 Z\" fill=\"#000000\" fill-rule=\"nonzero\" fill-opacity=\"1\" /><path clip-path=\"url(#clip070)\" d=\"M1883.97 293.321 L2031.36 293.321 L2031.36 251.849 L1883.97 251.849 L1883.97 293.321  Z\" fill=\"#e26f46\" fill-rule=\"evenodd\" fill-opacity=\"1\"/>\n",
       "<polyline clip-path=\"url(#clip070)\" style=\"stroke:#000000; stroke-linecap:round; stroke-linejoin:round; stroke-width:4; stroke-opacity:1; fill:none\" points=\"1883.97,293.321 2031.36,293.321 2031.36,251.849 1883.97,251.849 1883.97,293.321 \"/>\n",
       "<path clip-path=\"url(#clip070)\" d=\"M2075.19 273.43 L2060.44 273.43 Q2060.79 280.351 2062.39 283.291 Q2064.38 286.902 2067.83 286.902 Q2071.3 286.902 2073.22 283.267 Q2074.91 280.073 2075.19 273.43 M2075.12 269.494 Q2074.47 262.92 2073.22 260.606 Q2071.23 256.948 2067.83 256.948 Q2064.29 256.948 2062.41 260.559 Q2060.93 263.476 2060.49 269.494 L2075.12 269.494 M2067.83 253.476 Q2073.38 253.476 2076.55 258.383 Q2079.73 263.268 2079.73 271.925 Q2079.73 280.559 2076.55 285.467 Q2073.38 290.397 2067.83 290.397 Q2062.25 290.397 2059.1 285.467 Q2055.93 280.559 2055.93 271.925 Q2055.93 263.268 2059.1 258.383 Q2062.25 253.476 2067.83 253.476 Z\" fill=\"#000000\" fill-rule=\"nonzero\" fill-opacity=\"1\" /><path clip-path=\"url(#clip070)\" d=\"M2102.41 268.337 L2132.09 268.337 L2132.09 272.226 L2102.41 272.226 L2102.41 268.337 M2102.41 277.781 L2132.09 277.781 L2132.09 281.717 L2102.41 281.717 L2102.41 277.781 Z\" fill=\"#000000\" fill-rule=\"nonzero\" fill-opacity=\"1\" /><path clip-path=\"url(#clip070)\" d=\"M2167.25 258.383 Q2163.64 258.383 2161.81 261.948 Q2160 265.49 2160 272.619 Q2160 279.726 2161.81 283.291 Q2163.64 286.832 2167.25 286.832 Q2170.88 286.832 2172.69 283.291 Q2174.52 279.726 2174.52 272.619 Q2174.52 265.49 2172.69 261.948 Q2170.88 258.383 2167.25 258.383 M2167.25 254.68 Q2173.06 254.68 2176.11 259.286 Q2179.19 263.869 2179.19 272.619 Q2179.19 281.346 2176.11 285.953 Q2173.06 290.536 2167.25 290.536 Q2161.44 290.536 2158.36 285.953 Q2155.3 281.346 2155.3 272.619 Q2155.3 263.869 2158.36 259.286 Q2161.44 254.68 2167.25 254.68 Z\" fill=\"#000000\" fill-rule=\"nonzero\" fill-opacity=\"1\" /><path clip-path=\"url(#clip070)\" d=\"M2187.41 283.985 L2192.29 283.985 L2192.29 289.865 L2187.41 289.865 L2187.41 283.985 Z\" fill=\"#000000\" fill-rule=\"nonzero\" fill-opacity=\"1\" /><path clip-path=\"url(#clip070)\" d=\"M2202.62 289.147 L2202.62 284.888 Q2204.38 285.721 2206.18 286.161 Q2207.99 286.601 2209.73 286.601 Q2214.35 286.601 2216.79 283.499 Q2219.24 280.374 2219.59 274.031 Q2218.24 276.022 2216.18 277.087 Q2214.12 278.152 2211.62 278.152 Q2206.44 278.152 2203.41 275.027 Q2200.4 271.879 2200.4 266.439 Q2200.4 261.115 2203.54 257.897 Q2206.69 254.68 2211.92 254.68 Q2217.92 254.68 2221.07 259.286 Q2224.24 263.869 2224.24 272.619 Q2224.24 280.791 2220.35 285.675 Q2216.48 290.536 2209.93 290.536 Q2208.17 290.536 2206.37 290.189 Q2204.56 289.842 2202.62 289.147 M2211.92 274.494 Q2215.07 274.494 2216.9 272.342 Q2218.75 270.189 2218.75 266.439 Q2218.75 262.712 2216.9 260.559 Q2215.07 258.383 2211.92 258.383 Q2208.78 258.383 2206.92 260.559 Q2205.1 262.712 2205.1 266.439 Q2205.1 270.189 2206.92 272.342 Q2208.78 274.494 2211.92 274.494 Z\" fill=\"#000000\" fill-rule=\"nonzero\" fill-opacity=\"1\" /><path clip-path=\"url(#clip070)\" d=\"M1883.97 345.161 L2031.36 345.161 L2031.36 303.689 L1883.97 303.689 L1883.97 345.161  Z\" fill=\"#3da44d\" fill-rule=\"evenodd\" fill-opacity=\"1\"/>\n",
       "<polyline clip-path=\"url(#clip070)\" style=\"stroke:#000000; stroke-linecap:round; stroke-linejoin:round; stroke-width:4; stroke-opacity:1; fill:none\" points=\"1883.97,345.161 2031.36,345.161 2031.36,303.689 1883.97,303.689 1883.97,345.161 \"/>\n",
       "<path clip-path=\"url(#clip070)\" d=\"M2075.19 325.27 L2060.44 325.27 Q2060.79 332.191 2062.39 335.131 Q2064.38 338.742 2067.83 338.742 Q2071.3 338.742 2073.22 335.107 Q2074.91 331.913 2075.19 325.27 M2075.12 321.334 Q2074.47 314.76 2073.22 312.446 Q2071.23 308.788 2067.83 308.788 Q2064.29 308.788 2062.41 312.399 Q2060.93 315.316 2060.49 321.334 L2075.12 321.334 M2067.83 305.316 Q2073.38 305.316 2076.55 310.223 Q2079.73 315.108 2079.73 323.765 Q2079.73 332.399 2076.55 337.307 Q2073.38 342.237 2067.83 342.237 Q2062.25 342.237 2059.1 337.307 Q2055.93 332.399 2055.93 323.765 Q2055.93 315.108 2059.1 310.223 Q2062.25 305.316 2067.83 305.316 Z\" fill=\"#000000\" fill-rule=\"nonzero\" fill-opacity=\"1\" /><path clip-path=\"url(#clip070)\" d=\"M2102.41 320.177 L2132.09 320.177 L2132.09 324.066 L2102.41 324.066 L2102.41 320.177 M2102.41 329.621 L2132.09 329.621 L2132.09 333.557 L2102.41 333.557 L2102.41 329.621 Z\" fill=\"#000000\" fill-rule=\"nonzero\" fill-opacity=\"1\" /><path clip-path=\"url(#clip070)\" d=\"M2167.25 310.223 Q2163.64 310.223 2161.81 313.788 Q2160 317.33 2160 324.459 Q2160 331.566 2161.81 335.131 Q2163.64 338.672 2167.25 338.672 Q2170.88 338.672 2172.69 335.131 Q2174.52 331.566 2174.52 324.459 Q2174.52 317.33 2172.69 313.788 Q2170.88 310.223 2167.25 310.223 M2167.25 306.52 Q2173.06 306.52 2176.11 311.126 Q2179.19 315.709 2179.19 324.459 Q2179.19 333.186 2176.11 337.793 Q2173.06 342.376 2167.25 342.376 Q2161.44 342.376 2158.36 337.793 Q2155.3 333.186 2155.3 324.459 Q2155.3 315.709 2158.36 311.126 Q2161.44 306.52 2167.25 306.52 Z\" fill=\"#000000\" fill-rule=\"nonzero\" fill-opacity=\"1\" /><path clip-path=\"url(#clip070)\" d=\"M2187.41 335.825 L2192.29 335.825 L2192.29 341.705 L2187.41 341.705 L2187.41 335.825 Z\" fill=\"#000000\" fill-rule=\"nonzero\" fill-opacity=\"1\" /><path clip-path=\"url(#clip070)\" d=\"M2202.62 340.987 L2202.62 336.728 Q2204.38 337.561 2206.18 338.001 Q2207.99 338.441 2209.73 338.441 Q2214.35 338.441 2216.79 335.339 Q2219.24 332.214 2219.59 325.871 Q2218.24 327.862 2216.18 328.927 Q2214.12 329.992 2211.62 329.992 Q2206.44 329.992 2203.41 326.867 Q2200.4 323.719 2200.4 318.279 Q2200.4 312.955 2203.54 309.737 Q2206.69 306.52 2211.92 306.52 Q2217.92 306.52 2221.07 311.126 Q2224.24 315.709 2224.24 324.459 Q2224.24 332.631 2220.35 337.515 Q2216.48 342.376 2209.93 342.376 Q2208.17 342.376 2206.37 342.029 Q2204.56 341.682 2202.62 340.987 M2211.92 326.334 Q2215.07 326.334 2216.9 324.182 Q2218.75 322.029 2218.75 318.279 Q2218.75 314.552 2216.9 312.399 Q2215.07 310.223 2211.92 310.223 Q2208.78 310.223 2206.92 312.399 Q2205.1 314.552 2205.1 318.279 Q2205.1 322.029 2206.92 324.182 Q2208.78 326.334 2211.92 326.334 Z\" fill=\"#000000\" fill-rule=\"nonzero\" fill-opacity=\"1\" /><path clip-path=\"url(#clip070)\" d=\"M2242.64 325.293 Q2239.31 325.293 2237.39 327.075 Q2235.49 328.857 2235.49 331.982 Q2235.49 335.107 2237.39 336.89 Q2239.31 338.672 2242.64 338.672 Q2245.98 338.672 2247.9 336.89 Q2249.82 335.084 2249.82 331.982 Q2249.82 328.857 2247.9 327.075 Q2246 325.293 2242.64 325.293 M2237.97 323.302 Q2234.96 322.561 2233.27 320.501 Q2231.6 318.441 2231.6 315.478 Q2231.6 311.334 2234.54 308.927 Q2237.5 306.52 2242.64 306.52 Q2247.8 306.52 2250.74 308.927 Q2253.68 311.334 2253.68 315.478 Q2253.68 318.441 2251.99 320.501 Q2250.33 322.561 2247.34 323.302 Q2250.72 324.089 2252.6 326.381 Q2254.49 328.672 2254.49 331.982 Q2254.49 337.006 2251.41 339.691 Q2248.36 342.376 2242.64 342.376 Q2236.92 342.376 2233.85 339.691 Q2230.79 337.006 2230.79 331.982 Q2230.79 328.672 2232.69 326.381 Q2234.59 324.089 2237.97 323.302 M2236.25 315.918 Q2236.25 318.603 2237.92 320.108 Q2239.61 321.612 2242.64 321.612 Q2245.65 321.612 2247.34 320.108 Q2249.05 318.603 2249.05 315.918 Q2249.05 313.233 2247.34 311.728 Q2245.65 310.223 2242.64 310.223 Q2239.61 310.223 2237.92 311.728 Q2236.25 313.233 2236.25 315.918 Z\" fill=\"#000000\" fill-rule=\"nonzero\" fill-opacity=\"1\" /></svg>\n"
      ]
     },
     "metadata": {},
     "output_type": "display_data"
    }
   ],
   "source": [
    "using Plots\n",
    "p = plot(title = \"Histograms of final values y_T\")\n",
    "N = 200\n",
    "T = 150\n",
    "# γ, σ, y0 = 1, 1, 0\n",
    "# Θ = [0.8, 0.9, 0.98]\n",
    "params = (; γ = 1.0, σ = 1.0, y0 = 0, Θ = [0.8, 0.9, 0.98])\n",
    "\n",
    "function y_series(params, T)\n",
    "    y = zeros(T+1, length(params.Θ))    # create an array where all y series can be stored\n",
    "    means = similar(y)\n",
    "    y[1,:] .= params.y0\n",
    "    means[1,:] .= y[1,:]\n",
    "    for (i, θ) in enumerate(params.Θ)\n",
    "        for t in 1:T\n",
    "            y[t+1, i] = params.γ + θ*y[t,i] + params.σ*randn()\n",
    "            means[t+1, i] = mean(y[1:t+1, i]) \n",
    "        end\n",
    "        # plot!(means[:,i], label = \"θ = $θ\") # plots the inidividual time-series\n",
    "    end\n",
    "    return(y)\n",
    "end\n",
    "y_series(params, T)\n",
    "\n",
    "# now create a function for a Monte-Carlo Simulation of this\n",
    "function MC(N; params=params, T=T)\n",
    "    y_T = zeros(N, length(params.Θ))\n",
    "    for n in 1:N\n",
    "        y_T[n, :] = y_series(params, T)[end, :]\n",
    "    end\n",
    "    for (i,θ) in enumerate(params.Θ)\n",
    "        histogram!(y_T[:, i], label = \"θ = $θ\")\n",
    "    end\n",
    "end\n",
    "MC(N)\n",
    "display(p)\n"
   ]
  },
  {
   "cell_type": "markdown",
   "id": "6a0cf855",
   "metadata": {},
   "source": [
    "### Exercise 3\n",
    "\n",
    "Let the data generating process for a variable be\n",
    "\n",
    "$$\n",
    "y = a x_1 + b x_1^2 + c x_2 + d + \\sigma w\n",
    "$$\n",
    "\n",
    "where $ y, x_1, x_2 $ are scalar observables, $ a,b,c,d $ are parameters to estimate, and $ w $ are iid normal with mean 0 and variance 1.\n",
    "\n",
    "First, let’s simulate data we can use to estimate the parameters\n",
    "\n",
    "- Draw $ N=50 $ values for $ x_1, x_2 $ from iid normal distributions.  \n",
    "\n",
    "\n",
    "Then, simulate with different $ w $\n",
    "\n",
    "- Draw a $ w $ vector for the `N` values and then `y` from this simulated data if the parameters were $ a = 0.1, b = 0.2 c = 0.5, d = 1.0, \\sigma = 0.1 $.  \n",
    "- Repeat that so you have `M = 20` different simulations of the `y` for the `N` values.  \n",
    "\n",
    "\n",
    "Finally, calculate order least squares manually (i.e., put the observables\n",
    "into matrices and vectors, and directly use the equations for\n",
    "[OLS](https://en.wikipedia.org/wiki/Ordinary_least_squares) rather than a package).\n",
    "\n",
    "- For each of the `M=20` simulations, calculate the OLS estimates for $ a, b, c, d, \\sigma $.  \n",
    "- Plot a histogram of these estimates for each variable.  "
   ]
  },
  {
   "cell_type": "markdown",
   "id": "c39a8ca7",
   "metadata": {},
   "source": [
    "### Exercise 4\n",
    "\n",
    "Redo Exercise 1 using the `fixedpoint` function from `NLsolve` [this lecture](https://julia.quantecon.org/julia_by_example.html).\n",
    "\n",
    "Compare the number of iterations of the NLsolve’s Anderson Acceleration to the handcoded iteration used in Exercise 1.\n",
    "\n",
    "Hint: Convert the matrix to a vector to use `fixedpoint`. e.g. `A = [1 2; 3 4]` then `x = reshape(A, 4)` turns it into a vector.  To reverse, `reshape(x, 2, 2)`."
   ]
  },
  {
   "cell_type": "markdown",
   "id": "9f7bbc84",
   "metadata": {},
   "source": [
    "## Solutions"
   ]
  },
  {
   "cell_type": "markdown",
   "id": "3320cdad",
   "metadata": {},
   "source": [
    "### Exercise 1\n",
    "\n",
    "Here’s the iterative approach"
   ]
  },
  {
   "cell_type": "code",
   "execution_count": 187,
   "id": "3fc56e53",
   "metadata": {
    "hide-output": false
   },
   "outputs": [
    {
     "data": {
      "text/plain": [
       "compute_asymptotic_var (generic function with 1 method)"
      ]
     },
     "metadata": {},
     "output_type": "display_data"
    }
   ],
   "source": [
    "function compute_asymptotic_var(A, Sigma;\n",
    "                                S0 = Sigma * Sigma',\n",
    "                                tolerance = 1e-6,\n",
    "                                maxiter = 500)\n",
    "    V = Sigma * Sigma'\n",
    "    S = S0\n",
    "    err = tolerance + 1\n",
    "    i = 1\n",
    "    while err > tolerance && i <= maxiter\n",
    "        next_S = A * S * A' + V\n",
    "        err = norm(S - next_S)\n",
    "        S = next_S\n",
    "        i += 1\n",
    "    end\n",
    "    return S\n",
    "end"
   ]
  },
  {
   "cell_type": "code",
   "execution_count": 188,
   "id": "42f4a4cb",
   "metadata": {
    "hide-output": false
   },
   "outputs": [
    {
     "data": {
      "text/plain": [
       "2×2 Matrix{Float64}:\n",
       " 0.5  0.4\n",
       " 0.4  0.6"
      ]
     },
     "metadata": {},
     "output_type": "display_data"
    }
   ],
   "source": [
    "A = [0.8 -0.2;\n",
    "     -0.1 0.7]\n",
    "\n",
    "Sigma = [0.5 0.4;\n",
    "         0.4 0.6]"
   ]
  },
  {
   "cell_type": "markdown",
   "id": "b6a16a6d",
   "metadata": {},
   "source": [
    "Note that all eigenvalues of $ A $ lie inside the unit disc."
   ]
  },
  {
   "cell_type": "code",
   "execution_count": 189,
   "id": "4faf4578",
   "metadata": {
    "hide-output": false
   },
   "outputs": [
    {
     "data": {
      "text/plain": [
       "0.9"
      ]
     },
     "metadata": {},
     "output_type": "display_data"
    }
   ],
   "source": [
    "maximum(abs, eigvals(A))"
   ]
  },
  {
   "cell_type": "markdown",
   "id": "7adb47cf",
   "metadata": {},
   "source": [
    "Let’s compute the asymptotic variance"
   ]
  },
  {
   "cell_type": "code",
   "execution_count": 190,
   "id": "d5b513fb",
   "metadata": {
    "hide-output": false
   },
   "outputs": [
    {
     "data": {
      "text/plain": [
       "2×2 Matrix{Float64}:\n",
       " 0.671228  0.633476\n",
       " 0.633476  0.858874"
      ]
     },
     "metadata": {},
     "output_type": "display_data"
    }
   ],
   "source": [
    "our_solution = compute_asymptotic_var(A, Sigma)"
   ]
  },
  {
   "cell_type": "markdown",
   "id": "5121a8d9",
   "metadata": {},
   "source": [
    "Now let’s do the same thing using QuantEcon’s `solve_discrete_lyapunov()` function and check we get the same result."
   ]
  },
  {
   "cell_type": "code",
   "execution_count": null,
   "id": "6a1170e9",
   "metadata": {
    "hide-output": false
   },
   "outputs": [],
   "source": [
    "using QuantEcon"
   ]
  },
  {
   "cell_type": "code",
   "execution_count": null,
   "id": "377f5d77",
   "metadata": {
    "hide-output": false
   },
   "outputs": [],
   "source": [
    "norm(our_solution - solve_discrete_lyapunov(A, Sigma * Sigma'))"
   ]
  }
 ],
 "metadata": {
  "date": 1704478551.7357807,
  "filename": "fundamental_types.md",
  "kernelspec": {
   "display_name": "Julia 1.10.4",
   "language": "julia",
   "name": "julia-1.10"
  },
  "language_info": {
   "file_extension": ".jl",
   "mimetype": "application/julia",
   "name": "julia",
   "version": "1.10.4"
  },
  "title": "Arrays, Tuples, Ranges, and Other Fundamental Types"
 },
 "nbformat": 4,
 "nbformat_minor": 5
}
