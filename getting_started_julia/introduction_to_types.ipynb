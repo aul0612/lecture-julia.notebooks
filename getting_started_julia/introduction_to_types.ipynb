{
 "cells": [
  {
   "cell_type": "markdown",
   "id": "51de96fd",
   "metadata": {},
   "source": [
    "\n",
    "<a id='introduction-to-types'></a>"
   ]
  },
  {
   "cell_type": "markdown",
   "id": "6d21caa0",
   "metadata": {},
   "source": [
    "# Introduction to Types and Generic Programming"
   ]
  },
  {
   "cell_type": "markdown",
   "id": "b1816161",
   "metadata": {},
   "source": [
    "## Contents\n",
    "\n",
    "- [Introduction to Types and Generic Programming](#Introduction-to-Types-and-Generic-Programming)  \n",
    "  - [Overview](#Overview)  \n",
    "  - [Finding and Interpreting Types](#Finding-and-Interpreting-Types)  \n",
    "  - [The Type Hierarchy](#The-Type-Hierarchy)  \n",
    "  - [Deducing and Declaring Types](#Deducing-and-Declaring-Types)  \n",
    "  - [Creating New Types](#Creating-New-Types)  \n",
    "  - [Introduction to Multiple Dispatch](#Introduction-to-Multiple-Dispatch)  \n",
    "  - [Exercises](#Exercises)  "
   ]
  },
  {
   "cell_type": "markdown",
   "id": "463a0e4c",
   "metadata": {},
   "source": [
    "## Overview\n",
    "\n",
    "In Julia, arrays and tuples are the most important data type for working with numerical data.\n",
    "\n",
    "In this lecture we give more details on\n",
    "\n",
    "- declaring types  \n",
    "- abstract types  \n",
    "- motivation for generic programming  \n",
    "- multiple dispatch  \n",
    "- building user-defined types  "
   ]
  },
  {
   "cell_type": "code",
   "execution_count": 2,
   "id": "c4460e54",
   "metadata": {
    "hide-output": false
   },
   "outputs": [],
   "source": [
    "using LinearAlgebra, Statistics"
   ]
  },
  {
   "cell_type": "markdown",
   "id": "e9dc1de8",
   "metadata": {},
   "source": [
    "## Finding and Interpreting Types"
   ]
  },
  {
   "cell_type": "markdown",
   "id": "a27d0720",
   "metadata": {},
   "source": [
    "### Finding The Type\n",
    "\n",
    "As we have seen in the previous lectures, in Julia all values have a type, which can be queried using the `typeof` function"
   ]
  },
  {
   "cell_type": "code",
   "execution_count": 3,
   "id": "4a0ea73b",
   "metadata": {
    "hide-output": false
   },
   "outputs": [
    {
     "name": "stdout",
     "output_type": "stream",
     "text": [
      "typeof(1) = Int64\n",
      "typeof(1.0) = Float64\n"
     ]
    }
   ],
   "source": [
    "@show typeof(1)\n",
    "@show typeof(1.0);"
   ]
  },
  {
   "cell_type": "markdown",
   "id": "aed30f28",
   "metadata": {},
   "source": [
    "The hard-coded values `1` and `1.0` are called literals in a programming\n",
    "language, and the compiler deduces their types (`Int64` and `Float64` respectively in the example above).\n",
    "\n",
    "You can also query the type of a value"
   ]
  },
  {
   "cell_type": "code",
   "execution_count": 4,
   "id": "fc6525e6",
   "metadata": {
    "hide-output": false
   },
   "outputs": [
    {
     "data": {
      "text/plain": [
       "Int64"
      ]
     },
     "metadata": {},
     "output_type": "display_data"
    }
   ],
   "source": [
    "x = 1\n",
    "typeof(x)"
   ]
  },
  {
   "cell_type": "markdown",
   "id": "48c55058",
   "metadata": {},
   "source": [
    "The name `x` binds to the value `1`, created as a literal."
   ]
  },
  {
   "cell_type": "markdown",
   "id": "79feaa90",
   "metadata": {},
   "source": [
    "### Parametric Types\n",
    "\n",
    "(See [parametric types documentation](https://docs.julialang.org/en/v1/manual/types/#Parametric-Types-1)).\n",
    "\n",
    "The next two types use curly bracket notation to express the fact that they are *parametric*"
   ]
  },
  {
   "cell_type": "code",
   "execution_count": 5,
   "id": "c302b963",
   "metadata": {
    "hide-output": false
   },
   "outputs": [
    {
     "name": "stdout",
     "output_type": "stream",
     "text": [
      "typeof(1.0 + 1im) = ComplexF64\n",
      "typeof(ones(2, 2)) = Matrix{Float64}\n"
     ]
    }
   ],
   "source": [
    "@show typeof(1.0 + 1im)\n",
    "@show typeof(ones(2, 2));"
   ]
  },
  {
   "cell_type": "markdown",
   "id": "0bd5b856",
   "metadata": {},
   "source": [
    "We will learn more details about [generic programming](https://julia.quantecon.org/../more_julia/generic_programming.html) later, but the key is to interpret the curly brackets as swappable parameters for a given type.\n",
    "\n",
    "For example, `Array{Float64, 2}` can be read as\n",
    "\n",
    "1. `Array` is a parametric type representing a dense array, where the first parameter is the type stored, and the second is the number of dimensions.  \n",
    "1. `Float64` is a concrete type declaring that the data stored will be a particular size of floating point.  \n",
    "1. `2` is the number of dimensions of that array.  \n",
    "\n",
    "\n",
    "A concrete type is one where values can be created by the compiler (equivalently, one which can be the result of `typeof(x)` for some object `x`).\n",
    "\n",
    "Values of a **parametric type** cannot be concretely constructed unless all of the parameters are given (themselves with concrete types).\n",
    "\n",
    "In the case of `Complex{Float64}`\n",
    "\n",
    "1. `Complex` is an abstract complex number type.  \n",
    "1. `Float64` is a concrete type declaring what the type of the real and imaginary parts of the value should store.  \n",
    "\n",
    "\n",
    "Another type to consider is the `Tuple` and `NamedTuple`"
   ]
  },
  {
   "cell_type": "code",
   "execution_count": 6,
   "id": "ef663669",
   "metadata": {
    "hide-output": false
   },
   "outputs": [
    {
     "name": "stdout",
     "output_type": "stream",
     "text": [
      "typeof(x) = Tuple{Int64, Float64, String}\n"
     ]
    },
    {
     "data": {
      "text/plain": [
       "Tuple{Int64, Float64, String}"
      ]
     },
     "metadata": {},
     "output_type": "display_data"
    }
   ],
   "source": [
    "x = (1, 2.0, \"test\")\n",
    "@show typeof(x)"
   ]
  },
  {
   "cell_type": "markdown",
   "id": "f861a820",
   "metadata": {},
   "source": [
    "In this case, `Tuple` is the parametric type, and the three parameters are a list of the types of each value.\n",
    "\n",
    "For a named tuple"
   ]
  },
  {
   "cell_type": "code",
   "execution_count": 7,
   "id": "56740ac5",
   "metadata": {
    "hide-output": false
   },
   "outputs": [
    {
     "name": "stdout",
     "output_type": "stream",
     "text": [
      "typeof(x) = @NamedTuple{a::Int64, b::Float64, c::String}\n"
     ]
    },
    {
     "data": {
      "text/plain": [
       "@NamedTuple{a::Int64, b::Float64, c::String}"
      ]
     },
     "metadata": {},
     "output_type": "display_data"
    }
   ],
   "source": [
    "x = (a = 1, b = 2.0, c = \"test\")\n",
    "@show typeof(x)"
   ]
  },
  {
   "cell_type": "markdown",
   "id": "49ee9629",
   "metadata": {},
   "source": [
    "The parametric `NamedTuple` type contains two parameters: first a list of names for each field of the tuple, and second the underlying `Tuple` type to store the values.\n",
    "\n",
    "Anytime a value is prefixed by a colon, as in the `:a` above, the type is `Symbol` – a special kind of string used by the compiler."
   ]
  },
  {
   "cell_type": "code",
   "execution_count": 8,
   "id": "559f937d",
   "metadata": {
    "hide-output": false
   },
   "outputs": [
    {
     "data": {
      "text/plain": [
       "Symbol"
      ]
     },
     "metadata": {},
     "output_type": "display_data"
    }
   ],
   "source": [
    "typeof(:a)"
   ]
  },
  {
   "cell_type": "markdown",
   "id": "0305640c",
   "metadata": {},
   "source": [
    "**Remark:** Note that, by convention, type names use CamelCase –  `Array`, `AbstractArray`, etc."
   ]
  },
  {
   "cell_type": "markdown",
   "id": "e2d0799f",
   "metadata": {},
   "source": [
    "### Variables, Types, and Values\n",
    "\n",
    "Since variables and functions are lower case by convention, this can be used to easily identify types when reading code and output.\n",
    "\n",
    "After assigning a variable name to a value, we can query the type of the\n",
    "value via the name."
   ]
  },
  {
   "cell_type": "code",
   "execution_count": 9,
   "id": "69d9a9da",
   "metadata": {
    "hide-output": false
   },
   "outputs": [
    {
     "name": "stdout",
     "output_type": "stream",
     "text": [
      "typeof(x) = Int64\n"
     ]
    }
   ],
   "source": [
    "x = 42\n",
    "@show typeof(x);"
   ]
  },
  {
   "cell_type": "markdown",
   "id": "63444c75",
   "metadata": {},
   "source": [
    "Thus, `x` is just a symbol bound to a value of type `Int64`.\n",
    "\n",
    "We can *rebind* the symbol `x` to any other value, of the same type or otherwise."
   ]
  },
  {
   "cell_type": "code",
   "execution_count": 10,
   "id": "ba45b332",
   "metadata": {
    "hide-output": false
   },
   "outputs": [
    {
     "data": {
      "text/plain": [
       "42.0"
      ]
     },
     "metadata": {},
     "output_type": "display_data"
    }
   ],
   "source": [
    "x = 42.0"
   ]
  },
  {
   "cell_type": "markdown",
   "id": "b8676a4e",
   "metadata": {},
   "source": [
    "Now `x` “points to” another value, of type `Float64`"
   ]
  },
  {
   "cell_type": "code",
   "execution_count": 11,
   "id": "670e9650",
   "metadata": {
    "hide-output": false
   },
   "outputs": [
    {
     "data": {
      "text/plain": [
       "Float64"
      ]
     },
     "metadata": {},
     "output_type": "display_data"
    }
   ],
   "source": [
    "typeof(x)"
   ]
  },
  {
   "cell_type": "markdown",
   "id": "48a239bb",
   "metadata": {},
   "source": [
    "However, beyond a few notable exceptions (e.g. `nothing` used for [error handling](https://julia.quantecon.org/fundamental_types.html#error-handling)),\n",
    "changing types is usually a symptom of poorly organized code, and makes\n",
    "[type inference](#type-inference) more difficult for the compiler."
   ]
  },
  {
   "cell_type": "markdown",
   "id": "d0b74ff0",
   "metadata": {},
   "source": [
    "## The Type Hierarchy\n",
    "\n",
    "Let’s discuss how types are organized."
   ]
  },
  {
   "cell_type": "markdown",
   "id": "94b13ff1",
   "metadata": {},
   "source": [
    "### Abstract vs Concrete Types\n",
    "\n",
    "(See [abstract types documentation](https://docs.julialang.org/en/v1/manual/types/#man-abstract-types-1))\n",
    "\n",
    "Up to this point, most of the types we have worked with (e.g., `Float64, Int64`) are examples of **concrete types**.\n",
    "\n",
    "Concrete types are types that we can *instantiate* – i.e., pair with data in memory.\n",
    "\n",
    "We will now examine **abstract types** that cannot be instantiated (e.g., `Real`, `AbstractFloat`).\n",
    "\n",
    "For example, while you will never have a `Real` number directly in memory, the abstract types\n",
    "help us organize and work with related concrete types."
   ]
  },
  {
   "cell_type": "markdown",
   "id": "7c29d6b5",
   "metadata": {},
   "source": [
    "### Subtypes and Supertypes\n",
    "\n",
    "How exactly do abstract types organize or relate different concrete types?\n",
    "\n",
    "In the Julia language specification, the types form a hierarchy.\n",
    "\n",
    "You can check if a type is a subtype of another with the `<:` operator."
   ]
  },
  {
   "cell_type": "code",
   "execution_count": 12,
   "id": "b97f79cf",
   "metadata": {
    "hide-output": false
   },
   "outputs": [
    {
     "name": "stdout",
     "output_type": "stream",
     "text": [
      "Float64 <: Real = true\n",
      "Int64 <: Real = true\n",
      "Complex{Float64} <: Real = false\n",
      "Array <: Real = false\n"
     ]
    }
   ],
   "source": [
    "@show Float64 <: Real\n",
    "@show Int64 <: Real\n",
    "@show Complex{Float64} <: Real\n",
    "@show Array <: Real;"
   ]
  },
  {
   "cell_type": "markdown",
   "id": "f20f07f9",
   "metadata": {},
   "source": [
    "In the above, both `Float64` and `Int64` are **subtypes** of `Real`, whereas the `Complex` numbers are not.\n",
    "\n",
    "They are, however, all subtypes of `Number`"
   ]
  },
  {
   "cell_type": "code",
   "execution_count": 14,
   "id": "d48b7477",
   "metadata": {
    "hide-output": false
   },
   "outputs": [
    {
     "name": "stdout",
     "output_type": "stream",
     "text": [
      "Real <: Number = true\n",
      "Float64 <: Number = true\n",
      "Int64 <: Number = true\n",
      "Complex{Float64} <: Number = true\n"
     ]
    }
   ],
   "source": [
    "@show Real <: Number\n",
    "@show Float64 <: Number\n",
    "@show Int64 <: Number\n",
    "@show Complex{Float64} <: Number;"
   ]
  },
  {
   "cell_type": "markdown",
   "id": "54af0ac1",
   "metadata": {},
   "source": [
    "`Number` in turn is a subtype of `Any`, which is a parent of all types."
   ]
  },
  {
   "cell_type": "code",
   "execution_count": 13,
   "id": "a69bc741",
   "metadata": {
    "hide-output": false
   },
   "outputs": [
    {
     "data": {
      "text/plain": [
       "true"
      ]
     },
     "metadata": {},
     "output_type": "display_data"
    }
   ],
   "source": [
    "Number <: Any"
   ]
  },
  {
   "cell_type": "markdown",
   "id": "7ea5a614",
   "metadata": {},
   "source": [
    "In particular, the type tree is organized with `Any` at the top and the concrete types at the bottom.\n",
    "\n",
    "We never actually see *instances* of abstract types (i.e., `typeof(x)` never returns an abstract type).\n",
    "\n",
    "The point of abstract types is to categorize the concrete types, as well as other abstract types that sit below them in the hierarchy.\n",
    "\n",
    "There are some further functions to help you explore the type hierarchy, such as `show_supertypes` which walks up the tree of types to `Any` for a given type."
   ]
  },
  {
   "cell_type": "code",
   "execution_count": 15,
   "id": "6b75f240",
   "metadata": {
    "hide-output": false
   },
   "outputs": [
    {
     "name": "stdout",
     "output_type": "stream",
     "text": [
      "Int64 <: Signed <: Integer <: Real <: Number <: Any"
     ]
    }
   ],
   "source": [
    "using Base: show_supertypes  # import the function from the `Base` package\n",
    "\n",
    "show_supertypes(Int64)"
   ]
  },
  {
   "cell_type": "markdown",
   "id": "a6c100e6",
   "metadata": {},
   "source": [
    "And the `subtypes` which gives a list of the available subtypes for any packages or code currently loaded"
   ]
  },
  {
   "cell_type": "code",
   "execution_count": 16,
   "id": "1f28148d",
   "metadata": {
    "hide-output": false
   },
   "outputs": [
    {
     "name": "stdout",
     "output_type": "stream",
     "text": [
      "subtypes(Real) = Any[AbstractFloat, AbstractIrrational, Integer, Rational]\n",
      "subtypes(AbstractFloat) = Any[BigFloat, Float16, Float32, Float64]\n"
     ]
    }
   ],
   "source": [
    "@show subtypes(Real)\n",
    "@show subtypes(AbstractFloat);"
   ]
  },
  {
   "cell_type": "markdown",
   "id": "6b516b12",
   "metadata": {},
   "source": [
    "\n",
    "<a id='type-inference'></a>"
   ]
  },
  {
   "cell_type": "markdown",
   "id": "3f24c946",
   "metadata": {},
   "source": [
    "## Deducing and Declaring Types\n",
    "\n",
    "We will discuss this in detail in [generic programming](https://julia.quantecon.org/../more_julia/generic_programming.html),\n",
    "but much of Julia’s performance gains and generality of notation comes from its type system.\n",
    "\n",
    "For example"
   ]
  },
  {
   "cell_type": "code",
   "execution_count": 17,
   "id": "0c501e5d",
   "metadata": {
    "hide-output": false
   },
   "outputs": [
    {
     "name": "stdout",
     "output_type": "stream",
     "text": [
      "typeof(x1) = Vector{Int64}\n",
      "typeof(x2) = Vector{Float64}\n"
     ]
    },
    {
     "data": {
      "text/plain": [
       "Vector{Float64}\u001b[90m (alias for \u001b[39m\u001b[90mArray{Float64, 1}\u001b[39m\u001b[90m)\u001b[39m"
      ]
     },
     "metadata": {},
     "output_type": "display_data"
    }
   ],
   "source": [
    "x1 = [1, 2, 3]\n",
    "x2 = [1.0, 2.0, 3.0]\n",
    "\n",
    "@show typeof(x1)\n",
    "@show typeof(x2)"
   ]
  },
  {
   "cell_type": "markdown",
   "id": "9a4a460f",
   "metadata": {},
   "source": [
    "These return `Array{Int64,1}` and `Array{Float64,1}` respectively, which the compiler is able to infer from the right hand side of the expressions.\n",
    "\n",
    "Given the information on the type, the compiler can work through the sequence of expressions to infer other types."
   ]
  },
  {
   "cell_type": "code",
   "execution_count": 18,
   "id": "6bb2e187",
   "metadata": {
    "hide-output": false
   },
   "outputs": [
    {
     "data": {
      "text/plain": [
       "3-element Vector{Int64}:\n",
       " 2\n",
       " 4\n",
       " 6"
      ]
     },
     "metadata": {},
     "output_type": "display_data"
    }
   ],
   "source": [
    "f(y) = 2y # define some function\n",
    "\n",
    "x = [1, 2, 3]\n",
    "z = f(x) # call with an integer array - compiler deduces type"
   ]
  },
  {
   "cell_type": "markdown",
   "id": "9d220e8d",
   "metadata": {},
   "source": [
    "### Good Practices for Functions and Variable Types\n",
    "\n",
    "In order to keep many of the benefits of Julia, you will sometimes want to ensure\n",
    "the compiler can always deduce a single type from any function or expression.\n",
    "\n",
    "An example of bad practice is to use an array to hold unrelated types"
   ]
  },
  {
   "cell_type": "code",
   "execution_count": 19,
   "id": "3a2fe6cd",
   "metadata": {
    "hide-output": false
   },
   "outputs": [
    {
     "data": {
      "text/plain": [
       "3-element Vector{Any}:\n",
       " 1.0\n",
       "  \"test\"\n",
       " 1"
      ]
     },
     "metadata": {},
     "output_type": "display_data"
    }
   ],
   "source": [
    "x = [1.0, \"test\", 1]  # typically poor style"
   ]
  },
  {
   "cell_type": "markdown",
   "id": "ca05fb7f",
   "metadata": {},
   "source": [
    "The type of this array is `Array{Any,1}`, where `Any` means the compiler has determined that any valid Julia type can be added to the array.\n",
    "\n",
    "While occasionally useful, this is to be avoided whenever possible in performance sensitive code.\n",
    "\n",
    "The other place this can come up is in the declaration of functions.\n",
    "\n",
    "As an example, consider a function which returns different types depending on the arguments."
   ]
  },
  {
   "cell_type": "code",
   "execution_count": null,
   "id": "4717658f",
   "metadata": {
    "hide-output": false
   },
   "outputs": [],
   "source": [
    "function f(x)\n",
    "    if x > 0\n",
    "        return 1.0\n",
    "    else\n",
    "        return 0  # probably meant `0.0`\n",
    "    end\n",
    "end\n",
    "\n",
    "@show f(1)\n",
    "@show f(-1);"
   ]
  },
  {
   "cell_type": "markdown",
   "id": "22762195",
   "metadata": {},
   "source": [
    "The issue here is relatively subtle:  `1.0` is a floating point, while `0` is an integer.\n",
    "\n",
    "Consequently, given the type of `x`, the compiler cannot in general determine what type the function will return.\n",
    "\n",
    "This issue, called **type stability**, is at the heart of most Julia performance considerations.\n",
    "\n",
    "Luckily, trying to ensure that functions return the same types is also generally consistent with simple, clear code."
   ]
  },
  {
   "cell_type": "markdown",
   "id": "7ab05d7a",
   "metadata": {},
   "source": [
    "### Manually Declaring Function and Variable Types\n",
    "\n",
    "(See [type declarations documentation](https://docs.julialang.org/en/v1/manual/types/#Type-Declarations-1))\n",
    "\n",
    "You will notice that in the lecture notes we have never directly declared any types.\n",
    "\n",
    "This is intentional both for exposition and as a best practice for using packages (as opposed to writing new packages, where declaring these types is very important).\n",
    "\n",
    "It is also in contrast to some of the sample code you will see in other Julia sources, which you will need to be able to read.\n",
    "\n",
    "To give an example of the declaration of types, the following are equivalent"
   ]
  },
  {
   "cell_type": "code",
   "execution_count": 20,
   "id": "5d154b53",
   "metadata": {
    "hide-output": false
   },
   "outputs": [
    {
     "data": {
      "text/plain": [
       "2-element Vector{Float64}:\n",
       "  9.1\n",
       " 14.3"
      ]
     },
     "metadata": {},
     "output_type": "display_data"
    }
   ],
   "source": [
    "function f(x, A)\n",
    "    b = [5.0, 6.0]\n",
    "    return A * x .+ b\n",
    "end\n",
    "\n",
    "val = f([0.1, 2.0], [1.0 2.0; 3.0 4.0])"
   ]
  },
  {
   "cell_type": "code",
   "execution_count": 21,
   "id": "508d523b",
   "metadata": {
    "hide-output": false
   },
   "outputs": [
    {
     "data": {
      "text/plain": [
       "2-element Vector{Float64}:\n",
       "  9.1\n",
       " 14.3"
      ]
     },
     "metadata": {},
     "output_type": "display_data"
    }
   ],
   "source": [
    "function f2(x::Vector{Float64}, A::Matrix{Float64})::Vector{Float64}\n",
    "    # argument and return types\n",
    "    b::Vector{Float64} = [5.0, 6.0]\n",
    "    return A * x .+ b\n",
    "end\n",
    "\n",
    "val = f2([0.1; 2.0], [1.0 2.0; 3.0 4.0])"
   ]
  },
  {
   "cell_type": "markdown",
   "id": "e508a415",
   "metadata": {},
   "source": [
    "While declaring the types may be verbose, would it ever generate faster code?\n",
    "\n",
    "The answer is almost never.\n",
    "\n",
    "Furthermore, it can lead to confusion and inefficiencies since many things that behave like vectors and matrices are not `Matrix{Float64}` and `Vector{Float64}`.\n",
    "\n",
    "Here, the first line works and the second line fails"
   ]
  },
  {
   "cell_type": "code",
   "execution_count": 22,
   "id": "b00b9be6",
   "metadata": {
    "hide-output": false
   },
   "outputs": [
    {
     "name": "stdout",
     "output_type": "stream",
     "text": [
      "f([0.1; 2.0], [1 2; 3 4]) = [9.1, 14.3]\n",
      "f([0.1; 2.0], Diagonal([1.0, 2.0])) = [5.1, 10.0]\n"
     ]
    },
    {
     "data": {
      "text/plain": [
       "2-element Vector{Float64}:\n",
       "  5.1\n",
       " 10.0"
      ]
     },
     "metadata": {},
     "output_type": "display_data"
    }
   ],
   "source": [
    "@show f([0.1; 2.0], [1 2; 3 4])\n",
    "@show f([0.1; 2.0], Diagonal([1.0, 2.0]))\n",
    "\n",
    "# f2([0.1; 2.0], [1 2; 3 4]) # not a `Float64`\n",
    "# f2([0.1; 2.0], Diagonal([1.0, 2.0])) # not a `Matrix{Float64}`"
   ]
  },
  {
   "cell_type": "markdown",
   "id": "1d4ae0e9",
   "metadata": {},
   "source": [
    "## Creating New Types\n",
    "\n",
    "(See [type declarations documentation](https://docs.julialang.org/en/v1/manual/types/#Type-Declarations-1))\n",
    "\n",
    "Up until now, we have used `NamedTuple` to collect sets of parameters for our models and examples.\n",
    "\n",
    "These are useful for maintaining values for model parameters,\n",
    "but you will eventually need to be able to use code that creates its own types."
   ]
  },
  {
   "cell_type": "markdown",
   "id": "fa68f1d2",
   "metadata": {},
   "source": [
    "### Syntax for Creating Concrete Types\n",
    "\n",
    "(See [composite types documentation](https://docs.julialang.org/en/v1/manual/types/#Composite-Types-1))\n",
    "\n",
    "While other sorts of types exist, we almost always use the `struct` keyword, which is for creation of composite data types\n",
    "\n",
    "- “Composite” refers to the fact that the data types in question can be used as collection of named fields.  \n",
    "- The `struct` terminology is used in a number of programming languages to refer to composite data types.  \n",
    "\n",
    "\n",
    "Let’s start with a trivial example where the `struct` we build has fields named `a, b, c`, are not typed"
   ]
  },
  {
   "cell_type": "code",
   "execution_count": 2,
   "id": "1cad92a9",
   "metadata": {
    "hide-output": false
   },
   "outputs": [],
   "source": [
    "struct FooNotTyped  # immutable by default, use `mutable struct` otherwise\n",
    "    a # BAD! not typed\n",
    "    b\n",
    "    c\n",
    "end"
   ]
  },
  {
   "cell_type": "markdown",
   "id": "ac71499b",
   "metadata": {},
   "source": [
    "And another where the types of the fields are chosen"
   ]
  },
  {
   "cell_type": "code",
   "execution_count": 1,
   "id": "719a106c",
   "metadata": {
    "hide-output": false
   },
   "outputs": [],
   "source": [
    "struct Foo\n",
    "    a::Float64\n",
    "    b::Int64\n",
    "    c::Vector{Float64}\n",
    "end"
   ]
  },
  {
   "cell_type": "markdown",
   "id": "8e82e01f",
   "metadata": {},
   "source": [
    "In either case, the compiler generates a function to create new values of the data type, called a “constructor”.\n",
    "\n",
    "It has the same name as the data type but uses function call notion"
   ]
  },
  {
   "cell_type": "code",
   "execution_count": 25,
   "id": "c81d2242",
   "metadata": {
    "hide-output": false
   },
   "outputs": [
    {
     "name": "stdout",
     "output_type": "stream",
     "text": [
      "typeof(foo) = Foo\n",
      "foo.a = 2.0\n",
      "foo.b = 3\n",
      "foo.c = [1.0, 2.0, 3.0]\n"
     ]
    },
    {
     "data": {
      "text/plain": [
       "3-element Vector{Float64}:\n",
       " 1.0\n",
       " 2.0\n",
       " 3.0"
      ]
     },
     "metadata": {},
     "output_type": "display_data"
    }
   ],
   "source": [
    "foo_nt = FooNotTyped(2.0, 3, [1.0, 2.0, 3.0])  # new `FooNotTyped`\n",
    "foo = Foo(2.0, 3, [1.0, 2.0, 3.0]) # creates a new `Foo`\n",
    "\n",
    "@show typeof(foo)\n",
    "@show foo.a       # get the value for a field\n",
    "@show foo.b\n",
    "@show foo.c;\n",
    "\n",
    "# foo.a = 2.0     # fails since it is immutable"
   ]
  },
  {
   "cell_type": "markdown",
   "id": "cf928db4",
   "metadata": {},
   "source": [
    "You will notice two differences above for the creation of a `struct` compared to our use of `NamedTuple`.\n",
    "\n",
    "- Types are declared for the fields, rather than inferred by the compiler.  \n",
    "- The construction of a new instance has no named parameters to prevent accidental misuse if the wrong order is chosen.  "
   ]
  },
  {
   "cell_type": "markdown",
   "id": "83b8ee24",
   "metadata": {},
   "source": [
    "### Issues with Type Declarations\n",
    "\n",
    "Was it necessary to manually declare the types `a::Float64` in the above struct?\n",
    "\n",
    "The answer, in practice, is usually yes.\n",
    "\n",
    "Without a declaration of the type, the compiler is unable to generate efficient code, and the use of a `struct` declared without types could drop performance by orders of magnitude.\n",
    "\n",
    "Moreover, it is very easy to use the wrong type, or unnecessarily constrain the types.\n",
    "\n",
    "The first example, which is usually just as low-performance as no declaration of types at all, is to accidentally declare it with an abstract type"
   ]
  },
  {
   "cell_type": "code",
   "execution_count": 3,
   "id": "96a0703a",
   "metadata": {
    "hide-output": false
   },
   "outputs": [],
   "source": [
    "struct Foo2\n",
    "    a::Float64\n",
    "    b::Integer  # BAD! Not a concrete type\n",
    "    c::Vector{Real}  # BAD! Not a concrete type\n",
    "end"
   ]
  },
  {
   "cell_type": "markdown",
   "id": "b11b2d1b",
   "metadata": {},
   "source": [
    "The second issue is that by choosing a type (as in the `Foo` above), you may\n",
    "be unnecessarily constraining what is allowed"
   ]
  },
  {
   "cell_type": "code",
   "execution_count": 4,
   "id": "ea9be78d",
   "metadata": {
    "hide-output": false
   },
   "outputs": [
    {
     "name": "stdout",
     "output_type": "stream",
     "text": [
      "f(foo) = 11.0\n",
      "f(foo_nt) = 11.0\n"
     ]
    }
   ],
   "source": [
    "f(x) = x.a + x.b + sum(x.c) # use the type\n",
    "a = 2.0\n",
    "b = 3\n",
    "c = [1.0, 2.0, 3.0]\n",
    "foo = Foo(a, b, c)\n",
    "@show f(foo)   # call with the foo, no problem\n",
    "\n",
    "# some other typed for the values\n",
    "a = 2   # not a floating point but `f()` would work\n",
    "b = 3\n",
    "c = [1.0, 2.0, 3.0]'   # transpose is not a `Vector` but `f()` would work\n",
    "# foo = Foo(a, b, c)   # fails to compile\n",
    "\n",
    "# works with `NotTyped` version, but low performance\n",
    "foo_nt = FooNotTyped(a, b, c)\n",
    "@show f(foo_nt);"
   ]
  },
  {
   "cell_type": "markdown",
   "id": "6f8db62f",
   "metadata": {},
   "source": [
    "### Declaring Parametric Types (Advanced)\n",
    "\n",
    "(See [type parametric types documentation](https://docs.julialang.org/en/v1/manual/types/#Parametric-Types-1))\n",
    "\n",
    "Motivated by the above, we can create a type which can adapt to holding fields of different types."
   ]
  },
  {
   "cell_type": "code",
   "execution_count": null,
   "id": "77d2c9b0",
   "metadata": {
    "hide-output": false
   },
   "outputs": [],
   "source": [
    "struct Foo3{T1, T2, T3}\n",
    "    a::T1   # could be any type\n",
    "    b::T2\n",
    "    c::T3\n",
    "end\n",
    "\n",
    "# works fine\n",
    "a = 2\n",
    "b = 3\n",
    "c = [1.0, 2.0, 3.0]'    # transpose is not a `Vector` but `f()` would work\n",
    "foo = Foo3(a, b, c)\n",
    "@show typeof(foo)\n",
    "f(foo)"
   ]
  },
  {
   "cell_type": "markdown",
   "id": "1f3ae62a",
   "metadata": {},
   "source": [
    "Of course, this is probably too flexible, and the `f` function might not work on an arbitrary set of `a, b, c`.\n",
    "\n",
    "You could constrain the types based on the abstract parent type using the `<:` operator"
   ]
  },
  {
   "cell_type": "code",
   "execution_count": null,
   "id": "29a08589",
   "metadata": {
    "hide-output": false
   },
   "outputs": [],
   "source": [
    "struct Foo4{T1 <: Real, T2 <: Real, T3 <: AbstractVecOrMat{<:Real}}\n",
    "    a::T1\n",
    "    b::T2\n",
    "    c::T3  # should check dimensions as well\n",
    "end\n",
    "foo = Foo4(a, b, c)  # no problem, and high performance\n",
    "@show typeof(foo)\n",
    "f(foo)"
   ]
  },
  {
   "cell_type": "markdown",
   "id": "47f9dc40",
   "metadata": {},
   "source": [
    "This ensures that\n",
    "\n",
    "- `a` and `b` are a subtype of `Real`, and `+` in the definition of `f` works  \n",
    "- `c` is a one dimensional abstract array of `Real` values  \n",
    "\n",
    "\n",
    "The code works, and is equivalent in performance to a `NamedTuple`, but is more verbose and error prone."
   ]
  },
  {
   "cell_type": "markdown",
   "id": "448904ab",
   "metadata": {},
   "source": [
    "### Keyword Argument Constructors (Advanced)\n",
    "\n",
    "There is no way to avoid learning parametric types to achieve high performance code.\n",
    "\n",
    "However, the other issue where constructor arguments are error-prone can be\n",
    "remedied with the `@kwdef` macro from `Base`."
   ]
  },
  {
   "cell_type": "code",
   "execution_count": null,
   "id": "f213449e",
   "metadata": {
    "hide-output": false
   },
   "outputs": [],
   "source": [
    "using Base: @kwdef\n",
    "\n",
    "@kwdef struct Foo5\n",
    "    a::Float64 = 2.0     # adds default value\n",
    "    b::Int64\n",
    "    c::Vector{Float64}\n",
    "end\n",
    "\n",
    "foo = Foo5(a = 0.1, b = 2, c = [1.0, 2.0, 3.0])\n",
    "foo2 = Foo5(c = [1.0, 2.0, 3.0], b = 2)  # rearrange order, uses default values\n",
    "\n",
    "@show foo\n",
    "@show foo2\n",
    "\n",
    "function f(x)\n",
    "    (; a, b, c) = x # unpacks any struct or named tuple\n",
    "    return a + b + sum(c)\n",
    "end\n",
    "\n",
    "f(foo)"
   ]
  },
  {
   "cell_type": "markdown",
   "id": "62b3e70e",
   "metadata": {},
   "source": [
    "\n",
    "<a id='generic-tips-tricks'></a>"
   ]
  },
  {
   "cell_type": "markdown",
   "id": "e96c7465",
   "metadata": {},
   "source": [
    "### Tips and Tricks for Writing Generic Functions\n",
    "\n",
    "As discussed in the previous sections, there is major advantage to never declaring a type unless it is absolutely necessary.\n",
    "\n",
    "The main place where it is necessary is designing code around [multiple dispatch](#intro-multiple-dispatch).\n",
    "\n",
    "If you are careful to write code that doesn’t unnecessarily assume types,\n",
    "you will both achieve higher performance and allow seamless use of a\n",
    "number of powerful libraries such as\n",
    "[auto-differentiation](https://github.com/JuliaDiff/ForwardDiff.jl),\n",
    "[static arrays](https://github.com/JuliaArrays/StaticArrays.jl),\n",
    "[GPUs](https://github.com/JuliaGPU/CuArrays.jl),\n",
    "[interval arithmetic and root finding](https://github.com/JuliaIntervals/IntervalRootFinding.jl),\n",
    "[arbitrary precision numbers](https://docs.julialang.org/en/v1/manual/integers-and-floating-point-numbers/index.html#Arbitrary-Precision-Arithmetic-1),\n",
    "and many more packages – including ones that have not even been written yet.\n",
    "\n",
    "A few simple programming patterns ensure that this is possible\n",
    "\n",
    "- Do not declare types when declaring variables or functions unless necessary.  "
   ]
  },
  {
   "cell_type": "code",
   "execution_count": null,
   "id": "2a4317e8",
   "metadata": {
    "hide-output": false
   },
   "outputs": [],
   "source": [
    "# BAD\n",
    "x = [5.0, 6.0, 2.1]\n",
    "\n",
    "function g(x::Array{Float64, 1})   # not generic!\n",
    "    y = zeros(length(x))   # not generic, hidden float!\n",
    "    z = Diagonal(ones(length(x)))  # not generic, hidden float!\n",
    "    q = ones(length(x))\n",
    "    y .= z * x + q\n",
    "    return y\n",
    "end\n",
    "\n",
    "g(x)\n",
    "\n",
    "# GOOD\n",
    "function g2(x)  # or `x::AbstractVector`\n",
    "    y = similar(x)\n",
    "    z = I\n",
    "    q = ones(eltype(x), length(x))  # or `fill(one(x), length(x))`\n",
    "    y .= z * x + q\n",
    "    return y\n",
    "end\n",
    "\n",
    "g2(x)"
   ]
  },
  {
   "cell_type": "markdown",
   "id": "40d82179",
   "metadata": {},
   "source": [
    "- Preallocate related vectors with `similar` where possible, and use `eltype` or `typeof`. This is important when using Multiple Dispatch given the different input types the function can call  "
   ]
  },
  {
   "cell_type": "code",
   "execution_count": null,
   "id": "180c759d",
   "metadata": {
    "hide-output": false
   },
   "outputs": [],
   "source": [
    "function g(x)\n",
    "    y = similar(x)\n",
    "    for i in eachindex(x)\n",
    "        y[i] = x[i]^2      # could broadcast\n",
    "    end\n",
    "    return y\n",
    "end\n",
    "\n",
    "g([BigInt(1), BigInt(2)])"
   ]
  },
  {
   "cell_type": "markdown",
   "id": "c7b7c8d3",
   "metadata": {},
   "source": [
    "- Use `typeof` or `eltype` to declare a type  "
   ]
  },
  {
   "cell_type": "code",
   "execution_count": 5,
   "id": "920d76c2",
   "metadata": {
    "hide-output": false
   },
   "outputs": [
    {
     "name": "stdout",
     "output_type": "stream",
     "text": [
      "typeof([1.0, 2.0, 3.0]) = Vector{Float64}\n",
      "eltype([1.0, 2.0, 3.0]) = Float64\n"
     ]
    }
   ],
   "source": [
    "@show typeof([1.0, 2.0, 3.0])\n",
    "@show eltype([1.0, 2.0, 3.0]);"
   ]
  },
  {
   "cell_type": "markdown",
   "id": "a3445473",
   "metadata": {},
   "source": [
    "- Beware of hidden floating points  "
   ]
  },
  {
   "cell_type": "code",
   "execution_count": 6,
   "id": "f7abdbe5",
   "metadata": {
    "hide-output": false
   },
   "outputs": [
    {
     "name": "stdout",
     "output_type": "stream",
     "text": [
      "typeof(ones(3)) = Vector{Float64}\n",
      "typeof(ones(Int64, 3)) = Vector{Int64}\n",
      "typeof(zeros(3)) = Vector{Float64}\n",
      "typeof(zeros(Int64, 3)) = Vector{Int64}\n"
     ]
    }
   ],
   "source": [
    "@show typeof(ones(3))\n",
    "@show typeof(ones(Int64, 3))\n",
    "@show typeof(zeros(3))\n",
    "@show typeof(zeros(Int64, 3));"
   ]
  },
  {
   "cell_type": "markdown",
   "id": "228f3cea",
   "metadata": {},
   "source": [
    "- Use `one` and `zero` to write generic code  "
   ]
  },
  {
   "cell_type": "code",
   "execution_count": 7,
   "id": "cf5dcd2d",
   "metadata": {
    "hide-output": false
   },
   "outputs": [
    {
     "name": "stdout",
     "output_type": "stream",
     "text": [
      "typeof(1) = Int64\n",
      "typeof(1.0) = Float64\n",
      "typeof(BigFloat(1.0)) = BigFloat\n",
      "typeof(one(BigFloat)) = BigFloat\n",
      "typeof(zero(BigFloat)) = BigFloat\n",
      "typeof(one(x)) = BigFloat\n",
      "typeof(zero(x)) = BigFloat\n"
     ]
    }
   ],
   "source": [
    "@show typeof(1)\n",
    "@show typeof(1.0)\n",
    "@show typeof(BigFloat(1.0))\n",
    "@show typeof(one(BigFloat))  # gets multiplicative identity, passing in type\n",
    "@show typeof(zero(BigFloat))\n",
    "\n",
    "x = BigFloat(2)\n",
    "\n",
    "@show typeof(one(x))  # can call with a variable for convenience\n",
    "@show typeof(zero(x));"
   ]
  },
  {
   "cell_type": "markdown",
   "id": "8e09cf7d",
   "metadata": {},
   "source": [
    "This last example is a subtle, because of something called [type promotion](https://docs.julialang.org/en/v1/manual/conversion-and-promotion/#Promotion-1)\n",
    "\n",
    "- Assume reasonable type promotion exists for numeric types  "
   ]
  },
  {
   "cell_type": "code",
   "execution_count": 8,
   "id": "e2b17d5d",
   "metadata": {
    "hide-output": false
   },
   "outputs": [
    {
     "name": "stdout",
     "output_type": "stream",
     "text": [
      "typeof(g(x)) = BigFloat\n"
     ]
    }
   ],
   "source": [
    "# ACCEPTABLE\n",
    "function g(x::AbstractFloat)\n",
    "    return x + 1.0   # assumes `1.0` can be converted to something compatible with `typeof(x)`\n",
    "end\n",
    "\n",
    "x = BigFloat(1.0)\n",
    "\n",
    "@show typeof(g(x));  # this has \"promoted\" the `1.0` to a `BigFloat`"
   ]
  },
  {
   "cell_type": "markdown",
   "id": "dea05681",
   "metadata": {},
   "source": [
    "But sometimes assuming promotion is not enough"
   ]
  },
  {
   "cell_type": "code",
   "execution_count": 9,
   "id": "febe68ba",
   "metadata": {
    "hide-output": false
   },
   "outputs": [
    {
     "name": "stdout",
     "output_type": "stream",
     "text": [
      "typeof(g2(x)) = BigFloat\n",
      "typeof(g2(x2)) = Int64\n",
      "typeof(g3(x)) = BigFloat\n",
      "typeof(g3(x2)) = BigFloat\n"
     ]
    }
   ],
   "source": [
    "# BAD\n",
    "function g2(x::AbstractFloat)\n",
    "    if x > 0.0   # can't efficiently call with `x::Integer`\n",
    "        return x + 1.0   # OK - assumes you can promote `Float64` to `AbstractFloat`\n",
    "    else\n",
    "        return 0   # BAD! Returns a `Int64`\n",
    "    end\n",
    "end\n",
    "\n",
    "x = BigFloat(1.0)\n",
    "x2 = BigFloat(-1.0)\n",
    "\n",
    "@show typeof(g2(x))\n",
    "@show typeof(g2(x2))  # type unstable\n",
    "\n",
    "# GOOD\n",
    "function g3(x) #\n",
    "    if x > zero(x)   # any type with an additive identity\n",
    "        return x + one(x)  # more general but less important of a change\n",
    "    else\n",
    "        return zero(x)\n",
    "    end\n",
    "end\n",
    "\n",
    "@show typeof(g3(x))\n",
    "@show typeof(g3(x2));  # type stable"
   ]
  },
  {
   "cell_type": "markdown",
   "id": "5749bb4c",
   "metadata": {},
   "source": [
    "These patterns are relatively straightforward, but generic programming can be thought of\n",
    "as a Leontief production function:  if *any* of the functions you write or call are not\n",
    "precise enough, then it may break the chain.\n",
    "\n",
    "This is all the more reason to exploit carefully designed packages rather than “do-it-yourself”."
   ]
  },
  {
   "cell_type": "markdown",
   "id": "b4bf00c6",
   "metadata": {},
   "source": [
    "### A Digression on Style and Naming\n",
    "\n",
    "The previous section helps to establish some of the reasoning behind the style\n",
    "choices in these lectures: “be aware of types, but avoid declaring them”.\n",
    "\n",
    "The purpose of this is threefold:\n",
    "\n",
    "- Provide easy to read code with minimal “syntactic noise” and a clear correspondence to the math.  \n",
    "- Ensure that code is sufficiently generic to exploit other packages and types.  \n",
    "- Avoid common mistakes and unnecessary performance degradations.  \n",
    "\n",
    "\n",
    "This is just one of many decisions and patterns to ensure that your code is consistent and clear.\n",
    "\n",
    "The best resource is to carefully read other peoples code, but a few sources to review are\n",
    "\n",
    "- [Julia Style Guide](https://docs.julialang.org/en/v1/manual/style-guide/)  \n",
    "- [SciML Style Guide](https://github.com/SciML/SciMLStyle)  \n",
    "- [Blue Style Guide](https://github.com/invenia/BlueStyle)  \n",
    "\n",
    "\n",
    "Now why would we emphasize naming and style as a crucial part of the lectures?\n",
    "\n",
    "Because it is an essential tool for creating research that is\n",
    "**reproducible** and [**correct**](https://en.wikipedia.org/wiki/Correctness_%28computer_science%29).\n",
    "\n",
    "Some helpful ways to think about this are\n",
    "\n",
    "- **Clearly written code is easier to review for errors**: The first-order\n",
    "  concern of any code is that it correctly implements the whiteboard math.  \n",
    "- **Code is read many more times than it is written**: Saving a few keystrokes\n",
    "  in typing a variable name is never worth it, nor is a divergence from the\n",
    "  mathematical notation where a single symbol for a variable name would map better to the model.  \n",
    "- **Write code to be read in the future, not today**: If you are not sure\n",
    "  anyone else will read the code, then write it for an ignorant future version\n",
    "  of yourself who may have forgotten everything, and is likely to misuse the code.  \n",
    "- **Maintain the correspondence between the whiteboard math and the code**:\n",
    "  For example, if you change notation in your model, then immediately update\n",
    "  all variables in the code to reflect it.  \n",
    "\n",
    "\n",
    "While variable naming takes discipline, code formatting for a specific style guide can be automated using [JuliaFormatter.jl](https://github.com/domluna/JuliaFormatter.jl) which is built into the Julia VS Code extension."
   ]
  },
  {
   "cell_type": "markdown",
   "id": "3f2cec02",
   "metadata": {},
   "source": [
    "#### Commenting Code\n",
    "\n",
    "One common mistake people make when trying to apply these goals is to add in a large number of comments.\n",
    "\n",
    "Over the years, developers have found that excess comments in code (and *especially* big comment headers used before every function declaration) can make code *harder* to read.\n",
    "\n",
    "The issue is one of syntactic noise: if most of the comments are redundant given clear variable and function names, then the comments make it more difficult to mentally parse and read the code.\n",
    "\n",
    "If you examine Julia code in packages and the core language, you will see a great amount of care taken in function and variable names, and comments are only added where helpful.\n",
    "\n",
    "For creating packages that you intend others to use, instead of a comment header, you should use [docstrings](https://docs.julialang.org/en/v1/manual/documentation/index.html#Syntax-Guide-1).\n",
    "\n",
    "\n",
    "<a id='intro-multiple-dispatch'></a>"
   ]
  },
  {
   "cell_type": "markdown",
   "id": "34e1b2b5",
   "metadata": {},
   "source": [
    "## Introduction to Multiple Dispatch\n",
    "\n",
    "One of the defining features of Julia is **multiple dispatch**, whereby the same function name can do different things depending on the underlying types.\n",
    "\n",
    "Without realizing it, in nearly every function call within packages or the standard library you have used this feature.\n",
    "\n",
    "To see this in action, consider the absolute value function `abs`"
   ]
  },
  {
   "cell_type": "code",
   "execution_count": 10,
   "id": "b43cf7c8",
   "metadata": {
    "hide-output": false
   },
   "outputs": [
    {
     "name": "stdout",
     "output_type": "stream",
     "text": [
      "abs(-1) = 1\n",
      "abs(-1.0) = 1.0\n",
      "abs(0.0 - 1.0im) = 1.0\n"
     ]
    }
   ],
   "source": [
    "@show abs(-1)   # `Int64`\n",
    "@show abs(-1.0)  # `Float64`\n",
    "@show abs(0.0 - 1.0im);  # `Complex{Float64}`"
   ]
  },
  {
   "cell_type": "markdown",
   "id": "b5bc3079",
   "metadata": {},
   "source": [
    "In all of these cases, the `abs` function has specialized code depending on the type passed in.\n",
    "\n",
    "To do this, a function specifies different **methods** which operate on a particular set of types.\n",
    "\n",
    "Unlike most cases we have seen before, this requires a type annotation.\n",
    "\n",
    "To rewrite the `abs` function"
   ]
  },
  {
   "cell_type": "code",
   "execution_count": 11,
   "id": "b5a4bfdc",
   "metadata": {
    "hide-output": false
   },
   "outputs": [
    {
     "name": "stdout",
     "output_type": "stream",
     "text": [
      "ourabs(-1) = 1\n",
      "ourabs(-1.0) = 1.0\n",
      "ourabs(1.0 - 2.0im) = 2.23606797749979\n"
     ]
    }
   ],
   "source": [
    "function ourabs(x::Real)\n",
    "    if x > zero(x)   # note, not 0!\n",
    "        return x\n",
    "    else\n",
    "        return -x\n",
    "    end\n",
    "end\n",
    "\n",
    "function ourabs(x::Complex)\n",
    "    sqrt(real(x)^2 + imag(x)^2)\n",
    "end\n",
    "\n",
    "@show ourabs(-1)   # `Int64`\n",
    "@show ourabs(-1.0) # `Float64`\n",
    "@show ourabs(1.0 - 2.0im);  # `Complex{Float64}`"
   ]
  },
  {
   "cell_type": "markdown",
   "id": "7bed7af7",
   "metadata": {},
   "source": [
    "Note that in the above, `x` works for any type of `Real`, including `Int64`, `Float64`, and ones you may not have realized exist"
   ]
  },
  {
   "cell_type": "code",
   "execution_count": null,
   "id": "07aea0b7",
   "metadata": {
    "hide-output": false
   },
   "outputs": [],
   "source": [
    "x = -2 // 3  # `Rational` number, -2/3\n",
    "@show typeof(x)\n",
    "@show ourabs(x);"
   ]
  },
  {
   "cell_type": "markdown",
   "id": "0bdc7bda",
   "metadata": {},
   "source": [
    "You will also note that we used an abstract type, `Real`, and an incomplete\n",
    "parametric type, `Complex`, when defining the above functions.\n",
    "\n",
    "Unlike the creation of `struct` fields, there is no penalty in using abstract\n",
    "types when you define function parameters, as they are used purely to determine which version of a function to use."
   ]
  },
  {
   "cell_type": "markdown",
   "id": "c1d60a5e",
   "metadata": {},
   "source": [
    "### Multiple Dispatch in Algorithms (Advanced)\n",
    "\n",
    "If you want an algorithm to have specialized versions when given different input types, you need to declare the types for the function inputs.\n",
    "\n",
    "As an example where this could come up, assume that we have some grid `x` of values, the results of a function `f` applied at those values, and want to calculate an approximate derivative using forward differences.\n",
    "\n",
    "In that case, given $ x_n, x_{n+1}, f(x_n) $ and $ f(x_{n+1}) $, the forward-difference approximation of the derivative is\n",
    "\n",
    "$$\n",
    "f'(x_n) \\approx \\frac{f(x_{n+1}) - f(x_n)}{x_{n+1} - x_n}\n",
    "$$\n",
    "\n",
    "To implement this calculation for a vector of inputs, we notice that there is a specialized implementation if the grid is uniform.\n",
    "\n",
    "The uniform grid can be implemented using an `AbstractRange`, which we can analyze with\n",
    "`typeof`, `supertype` and `show_supertypes`."
   ]
  },
  {
   "cell_type": "code",
   "execution_count": null,
   "id": "5779a660",
   "metadata": {
    "hide-output": false
   },
   "outputs": [],
   "source": [
    "x = range(0.0, 1.0, length = 20)\n",
    "x_2 = 1:1:20   # if integers\n",
    "\n",
    "@show typeof(x)\n",
    "@show typeof(x_2)\n",
    "@show supertype(typeof(x))"
   ]
  },
  {
   "cell_type": "markdown",
   "id": "67af996e",
   "metadata": {},
   "source": [
    "To see the entire tree about a particular type, use `show_supertypes`."
   ]
  },
  {
   "cell_type": "code",
   "execution_count": null,
   "id": "edafd985",
   "metadata": {
    "hide-output": false
   },
   "outputs": [],
   "source": [
    "show_supertypes(typeof(x))  # or typeof(x) |> show_supertypes"
   ]
  },
  {
   "cell_type": "code",
   "execution_count": null,
   "id": "7a061343",
   "metadata": {
    "hide-output": false
   },
   "outputs": [],
   "source": [
    "show_supertypes(typeof(x_2))"
   ]
  },
  {
   "cell_type": "markdown",
   "id": "dbf87d8e",
   "metadata": {},
   "source": [
    "The types of the range objects can be very complicated, but are both subtypes of `AbstractRange`."
   ]
  },
  {
   "cell_type": "code",
   "execution_count": null,
   "id": "68849b5e",
   "metadata": {
    "hide-output": false
   },
   "outputs": [],
   "source": [
    "@show typeof(x) <: AbstractRange\n",
    "@show typeof(x_2) <: AbstractRange;"
   ]
  },
  {
   "cell_type": "markdown",
   "id": "8aa97d4f",
   "metadata": {},
   "source": [
    "While you may not know the exact concrete type, any `AbstractRange` has an informal set of operations that are available."
   ]
  },
  {
   "cell_type": "code",
   "execution_count": null,
   "id": "7775e4fa",
   "metadata": {
    "hide-output": false
   },
   "outputs": [],
   "source": [
    "@show minimum(x)\n",
    "@show maximum(x)\n",
    "@show length(x)\n",
    "@show step(x);"
   ]
  },
  {
   "cell_type": "markdown",
   "id": "eddf9747",
   "metadata": {},
   "source": [
    "Similarly, there are a number of operations available for any `AbstractVector`, such as `length`."
   ]
  },
  {
   "cell_type": "code",
   "execution_count": null,
   "id": "27587f89",
   "metadata": {
    "hide-output": false
   },
   "outputs": [],
   "source": [
    "f(x) = x^2\n",
    "f_x = f.(x)  # calculating at the range values\n",
    "\n",
    "@show typeof(f_x)\n",
    "@show supertype(typeof(f_x))\n",
    "@show supertype(supertype(typeof(f_x)))  # walk up tree again!\n",
    "@show length(f_x);   # and many more"
   ]
  },
  {
   "cell_type": "code",
   "execution_count": null,
   "id": "3c0bf9c4",
   "metadata": {
    "hide-output": false
   },
   "outputs": [],
   "source": [
    "show_supertypes(typeof(f_x))"
   ]
  },
  {
   "cell_type": "markdown",
   "id": "79a9a032",
   "metadata": {},
   "source": [
    "There are also many functions that can use any `AbstractArray`, such as `diff`."
   ]
  },
  {
   "cell_type": "code",
   "execution_count": null,
   "id": "060e628b",
   "metadata": {
    "hide-output": false
   },
   "outputs": [],
   "source": [
    "?diff\n",
    "\n",
    "search: diff symdiff setdiff symdiff! setdiff! Cptrdiff_t\n",
    "\n",
    "diff(A::AbstractVector) # finite difference operator of matrix or vector A\n",
    "\n",
    "# if A is a matrix, specify the dimension over which to operate with the dims keyword argument\n",
    "diff(A::AbstractMatrix; dims::Integer)"
   ]
  },
  {
   "cell_type": "markdown",
   "id": "fb030039",
   "metadata": {},
   "source": [
    "Hence, we can call this function for anything of type `AbstractVector`.\n",
    "\n",
    "Finally, we can make a high performance specialization for any `AbstractVector` and `AbstractRange`."
   ]
  },
  {
   "cell_type": "code",
   "execution_count": null,
   "id": "c75be79b",
   "metadata": {
    "hide-output": false
   },
   "outputs": [],
   "source": [
    "slopes(f_x::AbstractVector, x::AbstractRange) = diff(f_x) / step(x)"
   ]
  },
  {
   "cell_type": "markdown",
   "id": "62e9f51e",
   "metadata": {},
   "source": [
    "We can use auto-differentiation to compare the results."
   ]
  },
  {
   "cell_type": "code",
   "execution_count": null,
   "id": "9f5063d3",
   "metadata": {
    "hide-output": false
   },
   "outputs": [],
   "source": [
    "using Plots, ForwardDiff\n",
    "\n",
    "# operator to get the derivative of this function using AD\n",
    "D(f) = x -> ForwardDiff.derivative(f, x)\n",
    "\n",
    "# compare slopes with AD for sin(x)\n",
    "q(x) = sin(x)\n",
    "x = 0.0:0.1:4.0\n",
    "q_x = q.(x)\n",
    "q_slopes_x = slopes(q_x, x)\n",
    "\n",
    "D_q_x = D(q).(x)  # broadcasts AD across vector\n",
    "\n",
    "plot(x[1:(end - 1)], D_q_x[1:(end - 1)], label = \"q' with AD\")\n",
    "plot!(x[1:(end - 1)], q_slopes_x, label = \"q slopes\")"
   ]
  },
  {
   "cell_type": "markdown",
   "id": "9da3c415",
   "metadata": {},
   "source": [
    "Consider a variation where we pass a function instead of an `AbstractArray`"
   ]
  },
  {
   "cell_type": "code",
   "execution_count": null,
   "id": "4c9f4b04",
   "metadata": {
    "hide-output": false
   },
   "outputs": [],
   "source": [
    "slopes(f::Function, x::AbstractRange) = diff(f.(x)) / step(x)  # broadcast function\n",
    "\n",
    "@show typeof(q) <: Function\n",
    "@show typeof(x) <: AbstractRange\n",
    "q_slopes_x = slopes(q, x)  # use slopes(f::Function, x)\n",
    "@show q_slopes_x[1];"
   ]
  },
  {
   "cell_type": "markdown",
   "id": "c42f011c",
   "metadata": {},
   "source": [
    "Finally, if `x` was an `AbstractArray` and not an `AbstractRange` we can no longer use a uniform step.\n",
    "\n",
    "For this, we add in a version calculating slopes with forward first-differences"
   ]
  },
  {
   "cell_type": "code",
   "execution_count": null,
   "id": "bf10206f",
   "metadata": {
    "hide-output": false
   },
   "outputs": [],
   "source": [
    "# broadcasts over the diff\n",
    "slopes(f::Function, x::AbstractArray) = diff(f.(x)) ./ diff(x)\n",
    "\n",
    "x_array = Array(x)  # convert range to array\n",
    "@show typeof(x_array) <: AbstractArray\n",
    "q_slopes_x = slopes(q, x_array)\n",
    "@show q_slopes_x[1];"
   ]
  },
  {
   "cell_type": "markdown",
   "id": "821cb3c7",
   "metadata": {},
   "source": [
    "In the final example, we see that it is able to use specialized implementations over both the `f` and the `x` arguments.\n",
    "\n",
    "This is the “multiple” in multiple dispatch."
   ]
  },
  {
   "cell_type": "markdown",
   "id": "e989a4c4",
   "metadata": {},
   "source": [
    "## Exercises"
   ]
  },
  {
   "cell_type": "markdown",
   "id": "d95666ab",
   "metadata": {},
   "source": [
    "### Exercise 1\n",
    "\n",
    "Explore the package [StaticArrays.jl](https://github.com/JuliaArrays/StaticArrays.jl).\n",
    "\n",
    "- Describe two abstract types and the hierarchy of three different concrete types.  \n",
    "- Benchmark the calculation of some simple linear algebra with a static array\n",
    "  compared to the following for a dense array for `N = 3` and `N = 15`.  "
   ]
  },
  {
   "cell_type": "code",
   "execution_count": 12,
   "id": "a15a7246",
   "metadata": {
    "hide-output": false
   },
   "outputs": [
    {
     "name": "stdout",
     "output_type": "stream",
     "text": [
      "  53.232 ns (1 allocation: 80 bytes)\n",
      "  427.638 ns (4 allocations: 1.86 KiB)\n"
     ]
    },
    {
     "data": {
      "text/plain": [
       "3×3 Matrix{Float64}:\n",
       " -0.311755   9.48136  -3.17589\n",
       " -0.391988  -4.63148   3.8336\n",
       "  1.52814    3.14985  -3.01553"
      ]
     },
     "metadata": {},
     "output_type": "display_data"
    }
   ],
   "source": [
    "using BenchmarkTools\n",
    "\n",
    "N = 3\n",
    "A = rand(N, N)\n",
    "x = rand(N)\n",
    "\n",
    "@btime $A * $x  # the $ in front of variable names is sometimes important\n",
    "@btime inv($A)"
   ]
  },
  {
   "cell_type": "code",
   "execution_count": 24,
   "id": "bdf240b4",
   "metadata": {},
   "outputs": [
    {
     "name": "stdout",
     "output_type": "stream",
     "text": [
      "  18.857 ns (1 allocation: 32 bytes)\n",
      "  26.004 ns (1 allocation: 80 bytes)\n"
     ]
    },
    {
     "data": {
      "text/plain": [
       "3×3 SMatrix{3, 3, Float64, 9} with indices SOneTo(3)×SOneTo(3):\n",
       " -0.0808814  -0.41227   1.28191\n",
       "  1.82647    -1.67003  -0.273742\n",
       " -1.45934     9.2076   -1.37285"
      ]
     },
     "metadata": {},
     "output_type": "display_data"
    }
   ],
   "source": [
    "using StaticArrays, LinearAlgebra\n",
    "N = 3\n",
    "A = @SArray rand(N, N)\n",
    "x = @SArray rand(N)\n",
    "\n",
    "@btime A * x  # the $ in front of variable names is sometimes important\n",
    "@btime inv(A)"
   ]
  },
  {
   "cell_type": "markdown",
   "id": "a17f7ec5",
   "metadata": {},
   "source": [
    "### Exercise 2\n",
    "\n",
    "A key step in the calculation of the Kalman Filter is calculation of the Kalman gain, as can be seen with the following example using dense matrices from [the Kalman lecture](https://julia.quantecon.org/../introduction_dynamics/kalman.html).\n",
    "\n",
    "Using what you learned from Exercise 1, benchmark this using Static Arrays"
   ]
  },
  {
   "cell_type": "code",
   "execution_count": 15,
   "id": "f99e88a0",
   "metadata": {
    "hide-output": false
   },
   "outputs": [
    {
     "name": "stdout",
     "output_type": "stream",
     "text": [
      "  498.446 ns (9 allocations: 1.77 KiB)\n"
     ]
    },
    {
     "data": {
      "text/plain": [
       "2×2 Matrix{Float64}:\n",
       " 0.666667     1.11022e-16\n",
       " 1.11022e-16  0.666667"
      ]
     },
     "metadata": {},
     "output_type": "display_data"
    }
   ],
   "source": [
    "Sigma = [0.4 0.3;\n",
    "         0.3 0.45]\n",
    "G = I\n",
    "R = 0.5 * Sigma\n",
    "\n",
    "gain(Sigma, G, R) = Sigma * G' * inv(G * Sigma * G' + R)\n",
    "@btime gain($Sigma, $G, $R)"
   ]
  },
  {
   "cell_type": "code",
   "execution_count": 18,
   "id": "dd5f34b3",
   "metadata": {},
   "outputs": [
    {
     "name": "stdout",
     "output_type": "stream",
     "text": [
      "  4.500 ns (0 allocations: 0 bytes)\n"
     ]
    },
    {
     "data": {
      "text/plain": [
       "2×2 SMatrix{2, 2, Float64, 4} with indices SOneTo(2)×SOneTo(2):\n",
       " 0.666667     1.22536e-16\n",
       " 2.51651e-16  0.666667"
      ]
     },
     "metadata": {},
     "output_type": "display_data"
    }
   ],
   "source": [
    "Sigma = @SMatrix [0.4 0.3;\n",
    "                  0.3 0.45]\n",
    "G = I\n",
    "R = 0.5 * Sigma\n",
    "\n",
    "gain(Sigma, G, R) = Sigma * G' * inv(G * Sigma * G' + R)\n",
    "@btime gain($Sigma, $G, $R)"
   ]
  },
  {
   "cell_type": "markdown",
   "id": "3b2ab7cc",
   "metadata": {},
   "source": [
    "How many times faster are static arrays in this example?"
   ]
  },
  {
   "cell_type": "markdown",
   "id": "1e1f343e",
   "metadata": {},
   "source": [
    "### Exercise 3\n",
    "\n",
    "The [Polynomial.jl](https://github.com/JuliaMath/Polynomials.jl) provides a package for simple univariate Polynomials."
   ]
  },
  {
   "cell_type": "code",
   "execution_count": 15,
   "id": "6859ae4e",
   "metadata": {
    "hide-output": false
   },
   "outputs": [
    {
     "name": "stdout",
     "output_type": "stream",
     "text": [
      "p = Polynomial(2 - 5*x + 2*x^2)\n",
      "(p(0.1), p′(0.1)) = (1.52, -4.6)\n",
      "roots(p) = [0.5, 2.0]\n"
     ]
    }
   ],
   "source": [
    "using Polynomials\n",
    "\n",
    "p = Polynomial([2, -5, 2], :x)  # :x just gives a symbol for display\n",
    "\n",
    "@show p\n",
    "p′ = derivative(p)   # gives the derivative of p, another polynomial\n",
    "@show p(0.1), p′(0.1)  # call like a function\n",
    "@show roots(p);   # find roots such that p(x) = 0"
   ]
  },
  {
   "cell_type": "markdown",
   "id": "3993e494",
   "metadata": {},
   "source": [
    "Plot both `p(x)` and `p′(x)` for $ x \\in [-2, 2] $."
   ]
  },
  {
   "cell_type": "code",
   "execution_count": 13,
   "id": "f18cd4dd",
   "metadata": {},
   "outputs": [
    {
     "data": {
      "image/png": "[encoded data removed]",
      "image/svg+xml": [
       "<?xml version=\"1.0\" encoding=\"utf-8\"?>\n",
       "<svg xmlns=\"http://www.w3.org/2000/svg\" xmlns:xlink=\"http://www.w3.org/1999/xlink\" width=\"600\" height=\"400\" viewBox=\"0 0 2400 1600\">\n",
       "<defs>\n",
       "  <clipPath id=\"clip560\">\n",
       "    <rect x=\"0\" y=\"0\" width=\"2400\" height=\"1600\"/>\n",
       "  </clipPath>\n",
       "</defs>\n",
       "<path clip-path=\"url(#clip560)\" d=\"M0 1600 L2400 1600 L2400 0 L0 0  Z\" fill=\"#ffffff\" fill-rule=\"evenodd\" fill-opacity=\"1\"/>\n",
       "<defs>\n",
       "  <clipPath id=\"clip561\">\n",
       "    <rect x=\"480\" y=\"0\" width=\"1681\" height=\"1600\"/>\n",
       "  </clipPath>\n",
       "</defs>\n",
       "<path clip-path=\"url(#clip560)\" d=\"M178.867 1423.18 L2352.76 1423.18 L2352.76 47.2441 L178.867 47.2441  Z\" fill=\"#ffffff\" fill-rule=\"evenodd\" fill-opacity=\"1\"/>\n",
       "<defs>\n",
       "  <clipPath id=\"clip562\">\n",
       "    <rect x=\"178\" y=\"47\" width=\"2175\" height=\"1377\"/>\n",
       "  </clipPath>\n",
       "</defs>\n",
       "<polyline clip-path=\"url(#clip562)\" style=\"stroke:#000000; stroke-linecap:round; stroke-linejoin:round; stroke-width:2; stroke-opacity:0.1; fill:none\" points=\"240.392,1423.18 240.392,47.2441 \"/>\n",
       "<polyline clip-path=\"url(#clip562)\" style=\"stroke:#000000; stroke-linecap:round; stroke-linejoin:round; stroke-width:2; stroke-opacity:0.1; fill:none\" points=\"753.102,1423.18 753.102,47.2441 \"/>\n",
       "<polyline clip-path=\"url(#clip562)\" style=\"stroke:#000000; stroke-linecap:round; stroke-linejoin:round; stroke-width:2; stroke-opacity:0.1; fill:none\" points=\"1265.81,1423.18 1265.81,47.2441 \"/>\n",
       "<polyline clip-path=\"url(#clip562)\" style=\"stroke:#000000; stroke-linecap:round; stroke-linejoin:round; stroke-width:2; stroke-opacity:0.1; fill:none\" points=\"1778.52,1423.18 1778.52,47.2441 \"/>\n",
       "<polyline clip-path=\"url(#clip562)\" style=\"stroke:#000000; stroke-linecap:round; stroke-linejoin:round; stroke-width:2; stroke-opacity:0.1; fill:none\" points=\"2291.23,1423.18 2291.23,47.2441 \"/>\n",
       "<polyline clip-path=\"url(#clip560)\" style=\"stroke:#000000; stroke-linecap:round; stroke-linejoin:round; stroke-width:4; stroke-opacity:1; fill:none\" points=\"178.867,1423.18 2352.76,1423.18 \"/>\n",
       "<polyline clip-path=\"url(#clip560)\" style=\"stroke:#000000; stroke-linecap:round; stroke-linejoin:round; stroke-width:4; stroke-opacity:1; fill:none\" points=\"240.392,1423.18 240.392,1404.28 \"/>\n",
       "<polyline clip-path=\"url(#clip560)\" style=\"stroke:#000000; stroke-linecap:round; stroke-linejoin:round; stroke-width:4; stroke-opacity:1; fill:none\" points=\"753.102,1423.18 753.102,1404.28 \"/>\n",
       "<polyline clip-path=\"url(#clip560)\" style=\"stroke:#000000; stroke-linecap:round; stroke-linejoin:round; stroke-width:4; stroke-opacity:1; fill:none\" points=\"1265.81,1423.18 1265.81,1404.28 \"/>\n",
       "<polyline clip-path=\"url(#clip560)\" style=\"stroke:#000000; stroke-linecap:round; stroke-linejoin:round; stroke-width:4; stroke-opacity:1; fill:none\" points=\"1778.52,1423.18 1778.52,1404.28 \"/>\n",
       "<polyline clip-path=\"url(#clip560)\" style=\"stroke:#000000; stroke-linecap:round; stroke-linejoin:round; stroke-width:4; stroke-opacity:1; fill:none\" points=\"2291.23,1423.18 2291.23,1404.28 \"/>\n",
       "<path clip-path=\"url(#clip560)\" d=\"M210.334 1468.75 L240.01 1468.75 L240.01 1472.69 L210.334 1472.69 L210.334 1468.75 Z\" fill=\"#000000\" fill-rule=\"nonzero\" fill-opacity=\"1\" /><path clip-path=\"url(#clip560)\" d=\"M254.13 1481.64 L270.45 1481.64 L270.45 1485.58 L248.505 1485.58 L248.505 1481.64 Q251.167 1478.89 255.751 1474.26 Q260.357 1469.61 261.538 1468.27 Q263.783 1465.74 264.663 1464.01 Q265.565 1462.25 265.565 1460.56 Q265.565 1457.8 263.621 1456.07 Q261.7 1454.33 258.598 1454.33 Q256.399 1454.33 253.945 1455.09 Q251.514 1455.86 248.737 1457.41 L248.737 1452.69 Q251.561 1451.55 254.014 1450.97 Q256.468 1450.39 258.505 1450.39 Q263.875 1450.39 267.07 1453.08 Q270.264 1455.77 270.264 1460.26 Q270.264 1462.39 269.454 1464.31 Q268.667 1466.2 266.561 1468.8 Q265.982 1469.47 262.88 1472.69 Q259.778 1475.88 254.13 1481.64 Z\" fill=\"#000000\" fill-rule=\"nonzero\" fill-opacity=\"1\" /><path clip-path=\"url(#clip560)\" d=\"M722.859 1468.75 L752.534 1468.75 L752.534 1472.69 L722.859 1472.69 L722.859 1468.75 Z\" fill=\"#000000\" fill-rule=\"nonzero\" fill-opacity=\"1\" /><path clip-path=\"url(#clip560)\" d=\"M763.437 1481.64 L771.076 1481.64 L771.076 1455.28 L762.766 1456.95 L762.766 1452.69 L771.03 1451.02 L775.706 1451.02 L775.706 1481.64 L783.344 1481.64 L783.344 1485.58 L763.437 1485.58 L763.437 1481.64 Z\" fill=\"#000000\" fill-rule=\"nonzero\" fill-opacity=\"1\" /><path clip-path=\"url(#clip560)\" d=\"M1265.81 1454.1 Q1262.2 1454.1 1260.37 1457.66 Q1258.57 1461.2 1258.57 1468.33 Q1258.57 1475.44 1260.37 1479.01 Q1262.2 1482.55 1265.81 1482.55 Q1269.45 1482.55 1271.25 1479.01 Q1273.08 1475.44 1273.08 1468.33 Q1273.08 1461.2 1271.25 1457.66 Q1269.45 1454.1 1265.81 1454.1 M1265.81 1450.39 Q1271.62 1450.39 1274.68 1455 Q1277.76 1459.58 1277.76 1468.33 Q1277.76 1477.06 1274.68 1481.67 Q1271.62 1486.25 1265.81 1486.25 Q1260 1486.25 1256.92 1481.67 Q1253.87 1477.06 1253.87 1468.33 Q1253.87 1459.58 1256.92 1455 Q1260 1450.39 1265.81 1450.39 Z\" fill=\"#000000\" fill-rule=\"nonzero\" fill-opacity=\"1\" /><path clip-path=\"url(#clip560)\" d=\"M1768.9 1481.64 L1776.54 1481.64 L1776.54 1455.28 L1768.23 1456.95 L1768.23 1452.69 L1776.5 1451.02 L1781.17 1451.02 L1781.17 1481.64 L1788.81 1481.64 L1788.81 1485.58 L1768.9 1485.58 L1768.9 1481.64 Z\" fill=\"#000000\" fill-rule=\"nonzero\" fill-opacity=\"1\" /><path clip-path=\"url(#clip560)\" d=\"M2285.88 1481.64 L2302.2 1481.64 L2302.2 1485.58 L2280.26 1485.58 L2280.26 1481.64 Q2282.92 1478.89 2287.5 1474.26 Q2292.11 1469.61 2293.29 1468.27 Q2295.54 1465.74 2296.42 1464.01 Q2297.32 1462.25 2297.32 1460.56 Q2297.32 1457.8 2295.37 1456.07 Q2293.45 1454.33 2290.35 1454.33 Q2288.15 1454.33 2285.7 1455.09 Q2283.27 1455.86 2280.49 1457.41 L2280.49 1452.69 Q2283.31 1451.55 2285.77 1450.97 Q2288.22 1450.39 2290.26 1450.39 Q2295.63 1450.39 2298.82 1453.08 Q2302.02 1455.77 2302.02 1460.26 Q2302.02 1462.39 2301.21 1464.31 Q2300.42 1466.2 2298.31 1468.8 Q2297.74 1469.47 2294.63 1472.69 Q2291.53 1475.88 2285.88 1481.64 Z\" fill=\"#000000\" fill-rule=\"nonzero\" fill-opacity=\"1\" /><path clip-path=\"url(#clip560)\" d=\"M1282.43 1532.4 L1269.54 1549.74 L1283.09 1568.04 L1276.19 1568.04 L1265.81 1554.04 L1255.44 1568.04 L1248.53 1568.04 L1262.37 1549.39 L1249.71 1532.4 L1256.61 1532.4 L1266.07 1545.1 L1275.52 1532.4 L1282.43 1532.4 Z\" fill=\"#000000\" fill-rule=\"nonzero\" fill-opacity=\"1\" /><polyline clip-path=\"url(#clip562)\" style=\"stroke:#000000; stroke-linecap:round; stroke-linejoin:round; stroke-width:2; stroke-opacity:0.1; fill:none\" points=\"178.867,1266.23 2352.76,1266.23 \"/>\n",
       "<polyline clip-path=\"url(#clip562)\" style=\"stroke:#000000; stroke-linecap:round; stroke-linejoin:round; stroke-width:2; stroke-opacity:0.1; fill:none\" points=\"178.867,872.884 2352.76,872.884 \"/>\n",
       "<polyline clip-path=\"url(#clip562)\" style=\"stroke:#000000; stroke-linecap:round; stroke-linejoin:round; stroke-width:2; stroke-opacity:0.1; fill:none\" points=\"178.867,479.535 2352.76,479.535 \"/>\n",
       "<polyline clip-path=\"url(#clip562)\" style=\"stroke:#000000; stroke-linecap:round; stroke-linejoin:round; stroke-width:2; stroke-opacity:0.1; fill:none\" points=\"178.867,86.1857 2352.76,86.1857 \"/>\n",
       "<polyline clip-path=\"url(#clip560)\" style=\"stroke:#000000; stroke-linecap:round; stroke-linejoin:round; stroke-width:4; stroke-opacity:1; fill:none\" points=\"178.867,1423.18 178.867,47.2441 \"/>\n",
       "<polyline clip-path=\"url(#clip560)\" style=\"stroke:#000000; stroke-linecap:round; stroke-linejoin:round; stroke-width:4; stroke-opacity:1; fill:none\" points=\"178.867,1266.23 197.764,1266.23 \"/>\n",
       "<polyline clip-path=\"url(#clip560)\" style=\"stroke:#000000; stroke-linecap:round; stroke-linejoin:round; stroke-width:4; stroke-opacity:1; fill:none\" points=\"178.867,872.884 197.764,872.884 \"/>\n",
       "<polyline clip-path=\"url(#clip560)\" style=\"stroke:#000000; stroke-linecap:round; stroke-linejoin:round; stroke-width:4; stroke-opacity:1; fill:none\" points=\"178.867,479.535 197.764,479.535 \"/>\n",
       "<polyline clip-path=\"url(#clip560)\" style=\"stroke:#000000; stroke-linecap:round; stroke-linejoin:round; stroke-width:4; stroke-opacity:1; fill:none\" points=\"178.867,86.1857 197.764,86.1857 \"/>\n",
       "<path clip-path=\"url(#clip560)\" d=\"M50.9921 1266.68 L80.6679 1266.68 L80.6679 1270.62 L50.9921 1270.62 L50.9921 1266.68 Z\" fill=\"#000000\" fill-rule=\"nonzero\" fill-opacity=\"1\" /><path clip-path=\"url(#clip560)\" d=\"M91.5706 1279.58 L99.2095 1279.58 L99.2095 1253.21 L90.8993 1254.88 L90.8993 1250.62 L99.1632 1248.95 L103.839 1248.95 L103.839 1279.58 L111.478 1279.58 L111.478 1283.51 L91.5706 1283.51 L91.5706 1279.58 Z\" fill=\"#000000\" fill-rule=\"nonzero\" fill-opacity=\"1\" /><path clip-path=\"url(#clip560)\" d=\"M130.922 1252.03 Q127.311 1252.03 125.482 1255.6 Q123.677 1259.14 123.677 1266.27 Q123.677 1273.37 125.482 1276.94 Q127.311 1280.48 130.922 1280.48 Q134.556 1280.48 136.362 1276.94 Q138.191 1273.37 138.191 1266.27 Q138.191 1259.14 136.362 1255.6 Q134.556 1252.03 130.922 1252.03 M130.922 1248.33 Q136.732 1248.33 139.788 1252.93 Q142.867 1257.52 142.867 1266.27 Q142.867 1275 139.788 1279.6 Q136.732 1284.18 130.922 1284.18 Q125.112 1284.18 122.033 1279.6 Q118.978 1275 118.978 1266.27 Q118.978 1257.52 122.033 1252.93 Q125.112 1248.33 130.922 1248.33 Z\" fill=\"#000000\" fill-rule=\"nonzero\" fill-opacity=\"1\" /><path clip-path=\"url(#clip560)\" d=\"M130.922 858.683 Q127.311 858.683 125.482 862.248 Q123.677 865.789 123.677 872.919 Q123.677 880.025 125.482 883.59 Q127.311 887.132 130.922 887.132 Q134.556 887.132 136.362 883.59 Q138.191 880.025 138.191 872.919 Q138.191 865.789 136.362 862.248 Q134.556 858.683 130.922 858.683 M130.922 854.979 Q136.732 854.979 139.788 859.586 Q142.867 864.169 142.867 872.919 Q142.867 881.646 139.788 886.252 Q136.732 890.836 130.922 890.836 Q125.112 890.836 122.033 886.252 Q118.978 881.646 118.978 872.919 Q118.978 864.169 122.033 859.586 Q125.112 854.979 130.922 854.979 Z\" fill=\"#000000\" fill-rule=\"nonzero\" fill-opacity=\"1\" /><path clip-path=\"url(#clip560)\" d=\"M91.5706 492.88 L99.2095 492.88 L99.2095 466.514 L90.8993 468.181 L90.8993 463.922 L99.1632 462.255 L103.839 462.255 L103.839 492.88 L111.478 492.88 L111.478 496.815 L91.5706 496.815 L91.5706 492.88 Z\" fill=\"#000000\" fill-rule=\"nonzero\" fill-opacity=\"1\" /><path clip-path=\"url(#clip560)\" d=\"M130.922 465.334 Q127.311 465.334 125.482 468.898 Q123.677 472.44 123.677 479.57 Q123.677 486.676 125.482 490.241 Q127.311 493.783 130.922 493.783 Q134.556 493.783 136.362 490.241 Q138.191 486.676 138.191 479.57 Q138.191 472.44 136.362 468.898 Q134.556 465.334 130.922 465.334 M130.922 461.63 Q136.732 461.63 139.788 466.236 Q142.867 470.82 142.867 479.57 Q142.867 488.296 139.788 492.903 Q136.732 497.486 130.922 497.486 Q125.112 497.486 122.033 492.903 Q118.978 488.296 118.978 479.57 Q118.978 470.82 122.033 466.236 Q125.112 461.63 130.922 461.63 Z\" fill=\"#000000\" fill-rule=\"nonzero\" fill-opacity=\"1\" /><path clip-path=\"url(#clip560)\" d=\"M94.7882 99.5305 L111.108 99.5305 L111.108 103.466 L89.1632 103.466 L89.1632 99.5305 Q91.8252 96.7759 96.4085 92.1463 Q101.015 87.4935 102.196 86.151 Q104.441 83.6278 105.321 81.8917 Q106.223 80.1325 106.223 78.4427 Q106.223 75.688 104.279 73.9519 Q102.358 72.2158 99.2558 72.2158 Q97.0567 72.2158 94.603 72.9797 Q92.1725 73.7436 89.3947 75.2945 L89.3947 70.5723 Q92.2188 69.4381 94.6724 68.8594 Q97.1261 68.2807 99.1632 68.2807 Q104.534 68.2807 107.728 70.9658 Q110.922 73.651 110.922 78.1417 Q110.922 80.2714 110.112 82.1926 Q109.325 84.0908 107.219 86.6834 Q106.64 87.3546 103.538 90.5722 Q100.436 93.7667 94.7882 99.5305 Z\" fill=\"#000000\" fill-rule=\"nonzero\" fill-opacity=\"1\" /><path clip-path=\"url(#clip560)\" d=\"M130.922 71.9844 Q127.311 71.9844 125.482 75.5492 Q123.677 79.0908 123.677 86.2204 Q123.677 93.3268 125.482 96.8916 Q127.311 100.433 130.922 100.433 Q134.556 100.433 136.362 96.8916 Q138.191 93.3268 138.191 86.2204 Q138.191 79.0908 136.362 75.5492 Q134.556 71.9844 130.922 71.9844 M130.922 68.2807 Q136.732 68.2807 139.788 72.8871 Q142.867 77.4704 142.867 86.2204 Q142.867 94.9472 139.788 99.5537 Q136.732 104.137 130.922 104.137 Q125.112 104.137 122.033 99.5537 Q118.978 94.9472 118.978 86.2204 Q118.978 77.4704 122.033 72.8871 Q125.112 68.2807 130.922 68.2807 Z\" fill=\"#000000\" fill-rule=\"nonzero\" fill-opacity=\"1\" /><polyline clip-path=\"url(#clip562)\" style=\"stroke:#009af9; stroke-linecap:round; stroke-linejoin:round; stroke-width:4; stroke-opacity:1; fill:none\" points=\"240.392,86.1857 242.445,88.2319 244.498,90.2756 246.55,92.3167 248.603,94.3553 250.656,96.3915 252.709,98.425 254.762,100.456 256.815,102.485 258.868,104.511 260.921,106.534 262.974,108.555 265.027,110.574 267.079,112.59 269.132,114.603 271.185,116.614 273.238,118.622 275.291,120.628 277.344,122.631 279.397,124.632 281.45,126.63 283.503,128.626 285.555,130.619 287.608,132.61 289.661,134.598 291.714,136.584 293.767,138.567 295.82,140.548 297.873,142.526 299.926,144.501 301.979,146.474 304.031,148.445 306.084,150.413 308.137,152.378 310.19,154.341 312.243,156.302 314.296,158.26 316.349,160.215 318.402,162.168 320.455,164.118 322.507,166.066 324.56,168.012 326.613,169.954 328.666,171.895 330.719,173.832 332.772,175.768 334.825,177.7 336.878,179.63 338.931,181.558 340.984,183.483 343.036,185.406 345.089,187.326 347.142,189.243 349.195,191.158 351.248,193.071 353.301,194.981 355.354,196.888 357.407,198.793 359.46,200.696 361.512,202.596 363.565,204.493 365.618,206.388 367.671,208.28 369.724,210.17 371.777,212.057 373.83,213.942 375.883,215.824 377.936,217.704 379.988,219.581 382.041,221.456 384.094,223.328 386.147,225.198 388.2,227.065 390.253,228.929 392.306,230.791 394.359,232.651 396.412,234.508 398.464,236.362 400.517,238.214 402.57,240.064 404.623,241.911 406.676,243.755 408.729,245.597 410.782,247.436 412.835,249.273 414.888,251.108 416.94,252.939 418.993,254.769 421.046,256.595 423.099,258.42 425.152,260.241 427.205,262.061 429.258,263.877 431.311,265.691 433.364,267.503 435.417,269.312 437.469,271.119 439.522,272.923 441.575,274.724 443.628,276.523 445.681,278.32 447.734,280.114 449.787,281.905 451.84,283.694 453.893,285.48 455.945,287.264 457.998,289.046 460.051,290.824 462.104,292.601 464.157,294.374 466.21,296.146 468.263,297.914 470.316,299.681 472.369,301.444 474.421,303.205 476.474,304.964 478.527,306.72 480.58,308.474 482.633,310.225 484.686,311.973 486.739,313.719 488.792,315.463 490.845,317.204 492.897,318.942 494.95,320.678 497.003,322.412 499.056,324.143 501.109,325.871 503.162,327.597 505.215,329.32 507.268,331.041 509.321,332.759 511.374,334.475 513.426,336.188 515.479,337.899 517.532,339.607 519.585,341.313 521.638,343.016 523.691,344.717 525.744,346.415 527.797,348.11 529.85,349.803 531.902,351.494 533.955,353.182 536.008,354.867 538.061,356.55 540.114,358.231 542.167,359.909 544.22,361.584 546.273,363.257 548.326,364.927 550.378,366.595 552.431,368.26 554.484,369.923 556.537,371.584 558.59,373.241 560.643,374.896 562.696,376.549 564.749,378.199 566.802,379.847 568.854,381.492 570.907,383.135 572.96,384.775 575.013,386.412 577.066,388.047 579.119,389.68 581.172,391.31 583.225,392.937 585.278,394.562 587.331,396.185 589.383,397.805 591.436,399.422 593.489,401.037 595.542,402.649 597.595,404.259 599.648,405.866 601.701,407.471 603.754,409.073 605.807,410.673 607.859,412.27 609.912,413.865 611.965,415.457 614.018,417.047 616.071,418.634 618.124,420.218 620.177,421.801 622.23,423.38 624.283,424.957 626.335,426.532 628.388,428.104 630.441,429.673 632.494,431.24 634.547,432.804 636.6,434.366 638.653,435.926 640.706,437.482 642.759,439.037 644.811,440.589 646.864,442.138 648.917,443.685 650.97,445.229 653.023,446.771 655.076,448.31 657.129,449.846 659.182,451.381 661.235,452.912 663.288,454.441 665.34,455.968 667.393,457.492 669.446,459.013 671.499,460.532 673.552,462.049 675.605,463.563 677.658,465.074 679.711,466.583 681.764,468.09 683.816,469.593 685.869,471.095 687.922,472.594 689.975,474.09 692.028,475.584 694.081,477.075 696.134,478.564 698.187,480.05 700.24,481.534 702.292,483.015 704.345,484.493 706.398,485.97 708.451,487.443 710.504,488.914 712.557,490.383 714.61,491.849 716.663,493.312 718.716,494.773 720.768,496.232 722.821,497.688 724.874,499.141 726.927,500.592 728.98,502.04 731.033,503.486 733.086,504.93 735.139,506.37 737.192,507.809 739.245,509.244 741.297,510.678 743.35,512.108 745.403,513.537 747.456,514.962 749.509,516.385 751.562,517.806 753.615,519.224 755.668,520.64 757.721,522.053 759.773,523.463 761.826,524.871 763.879,526.277 765.932,527.68 767.985,529.08 770.038,530.478 772.091,531.874 774.144,533.266 776.197,534.657 778.249,536.045 780.302,537.43 782.355,538.813 784.408,540.193 786.461,541.571 788.514,542.946 790.567,544.319 792.62,545.689 794.673,547.057 796.725,548.422 798.778,549.784 800.831,551.144 802.884,552.502 804.937,553.857 806.99,555.21 809.043,556.56 811.096,557.907 813.149,559.252 815.202,560.594 817.254,561.934 819.307,563.272 821.36,564.607 823.413,565.939 825.466,567.269 827.519,568.596 829.572,569.921 831.625,571.243 833.678,572.563 835.73,573.88 837.783,575.195 839.836,576.507 841.889,577.816 843.942,579.124 845.995,580.428 848.048,581.73 850.101,583.03 852.154,584.327 854.206,585.621 856.259,586.913 858.312,588.203 860.365,589.49 862.418,590.774 864.471,592.056 866.524,593.335 868.577,594.612 870.63,595.887 872.682,597.158 874.735,598.428 876.788,599.694 878.841,600.959 880.894,602.22 882.947,603.479 885,604.736 887.053,605.99 889.106,607.242 891.159,608.491 893.211,609.738 895.264,610.982 897.317,612.223 899.37,613.462 901.423,614.699 903.476,615.933 905.529,617.164 907.582,618.393 909.635,619.619 911.687,620.843 913.74,622.065 915.793,623.283 917.846,624.5 919.899,625.714 921.952,626.925 924.005,628.134 926.058,629.34 928.111,630.543 930.163,631.745 932.216,632.943 934.269,634.139 936.322,635.333 938.375,636.524 940.428,637.713 942.481,638.899 944.534,640.082 946.587,641.263 948.639,642.442 950.692,643.618 952.745,644.791 954.798,645.962 956.851,647.13 958.904,648.296 960.957,649.46 963.01,650.62 965.063,651.779 967.116,652.934 969.168,654.088 971.221,655.238 973.274,656.387 975.327,657.532 977.38,658.675 979.433,659.816 981.486,660.954 983.539,662.09 985.592,663.223 987.644,664.353 989.697,665.481 991.75,666.607 993.803,667.73 995.856,668.85 997.909,669.968 999.962,671.084 1002.01,672.197 1004.07,673.307 1006.12,674.415 1008.17,675.52 1010.23,676.623 1012.28,677.723 1014.33,678.821 1016.38,679.916 1018.44,681.009 1020.49,682.099 1022.54,683.187 1024.6,684.272 1026.65,685.354 1028.7,686.434 1030.76,687.512 1032.81,688.587 1034.86,689.66 1036.91,690.73 1038.97,691.797 1041.02,692.862 1043.07,693.925 1045.13,694.984 1047.18,696.042 1049.23,697.097 1051.28,698.149 1053.34,699.199 1055.39,700.246 1057.44,701.291 1059.5,702.333 1061.55,703.373 1063.6,704.41 1065.65,705.445 1067.71,706.477 1069.76,707.507 1071.81,708.534 1073.87,709.558 1075.92,710.58 1077.97,711.6 1080.02,712.617 1082.08,713.632 1084.13,714.644 1086.18,715.653 1088.24,716.66 1090.29,717.664 1092.34,718.666 1094.39,719.666 1096.45,720.662 1098.5,721.657 1100.55,722.649 1102.61,723.638 1104.66,724.625 1106.71,725.609 1108.77,726.591 1110.82,727.57 1112.87,728.546 1114.92,729.521 1116.98,730.492 1119.03,731.461 1121.08,732.428 1123.14,733.392 1125.19,734.354 1127.24,735.313 1129.29,736.269 1131.35,737.223 1133.4,738.174 1135.45,739.123 1137.51,740.07 1139.56,741.014 1141.61,741.955 1143.66,742.894 1145.72,743.83 1147.77,744.764 1149.82,745.695 1151.88,746.624 1153.93,747.55 1155.98,748.474 1158.03,749.395 1160.09,750.314 1162.14,751.23 1164.19,752.143 1166.25,753.055 1168.3,753.963 1170.35,754.869 1172.4,755.773 1174.46,756.674 1176.51,757.572 1178.56,758.468 1180.62,759.362 1182.67,760.252 1184.72,761.141 1186.77,762.027 1188.83,762.91 1190.88,763.791 1192.93,764.669 1194.99,765.545 1197.04,766.418 1199.09,767.289 1201.15,768.157 1203.2,769.023 1205.25,769.886 1207.3,770.747 1209.36,771.605 1211.41,772.46 1213.46,773.313 1215.52,774.164 1217.57,775.012 1219.62,775.857 1221.67,776.7 1223.73,777.541 1225.78,778.379 1227.83,779.214 1229.89,780.047 1231.94,780.877 1233.99,781.705 1236.04,782.531 1238.1,783.353 1240.15,784.174 1242.2,784.991 1244.26,785.807 1246.31,786.619 1248.36,787.43 1250.41,788.237 1252.47,789.042 1254.52,789.845 1256.57,790.645 1258.63,791.443 1260.68,792.238 1262.73,793.03 1264.78,793.82 1266.84,794.608 1268.89,795.393 1270.94,796.175 1273,796.955 1275.05,797.733 1277.1,798.507 1279.16,799.28 1281.21,800.05 1283.26,800.817 1285.31,801.582 1287.37,802.344 1289.42,803.104 1291.47,803.861 1293.53,804.616 1295.58,805.368 1297.63,806.117 1299.68,806.865 1301.74,807.609 1303.79,808.351 1305.84,809.091 1307.9,809.828 1309.95,810.562 1312,811.294 1314.05,812.024 1316.11,812.751 1318.16,813.475 1320.21,814.197 1322.27,814.916 1324.32,815.633 1326.37,816.348 1328.42,817.059 1330.48,817.769 1332.53,818.475 1334.58,819.18 1336.64,819.881 1338.69,820.581 1340.74,821.277 1342.79,821.971 1344.85,822.663 1346.9,823.352 1348.95,824.039 1351.01,824.723 1353.06,825.404 1355.11,826.083 1357.16,826.76 1359.22,827.434 1361.27,828.105 1363.32,828.774 1365.38,829.441 1367.43,830.105 1369.48,830.766 1371.54,831.425 1373.59,832.081 1375.64,832.735 1377.69,833.386 1379.75,834.035 1381.8,834.681 1383.85,835.325 1385.91,835.966 1387.96,836.605 1390.01,837.241 1392.06,837.874 1394.12,838.506 1396.17,839.134 1398.22,839.76 1400.28,840.384 1402.33,841.005 1404.38,841.623 1406.43,842.239 1408.49,842.853 1410.54,843.463 1412.59,844.072 1414.65,844.678 1416.7,845.281 1418.75,845.882 1420.8,846.48 1422.86,847.076 1424.91,847.669 1426.96,848.26 1429.02,848.848 1431.07,849.434 1433.12,850.017 1435.17,850.598 1437.23,851.176 1439.28,851.751 1441.33,852.324 1443.39,852.895 1445.44,853.463 1447.49,854.029 1449.55,854.592 1451.6,855.152 1453.65,855.71 1455.7,856.265 1457.76,856.818 1459.81,857.369 1461.86,857.916 1463.92,858.462 1465.97,859.005 1468.02,859.545 1470.07,860.083 1472.13,860.618 1474.18,861.151 1476.23,861.681 1478.29,862.208 1480.34,862.734 1482.39,863.256 1484.44,863.776 1486.5,864.294 1488.55,864.809 1490.6,865.322 1492.66,865.832 1494.71,866.339 1496.76,866.844 1498.81,867.346 1500.87,867.846 1502.92,868.344 1504.97,868.839 1507.03,869.331 1509.08,869.821 1511.13,870.308 1513.18,870.793 1515.24,871.275 1517.29,871.755 1519.34,872.232 1521.4,872.707 1523.45,873.179 1525.5,873.649 1527.55,874.116 1529.61,874.58 1531.66,875.043 1533.71,875.502 1535.77,875.959 1537.82,876.414 1539.87,876.866 1541.93,877.315 1543.98,877.762 1546.03,878.206 1548.08,878.648 1550.14,879.088 1552.19,879.525 1554.24,879.959 1556.3,880.391 1558.35,880.82 1560.4,881.247 1562.45,881.671 1564.51,882.093 1566.56,882.512 1568.61,882.929 1570.67,883.343 1572.72,883.755 1574.77,884.164 1576.82,884.57 1578.88,884.974 1580.93,885.376 1582.98,885.775 1585.04,886.171 1587.09,886.565 1589.14,886.957 1591.19,887.346 1593.25,887.732 1595.3,888.116 1597.35,888.497 1599.41,888.876 1601.46,889.253 1603.51,889.626 1605.56,889.998 1607.62,890.366 1609.67,890.733 1611.72,891.096 1613.78,891.458 1615.83,891.816 1617.88,892.172 1619.94,892.526 1621.99,892.877 1624.04,893.226 1626.09,893.572 1628.15,893.915 1630.2,894.256 1632.25,894.595 1634.31,894.931 1636.36,895.264 1638.41,895.595 1640.46,895.923 1642.52,896.249 1644.57,896.573 1646.62,896.893 1648.68,897.212 1650.73,897.528 1652.78,897.841 1654.83,898.152 1656.89,898.46 1658.94,898.765 1660.99,899.069 1663.05,899.369 1665.1,899.667 1667.15,899.963 1669.2,900.256 1671.26,900.547 1673.31,900.835 1675.36,901.12 1677.42,901.403 1679.47,901.684 1681.52,901.962 1683.57,902.237 1685.63,902.51 1687.68,902.78 1689.73,903.048 1691.79,903.313 1693.84,903.576 1695.89,903.837 1697.94,904.094 1700,904.35 1702.05,904.602 1704.1,904.853 1706.16,905.1 1708.21,905.345 1710.26,905.588 1712.32,905.828 1714.37,906.066 1716.42,906.301 1718.47,906.533 1720.53,906.763 1722.58,906.991 1724.63,907.216 1726.69,907.438 1728.74,907.658 1730.79,907.876 1732.84,908.09 1734.9,908.303 1736.95,908.513 1739,908.72 1741.06,908.925 1743.11,909.127 1745.16,909.327 1747.21,909.524 1749.27,909.719 1751.32,909.911 1753.37,910.101 1755.43,910.288 1757.48,910.472 1759.53,910.654 1761.58,910.834 1763.64,911.011 1765.69,911.186 1767.74,911.358 1769.8,911.527 1771.85,911.694 1773.9,911.858 1775.95,912.02 1778.01,912.18 1780.06,912.337 1782.11,912.491 1784.17,912.643 1786.22,912.792 1788.27,912.939 1790.33,913.083 1792.38,913.225 1794.43,913.364 1796.48,913.501 1798.54,913.635 1800.59,913.766 1802.64,913.896 1804.7,914.022 1806.75,914.146 1808.8,914.268 1810.85,914.387 1812.91,914.503 1814.96,914.617 1817.01,914.729 1819.07,914.838 1821.12,914.944 1823.17,915.048 1825.22,915.149 1827.28,915.248 1829.33,915.345 1831.38,915.438 1833.44,915.53 1835.49,915.618 1837.54,915.705 1839.59,915.788 1841.65,915.87 1843.7,915.948 1845.75,916.024 1847.81,916.098 1849.86,916.169 1851.91,916.238 1853.96,916.304 1856.02,916.367 1858.07,916.428 1860.12,916.487 1862.18,916.543 1864.23,916.596 1866.28,916.647 1868.34,916.696 1870.39,916.741 1872.44,916.785 1874.49,916.826 1876.55,916.864 1878.6,916.9 1880.65,916.933 1882.71,916.964 1884.76,916.992 1886.81,917.018 1888.86,917.041 1890.92,917.061 1892.97,917.08 1895.02,917.095 1897.08,917.108 1899.13,917.119 1901.18,917.127 1903.23,917.132 1905.29,917.135 1907.34,917.136 1909.39,917.134 1911.45,917.129 1913.5,917.122 1915.55,917.113 1917.6,917.1 1919.66,917.086 1921.71,917.069 1923.76,917.049 1925.82,917.027 1927.87,917.002 1929.92,916.975 1931.97,916.945 1934.03,916.912 1936.08,916.878 1938.13,916.84 1940.19,916.8 1942.24,916.758 1944.29,916.713 1946.34,916.666 1948.4,916.616 1950.45,916.563 1952.5,916.508 1954.56,916.451 1956.61,916.39 1958.66,916.328 1960.72,916.263 1962.77,916.195 1964.82,916.125 1966.87,916.052 1968.93,915.977 1970.98,915.899 1973.03,915.819 1975.09,915.736 1977.14,915.651 1979.19,915.563 1981.24,915.473 1983.3,915.38 1985.35,915.285 1987.4,915.187 1989.46,915.086 1991.51,914.983 1993.56,914.878 1995.61,914.77 1997.67,914.659 1999.72,914.546 2001.77,914.431 2003.83,914.313 2005.88,914.192 2007.93,914.069 2009.98,913.943 2012.04,913.815 2014.09,913.685 2016.14,913.551 2018.2,913.416 2020.25,913.277 2022.3,913.136 2024.35,912.993 2026.41,912.847 2028.46,912.699 2030.51,912.548 2032.57,912.395 2034.62,912.239 2036.67,912.08 2038.73,911.919 2040.78,911.756 2042.83,911.59 2044.88,911.421 2046.94,911.25 2048.99,911.077 2051.04,910.901 2053.1,910.722 2055.15,910.541 2057.2,910.357 2059.25,910.171 2061.31,909.982 2063.36,909.791 2065.41,909.597 2067.47,909.401 2069.52,909.202 2071.57,909.001 2073.62,908.797 2075.68,908.591 2077.73,908.382 2079.78,908.17 2081.84,907.956 2083.89,907.74 2085.94,907.521 2087.99,907.299 2090.05,907.075 2092.1,906.849 2094.15,906.62 2096.21,906.388 2098.26,906.154 2100.31,905.917 2102.36,905.678 2104.42,905.437 2106.47,905.192 2108.52,904.946 2110.58,904.696 2112.63,904.445 2114.68,904.19 2116.73,903.934 2118.79,903.674 2120.84,903.412 2122.89,903.148 2124.95,902.881 2127,902.612 2129.05,902.34 2131.11,902.065 2133.16,901.788 2135.21,901.509 2137.26,901.227 2139.32,900.942 2141.37,900.655 2143.42,900.365 2145.48,900.073 2147.53,899.779 2149.58,899.481 2151.63,899.182 2153.69,898.879 2155.74,898.575 2157.79,898.267 2159.85,897.958 2161.9,897.645 2163.95,897.33 2166,897.013 2168.06,896.693 2170.11,896.371 2172.16,896.046 2174.22,895.718 2176.27,895.388 2178.32,895.056 2180.37,894.721 2182.43,894.383 2184.48,894.043 2186.53,893.701 2188.59,893.356 2190.64,893.008 2192.69,892.658 2194.74,892.305 2196.8,891.95 2198.85,891.592 2200.9,891.232 2202.96,890.869 2205.01,890.504 2207.06,890.136 2209.12,889.766 2211.17,889.393 2213.22,889.018 2215.27,888.64 2217.33,888.259 2219.38,887.876 2221.43,887.491 2223.49,887.103 2225.54,886.712 2227.59,886.319 2229.64,885.924 2231.7,885.526 2233.75,885.125 2235.8,884.722 2237.86,884.316 2239.91,883.908 2241.96,883.498 2244.01,883.084 2246.07,882.669 2248.12,882.25 2250.17,881.83 2252.23,881.406 2254.28,880.98 2256.33,880.552 2258.38,880.121 2260.44,879.688 2262.49,879.252 2264.54,878.813 2266.6,878.372 2268.65,877.929 2270.7,877.483 2272.75,877.034 2274.81,876.583 2276.86,876.13 2278.91,875.674 2280.97,875.215 2283.02,874.754 2285.07,874.29 2287.12,873.824 2289.18,873.355 2291.23,872.884 \"/>\n",
       "<polyline clip-path=\"url(#clip562)\" style=\"stroke:#e26f46; stroke-linecap:round; stroke-linejoin:round; stroke-width:4; stroke-opacity:1; fill:none\" points=\"240.392,1384.24 242.445,1383.61 244.498,1382.98 246.55,1382.35 248.603,1381.72 250.656,1381.09 252.709,1380.46 254.762,1379.83 256.815,1379.2 258.868,1378.57 260.921,1377.94 262.974,1377.31 265.027,1376.68 267.079,1376.05 269.132,1375.42 271.185,1374.79 273.238,1374.16 275.291,1373.53 277.344,1372.9 279.397,1372.27 281.45,1371.64 283.503,1371.01 285.555,1370.38 287.608,1369.75 289.661,1369.12 291.714,1368.49 293.767,1367.86 295.82,1367.23 297.873,1366.6 299.926,1365.97 301.979,1365.34 304.031,1364.71 306.084,1364.08 308.137,1363.45 310.19,1362.82 312.243,1362.19 314.296,1361.56 316.349,1360.93 318.402,1360.3 320.455,1359.67 322.507,1359.04 324.56,1358.41 326.613,1357.78 328.666,1357.15 330.719,1356.52 332.772,1355.89 334.825,1355.26 336.878,1354.63 338.931,1354 340.984,1353.37 343.036,1352.74 345.089,1352.11 347.142,1351.48 349.195,1350.85 351.248,1350.22 353.301,1349.59 355.354,1348.96 357.407,1348.33 359.46,1347.7 361.512,1347.07 363.565,1346.44 365.618,1345.81 367.671,1345.18 369.724,1344.55 371.777,1343.92 373.83,1343.29 375.883,1342.66 377.936,1342.03 379.988,1341.4 382.041,1340.77 384.094,1340.14 386.147,1339.51 388.2,1338.88 390.253,1338.25 392.306,1337.62 394.359,1336.99 396.412,1336.36 398.464,1335.73 400.517,1335.1 402.57,1334.47 404.623,1333.84 406.676,1333.21 408.729,1332.58 410.782,1331.95 412.835,1331.32 414.888,1330.69 416.94,1330.06 418.993,1329.43 421.046,1328.8 423.099,1328.17 425.152,1327.54 427.205,1326.91 429.258,1326.28 431.311,1325.65 433.364,1325.02 435.417,1324.39 437.469,1323.76 439.522,1323.13 441.575,1322.5 443.628,1321.87 445.681,1321.24 447.734,1320.61 449.787,1319.98 451.84,1319.35 453.893,1318.72 455.945,1318.09 457.998,1317.46 460.051,1316.83 462.104,1316.2 464.157,1315.57 466.21,1314.94 468.263,1314.31 470.316,1313.68 472.369,1313.05 474.421,1312.42 476.474,1311.79 478.527,1311.16 480.58,1310.53 482.633,1309.9 484.686,1309.27 486.739,1308.64 488.792,1308.01 490.845,1307.38 492.897,1306.75 494.95,1306.12 497.003,1305.49 499.056,1304.86 501.109,1304.23 503.162,1303.6 505.215,1302.97 507.268,1302.34 509.321,1301.71 511.374,1301.08 513.426,1300.45 515.479,1299.82 517.532,1299.19 519.585,1298.56 521.638,1297.93 523.691,1297.3 525.744,1296.67 527.797,1296.04 529.85,1295.41 531.902,1294.78 533.955,1294.15 536.008,1293.52 538.061,1292.89 540.114,1292.26 542.167,1291.63 544.22,1291 546.273,1290.37 548.326,1289.74 550.378,1289.11 552.431,1288.48 554.484,1287.85 556.537,1287.22 558.59,1286.59 560.643,1285.96 562.696,1285.33 564.749,1284.7 566.802,1284.07 568.854,1283.44 570.907,1282.81 572.96,1282.18 575.013,1281.55 577.066,1280.92 579.119,1280.29 581.172,1279.66 583.225,1279.03 585.278,1278.4 587.331,1277.77 589.383,1277.14 591.436,1276.51 593.489,1275.88 595.542,1275.25 597.595,1274.62 599.648,1273.99 601.701,1273.36 603.754,1272.73 605.807,1272.1 607.859,1271.47 609.912,1270.84 611.965,1270.21 614.018,1269.58 616.071,1268.95 618.124,1268.32 620.177,1267.69 622.23,1267.06 624.283,1266.43 626.335,1265.8 628.388,1265.17 630.441,1264.54 632.494,1263.91 634.547,1263.28 636.6,1262.65 638.653,1262.02 640.706,1261.39 642.759,1260.76 644.811,1260.13 646.864,1259.5 648.917,1258.87 650.97,1258.24 653.023,1257.61 655.076,1256.98 657.129,1256.35 659.182,1255.72 661.235,1255.09 663.288,1254.46 665.34,1253.83 667.393,1253.2 669.446,1252.57 671.499,1251.94 673.552,1251.31 675.605,1250.68 677.658,1250.05 679.711,1249.42 681.764,1248.79 683.816,1248.16 685.869,1247.53 687.922,1246.9 689.975,1246.27 692.028,1245.64 694.081,1245.01 696.134,1244.38 698.187,1243.75 700.24,1243.12 702.292,1242.49 704.345,1241.86 706.398,1241.23 708.451,1240.6 710.504,1239.97 712.557,1239.34 714.61,1238.71 716.663,1238.08 718.716,1237.45 720.768,1236.82 722.821,1236.19 724.874,1235.56 726.927,1234.93 728.98,1234.3 731.033,1233.67 733.086,1233.04 735.139,1232.41 737.192,1231.78 739.245,1231.15 741.297,1230.52 743.35,1229.89 745.403,1229.26 747.456,1228.63 749.509,1228 751.562,1227.37 753.615,1226.74 755.668,1226.11 757.721,1225.48 759.773,1224.85 761.826,1224.22 763.879,1223.59 765.932,1222.96 767.985,1222.33 770.038,1221.7 772.091,1221.07 774.144,1220.44 776.197,1219.81 778.249,1219.18 780.302,1218.55 782.355,1217.92 784.408,1217.29 786.461,1216.66 788.514,1216.03 790.567,1215.4 792.62,1214.77 794.673,1214.14 796.725,1213.51 798.778,1212.88 800.831,1212.25 802.884,1211.62 804.937,1210.99 806.99,1210.36 809.043,1209.73 811.096,1209.1 813.149,1208.47 815.202,1207.84 817.254,1207.21 819.307,1206.58 821.36,1205.95 823.413,1205.32 825.466,1204.69 827.519,1204.06 829.572,1203.43 831.625,1202.8 833.678,1202.17 835.73,1201.54 837.783,1200.91 839.836,1200.28 841.889,1199.65 843.942,1199.02 845.995,1198.39 848.048,1197.76 850.101,1197.13 852.154,1196.5 854.206,1195.87 856.259,1195.24 858.312,1194.61 860.365,1193.98 862.418,1193.35 864.471,1192.72 866.524,1192.09 868.577,1191.46 870.63,1190.83 872.682,1190.2 874.735,1189.57 876.788,1188.94 878.841,1188.31 880.894,1187.68 882.947,1187.05 885,1186.42 887.053,1185.79 889.106,1185.16 891.159,1184.53 893.211,1183.9 895.264,1183.27 897.317,1182.64 899.37,1182.01 901.423,1181.38 903.476,1180.75 905.529,1180.12 907.582,1179.49 909.635,1178.86 911.687,1178.23 913.74,1177.6 915.793,1176.97 917.846,1176.34 919.899,1175.71 921.952,1175.08 924.005,1174.45 926.058,1173.82 928.111,1173.19 930.163,1172.56 932.216,1171.93 934.269,1171.3 936.322,1170.67 938.375,1170.04 940.428,1169.41 942.481,1168.78 944.534,1168.15 946.587,1167.52 948.639,1166.89 950.692,1166.26 952.745,1165.63 954.798,1165 956.851,1164.37 958.904,1163.74 960.957,1163.11 963.01,1162.48 965.063,1161.85 967.116,1161.22 969.168,1160.59 971.221,1159.96 973.274,1159.33 975.327,1158.7 977.38,1158.07 979.433,1157.44 981.486,1156.81 983.539,1156.18 985.592,1155.55 987.644,1154.92 989.697,1154.29 991.75,1153.66 993.803,1153.03 995.856,1152.4 997.909,1151.77 999.962,1151.14 1002.01,1150.51 1004.07,1149.88 1006.12,1149.25 1008.17,1148.62 1010.23,1147.99 1012.28,1147.36 1014.33,1146.73 1016.38,1146.1 1018.44,1145.47 1020.49,1144.84 1022.54,1144.21 1024.6,1143.58 1026.65,1142.95 1028.7,1142.32 1030.76,1141.69 1032.81,1141.06 1034.86,1140.43 1036.91,1139.8 1038.97,1139.17 1041.02,1138.54 1043.07,1137.91 1045.13,1137.28 1047.18,1136.65 1049.23,1136.02 1051.28,1135.39 1053.34,1134.76 1055.39,1134.13 1057.44,1133.5 1059.5,1132.87 1061.55,1132.24 1063.6,1131.61 1065.65,1130.98 1067.71,1130.35 1069.76,1129.72 1071.81,1129.09 1073.87,1128.46 1075.92,1127.83 1077.97,1127.2 1080.02,1126.57 1082.08,1125.94 1084.13,1125.31 1086.18,1124.68 1088.24,1124.05 1090.29,1123.42 1092.34,1122.79 1094.39,1122.16 1096.45,1121.53 1098.5,1120.9 1100.55,1120.27 1102.61,1119.64 1104.66,1119.01 1106.71,1118.38 1108.77,1117.75 1110.82,1117.12 1112.87,1116.49 1114.92,1115.86 1116.98,1115.23 1119.03,1114.6 1121.08,1113.97 1123.14,1113.34 1125.19,1112.71 1127.24,1112.08 1129.29,1111.45 1131.35,1110.82 1133.4,1110.19 1135.45,1109.56 1137.51,1108.93 1139.56,1108.3 1141.61,1107.67 1143.66,1107.04 1145.72,1106.41 1147.77,1105.78 1149.82,1105.15 1151.88,1104.52 1153.93,1103.89 1155.98,1103.26 1158.03,1102.63 1160.09,1102 1162.14,1101.37 1164.19,1100.74 1166.25,1100.11 1168.3,1099.48 1170.35,1098.85 1172.4,1098.22 1174.46,1097.59 1176.51,1096.96 1178.56,1096.33 1180.62,1095.7 1182.67,1095.07 1184.72,1094.44 1186.77,1093.81 1188.83,1093.18 1190.88,1092.55 1192.93,1091.92 1194.99,1091.29 1197.04,1090.66 1199.09,1090.03 1201.15,1089.4 1203.2,1088.77 1205.25,1088.14 1207.3,1087.51 1209.36,1086.88 1211.41,1086.25 1213.46,1085.62 1215.52,1084.99 1217.57,1084.36 1219.62,1083.73 1221.67,1083.1 1223.73,1082.47 1225.78,1081.84 1227.83,1081.21 1229.89,1080.58 1231.94,1079.95 1233.99,1079.32 1236.04,1078.69 1238.1,1078.06 1240.15,1077.43 1242.2,1076.8 1244.26,1076.17 1246.31,1075.54 1248.36,1074.91 1250.41,1074.28 1252.47,1073.65 1254.52,1073.02 1256.57,1072.39 1258.63,1071.76 1260.68,1071.13 1262.73,1070.5 1264.78,1069.87 1266.84,1069.24 1268.89,1068.61 1270.94,1067.98 1273,1067.35 1275.05,1066.72 1277.1,1066.09 1279.16,1065.46 1281.21,1064.83 1283.26,1064.2 1285.31,1063.57 1287.37,1062.94 1289.42,1062.31 1291.47,1061.68 1293.53,1061.05 1295.58,1060.42 1297.63,1059.79 1299.68,1059.16 1301.74,1058.53 1303.79,1057.9 1305.84,1057.27 1307.9,1056.64 1309.95,1056.01 1312,1055.38 1314.05,1054.75 1316.11,1054.12 1318.16,1053.49 1320.21,1052.86 1322.27,1052.23 1324.32,1051.6 1326.37,1050.97 1328.42,1050.34 1330.48,1049.71 1332.53,1049.08 1334.58,1048.45 1336.64,1047.82 1338.69,1047.19 1340.74,1046.56 1342.79,1045.93 1344.85,1045.3 1346.9,1044.67 1348.95,1044.04 1351.01,1043.41 1353.06,1042.78 1355.11,1042.15 1357.16,1041.52 1359.22,1040.89 1361.27,1040.26 1363.32,1039.63 1365.38,1039 1367.43,1038.37 1369.48,1037.74 1371.54,1037.11 1373.59,1036.48 1375.64,1035.85 1377.69,1035.22 1379.75,1034.59 1381.8,1033.96 1383.85,1033.33 1385.91,1032.7 1387.96,1032.07 1390.01,1031.44 1392.06,1030.81 1394.12,1030.18 1396.17,1029.55 1398.22,1028.92 1400.28,1028.29 1402.33,1027.66 1404.38,1027.03 1406.43,1026.4 1408.49,1025.77 1410.54,1025.14 1412.59,1024.51 1414.65,1023.88 1416.7,1023.25 1418.75,1022.62 1420.8,1021.99 1422.86,1021.36 1424.91,1020.73 1426.96,1020.1 1429.02,1019.47 1431.07,1018.84 1433.12,1018.21 1435.17,1017.58 1437.23,1016.95 1439.28,1016.32 1441.33,1015.69 1443.39,1015.06 1445.44,1014.43 1447.49,1013.8 1449.55,1013.17 1451.6,1012.54 1453.65,1011.91 1455.7,1011.28 1457.76,1010.65 1459.81,1010.02 1461.86,1009.39 1463.92,1008.76 1465.97,1008.13 1468.02,1007.5 1470.07,1006.87 1472.13,1006.24 1474.18,1005.61 1476.23,1004.98 1478.29,1004.36 1480.34,1003.73 1482.39,1003.1 1484.44,1002.47 1486.5,1001.84 1488.55,1001.21 1490.6,1000.58 1492.66,999.945 1494.71,999.315 1496.76,998.685 1498.81,998.055 1500.87,997.425 1502.92,996.795 1504.97,996.165 1507.03,995.535 1509.08,994.905 1511.13,994.275 1513.18,993.645 1515.24,993.015 1517.29,992.385 1519.34,991.755 1521.4,991.125 1523.45,990.495 1525.5,989.865 1527.55,989.235 1529.61,988.605 1531.66,987.975 1533.71,987.345 1535.77,986.715 1537.82,986.085 1539.87,985.455 1541.93,984.825 1543.98,984.195 1546.03,983.565 1548.08,982.935 1550.14,982.305 1552.19,981.675 1554.24,981.045 1556.3,980.415 1558.35,979.785 1560.4,979.155 1562.45,978.525 1564.51,977.895 1566.56,977.265 1568.61,976.635 1570.67,976.006 1572.72,975.376 1574.77,974.746 1576.82,974.116 1578.88,973.486 1580.93,972.856 1582.98,972.226 1585.04,971.596 1587.09,970.966 1589.14,970.336 1591.19,969.706 1593.25,969.076 1595.3,968.446 1597.35,967.816 1599.41,967.186 1601.46,966.556 1603.51,965.926 1605.56,965.296 1607.62,964.666 1609.67,964.036 1611.72,963.406 1613.78,962.776 1615.83,962.146 1617.88,961.516 1619.94,960.886 1621.99,960.256 1624.04,959.626 1626.09,958.996 1628.15,958.366 1630.2,957.736 1632.25,957.106 1634.31,956.476 1636.36,955.846 1638.41,955.216 1640.46,954.586 1642.52,953.956 1644.57,953.326 1646.62,952.696 1648.68,952.066 1650.73,951.436 1652.78,950.806 1654.83,950.176 1656.89,949.546 1658.94,948.916 1660.99,948.286 1663.05,947.656 1665.1,947.026 1667.15,946.396 1669.2,945.766 1671.26,945.136 1673.31,944.506 1675.36,943.876 1677.42,943.246 1679.47,942.616 1681.52,941.986 1683.57,941.356 1685.63,940.726 1687.68,940.096 1689.73,939.466 1691.79,938.836 1693.84,938.206 1695.89,937.576 1697.94,936.946 1700,936.316 1702.05,935.686 1704.1,935.056 1706.16,934.426 1708.21,933.796 1710.26,933.166 1712.32,932.536 1714.37,931.906 1716.42,931.276 1718.47,930.646 1720.53,930.016 1722.58,929.386 1724.63,928.756 1726.69,928.126 1728.74,927.496 1730.79,926.866 1732.84,926.236 1734.9,925.606 1736.95,924.976 1739,924.346 1741.06,923.716 1743.11,923.086 1745.16,922.456 1747.21,921.826 1749.27,921.196 1751.32,920.566 1753.37,919.937 1755.43,919.307 1757.48,918.677 1759.53,918.047 1761.58,917.417 1763.64,916.787 1765.69,916.157 1767.74,915.527 1769.8,914.897 1771.85,914.267 1773.9,913.637 1775.95,913.007 1778.01,912.377 1780.06,911.747 1782.11,911.117 1784.17,910.487 1786.22,909.857 1788.27,909.227 1790.33,908.597 1792.38,907.967 1794.43,907.337 1796.48,906.707 1798.54,906.077 1800.59,905.447 1802.64,904.817 1804.7,904.187 1806.75,903.557 1808.8,902.927 1810.85,902.297 1812.91,901.667 1814.96,901.037 1817.01,900.407 1819.07,899.777 1821.12,899.147 1823.17,898.517 1825.22,897.887 1827.28,897.257 1829.33,896.627 1831.38,895.997 1833.44,895.367 1835.49,894.737 1837.54,894.107 1839.59,893.477 1841.65,892.847 1843.7,892.217 1845.75,891.587 1847.81,890.957 1849.86,890.327 1851.91,889.697 1853.96,889.067 1856.02,888.437 1858.07,887.807 1860.12,887.177 1862.18,886.547 1864.23,885.917 1866.28,885.287 1868.34,884.657 1870.39,884.027 1872.44,883.397 1874.49,882.767 1876.55,882.137 1878.6,881.507 1880.65,880.877 1882.71,880.247 1884.76,879.617 1886.81,878.987 1888.86,878.357 1890.92,877.727 1892.97,877.097 1895.02,876.467 1897.08,875.837 1899.13,875.207 1901.18,874.577 1903.23,873.947 1905.29,873.317 1907.34,872.687 1909.39,872.057 1911.45,871.427 1913.5,870.797 1915.55,870.167 1917.6,869.537 1919.66,868.907 1921.71,868.277 1923.76,867.647 1925.82,867.017 1927.87,866.387 1929.92,865.757 1931.97,865.127 1934.03,864.497 1936.08,863.867 1938.13,863.238 1940.19,862.608 1942.24,861.978 1944.29,861.348 1946.34,860.718 1948.4,860.088 1950.45,859.458 1952.5,858.828 1954.56,858.198 1956.61,857.568 1958.66,856.938 1960.72,856.308 1962.77,855.678 1964.82,855.048 1966.87,854.418 1968.93,853.788 1970.98,853.158 1973.03,852.528 1975.09,851.898 1977.14,851.268 1979.19,850.638 1981.24,850.008 1983.3,849.378 1985.35,848.748 1987.4,848.118 1989.46,847.488 1991.51,846.858 1993.56,846.228 1995.61,845.598 1997.67,844.968 1999.72,844.338 2001.77,843.708 2003.83,843.078 2005.88,842.448 2007.93,841.818 2009.98,841.188 2012.04,840.558 2014.09,839.928 2016.14,839.298 2018.2,838.668 2020.25,838.038 2022.3,837.408 2024.35,836.778 2026.41,836.148 2028.46,835.518 2030.51,834.888 2032.57,834.258 2034.62,833.628 2036.67,832.998 2038.73,832.368 2040.78,831.738 2042.83,831.108 2044.88,830.478 2046.94,829.848 2048.99,829.218 2051.04,828.588 2053.1,827.958 2055.15,827.328 2057.2,826.698 2059.25,826.068 2061.31,825.438 2063.36,824.808 2065.41,824.178 2067.47,823.548 2069.52,822.918 2071.57,822.288 2073.62,821.658 2075.68,821.028 2077.73,820.398 2079.78,819.768 2081.84,819.138 2083.89,818.508 2085.94,817.878 2087.99,817.248 2090.05,816.618 2092.1,815.988 2094.15,815.358 2096.21,814.728 2098.26,814.098 2100.31,813.468 2102.36,812.838 2104.42,812.208 2106.47,811.578 2108.52,810.948 2110.58,810.318 2112.63,809.688 2114.68,809.058 2116.73,808.428 2118.79,807.798 2120.84,807.169 2122.89,806.539 2124.95,805.909 2127,805.279 2129.05,804.649 2131.11,804.019 2133.16,803.389 2135.21,802.759 2137.26,802.129 2139.32,801.499 2141.37,800.869 2143.42,800.239 2145.48,799.609 2147.53,798.979 2149.58,798.349 2151.63,797.719 2153.69,797.089 2155.74,796.459 2157.79,795.829 2159.85,795.199 2161.9,794.569 2163.95,793.939 2166,793.309 2168.06,792.679 2170.11,792.049 2172.16,791.419 2174.22,790.789 2176.27,790.159 2178.32,789.529 2180.37,788.899 2182.43,788.269 2184.48,787.639 2186.53,787.009 2188.59,786.379 2190.64,785.749 2192.69,785.119 2194.74,784.489 2196.8,783.859 2198.85,783.229 2200.9,782.599 2202.96,781.969 2205.01,781.339 2207.06,780.709 2209.12,780.079 2211.17,779.449 2213.22,778.819 2215.27,778.189 2217.33,777.559 2219.38,776.929 2221.43,776.299 2223.49,775.669 2225.54,775.039 2227.59,774.409 2229.64,773.779 2231.7,773.149 2233.75,772.519 2235.8,771.889 2237.86,771.259 2239.91,770.629 2241.96,769.999 2244.01,769.369 2246.07,768.739 2248.12,768.109 2250.17,767.479 2252.23,766.849 2254.28,766.219 2256.33,765.589 2258.38,764.959 2260.44,764.329 2262.49,763.699 2264.54,763.069 2266.6,762.439 2268.65,761.809 2270.7,761.179 2272.75,760.549 2274.81,759.919 2276.86,759.289 2278.91,758.659 2280.97,758.029 2283.02,757.399 2285.07,756.769 2287.12,756.139 2289.18,755.509 2291.23,754.879 \"/>\n",
       "<path clip-path=\"url(#clip560)\" d=\"M1965.38 248.629 L2280.29 248.629 L2280.29 93.1086 L1965.38 93.1086  Z\" fill=\"#ffffff\" fill-rule=\"evenodd\" fill-opacity=\"1\"/>\n",
       "<polyline clip-path=\"url(#clip560)\" style=\"stroke:#000000; stroke-linecap:round; stroke-linejoin:round; stroke-width:4; stroke-opacity:1; fill:none\" points=\"1965.38,248.629 2280.29,248.629 2280.29,93.1086 1965.38,93.1086 1965.38,248.629 \"/>\n",
       "<polyline clip-path=\"url(#clip560)\" style=\"stroke:#009af9; stroke-linecap:round; stroke-linejoin:round; stroke-width:4; stroke-opacity:1; fill:none\" points=\"1989.54,144.949 2134.46,144.949 \"/>\n",
       "<path clip-path=\"url(#clip560)\" d=\"M2162.9 158.34 L2162.9 172.09 L2158.62 172.09 L2158.62 136.303 L2162.9 136.303 L2162.9 140.238 Q2164.24 137.923 2166.28 136.812 Q2168.34 135.678 2171.19 135.678 Q2175.91 135.678 2178.85 139.428 Q2181.81 143.178 2181.81 149.289 Q2181.81 155.4 2178.85 159.15 Q2175.91 162.9 2171.19 162.9 Q2168.34 162.9 2166.28 161.789 Q2164.24 160.655 2162.9 158.34 M2177.39 149.289 Q2177.39 144.59 2175.44 141.928 Q2173.52 139.243 2170.14 139.243 Q2166.76 139.243 2164.82 141.928 Q2162.9 144.59 2162.9 149.289 Q2162.9 153.988 2164.82 156.673 Q2166.76 159.335 2170.14 159.335 Q2173.52 159.335 2175.44 156.673 Q2177.39 153.988 2177.39 149.289 Z\" fill=\"#000000\" fill-rule=\"nonzero\" fill-opacity=\"1\" /><path clip-path=\"url(#clip560)\" d=\"M2199.1 126.257 Q2196 131.581 2194.5 136.789 Q2192.99 141.997 2192.99 147.344 Q2192.99 152.692 2194.5 157.946 Q2196.02 163.178 2199.1 168.479 L2195.4 168.479 Q2191.93 163.039 2190.19 157.784 Q2188.48 152.53 2188.48 147.344 Q2188.48 142.182 2190.19 136.951 Q2191.9 131.72 2195.4 126.257 L2199.1 126.257 Z\" fill=\"#000000\" fill-rule=\"nonzero\" fill-opacity=\"1\" /><path clip-path=\"url(#clip560)\" d=\"M2228.92 136.303 L2219.54 148.919 L2229.4 162.229 L2224.38 162.229 L2216.83 152.043 L2209.29 162.229 L2204.26 162.229 L2214.33 148.664 L2205.12 136.303 L2210.14 136.303 L2217.02 145.539 L2223.89 136.303 L2228.92 136.303 Z\" fill=\"#000000\" fill-rule=\"nonzero\" fill-opacity=\"1\" /><path clip-path=\"url(#clip560)\" d=\"M2234.75 126.257 L2238.45 126.257 Q2241.93 131.72 2243.64 136.951 Q2245.37 142.182 2245.37 147.344 Q2245.37 152.53 2243.64 157.784 Q2241.93 163.039 2238.45 168.479 L2234.75 168.479 Q2237.83 163.178 2239.33 157.946 Q2240.86 152.692 2240.86 147.344 Q2240.86 141.997 2239.33 136.789 Q2237.83 131.581 2234.75 126.257 Z\" fill=\"#000000\" fill-rule=\"nonzero\" fill-opacity=\"1\" /><polyline clip-path=\"url(#clip560)\" style=\"stroke:#e26f46; stroke-linecap:round; stroke-linejoin:round; stroke-width:4; stroke-opacity:1; fill:none\" points=\"1989.54,196.789 2134.46,196.789 \"/>\n",
       "<path clip-path=\"url(#clip560)\" d=\"M2162.9 210.18 L2162.9 223.93 L2158.62 223.93 L2158.62 188.143 L2162.9 188.143 L2162.9 192.078 Q2164.24 189.763 2166.28 188.652 Q2168.34 187.518 2171.19 187.518 Q2175.91 187.518 2178.85 191.268 Q2181.81 195.018 2181.81 201.129 Q2181.81 207.24 2178.85 210.99 Q2175.91 214.74 2171.19 214.74 Q2168.34 214.74 2166.28 213.629 Q2164.24 212.495 2162.9 210.18 M2177.39 201.129 Q2177.39 196.43 2175.44 193.768 Q2173.52 191.083 2170.14 191.083 Q2166.76 191.083 2164.82 193.768 Q2162.9 196.43 2162.9 201.129 Q2162.9 205.828 2164.82 208.513 Q2166.76 211.175 2170.14 211.175 Q2173.52 211.175 2175.44 208.513 Q2177.39 205.828 2177.39 201.129 Z\" fill=\"#000000\" fill-rule=\"nonzero\" fill-opacity=\"1\" /><path clip-path=\"url(#clip560)\" d=\"M2185.33 188.143 L2189.33 179.509 L2194.03 179.509 L2187.34 188.143 L2185.33 188.143 Z\" fill=\"#000000\" fill-rule=\"nonzero\" fill-opacity=\"1\" /><path clip-path=\"url(#clip560)\" d=\"M2209.87 178.097 Q2206.76 183.421 2205.26 188.629 Q2203.75 193.837 2203.75 199.184 Q2203.75 204.532 2205.26 209.786 Q2206.79 215.018 2209.87 220.319 L2206.16 220.319 Q2202.69 214.879 2200.95 209.624 Q2199.24 204.37 2199.24 199.184 Q2199.24 194.022 2200.95 188.791 Q2202.67 183.56 2206.16 178.097 L2209.87 178.097 Z\" fill=\"#000000\" fill-rule=\"nonzero\" fill-opacity=\"1\" /><path clip-path=\"url(#clip560)\" d=\"M2239.68 188.143 L2230.31 200.759 L2240.17 214.069 L2235.14 214.069 L2227.6 203.883 L2220.05 214.069 L2215.03 214.069 L2225.1 200.504 L2215.88 188.143 L2220.91 188.143 L2227.78 197.379 L2234.66 188.143 L2239.68 188.143 Z\" fill=\"#000000\" fill-rule=\"nonzero\" fill-opacity=\"1\" /><path clip-path=\"url(#clip560)\" d=\"M2245.51 178.097 L2249.22 178.097 Q2252.69 183.56 2254.4 188.791 Q2256.14 194.022 2256.14 199.184 Q2256.14 204.37 2254.4 209.624 Q2252.69 214.879 2249.22 220.319 L2245.51 220.319 Q2248.59 215.018 2250.1 209.786 Q2251.62 204.532 2251.62 199.184 Q2251.62 193.837 2250.1 188.629 Q2248.59 183.421 2245.51 178.097 Z\" fill=\"#000000\" fill-rule=\"nonzero\" fill-opacity=\"1\" /></svg>\n"
      ],
      "text/html": [
       "<?xml version=\"1.0\" encoding=\"utf-8\"?>\n",
       "<svg xmlns=\"http://www.w3.org/2000/svg\" xmlns:xlink=\"http://www.w3.org/1999/xlink\" width=\"600\" height=\"400\" viewBox=\"0 0 2400 1600\">\n",
       "<defs>\n",
       "  <clipPath id=\"clip610\">\n",
       "    <rect x=\"0\" y=\"0\" width=\"2400\" height=\"1600\"/>\n",
       "  </clipPath>\n",
       "</defs>\n",
       "<path clip-path=\"url(#clip610)\" d=\"M0 1600 L2400 1600 L2400 0 L0 0  Z\" fill=\"#ffffff\" fill-rule=\"evenodd\" fill-opacity=\"1\"/>\n",
       "<defs>\n",
       "  <clipPath id=\"clip611\">\n",
       "    <rect x=\"480\" y=\"0\" width=\"1681\" height=\"1600\"/>\n",
       "  </clipPath>\n",
       "</defs>\n",
       "<path clip-path=\"url(#clip610)\" d=\"M178.867 1423.18 L2352.76 1423.18 L2352.76 47.2441 L178.867 47.2441  Z\" fill=\"#ffffff\" fill-rule=\"evenodd\" fill-opacity=\"1\"/>\n",
       "<defs>\n",
       "  <clipPath id=\"clip612\">\n",
       "    <rect x=\"178\" y=\"47\" width=\"2175\" height=\"1377\"/>\n",
       "  </clipPath>\n",
       "</defs>\n",
       "<polyline clip-path=\"url(#clip612)\" style=\"stroke:#000000; stroke-linecap:round; stroke-linejoin:round; stroke-width:2; stroke-opacity:0.1; fill:none\" points=\"240.392,1423.18 240.392,47.2441 \"/>\n",
       "<polyline clip-path=\"url(#clip612)\" style=\"stroke:#000000; stroke-linecap:round; stroke-linejoin:round; stroke-width:2; stroke-opacity:0.1; fill:none\" points=\"753.102,1423.18 753.102,47.2441 \"/>\n",
       "<polyline clip-path=\"url(#clip612)\" style=\"stroke:#000000; stroke-linecap:round; stroke-linejoin:round; stroke-width:2; stroke-opacity:0.1; fill:none\" points=\"1265.81,1423.18 1265.81,47.2441 \"/>\n",
       "<polyline clip-path=\"url(#clip612)\" style=\"stroke:#000000; stroke-linecap:round; stroke-linejoin:round; stroke-width:2; stroke-opacity:0.1; fill:none\" points=\"1778.52,1423.18 1778.52,47.2441 \"/>\n",
       "<polyline clip-path=\"url(#clip612)\" style=\"stroke:#000000; stroke-linecap:round; stroke-linejoin:round; stroke-width:2; stroke-opacity:0.1; fill:none\" points=\"2291.23,1423.18 2291.23,47.2441 \"/>\n",
       "<polyline clip-path=\"url(#clip610)\" style=\"stroke:#000000; stroke-linecap:round; stroke-linejoin:round; stroke-width:4; stroke-opacity:1; fill:none\" points=\"178.867,1423.18 2352.76,1423.18 \"/>\n",
       "<polyline clip-path=\"url(#clip610)\" style=\"stroke:#000000; stroke-linecap:round; stroke-linejoin:round; stroke-width:4; stroke-opacity:1; fill:none\" points=\"240.392,1423.18 240.392,1404.28 \"/>\n",
       "<polyline clip-path=\"url(#clip610)\" style=\"stroke:#000000; stroke-linecap:round; stroke-linejoin:round; stroke-width:4; stroke-opacity:1; fill:none\" points=\"753.102,1423.18 753.102,1404.28 \"/>\n",
       "<polyline clip-path=\"url(#clip610)\" style=\"stroke:#000000; stroke-linecap:round; stroke-linejoin:round; stroke-width:4; stroke-opacity:1; fill:none\" points=\"1265.81,1423.18 1265.81,1404.28 \"/>\n",
       "<polyline clip-path=\"url(#clip610)\" style=\"stroke:#000000; stroke-linecap:round; stroke-linejoin:round; stroke-width:4; stroke-opacity:1; fill:none\" points=\"1778.52,1423.18 1778.52,1404.28 \"/>\n",
       "<polyline clip-path=\"url(#clip610)\" style=\"stroke:#000000; stroke-linecap:round; stroke-linejoin:round; stroke-width:4; stroke-opacity:1; fill:none\" points=\"2291.23,1423.18 2291.23,1404.28 \"/>\n",
       "<path clip-path=\"url(#clip610)\" d=\"M210.334 1468.75 L240.01 1468.75 L240.01 1472.69 L210.334 1472.69 L210.334 1468.75 Z\" fill=\"#000000\" fill-rule=\"nonzero\" fill-opacity=\"1\" /><path clip-path=\"url(#clip610)\" d=\"M254.13 1481.64 L270.45 1481.64 L270.45 1485.58 L248.505 1485.58 L248.505 1481.64 Q251.167 1478.89 255.751 1474.26 Q260.357 1469.61 261.538 1468.27 Q263.783 1465.74 264.663 1464.01 Q265.565 1462.25 265.565 1460.56 Q265.565 1457.8 263.621 1456.07 Q261.7 1454.33 258.598 1454.33 Q256.399 1454.33 253.945 1455.09 Q251.514 1455.86 248.737 1457.41 L248.737 1452.69 Q251.561 1451.55 254.014 1450.97 Q256.468 1450.39 258.505 1450.39 Q263.875 1450.39 267.07 1453.08 Q270.264 1455.77 270.264 1460.26 Q270.264 1462.39 269.454 1464.31 Q268.667 1466.2 266.561 1468.8 Q265.982 1469.47 262.88 1472.69 Q259.778 1475.88 254.13 1481.64 Z\" fill=\"#000000\" fill-rule=\"nonzero\" fill-opacity=\"1\" /><path clip-path=\"url(#clip610)\" d=\"M722.859 1468.75 L752.534 1468.75 L752.534 1472.69 L722.859 1472.69 L722.859 1468.75 Z\" fill=\"#000000\" fill-rule=\"nonzero\" fill-opacity=\"1\" /><path clip-path=\"url(#clip610)\" d=\"M763.437 1481.64 L771.076 1481.64 L771.076 1455.28 L762.766 1456.95 L762.766 1452.69 L771.03 1451.02 L775.706 1451.02 L775.706 1481.64 L783.344 1481.64 L783.344 1485.58 L763.437 1485.58 L763.437 1481.64 Z\" fill=\"#000000\" fill-rule=\"nonzero\" fill-opacity=\"1\" /><path clip-path=\"url(#clip610)\" d=\"M1265.81 1454.1 Q1262.2 1454.1 1260.37 1457.66 Q1258.57 1461.2 1258.57 1468.33 Q1258.57 1475.44 1260.37 1479.01 Q1262.2 1482.55 1265.81 1482.55 Q1269.45 1482.55 1271.25 1479.01 Q1273.08 1475.44 1273.08 1468.33 Q1273.08 1461.2 1271.25 1457.66 Q1269.45 1454.1 1265.81 1454.1 M1265.81 1450.39 Q1271.62 1450.39 1274.68 1455 Q1277.76 1459.58 1277.76 1468.33 Q1277.76 1477.06 1274.68 1481.67 Q1271.62 1486.25 1265.81 1486.25 Q1260 1486.25 1256.92 1481.67 Q1253.87 1477.06 1253.87 1468.33 Q1253.87 1459.58 1256.92 1455 Q1260 1450.39 1265.81 1450.39 Z\" fill=\"#000000\" fill-rule=\"nonzero\" fill-opacity=\"1\" /><path clip-path=\"url(#clip610)\" d=\"M1768.9 1481.64 L1776.54 1481.64 L1776.54 1455.28 L1768.23 1456.95 L1768.23 1452.69 L1776.5 1451.02 L1781.17 1451.02 L1781.17 1481.64 L1788.81 1481.64 L1788.81 1485.58 L1768.9 1485.58 L1768.9 1481.64 Z\" fill=\"#000000\" fill-rule=\"nonzero\" fill-opacity=\"1\" /><path clip-path=\"url(#clip610)\" d=\"M2285.88 1481.64 L2302.2 1481.64 L2302.2 1485.58 L2280.26 1485.58 L2280.26 1481.64 Q2282.92 1478.89 2287.5 1474.26 Q2292.11 1469.61 2293.29 1468.27 Q2295.54 1465.74 2296.42 1464.01 Q2297.32 1462.25 2297.32 1460.56 Q2297.32 1457.8 2295.37 1456.07 Q2293.45 1454.33 2290.35 1454.33 Q2288.15 1454.33 2285.7 1455.09 Q2283.27 1455.86 2280.49 1457.41 L2280.49 1452.69 Q2283.31 1451.55 2285.77 1450.97 Q2288.22 1450.39 2290.26 1450.39 Q2295.63 1450.39 2298.82 1453.08 Q2302.02 1455.77 2302.02 1460.26 Q2302.02 1462.39 2301.21 1464.31 Q2300.42 1466.2 2298.31 1468.8 Q2297.74 1469.47 2294.63 1472.69 Q2291.53 1475.88 2285.88 1481.64 Z\" fill=\"#000000\" fill-rule=\"nonzero\" fill-opacity=\"1\" /><path clip-path=\"url(#clip610)\" d=\"M1282.43 1532.4 L1269.54 1549.74 L1283.09 1568.04 L1276.19 1568.04 L1265.81 1554.04 L1255.44 1568.04 L1248.53 1568.04 L1262.37 1549.39 L1249.71 1532.4 L1256.61 1532.4 L1266.07 1545.1 L1275.52 1532.4 L1282.43 1532.4 Z\" fill=\"#000000\" fill-rule=\"nonzero\" fill-opacity=\"1\" /><polyline clip-path=\"url(#clip612)\" style=\"stroke:#000000; stroke-linecap:round; stroke-linejoin:round; stroke-width:2; stroke-opacity:0.1; fill:none\" points=\"178.867,1266.23 2352.76,1266.23 \"/>\n",
       "<polyline clip-path=\"url(#clip612)\" style=\"stroke:#000000; stroke-linecap:round; stroke-linejoin:round; stroke-width:2; stroke-opacity:0.1; fill:none\" points=\"178.867,872.884 2352.76,872.884 \"/>\n",
       "<polyline clip-path=\"url(#clip612)\" style=\"stroke:#000000; stroke-linecap:round; stroke-linejoin:round; stroke-width:2; stroke-opacity:0.1; fill:none\" points=\"178.867,479.535 2352.76,479.535 \"/>\n",
       "<polyline clip-path=\"url(#clip612)\" style=\"stroke:#000000; stroke-linecap:round; stroke-linejoin:round; stroke-width:2; stroke-opacity:0.1; fill:none\" points=\"178.867,86.1857 2352.76,86.1857 \"/>\n",
       "<polyline clip-path=\"url(#clip610)\" style=\"stroke:#000000; stroke-linecap:round; stroke-linejoin:round; stroke-width:4; stroke-opacity:1; fill:none\" points=\"178.867,1423.18 178.867,47.2441 \"/>\n",
       "<polyline clip-path=\"url(#clip610)\" style=\"stroke:#000000; stroke-linecap:round; stroke-linejoin:round; stroke-width:4; stroke-opacity:1; fill:none\" points=\"178.867,1266.23 197.764,1266.23 \"/>\n",
       "<polyline clip-path=\"url(#clip610)\" style=\"stroke:#000000; stroke-linecap:round; stroke-linejoin:round; stroke-width:4; stroke-opacity:1; fill:none\" points=\"178.867,872.884 197.764,872.884 \"/>\n",
       "<polyline clip-path=\"url(#clip610)\" style=\"stroke:#000000; stroke-linecap:round; stroke-linejoin:round; stroke-width:4; stroke-opacity:1; fill:none\" points=\"178.867,479.535 197.764,479.535 \"/>\n",
       "<polyline clip-path=\"url(#clip610)\" style=\"stroke:#000000; stroke-linecap:round; stroke-linejoin:round; stroke-width:4; stroke-opacity:1; fill:none\" points=\"178.867,86.1857 197.764,86.1857 \"/>\n",
       "<path clip-path=\"url(#clip610)\" d=\"M50.9921 1266.68 L80.6679 1266.68 L80.6679 1270.62 L50.9921 1270.62 L50.9921 1266.68 Z\" fill=\"#000000\" fill-rule=\"nonzero\" fill-opacity=\"1\" /><path clip-path=\"url(#clip610)\" d=\"M91.5706 1279.58 L99.2095 1279.58 L99.2095 1253.21 L90.8993 1254.88 L90.8993 1250.62 L99.1632 1248.95 L103.839 1248.95 L103.839 1279.58 L111.478 1279.58 L111.478 1283.51 L91.5706 1283.51 L91.5706 1279.58 Z\" fill=\"#000000\" fill-rule=\"nonzero\" fill-opacity=\"1\" /><path clip-path=\"url(#clip610)\" d=\"M130.922 1252.03 Q127.311 1252.03 125.482 1255.6 Q123.677 1259.14 123.677 1266.27 Q123.677 1273.37 125.482 1276.94 Q127.311 1280.48 130.922 1280.48 Q134.556 1280.48 136.362 1276.94 Q138.191 1273.37 138.191 1266.27 Q138.191 1259.14 136.362 1255.6 Q134.556 1252.03 130.922 1252.03 M130.922 1248.33 Q136.732 1248.33 139.788 1252.93 Q142.867 1257.52 142.867 1266.27 Q142.867 1275 139.788 1279.6 Q136.732 1284.18 130.922 1284.18 Q125.112 1284.18 122.033 1279.6 Q118.978 1275 118.978 1266.27 Q118.978 1257.52 122.033 1252.93 Q125.112 1248.33 130.922 1248.33 Z\" fill=\"#000000\" fill-rule=\"nonzero\" fill-opacity=\"1\" /><path clip-path=\"url(#clip610)\" d=\"M130.922 858.683 Q127.311 858.683 125.482 862.248 Q123.677 865.789 123.677 872.919 Q123.677 880.025 125.482 883.59 Q127.311 887.132 130.922 887.132 Q134.556 887.132 136.362 883.59 Q138.191 880.025 138.191 872.919 Q138.191 865.789 136.362 862.248 Q134.556 858.683 130.922 858.683 M130.922 854.979 Q136.732 854.979 139.788 859.586 Q142.867 864.169 142.867 872.919 Q142.867 881.646 139.788 886.252 Q136.732 890.836 130.922 890.836 Q125.112 890.836 122.033 886.252 Q118.978 881.646 118.978 872.919 Q118.978 864.169 122.033 859.586 Q125.112 854.979 130.922 854.979 Z\" fill=\"#000000\" fill-rule=\"nonzero\" fill-opacity=\"1\" /><path clip-path=\"url(#clip610)\" d=\"M91.5706 492.88 L99.2095 492.88 L99.2095 466.514 L90.8993 468.181 L90.8993 463.922 L99.1632 462.255 L103.839 462.255 L103.839 492.88 L111.478 492.88 L111.478 496.815 L91.5706 496.815 L91.5706 492.88 Z\" fill=\"#000000\" fill-rule=\"nonzero\" fill-opacity=\"1\" /><path clip-path=\"url(#clip610)\" d=\"M130.922 465.334 Q127.311 465.334 125.482 468.898 Q123.677 472.44 123.677 479.57 Q123.677 486.676 125.482 490.241 Q127.311 493.783 130.922 493.783 Q134.556 493.783 136.362 490.241 Q138.191 486.676 138.191 479.57 Q138.191 472.44 136.362 468.898 Q134.556 465.334 130.922 465.334 M130.922 461.63 Q136.732 461.63 139.788 466.236 Q142.867 470.82 142.867 479.57 Q142.867 488.296 139.788 492.903 Q136.732 497.486 130.922 497.486 Q125.112 497.486 122.033 492.903 Q118.978 488.296 118.978 479.57 Q118.978 470.82 122.033 466.236 Q125.112 461.63 130.922 461.63 Z\" fill=\"#000000\" fill-rule=\"nonzero\" fill-opacity=\"1\" /><path clip-path=\"url(#clip610)\" d=\"M94.7882 99.5305 L111.108 99.5305 L111.108 103.466 L89.1632 103.466 L89.1632 99.5305 Q91.8252 96.7759 96.4085 92.1463 Q101.015 87.4935 102.196 86.151 Q104.441 83.6278 105.321 81.8917 Q106.223 80.1325 106.223 78.4427 Q106.223 75.688 104.279 73.9519 Q102.358 72.2158 99.2558 72.2158 Q97.0567 72.2158 94.603 72.9797 Q92.1725 73.7436 89.3947 75.2945 L89.3947 70.5723 Q92.2188 69.4381 94.6724 68.8594 Q97.1261 68.2807 99.1632 68.2807 Q104.534 68.2807 107.728 70.9658 Q110.922 73.651 110.922 78.1417 Q110.922 80.2714 110.112 82.1926 Q109.325 84.0908 107.219 86.6834 Q106.64 87.3546 103.538 90.5722 Q100.436 93.7667 94.7882 99.5305 Z\" fill=\"#000000\" fill-rule=\"nonzero\" fill-opacity=\"1\" /><path clip-path=\"url(#clip610)\" d=\"M130.922 71.9844 Q127.311 71.9844 125.482 75.5492 Q123.677 79.0908 123.677 86.2204 Q123.677 93.3268 125.482 96.8916 Q127.311 100.433 130.922 100.433 Q134.556 100.433 136.362 96.8916 Q138.191 93.3268 138.191 86.2204 Q138.191 79.0908 136.362 75.5492 Q134.556 71.9844 130.922 71.9844 M130.922 68.2807 Q136.732 68.2807 139.788 72.8871 Q142.867 77.4704 142.867 86.2204 Q142.867 94.9472 139.788 99.5537 Q136.732 104.137 130.922 104.137 Q125.112 104.137 122.033 99.5537 Q118.978 94.9472 118.978 86.2204 Q118.978 77.4704 122.033 72.8871 Q125.112 68.2807 130.922 68.2807 Z\" fill=\"#000000\" fill-rule=\"nonzero\" fill-opacity=\"1\" /><polyline clip-path=\"url(#clip612)\" style=\"stroke:#009af9; stroke-linecap:round; stroke-linejoin:round; stroke-width:4; stroke-opacity:1; fill:none\" points=\"240.392,86.1857 242.445,88.2319 244.498,90.2756 246.55,92.3167 248.603,94.3553 250.656,96.3915 252.709,98.425 254.762,100.456 256.815,102.485 258.868,104.511 260.921,106.534 262.974,108.555 265.027,110.574 267.079,112.59 269.132,114.603 271.185,116.614 273.238,118.622 275.291,120.628 277.344,122.631 279.397,124.632 281.45,126.63 283.503,128.626 285.555,130.619 287.608,132.61 289.661,134.598 291.714,136.584 293.767,138.567 295.82,140.548 297.873,142.526 299.926,144.501 301.979,146.474 304.031,148.445 306.084,150.413 308.137,152.378 310.19,154.341 312.243,156.302 314.296,158.26 316.349,160.215 318.402,162.168 320.455,164.118 322.507,166.066 324.56,168.012 326.613,169.954 328.666,171.895 330.719,173.832 332.772,175.768 334.825,177.7 336.878,179.63 338.931,181.558 340.984,183.483 343.036,185.406 345.089,187.326 347.142,189.243 349.195,191.158 351.248,193.071 353.301,194.981 355.354,196.888 357.407,198.793 359.46,200.696 361.512,202.596 363.565,204.493 365.618,206.388 367.671,208.28 369.724,210.17 371.777,212.057 373.83,213.942 375.883,215.824 377.936,217.704 379.988,219.581 382.041,221.456 384.094,223.328 386.147,225.198 388.2,227.065 390.253,228.929 392.306,230.791 394.359,232.651 396.412,234.508 398.464,236.362 400.517,238.214 402.57,240.064 404.623,241.911 406.676,243.755 408.729,245.597 410.782,247.436 412.835,249.273 414.888,251.108 416.94,252.939 418.993,254.769 421.046,256.595 423.099,258.42 425.152,260.241 427.205,262.061 429.258,263.877 431.311,265.691 433.364,267.503 435.417,269.312 437.469,271.119 439.522,272.923 441.575,274.724 443.628,276.523 445.681,278.32 447.734,280.114 449.787,281.905 451.84,283.694 453.893,285.48 455.945,287.264 457.998,289.046 460.051,290.824 462.104,292.601 464.157,294.374 466.21,296.146 468.263,297.914 470.316,299.681 472.369,301.444 474.421,303.205 476.474,304.964 478.527,306.72 480.58,308.474 482.633,310.225 484.686,311.973 486.739,313.719 488.792,315.463 490.845,317.204 492.897,318.942 494.95,320.678 497.003,322.412 499.056,324.143 501.109,325.871 503.162,327.597 505.215,329.32 507.268,331.041 509.321,332.759 511.374,334.475 513.426,336.188 515.479,337.899 517.532,339.607 519.585,341.313 521.638,343.016 523.691,344.717 525.744,346.415 527.797,348.11 529.85,349.803 531.902,351.494 533.955,353.182 536.008,354.867 538.061,356.55 540.114,358.231 542.167,359.909 544.22,361.584 546.273,363.257 548.326,364.927 550.378,366.595 552.431,368.26 554.484,369.923 556.537,371.584 558.59,373.241 560.643,374.896 562.696,376.549 564.749,378.199 566.802,379.847 568.854,381.492 570.907,383.135 572.96,384.775 575.013,386.412 577.066,388.047 579.119,389.68 581.172,391.31 583.225,392.937 585.278,394.562 587.331,396.185 589.383,397.805 591.436,399.422 593.489,401.037 595.542,402.649 597.595,404.259 599.648,405.866 601.701,407.471 603.754,409.073 605.807,410.673 607.859,412.27 609.912,413.865 611.965,415.457 614.018,417.047 616.071,418.634 618.124,420.218 620.177,421.801 622.23,423.38 624.283,424.957 626.335,426.532 628.388,428.104 630.441,429.673 632.494,431.24 634.547,432.804 636.6,434.366 638.653,435.926 640.706,437.482 642.759,439.037 644.811,440.589 646.864,442.138 648.917,443.685 650.97,445.229 653.023,446.771 655.076,448.31 657.129,449.846 659.182,451.381 661.235,452.912 663.288,454.441 665.34,455.968 667.393,457.492 669.446,459.013 671.499,460.532 673.552,462.049 675.605,463.563 677.658,465.074 679.711,466.583 681.764,468.09 683.816,469.593 685.869,471.095 687.922,472.594 689.975,474.09 692.028,475.584 694.081,477.075 696.134,478.564 698.187,480.05 700.24,481.534 702.292,483.015 704.345,484.493 706.398,485.97 708.451,487.443 710.504,488.914 712.557,490.383 714.61,491.849 716.663,493.312 718.716,494.773 720.768,496.232 722.821,497.688 724.874,499.141 726.927,500.592 728.98,502.04 731.033,503.486 733.086,504.93 735.139,506.37 737.192,507.809 739.245,509.244 741.297,510.678 743.35,512.108 745.403,513.537 747.456,514.962 749.509,516.385 751.562,517.806 753.615,519.224 755.668,520.64 757.721,522.053 759.773,523.463 761.826,524.871 763.879,526.277 765.932,527.68 767.985,529.08 770.038,530.478 772.091,531.874 774.144,533.266 776.197,534.657 778.249,536.045 780.302,537.43 782.355,538.813 784.408,540.193 786.461,541.571 788.514,542.946 790.567,544.319 792.62,545.689 794.673,547.057 796.725,548.422 798.778,549.784 800.831,551.144 802.884,552.502 804.937,553.857 806.99,555.21 809.043,556.56 811.096,557.907 813.149,559.252 815.202,560.594 817.254,561.934 819.307,563.272 821.36,564.607 823.413,565.939 825.466,567.269 827.519,568.596 829.572,569.921 831.625,571.243 833.678,572.563 835.73,573.88 837.783,575.195 839.836,576.507 841.889,577.816 843.942,579.124 845.995,580.428 848.048,581.73 850.101,583.03 852.154,584.327 854.206,585.621 856.259,586.913 858.312,588.203 860.365,589.49 862.418,590.774 864.471,592.056 866.524,593.335 868.577,594.612 870.63,595.887 872.682,597.158 874.735,598.428 876.788,599.694 878.841,600.959 880.894,602.22 882.947,603.479 885,604.736 887.053,605.99 889.106,607.242 891.159,608.491 893.211,609.738 895.264,610.982 897.317,612.223 899.37,613.462 901.423,614.699 903.476,615.933 905.529,617.164 907.582,618.393 909.635,619.619 911.687,620.843 913.74,622.065 915.793,623.283 917.846,624.5 919.899,625.714 921.952,626.925 924.005,628.134 926.058,629.34 928.111,630.543 930.163,631.745 932.216,632.943 934.269,634.139 936.322,635.333 938.375,636.524 940.428,637.713 942.481,638.899 944.534,640.082 946.587,641.263 948.639,642.442 950.692,643.618 952.745,644.791 954.798,645.962 956.851,647.13 958.904,648.296 960.957,649.46 963.01,650.62 965.063,651.779 967.116,652.934 969.168,654.088 971.221,655.238 973.274,656.387 975.327,657.532 977.38,658.675 979.433,659.816 981.486,660.954 983.539,662.09 985.592,663.223 987.644,664.353 989.697,665.481 991.75,666.607 993.803,667.73 995.856,668.85 997.909,669.968 999.962,671.084 1002.01,672.197 1004.07,673.307 1006.12,674.415 1008.17,675.52 1010.23,676.623 1012.28,677.723 1014.33,678.821 1016.38,679.916 1018.44,681.009 1020.49,682.099 1022.54,683.187 1024.6,684.272 1026.65,685.354 1028.7,686.434 1030.76,687.512 1032.81,688.587 1034.86,689.66 1036.91,690.73 1038.97,691.797 1041.02,692.862 1043.07,693.925 1045.13,694.984 1047.18,696.042 1049.23,697.097 1051.28,698.149 1053.34,699.199 1055.39,700.246 1057.44,701.291 1059.5,702.333 1061.55,703.373 1063.6,704.41 1065.65,705.445 1067.71,706.477 1069.76,707.507 1071.81,708.534 1073.87,709.558 1075.92,710.58 1077.97,711.6 1080.02,712.617 1082.08,713.632 1084.13,714.644 1086.18,715.653 1088.24,716.66 1090.29,717.664 1092.34,718.666 1094.39,719.666 1096.45,720.662 1098.5,721.657 1100.55,722.649 1102.61,723.638 1104.66,724.625 1106.71,725.609 1108.77,726.591 1110.82,727.57 1112.87,728.546 1114.92,729.521 1116.98,730.492 1119.03,731.461 1121.08,732.428 1123.14,733.392 1125.19,734.354 1127.24,735.313 1129.29,736.269 1131.35,737.223 1133.4,738.174 1135.45,739.123 1137.51,740.07 1139.56,741.014 1141.61,741.955 1143.66,742.894 1145.72,743.83 1147.77,744.764 1149.82,745.695 1151.88,746.624 1153.93,747.55 1155.98,748.474 1158.03,749.395 1160.09,750.314 1162.14,751.23 1164.19,752.143 1166.25,753.055 1168.3,753.963 1170.35,754.869 1172.4,755.773 1174.46,756.674 1176.51,757.572 1178.56,758.468 1180.62,759.362 1182.67,760.252 1184.72,761.141 1186.77,762.027 1188.83,762.91 1190.88,763.791 1192.93,764.669 1194.99,765.545 1197.04,766.418 1199.09,767.289 1201.15,768.157 1203.2,769.023 1205.25,769.886 1207.3,770.747 1209.36,771.605 1211.41,772.46 1213.46,773.313 1215.52,774.164 1217.57,775.012 1219.62,775.857 1221.67,776.7 1223.73,777.541 1225.78,778.379 1227.83,779.214 1229.89,780.047 1231.94,780.877 1233.99,781.705 1236.04,782.531 1238.1,783.353 1240.15,784.174 1242.2,784.991 1244.26,785.807 1246.31,786.619 1248.36,787.43 1250.41,788.237 1252.47,789.042 1254.52,789.845 1256.57,790.645 1258.63,791.443 1260.68,792.238 1262.73,793.03 1264.78,793.82 1266.84,794.608 1268.89,795.393 1270.94,796.175 1273,796.955 1275.05,797.733 1277.1,798.507 1279.16,799.28 1281.21,800.05 1283.26,800.817 1285.31,801.582 1287.37,802.344 1289.42,803.104 1291.47,803.861 1293.53,804.616 1295.58,805.368 1297.63,806.117 1299.68,806.865 1301.74,807.609 1303.79,808.351 1305.84,809.091 1307.9,809.828 1309.95,810.562 1312,811.294 1314.05,812.024 1316.11,812.751 1318.16,813.475 1320.21,814.197 1322.27,814.916 1324.32,815.633 1326.37,816.348 1328.42,817.059 1330.48,817.769 1332.53,818.475 1334.58,819.18 1336.64,819.881 1338.69,820.581 1340.74,821.277 1342.79,821.971 1344.85,822.663 1346.9,823.352 1348.95,824.039 1351.01,824.723 1353.06,825.404 1355.11,826.083 1357.16,826.76 1359.22,827.434 1361.27,828.105 1363.32,828.774 1365.38,829.441 1367.43,830.105 1369.48,830.766 1371.54,831.425 1373.59,832.081 1375.64,832.735 1377.69,833.386 1379.75,834.035 1381.8,834.681 1383.85,835.325 1385.91,835.966 1387.96,836.605 1390.01,837.241 1392.06,837.874 1394.12,838.506 1396.17,839.134 1398.22,839.76 1400.28,840.384 1402.33,841.005 1404.38,841.623 1406.43,842.239 1408.49,842.853 1410.54,843.463 1412.59,844.072 1414.65,844.678 1416.7,845.281 1418.75,845.882 1420.8,846.48 1422.86,847.076 1424.91,847.669 1426.96,848.26 1429.02,848.848 1431.07,849.434 1433.12,850.017 1435.17,850.598 1437.23,851.176 1439.28,851.751 1441.33,852.324 1443.39,852.895 1445.44,853.463 1447.49,854.029 1449.55,854.592 1451.6,855.152 1453.65,855.71 1455.7,856.265 1457.76,856.818 1459.81,857.369 1461.86,857.916 1463.92,858.462 1465.97,859.005 1468.02,859.545 1470.07,860.083 1472.13,860.618 1474.18,861.151 1476.23,861.681 1478.29,862.208 1480.34,862.734 1482.39,863.256 1484.44,863.776 1486.5,864.294 1488.55,864.809 1490.6,865.322 1492.66,865.832 1494.71,866.339 1496.76,866.844 1498.81,867.346 1500.87,867.846 1502.92,868.344 1504.97,868.839 1507.03,869.331 1509.08,869.821 1511.13,870.308 1513.18,870.793 1515.24,871.275 1517.29,871.755 1519.34,872.232 1521.4,872.707 1523.45,873.179 1525.5,873.649 1527.55,874.116 1529.61,874.58 1531.66,875.043 1533.71,875.502 1535.77,875.959 1537.82,876.414 1539.87,876.866 1541.93,877.315 1543.98,877.762 1546.03,878.206 1548.08,878.648 1550.14,879.088 1552.19,879.525 1554.24,879.959 1556.3,880.391 1558.35,880.82 1560.4,881.247 1562.45,881.671 1564.51,882.093 1566.56,882.512 1568.61,882.929 1570.67,883.343 1572.72,883.755 1574.77,884.164 1576.82,884.57 1578.88,884.974 1580.93,885.376 1582.98,885.775 1585.04,886.171 1587.09,886.565 1589.14,886.957 1591.19,887.346 1593.25,887.732 1595.3,888.116 1597.35,888.497 1599.41,888.876 1601.46,889.253 1603.51,889.626 1605.56,889.998 1607.62,890.366 1609.67,890.733 1611.72,891.096 1613.78,891.458 1615.83,891.816 1617.88,892.172 1619.94,892.526 1621.99,892.877 1624.04,893.226 1626.09,893.572 1628.15,893.915 1630.2,894.256 1632.25,894.595 1634.31,894.931 1636.36,895.264 1638.41,895.595 1640.46,895.923 1642.52,896.249 1644.57,896.573 1646.62,896.893 1648.68,897.212 1650.73,897.528 1652.78,897.841 1654.83,898.152 1656.89,898.46 1658.94,898.765 1660.99,899.069 1663.05,899.369 1665.1,899.667 1667.15,899.963 1669.2,900.256 1671.26,900.547 1673.31,900.835 1675.36,901.12 1677.42,901.403 1679.47,901.684 1681.52,901.962 1683.57,902.237 1685.63,902.51 1687.68,902.78 1689.73,903.048 1691.79,903.313 1693.84,903.576 1695.89,903.837 1697.94,904.094 1700,904.35 1702.05,904.602 1704.1,904.853 1706.16,905.1 1708.21,905.345 1710.26,905.588 1712.32,905.828 1714.37,906.066 1716.42,906.301 1718.47,906.533 1720.53,906.763 1722.58,906.991 1724.63,907.216 1726.69,907.438 1728.74,907.658 1730.79,907.876 1732.84,908.09 1734.9,908.303 1736.95,908.513 1739,908.72 1741.06,908.925 1743.11,909.127 1745.16,909.327 1747.21,909.524 1749.27,909.719 1751.32,909.911 1753.37,910.101 1755.43,910.288 1757.48,910.472 1759.53,910.654 1761.58,910.834 1763.64,911.011 1765.69,911.186 1767.74,911.358 1769.8,911.527 1771.85,911.694 1773.9,911.858 1775.95,912.02 1778.01,912.18 1780.06,912.337 1782.11,912.491 1784.17,912.643 1786.22,912.792 1788.27,912.939 1790.33,913.083 1792.38,913.225 1794.43,913.364 1796.48,913.501 1798.54,913.635 1800.59,913.766 1802.64,913.896 1804.7,914.022 1806.75,914.146 1808.8,914.268 1810.85,914.387 1812.91,914.503 1814.96,914.617 1817.01,914.729 1819.07,914.838 1821.12,914.944 1823.17,915.048 1825.22,915.149 1827.28,915.248 1829.33,915.345 1831.38,915.438 1833.44,915.53 1835.49,915.618 1837.54,915.705 1839.59,915.788 1841.65,915.87 1843.7,915.948 1845.75,916.024 1847.81,916.098 1849.86,916.169 1851.91,916.238 1853.96,916.304 1856.02,916.367 1858.07,916.428 1860.12,916.487 1862.18,916.543 1864.23,916.596 1866.28,916.647 1868.34,916.696 1870.39,916.741 1872.44,916.785 1874.49,916.826 1876.55,916.864 1878.6,916.9 1880.65,916.933 1882.71,916.964 1884.76,916.992 1886.81,917.018 1888.86,917.041 1890.92,917.061 1892.97,917.08 1895.02,917.095 1897.08,917.108 1899.13,917.119 1901.18,917.127 1903.23,917.132 1905.29,917.135 1907.34,917.136 1909.39,917.134 1911.45,917.129 1913.5,917.122 1915.55,917.113 1917.6,917.1 1919.66,917.086 1921.71,917.069 1923.76,917.049 1925.82,917.027 1927.87,917.002 1929.92,916.975 1931.97,916.945 1934.03,916.912 1936.08,916.878 1938.13,916.84 1940.19,916.8 1942.24,916.758 1944.29,916.713 1946.34,916.666 1948.4,916.616 1950.45,916.563 1952.5,916.508 1954.56,916.451 1956.61,916.39 1958.66,916.328 1960.72,916.263 1962.77,916.195 1964.82,916.125 1966.87,916.052 1968.93,915.977 1970.98,915.899 1973.03,915.819 1975.09,915.736 1977.14,915.651 1979.19,915.563 1981.24,915.473 1983.3,915.38 1985.35,915.285 1987.4,915.187 1989.46,915.086 1991.51,914.983 1993.56,914.878 1995.61,914.77 1997.67,914.659 1999.72,914.546 2001.77,914.431 2003.83,914.313 2005.88,914.192 2007.93,914.069 2009.98,913.943 2012.04,913.815 2014.09,913.685 2016.14,913.551 2018.2,913.416 2020.25,913.277 2022.3,913.136 2024.35,912.993 2026.41,912.847 2028.46,912.699 2030.51,912.548 2032.57,912.395 2034.62,912.239 2036.67,912.08 2038.73,911.919 2040.78,911.756 2042.83,911.59 2044.88,911.421 2046.94,911.25 2048.99,911.077 2051.04,910.901 2053.1,910.722 2055.15,910.541 2057.2,910.357 2059.25,910.171 2061.31,909.982 2063.36,909.791 2065.41,909.597 2067.47,909.401 2069.52,909.202 2071.57,909.001 2073.62,908.797 2075.68,908.591 2077.73,908.382 2079.78,908.17 2081.84,907.956 2083.89,907.74 2085.94,907.521 2087.99,907.299 2090.05,907.075 2092.1,906.849 2094.15,906.62 2096.21,906.388 2098.26,906.154 2100.31,905.917 2102.36,905.678 2104.42,905.437 2106.47,905.192 2108.52,904.946 2110.58,904.696 2112.63,904.445 2114.68,904.19 2116.73,903.934 2118.79,903.674 2120.84,903.412 2122.89,903.148 2124.95,902.881 2127,902.612 2129.05,902.34 2131.11,902.065 2133.16,901.788 2135.21,901.509 2137.26,901.227 2139.32,900.942 2141.37,900.655 2143.42,900.365 2145.48,900.073 2147.53,899.779 2149.58,899.481 2151.63,899.182 2153.69,898.879 2155.74,898.575 2157.79,898.267 2159.85,897.958 2161.9,897.645 2163.95,897.33 2166,897.013 2168.06,896.693 2170.11,896.371 2172.16,896.046 2174.22,895.718 2176.27,895.388 2178.32,895.056 2180.37,894.721 2182.43,894.383 2184.48,894.043 2186.53,893.701 2188.59,893.356 2190.64,893.008 2192.69,892.658 2194.74,892.305 2196.8,891.95 2198.85,891.592 2200.9,891.232 2202.96,890.869 2205.01,890.504 2207.06,890.136 2209.12,889.766 2211.17,889.393 2213.22,889.018 2215.27,888.64 2217.33,888.259 2219.38,887.876 2221.43,887.491 2223.49,887.103 2225.54,886.712 2227.59,886.319 2229.64,885.924 2231.7,885.526 2233.75,885.125 2235.8,884.722 2237.86,884.316 2239.91,883.908 2241.96,883.498 2244.01,883.084 2246.07,882.669 2248.12,882.25 2250.17,881.83 2252.23,881.406 2254.28,880.98 2256.33,880.552 2258.38,880.121 2260.44,879.688 2262.49,879.252 2264.54,878.813 2266.6,878.372 2268.65,877.929 2270.7,877.483 2272.75,877.034 2274.81,876.583 2276.86,876.13 2278.91,875.674 2280.97,875.215 2283.02,874.754 2285.07,874.29 2287.12,873.824 2289.18,873.355 2291.23,872.884 \"/>\n",
       "<polyline clip-path=\"url(#clip612)\" style=\"stroke:#e26f46; stroke-linecap:round; stroke-linejoin:round; stroke-width:4; stroke-opacity:1; fill:none\" points=\"240.392,1384.24 242.445,1383.61 244.498,1382.98 246.55,1382.35 248.603,1381.72 250.656,1381.09 252.709,1380.46 254.762,1379.83 256.815,1379.2 258.868,1378.57 260.921,1377.94 262.974,1377.31 265.027,1376.68 267.079,1376.05 269.132,1375.42 271.185,1374.79 273.238,1374.16 275.291,1373.53 277.344,1372.9 279.397,1372.27 281.45,1371.64 283.503,1371.01 285.555,1370.38 287.608,1369.75 289.661,1369.12 291.714,1368.49 293.767,1367.86 295.82,1367.23 297.873,1366.6 299.926,1365.97 301.979,1365.34 304.031,1364.71 306.084,1364.08 308.137,1363.45 310.19,1362.82 312.243,1362.19 314.296,1361.56 316.349,1360.93 318.402,1360.3 320.455,1359.67 322.507,1359.04 324.56,1358.41 326.613,1357.78 328.666,1357.15 330.719,1356.52 332.772,1355.89 334.825,1355.26 336.878,1354.63 338.931,1354 340.984,1353.37 343.036,1352.74 345.089,1352.11 347.142,1351.48 349.195,1350.85 351.248,1350.22 353.301,1349.59 355.354,1348.96 357.407,1348.33 359.46,1347.7 361.512,1347.07 363.565,1346.44 365.618,1345.81 367.671,1345.18 369.724,1344.55 371.777,1343.92 373.83,1343.29 375.883,1342.66 377.936,1342.03 379.988,1341.4 382.041,1340.77 384.094,1340.14 386.147,1339.51 388.2,1338.88 390.253,1338.25 392.306,1337.62 394.359,1336.99 396.412,1336.36 398.464,1335.73 400.517,1335.1 402.57,1334.47 404.623,1333.84 406.676,1333.21 408.729,1332.58 410.782,1331.95 412.835,1331.32 414.888,1330.69 416.94,1330.06 418.993,1329.43 421.046,1328.8 423.099,1328.17 425.152,1327.54 427.205,1326.91 429.258,1326.28 431.311,1325.65 433.364,1325.02 435.417,1324.39 437.469,1323.76 439.522,1323.13 441.575,1322.5 443.628,1321.87 445.681,1321.24 447.734,1320.61 449.787,1319.98 451.84,1319.35 453.893,1318.72 455.945,1318.09 457.998,1317.46 460.051,1316.83 462.104,1316.2 464.157,1315.57 466.21,1314.94 468.263,1314.31 470.316,1313.68 472.369,1313.05 474.421,1312.42 476.474,1311.79 478.527,1311.16 480.58,1310.53 482.633,1309.9 484.686,1309.27 486.739,1308.64 488.792,1308.01 490.845,1307.38 492.897,1306.75 494.95,1306.12 497.003,1305.49 499.056,1304.86 501.109,1304.23 503.162,1303.6 505.215,1302.97 507.268,1302.34 509.321,1301.71 511.374,1301.08 513.426,1300.45 515.479,1299.82 517.532,1299.19 519.585,1298.56 521.638,1297.93 523.691,1297.3 525.744,1296.67 527.797,1296.04 529.85,1295.41 531.902,1294.78 533.955,1294.15 536.008,1293.52 538.061,1292.89 540.114,1292.26 542.167,1291.63 544.22,1291 546.273,1290.37 548.326,1289.74 550.378,1289.11 552.431,1288.48 554.484,1287.85 556.537,1287.22 558.59,1286.59 560.643,1285.96 562.696,1285.33 564.749,1284.7 566.802,1284.07 568.854,1283.44 570.907,1282.81 572.96,1282.18 575.013,1281.55 577.066,1280.92 579.119,1280.29 581.172,1279.66 583.225,1279.03 585.278,1278.4 587.331,1277.77 589.383,1277.14 591.436,1276.51 593.489,1275.88 595.542,1275.25 597.595,1274.62 599.648,1273.99 601.701,1273.36 603.754,1272.73 605.807,1272.1 607.859,1271.47 609.912,1270.84 611.965,1270.21 614.018,1269.58 616.071,1268.95 618.124,1268.32 620.177,1267.69 622.23,1267.06 624.283,1266.43 626.335,1265.8 628.388,1265.17 630.441,1264.54 632.494,1263.91 634.547,1263.28 636.6,1262.65 638.653,1262.02 640.706,1261.39 642.759,1260.76 644.811,1260.13 646.864,1259.5 648.917,1258.87 650.97,1258.24 653.023,1257.61 655.076,1256.98 657.129,1256.35 659.182,1255.72 661.235,1255.09 663.288,1254.46 665.34,1253.83 667.393,1253.2 669.446,1252.57 671.499,1251.94 673.552,1251.31 675.605,1250.68 677.658,1250.05 679.711,1249.42 681.764,1248.79 683.816,1248.16 685.869,1247.53 687.922,1246.9 689.975,1246.27 692.028,1245.64 694.081,1245.01 696.134,1244.38 698.187,1243.75 700.24,1243.12 702.292,1242.49 704.345,1241.86 706.398,1241.23 708.451,1240.6 710.504,1239.97 712.557,1239.34 714.61,1238.71 716.663,1238.08 718.716,1237.45 720.768,1236.82 722.821,1236.19 724.874,1235.56 726.927,1234.93 728.98,1234.3 731.033,1233.67 733.086,1233.04 735.139,1232.41 737.192,1231.78 739.245,1231.15 741.297,1230.52 743.35,1229.89 745.403,1229.26 747.456,1228.63 749.509,1228 751.562,1227.37 753.615,1226.74 755.668,1226.11 757.721,1225.48 759.773,1224.85 761.826,1224.22 763.879,1223.59 765.932,1222.96 767.985,1222.33 770.038,1221.7 772.091,1221.07 774.144,1220.44 776.197,1219.81 778.249,1219.18 780.302,1218.55 782.355,1217.92 784.408,1217.29 786.461,1216.66 788.514,1216.03 790.567,1215.4 792.62,1214.77 794.673,1214.14 796.725,1213.51 798.778,1212.88 800.831,1212.25 802.884,1211.62 804.937,1210.99 806.99,1210.36 809.043,1209.73 811.096,1209.1 813.149,1208.47 815.202,1207.84 817.254,1207.21 819.307,1206.58 821.36,1205.95 823.413,1205.32 825.466,1204.69 827.519,1204.06 829.572,1203.43 831.625,1202.8 833.678,1202.17 835.73,1201.54 837.783,1200.91 839.836,1200.28 841.889,1199.65 843.942,1199.02 845.995,1198.39 848.048,1197.76 850.101,1197.13 852.154,1196.5 854.206,1195.87 856.259,1195.24 858.312,1194.61 860.365,1193.98 862.418,1193.35 864.471,1192.72 866.524,1192.09 868.577,1191.46 870.63,1190.83 872.682,1190.2 874.735,1189.57 876.788,1188.94 878.841,1188.31 880.894,1187.68 882.947,1187.05 885,1186.42 887.053,1185.79 889.106,1185.16 891.159,1184.53 893.211,1183.9 895.264,1183.27 897.317,1182.64 899.37,1182.01 901.423,1181.38 903.476,1180.75 905.529,1180.12 907.582,1179.49 909.635,1178.86 911.687,1178.23 913.74,1177.6 915.793,1176.97 917.846,1176.34 919.899,1175.71 921.952,1175.08 924.005,1174.45 926.058,1173.82 928.111,1173.19 930.163,1172.56 932.216,1171.93 934.269,1171.3 936.322,1170.67 938.375,1170.04 940.428,1169.41 942.481,1168.78 944.534,1168.15 946.587,1167.52 948.639,1166.89 950.692,1166.26 952.745,1165.63 954.798,1165 956.851,1164.37 958.904,1163.74 960.957,1163.11 963.01,1162.48 965.063,1161.85 967.116,1161.22 969.168,1160.59 971.221,1159.96 973.274,1159.33 975.327,1158.7 977.38,1158.07 979.433,1157.44 981.486,1156.81 983.539,1156.18 985.592,1155.55 987.644,1154.92 989.697,1154.29 991.75,1153.66 993.803,1153.03 995.856,1152.4 997.909,1151.77 999.962,1151.14 1002.01,1150.51 1004.07,1149.88 1006.12,1149.25 1008.17,1148.62 1010.23,1147.99 1012.28,1147.36 1014.33,1146.73 1016.38,1146.1 1018.44,1145.47 1020.49,1144.84 1022.54,1144.21 1024.6,1143.58 1026.65,1142.95 1028.7,1142.32 1030.76,1141.69 1032.81,1141.06 1034.86,1140.43 1036.91,1139.8 1038.97,1139.17 1041.02,1138.54 1043.07,1137.91 1045.13,1137.28 1047.18,1136.65 1049.23,1136.02 1051.28,1135.39 1053.34,1134.76 1055.39,1134.13 1057.44,1133.5 1059.5,1132.87 1061.55,1132.24 1063.6,1131.61 1065.65,1130.98 1067.71,1130.35 1069.76,1129.72 1071.81,1129.09 1073.87,1128.46 1075.92,1127.83 1077.97,1127.2 1080.02,1126.57 1082.08,1125.94 1084.13,1125.31 1086.18,1124.68 1088.24,1124.05 1090.29,1123.42 1092.34,1122.79 1094.39,1122.16 1096.45,1121.53 1098.5,1120.9 1100.55,1120.27 1102.61,1119.64 1104.66,1119.01 1106.71,1118.38 1108.77,1117.75 1110.82,1117.12 1112.87,1116.49 1114.92,1115.86 1116.98,1115.23 1119.03,1114.6 1121.08,1113.97 1123.14,1113.34 1125.19,1112.71 1127.24,1112.08 1129.29,1111.45 1131.35,1110.82 1133.4,1110.19 1135.45,1109.56 1137.51,1108.93 1139.56,1108.3 1141.61,1107.67 1143.66,1107.04 1145.72,1106.41 1147.77,1105.78 1149.82,1105.15 1151.88,1104.52 1153.93,1103.89 1155.98,1103.26 1158.03,1102.63 1160.09,1102 1162.14,1101.37 1164.19,1100.74 1166.25,1100.11 1168.3,1099.48 1170.35,1098.85 1172.4,1098.22 1174.46,1097.59 1176.51,1096.96 1178.56,1096.33 1180.62,1095.7 1182.67,1095.07 1184.72,1094.44 1186.77,1093.81 1188.83,1093.18 1190.88,1092.55 1192.93,1091.92 1194.99,1091.29 1197.04,1090.66 1199.09,1090.03 1201.15,1089.4 1203.2,1088.77 1205.25,1088.14 1207.3,1087.51 1209.36,1086.88 1211.41,1086.25 1213.46,1085.62 1215.52,1084.99 1217.57,1084.36 1219.62,1083.73 1221.67,1083.1 1223.73,1082.47 1225.78,1081.84 1227.83,1081.21 1229.89,1080.58 1231.94,1079.95 1233.99,1079.32 1236.04,1078.69 1238.1,1078.06 1240.15,1077.43 1242.2,1076.8 1244.26,1076.17 1246.31,1075.54 1248.36,1074.91 1250.41,1074.28 1252.47,1073.65 1254.52,1073.02 1256.57,1072.39 1258.63,1071.76 1260.68,1071.13 1262.73,1070.5 1264.78,1069.87 1266.84,1069.24 1268.89,1068.61 1270.94,1067.98 1273,1067.35 1275.05,1066.72 1277.1,1066.09 1279.16,1065.46 1281.21,1064.83 1283.26,1064.2 1285.31,1063.57 1287.37,1062.94 1289.42,1062.31 1291.47,1061.68 1293.53,1061.05 1295.58,1060.42 1297.63,1059.79 1299.68,1059.16 1301.74,1058.53 1303.79,1057.9 1305.84,1057.27 1307.9,1056.64 1309.95,1056.01 1312,1055.38 1314.05,1054.75 1316.11,1054.12 1318.16,1053.49 1320.21,1052.86 1322.27,1052.23 1324.32,1051.6 1326.37,1050.97 1328.42,1050.34 1330.48,1049.71 1332.53,1049.08 1334.58,1048.45 1336.64,1047.82 1338.69,1047.19 1340.74,1046.56 1342.79,1045.93 1344.85,1045.3 1346.9,1044.67 1348.95,1044.04 1351.01,1043.41 1353.06,1042.78 1355.11,1042.15 1357.16,1041.52 1359.22,1040.89 1361.27,1040.26 1363.32,1039.63 1365.38,1039 1367.43,1038.37 1369.48,1037.74 1371.54,1037.11 1373.59,1036.48 1375.64,1035.85 1377.69,1035.22 1379.75,1034.59 1381.8,1033.96 1383.85,1033.33 1385.91,1032.7 1387.96,1032.07 1390.01,1031.44 1392.06,1030.81 1394.12,1030.18 1396.17,1029.55 1398.22,1028.92 1400.28,1028.29 1402.33,1027.66 1404.38,1027.03 1406.43,1026.4 1408.49,1025.77 1410.54,1025.14 1412.59,1024.51 1414.65,1023.88 1416.7,1023.25 1418.75,1022.62 1420.8,1021.99 1422.86,1021.36 1424.91,1020.73 1426.96,1020.1 1429.02,1019.47 1431.07,1018.84 1433.12,1018.21 1435.17,1017.58 1437.23,1016.95 1439.28,1016.32 1441.33,1015.69 1443.39,1015.06 1445.44,1014.43 1447.49,1013.8 1449.55,1013.17 1451.6,1012.54 1453.65,1011.91 1455.7,1011.28 1457.76,1010.65 1459.81,1010.02 1461.86,1009.39 1463.92,1008.76 1465.97,1008.13 1468.02,1007.5 1470.07,1006.87 1472.13,1006.24 1474.18,1005.61 1476.23,1004.98 1478.29,1004.36 1480.34,1003.73 1482.39,1003.1 1484.44,1002.47 1486.5,1001.84 1488.55,1001.21 1490.6,1000.58 1492.66,999.945 1494.71,999.315 1496.76,998.685 1498.81,998.055 1500.87,997.425 1502.92,996.795 1504.97,996.165 1507.03,995.535 1509.08,994.905 1511.13,994.275 1513.18,993.645 1515.24,993.015 1517.29,992.385 1519.34,991.755 1521.4,991.125 1523.45,990.495 1525.5,989.865 1527.55,989.235 1529.61,988.605 1531.66,987.975 1533.71,987.345 1535.77,986.715 1537.82,986.085 1539.87,985.455 1541.93,984.825 1543.98,984.195 1546.03,983.565 1548.08,982.935 1550.14,982.305 1552.19,981.675 1554.24,981.045 1556.3,980.415 1558.35,979.785 1560.4,979.155 1562.45,978.525 1564.51,977.895 1566.56,977.265 1568.61,976.635 1570.67,976.006 1572.72,975.376 1574.77,974.746 1576.82,974.116 1578.88,973.486 1580.93,972.856 1582.98,972.226 1585.04,971.596 1587.09,970.966 1589.14,970.336 1591.19,969.706 1593.25,969.076 1595.3,968.446 1597.35,967.816 1599.41,967.186 1601.46,966.556 1603.51,965.926 1605.56,965.296 1607.62,964.666 1609.67,964.036 1611.72,963.406 1613.78,962.776 1615.83,962.146 1617.88,961.516 1619.94,960.886 1621.99,960.256 1624.04,959.626 1626.09,958.996 1628.15,958.366 1630.2,957.736 1632.25,957.106 1634.31,956.476 1636.36,955.846 1638.41,955.216 1640.46,954.586 1642.52,953.956 1644.57,953.326 1646.62,952.696 1648.68,952.066 1650.73,951.436 1652.78,950.806 1654.83,950.176 1656.89,949.546 1658.94,948.916 1660.99,948.286 1663.05,947.656 1665.1,947.026 1667.15,946.396 1669.2,945.766 1671.26,945.136 1673.31,944.506 1675.36,943.876 1677.42,943.246 1679.47,942.616 1681.52,941.986 1683.57,941.356 1685.63,940.726 1687.68,940.096 1689.73,939.466 1691.79,938.836 1693.84,938.206 1695.89,937.576 1697.94,936.946 1700,936.316 1702.05,935.686 1704.1,935.056 1706.16,934.426 1708.21,933.796 1710.26,933.166 1712.32,932.536 1714.37,931.906 1716.42,931.276 1718.47,930.646 1720.53,930.016 1722.58,929.386 1724.63,928.756 1726.69,928.126 1728.74,927.496 1730.79,926.866 1732.84,926.236 1734.9,925.606 1736.95,924.976 1739,924.346 1741.06,923.716 1743.11,923.086 1745.16,922.456 1747.21,921.826 1749.27,921.196 1751.32,920.566 1753.37,919.937 1755.43,919.307 1757.48,918.677 1759.53,918.047 1761.58,917.417 1763.64,916.787 1765.69,916.157 1767.74,915.527 1769.8,914.897 1771.85,914.267 1773.9,913.637 1775.95,913.007 1778.01,912.377 1780.06,911.747 1782.11,911.117 1784.17,910.487 1786.22,909.857 1788.27,909.227 1790.33,908.597 1792.38,907.967 1794.43,907.337 1796.48,906.707 1798.54,906.077 1800.59,905.447 1802.64,904.817 1804.7,904.187 1806.75,903.557 1808.8,902.927 1810.85,902.297 1812.91,901.667 1814.96,901.037 1817.01,900.407 1819.07,899.777 1821.12,899.147 1823.17,898.517 1825.22,897.887 1827.28,897.257 1829.33,896.627 1831.38,895.997 1833.44,895.367 1835.49,894.737 1837.54,894.107 1839.59,893.477 1841.65,892.847 1843.7,892.217 1845.75,891.587 1847.81,890.957 1849.86,890.327 1851.91,889.697 1853.96,889.067 1856.02,888.437 1858.07,887.807 1860.12,887.177 1862.18,886.547 1864.23,885.917 1866.28,885.287 1868.34,884.657 1870.39,884.027 1872.44,883.397 1874.49,882.767 1876.55,882.137 1878.6,881.507 1880.65,880.877 1882.71,880.247 1884.76,879.617 1886.81,878.987 1888.86,878.357 1890.92,877.727 1892.97,877.097 1895.02,876.467 1897.08,875.837 1899.13,875.207 1901.18,874.577 1903.23,873.947 1905.29,873.317 1907.34,872.687 1909.39,872.057 1911.45,871.427 1913.5,870.797 1915.55,870.167 1917.6,869.537 1919.66,868.907 1921.71,868.277 1923.76,867.647 1925.82,867.017 1927.87,866.387 1929.92,865.757 1931.97,865.127 1934.03,864.497 1936.08,863.867 1938.13,863.238 1940.19,862.608 1942.24,861.978 1944.29,861.348 1946.34,860.718 1948.4,860.088 1950.45,859.458 1952.5,858.828 1954.56,858.198 1956.61,857.568 1958.66,856.938 1960.72,856.308 1962.77,855.678 1964.82,855.048 1966.87,854.418 1968.93,853.788 1970.98,853.158 1973.03,852.528 1975.09,851.898 1977.14,851.268 1979.19,850.638 1981.24,850.008 1983.3,849.378 1985.35,848.748 1987.4,848.118 1989.46,847.488 1991.51,846.858 1993.56,846.228 1995.61,845.598 1997.67,844.968 1999.72,844.338 2001.77,843.708 2003.83,843.078 2005.88,842.448 2007.93,841.818 2009.98,841.188 2012.04,840.558 2014.09,839.928 2016.14,839.298 2018.2,838.668 2020.25,838.038 2022.3,837.408 2024.35,836.778 2026.41,836.148 2028.46,835.518 2030.51,834.888 2032.57,834.258 2034.62,833.628 2036.67,832.998 2038.73,832.368 2040.78,831.738 2042.83,831.108 2044.88,830.478 2046.94,829.848 2048.99,829.218 2051.04,828.588 2053.1,827.958 2055.15,827.328 2057.2,826.698 2059.25,826.068 2061.31,825.438 2063.36,824.808 2065.41,824.178 2067.47,823.548 2069.52,822.918 2071.57,822.288 2073.62,821.658 2075.68,821.028 2077.73,820.398 2079.78,819.768 2081.84,819.138 2083.89,818.508 2085.94,817.878 2087.99,817.248 2090.05,816.618 2092.1,815.988 2094.15,815.358 2096.21,814.728 2098.26,814.098 2100.31,813.468 2102.36,812.838 2104.42,812.208 2106.47,811.578 2108.52,810.948 2110.58,810.318 2112.63,809.688 2114.68,809.058 2116.73,808.428 2118.79,807.798 2120.84,807.169 2122.89,806.539 2124.95,805.909 2127,805.279 2129.05,804.649 2131.11,804.019 2133.16,803.389 2135.21,802.759 2137.26,802.129 2139.32,801.499 2141.37,800.869 2143.42,800.239 2145.48,799.609 2147.53,798.979 2149.58,798.349 2151.63,797.719 2153.69,797.089 2155.74,796.459 2157.79,795.829 2159.85,795.199 2161.9,794.569 2163.95,793.939 2166,793.309 2168.06,792.679 2170.11,792.049 2172.16,791.419 2174.22,790.789 2176.27,790.159 2178.32,789.529 2180.37,788.899 2182.43,788.269 2184.48,787.639 2186.53,787.009 2188.59,786.379 2190.64,785.749 2192.69,785.119 2194.74,784.489 2196.8,783.859 2198.85,783.229 2200.9,782.599 2202.96,781.969 2205.01,781.339 2207.06,780.709 2209.12,780.079 2211.17,779.449 2213.22,778.819 2215.27,778.189 2217.33,777.559 2219.38,776.929 2221.43,776.299 2223.49,775.669 2225.54,775.039 2227.59,774.409 2229.64,773.779 2231.7,773.149 2233.75,772.519 2235.8,771.889 2237.86,771.259 2239.91,770.629 2241.96,769.999 2244.01,769.369 2246.07,768.739 2248.12,768.109 2250.17,767.479 2252.23,766.849 2254.28,766.219 2256.33,765.589 2258.38,764.959 2260.44,764.329 2262.49,763.699 2264.54,763.069 2266.6,762.439 2268.65,761.809 2270.7,761.179 2272.75,760.549 2274.81,759.919 2276.86,759.289 2278.91,758.659 2280.97,758.029 2283.02,757.399 2285.07,756.769 2287.12,756.139 2289.18,755.509 2291.23,754.879 \"/>\n",
       "<path clip-path=\"url(#clip610)\" d=\"M1965.38 248.629 L2280.29 248.629 L2280.29 93.1086 L1965.38 93.1086  Z\" fill=\"#ffffff\" fill-rule=\"evenodd\" fill-opacity=\"1\"/>\n",
       "<polyline clip-path=\"url(#clip610)\" style=\"stroke:#000000; stroke-linecap:round; stroke-linejoin:round; stroke-width:4; stroke-opacity:1; fill:none\" points=\"1965.38,248.629 2280.29,248.629 2280.29,93.1086 1965.38,93.1086 1965.38,248.629 \"/>\n",
       "<polyline clip-path=\"url(#clip610)\" style=\"stroke:#009af9; stroke-linecap:round; stroke-linejoin:round; stroke-width:4; stroke-opacity:1; fill:none\" points=\"1989.54,144.949 2134.46,144.949 \"/>\n",
       "<path clip-path=\"url(#clip610)\" d=\"M2162.9 158.34 L2162.9 172.09 L2158.62 172.09 L2158.62 136.303 L2162.9 136.303 L2162.9 140.238 Q2164.24 137.923 2166.28 136.812 Q2168.34 135.678 2171.19 135.678 Q2175.91 135.678 2178.85 139.428 Q2181.81 143.178 2181.81 149.289 Q2181.81 155.4 2178.85 159.15 Q2175.91 162.9 2171.19 162.9 Q2168.34 162.9 2166.28 161.789 Q2164.24 160.655 2162.9 158.34 M2177.39 149.289 Q2177.39 144.59 2175.44 141.928 Q2173.52 139.243 2170.14 139.243 Q2166.76 139.243 2164.82 141.928 Q2162.9 144.59 2162.9 149.289 Q2162.9 153.988 2164.82 156.673 Q2166.76 159.335 2170.14 159.335 Q2173.52 159.335 2175.44 156.673 Q2177.39 153.988 2177.39 149.289 Z\" fill=\"#000000\" fill-rule=\"nonzero\" fill-opacity=\"1\" /><path clip-path=\"url(#clip610)\" d=\"M2199.1 126.257 Q2196 131.581 2194.5 136.789 Q2192.99 141.997 2192.99 147.344 Q2192.99 152.692 2194.5 157.946 Q2196.02 163.178 2199.1 168.479 L2195.4 168.479 Q2191.93 163.039 2190.19 157.784 Q2188.48 152.53 2188.48 147.344 Q2188.48 142.182 2190.19 136.951 Q2191.9 131.72 2195.4 126.257 L2199.1 126.257 Z\" fill=\"#000000\" fill-rule=\"nonzero\" fill-opacity=\"1\" /><path clip-path=\"url(#clip610)\" d=\"M2228.92 136.303 L2219.54 148.919 L2229.4 162.229 L2224.38 162.229 L2216.83 152.043 L2209.29 162.229 L2204.26 162.229 L2214.33 148.664 L2205.12 136.303 L2210.14 136.303 L2217.02 145.539 L2223.89 136.303 L2228.92 136.303 Z\" fill=\"#000000\" fill-rule=\"nonzero\" fill-opacity=\"1\" /><path clip-path=\"url(#clip610)\" d=\"M2234.75 126.257 L2238.45 126.257 Q2241.93 131.72 2243.64 136.951 Q2245.37 142.182 2245.37 147.344 Q2245.37 152.53 2243.64 157.784 Q2241.93 163.039 2238.45 168.479 L2234.75 168.479 Q2237.83 163.178 2239.33 157.946 Q2240.86 152.692 2240.86 147.344 Q2240.86 141.997 2239.33 136.789 Q2237.83 131.581 2234.75 126.257 Z\" fill=\"#000000\" fill-rule=\"nonzero\" fill-opacity=\"1\" /><polyline clip-path=\"url(#clip610)\" style=\"stroke:#e26f46; stroke-linecap:round; stroke-linejoin:round; stroke-width:4; stroke-opacity:1; fill:none\" points=\"1989.54,196.789 2134.46,196.789 \"/>\n",
       "<path clip-path=\"url(#clip610)\" d=\"M2162.9 210.18 L2162.9 223.93 L2158.62 223.93 L2158.62 188.143 L2162.9 188.143 L2162.9 192.078 Q2164.24 189.763 2166.28 188.652 Q2168.34 187.518 2171.19 187.518 Q2175.91 187.518 2178.85 191.268 Q2181.81 195.018 2181.81 201.129 Q2181.81 207.24 2178.85 210.99 Q2175.91 214.74 2171.19 214.74 Q2168.34 214.74 2166.28 213.629 Q2164.24 212.495 2162.9 210.18 M2177.39 201.129 Q2177.39 196.43 2175.44 193.768 Q2173.52 191.083 2170.14 191.083 Q2166.76 191.083 2164.82 193.768 Q2162.9 196.43 2162.9 201.129 Q2162.9 205.828 2164.82 208.513 Q2166.76 211.175 2170.14 211.175 Q2173.52 211.175 2175.44 208.513 Q2177.39 205.828 2177.39 201.129 Z\" fill=\"#000000\" fill-rule=\"nonzero\" fill-opacity=\"1\" /><path clip-path=\"url(#clip610)\" d=\"M2185.33 188.143 L2189.33 179.509 L2194.03 179.509 L2187.34 188.143 L2185.33 188.143 Z\" fill=\"#000000\" fill-rule=\"nonzero\" fill-opacity=\"1\" /><path clip-path=\"url(#clip610)\" d=\"M2209.87 178.097 Q2206.76 183.421 2205.26 188.629 Q2203.75 193.837 2203.75 199.184 Q2203.75 204.532 2205.26 209.786 Q2206.79 215.018 2209.87 220.319 L2206.16 220.319 Q2202.69 214.879 2200.95 209.624 Q2199.24 204.37 2199.24 199.184 Q2199.24 194.022 2200.95 188.791 Q2202.67 183.56 2206.16 178.097 L2209.87 178.097 Z\" fill=\"#000000\" fill-rule=\"nonzero\" fill-opacity=\"1\" /><path clip-path=\"url(#clip610)\" d=\"M2239.68 188.143 L2230.31 200.759 L2240.17 214.069 L2235.14 214.069 L2227.6 203.883 L2220.05 214.069 L2215.03 214.069 L2225.1 200.504 L2215.88 188.143 L2220.91 188.143 L2227.78 197.379 L2234.66 188.143 L2239.68 188.143 Z\" fill=\"#000000\" fill-rule=\"nonzero\" fill-opacity=\"1\" /><path clip-path=\"url(#clip610)\" d=\"M2245.51 178.097 L2249.22 178.097 Q2252.69 183.56 2254.4 188.791 Q2256.14 194.022 2256.14 199.184 Q2256.14 204.37 2254.4 209.624 Q2252.69 214.879 2249.22 220.319 L2245.51 220.319 Q2248.59 215.018 2250.1 209.786 Q2251.62 204.532 2251.62 199.184 Q2251.62 193.837 2250.1 188.629 Q2248.59 183.421 2245.51 178.097 Z\" fill=\"#000000\" fill-rule=\"nonzero\" fill-opacity=\"1\" /></svg>\n"
      ]
     },
     "metadata": {},
     "output_type": "display_data"
    }
   ],
   "source": [
    "using Plots\n",
    "x = range(-2, 2, length = 1000)\n",
    "dev = plot(xlab=\"x\")\n",
    "y = p.(x)\n",
    "der = p′.(x)\n",
    "plot!(x, y, label = \"p(x)\")\n",
    "plot!(x, der, label = \"p′(x)\")"
   ]
  },
  {
   "cell_type": "markdown",
   "id": "d45ad156",
   "metadata": {},
   "source": [
    "### Exercise 4\n",
    "\n",
    "Use your solution to Exercise 8(a/b) in [Introductory Examples](https://julia.quantecon.org/julia_by_example.html) to\n",
    "create a specialized version of Newton’s method for `Polynomials` using the `derivative` function.\n",
    "\n",
    "The signature of the function should be `newtonsmethod(p::Polynomial, x_0; tolerance = 1E-7, maxiter = 100)`,\n",
    "where `p::Polynomial` ensures that this version of the function will be used anytime a polynomial is passed (i.e. dispatch).\n",
    "\n",
    "Compare the results of this function to the built-in `roots(p)` function.\n",
    "\n",
    "\n",
    "<a id='intro-types-ex-5'></a>"
   ]
  },
  {
   "cell_type": "code",
   "execution_count": 17,
   "id": "fed63c9e",
   "metadata": {},
   "outputs": [
    {
     "data": {
      "text/plain": [
       "2.0000000000080584"
      ]
     },
     "metadata": {},
     "output_type": "display_data"
    }
   ],
   "source": [
    "using Polynomials\n",
    "\n",
    "function newtonsmethod(p::Polynomial, x_0; tolerance = 1E-7, maxiter = 100)\n",
    "    i = 1\n",
    "    err = p(x_0)\n",
    "    der = derivative(p)\n",
    "    while i < maxiter && p(x_0) > tolerance\n",
    "        step = -p(x_0)/der(x_0)\n",
    "        x_0 = x_0 + step\n",
    "    end\n",
    "    x_0\n",
    "end\n",
    "newtonsmethod(p, 5)"
   ]
  },
  {
   "cell_type": "code",
   "execution_count": 18,
   "id": "fa22ff42",
   "metadata": {},
   "outputs": [
    {
     "data": {
      "text/plain": [
       "2-element Vector{Float64}:\n",
       " 0.5\n",
       " 2.0"
      ]
     },
     "metadata": {},
     "output_type": "display_data"
    }
   ],
   "source": [
    "roots(p)"
   ]
  },
  {
   "cell_type": "markdown",
   "id": "ae96e605",
   "metadata": {},
   "source": [
    "### Exercise 5 (Advanced)\n",
    "\n",
    "The [trapezoidal rule](https://en.wikipedia.org/wiki/Trapezoidal_rule)  approximates an integral with\n",
    "\n",
    "$$\n",
    "\\int_{\\underline{x}}^{\\bar{x}} f(x) \\, dx \\approx \\sum_{n=1}^N \\frac{f(x_{n-1}) + f(x_n)}{2} \\Delta x_n\n",
    "$$\n",
    "\n",
    "where $ x_0 = {\\underline{x}},\\, x_N = \\bar{x} $, and $ \\Delta x_n \\equiv x_{n-1} - x_n $.\n",
    "\n",
    "Given an `x` and a function `f`, implement a few variations of the trapezoidal rule using multiple dispatch\n",
    "\n",
    "- `trapezoidal(f, x)` for any `typeof(x) = AbstractArray` and `typeof(f) == AbstractArray` where `length(x) = length(f)`  \n",
    "- `trapezoidal(f, x)` for any `typeof(x) = AbstractRange` and `typeof(f) == AbstractArray` where `length(x) = length(f)`  \n",
    "  - Exploit the fact that `AbstractRange` has constant step sizes to specialize the algorithm  \n",
    "- `trapezoidal(f, x̲, x̄, N)` where `typeof(f) = Function`, and the other arguments are `Real`  \n",
    "  - For this, build a uniform grid with `N` points on `[x̲, x̄]` – call the `f` function at those grid points and use the existing `trapezoidal(f, x)` from the implementation  \n",
    "\n",
    "\n",
    "With these:\n",
    "\n",
    "1. Test each variation of the function with $ f(x) = x^2 $ with $ \\underline{x}=0,\\, \\bar{x} = 1 $.  \n",
    "1. From the analytical solution of the function, plot the error of `trapezoidal(f, x̲, x̄, N)` relative to the analytical solution for a grid of different `N` values.  \n",
    "1. Consider trying different functions for $ f(x) $ and compare the solutions for various `N`.  \n",
    "\n",
    "\n",
    "When trying different functions, instead of integrating by hand consider using a high-accuracy\n",
    "library for numerical integration such as [QuadGK.jl](https://juliamath.github.io/QuadGK.jl/latest/)"
   ]
  },
  {
   "cell_type": "code",
   "execution_count": null,
   "id": "15661960",
   "metadata": {
    "hide-output": false
   },
   "outputs": [],
   "source": [
    "using QuadGK\n",
    "\n",
    "f(x) = x^2\n",
    "value, accuracy = quadgk(f, 0.0, 1.0)"
   ]
  },
  {
   "cell_type": "markdown",
   "id": "e7759f8b",
   "metadata": {},
   "source": [
    "### Exercise 6 (Advanced)\n",
    "\n",
    "Take a variation of your code in Exercise 5.\n",
    "\n",
    "Use auto-differentiation to calculate the following derivative for the example functions\n",
    "\n",
    "$$\n",
    "\\frac{d}{d {\\bar{x}}}\\int_{\\underline{x}}^{\\bar{x}} f(x) \\, dx\n",
    "$$\n",
    "\n",
    "Hint: See the following code for the general pattern, and be careful to\n",
    "follow the [rules for generic programming](#generic-tips-tricks)."
   ]
  },
  {
   "cell_type": "code",
   "execution_count": null,
   "id": "6f8db784",
   "metadata": {
    "hide-output": false
   },
   "outputs": [],
   "source": [
    "using ForwardDiff\n",
    "\n",
    "function f(a, b; N = 50)\n",
    "    r = range(a, b, length = N) # one\n",
    "    return mean(r)\n",
    "end\n",
    "\n",
    "Df(x) = ForwardDiff.derivative(y -> f(0.0, y), x)\n",
    "\n",
    "@show f(0.0, 3.0)\n",
    "@show f(0.0, 3.1)\n",
    "\n",
    "Df(3.0)"
   ]
  }
 ],
 "metadata": {
  "date": 1704478551.980031,
  "filename": "introduction_to_types.md",
  "kernelspec": {
   "display_name": "Julia 1.10.4",
   "language": "julia",
   "name": "julia-1.10"
  },
  "language_info": {
   "file_extension": ".jl",
   "mimetype": "application/julia",
   "name": "julia",
   "version": "1.10.4"
  },
  "title": "Introduction to Types and Generic Programming"
 },
 "nbformat": 4,
 "nbformat_minor": 5
}
